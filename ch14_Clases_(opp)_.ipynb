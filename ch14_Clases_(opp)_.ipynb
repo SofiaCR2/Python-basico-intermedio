{
  "nbformat": 4,
  "nbformat_minor": 0,
  "metadata": {
    "colab": {
      "provenance": [],
      "authorship_tag": "ABX9TyMsGi74Me4QvDN53nr6VKet",
      "include_colab_link": true
    },
    "kernelspec": {
      "name": "python3",
      "display_name": "Python 3"
    },
    "language_info": {
      "name": "python"
    }
  },
  "cells": [
    {
      "cell_type": "markdown",
      "metadata": {
        "id": "view-in-github",
        "colab_type": "text"
      },
      "source": [
        "<a href=\"https://colab.research.google.com/github/SofiaCR2/Python-basico-intermedio/blob/main/ch14_Clases_(opp)_.ipynb\" target=\"_parent\"><img src=\"https://colab.research.google.com/assets/colab-badge.svg\" alt=\"Open In Colab\"/></a>"
      ]
    },
    {
      "cell_type": "markdown",
      "source": [
        "#Clase libro"
      ],
      "metadata": {
        "id": "ivx-LhmPK3S8"
      }
    },
    {
      "cell_type": "code",
      "source": [
        "#El metodo especial __init__ es llamado cada vez que un objeto(clase) es creado\n",
        "\n",
        "class Libro:\n",
        "  def __init__(self, autor, titulo, anio): #self es igual a Libro\n",
        "    print('Hola, me estoy imprimiendo')\n",
        "    self.autor = autor\n",
        "    self.titulo = titulo\n",
        "    self.anio = anio"
      ],
      "metadata": {
        "id": "3DJf7A3bK45S"
      },
      "execution_count": null,
      "outputs": []
    },
    {
      "cell_type": "code",
      "source": [
        "libro = Libro(\"Edagar Allan Poe\",'El cuevo', 1845)"
      ],
      "metadata": {
        "colab": {
          "base_uri": "https://localhost:8080/"
        },
        "id": "h2wKz8UxLTHw",
        "outputId": "20527b9a-dba2-4190-f35a-f0c4efced82a"
      },
      "execution_count": null,
      "outputs": [
        {
          "output_type": "stream",
          "name": "stdout",
          "text": [
            "Hola, me estoy imprimiendo\n"
          ]
        }
      ]
    },
    {
      "cell_type": "code",
      "source": [
        "libro.autor"
      ],
      "metadata": {
        "colab": {
          "base_uri": "https://localhost:8080/",
          "height": 36
        },
        "id": "1-QQlTJILd03",
        "outputId": "48f7065d-2056-406c-d050-09929eebf33f"
      },
      "execution_count": null,
      "outputs": [
        {
          "output_type": "execute_result",
          "data": {
            "text/plain": [
              "'Edagar Allan Poe'"
            ],
            "application/vnd.google.colaboratory.intrinsic+json": {
              "type": "string"
            }
          },
          "metadata": {},
          "execution_count": 15
        }
      ]
    },
    {
      "cell_type": "code",
      "source": [
        "libro.anio"
      ],
      "metadata": {
        "colab": {
          "base_uri": "https://localhost:8080/"
        },
        "id": "hbtRTc0vNMEI",
        "outputId": "3c6945e8-81b9-4b4e-96d0-a40c2a264e19"
      },
      "execution_count": null,
      "outputs": [
        {
          "output_type": "execute_result",
          "data": {
            "text/plain": [
              "1845"
            ]
          },
          "metadata": {},
          "execution_count": 22
        }
      ]
    },
    {
      "cell_type": "code",
      "source": [
        "# Aqui son funciones\n",
        "\n",
        "def area (longitud, ancho):\n",
        "  return longitud * ancho\n",
        "\n",
        "def perimetro (longitud, ancho):\n",
        "  return 2 * (longitud + ancho)"
      ],
      "metadata": {
        "id": "LWWkbGYcNOZR"
      },
      "execution_count": null,
      "outputs": []
    },
    {
      "cell_type": "code",
      "source": [
        "class Rectangulo:\n",
        "  def __init__(self, longitud, ancho):\n",
        "    self.longitud = longitud # Guardo la longitud en ella misma\n",
        "    self.ancho = ancho # Guardo lel nacho en ella misma\n",
        "    if self.es_cuadrado():\n",
        "      print('Error: Es cuadrado')\n",
        "\n",
        "  # Aqui son metodos\n",
        "  def area (self):\n",
        "    return self.longitud * self.ancho\n",
        "#\n",
        "  def perimetro (self):\n",
        "    return 2 * (self.longitud + self.ancho)\n",
        "\n",
        "  def es_cuadrado(self):\n",
        "    return self.longitud == self.ancho"
      ],
      "metadata": {
        "id": "3HRwM_BNNcfN"
      },
      "execution_count": null,
      "outputs": []
    },
    {
      "cell_type": "code",
      "source": [
        "mi_rectangulo = Rectangulo(5,5)"
      ],
      "metadata": {
        "colab": {
          "base_uri": "https://localhost:8080/"
        },
        "id": "feK9MD3LNsQZ",
        "outputId": "249bbdfe-e72f-4a41-e239-566fe31009b0"
      },
      "execution_count": null,
      "outputs": [
        {
          "output_type": "stream",
          "name": "stdout",
          "text": [
            "Error: Es cuadrado\n"
          ]
        }
      ]
    },
    {
      "cell_type": "code",
      "source": [
        "mi_rectangulo.area()"
      ],
      "metadata": {
        "colab": {
          "base_uri": "https://localhost:8080/"
        },
        "id": "2jFTpkr2NxUy",
        "outputId": "2a28b9e2-906e-423b-c723-f5fd58f7a779"
      },
      "execution_count": null,
      "outputs": [
        {
          "output_type": "execute_result",
          "data": {
            "text/plain": [
              "15"
            ]
          },
          "metadata": {},
          "execution_count": 33
        }
      ]
    },
    {
      "cell_type": "code",
      "source": [
        "mi_rectangulo.es_cuadrado()"
      ],
      "metadata": {
        "colab": {
          "base_uri": "https://localhost:8080/"
        },
        "id": "nY_l7XTgOlmP",
        "outputId": "ee2a9fa5-a02a-4000-943e-23f95caa7a68"
      },
      "execution_count": null,
      "outputs": [
        {
          "output_type": "execute_result",
          "data": {
            "text/plain": [
              "True"
            ]
          },
          "metadata": {},
          "execution_count": 43
        }
      ]
    },
    {
      "cell_type": "markdown",
      "source": [
        "#Actividad\n",
        "Crear la clase **Galleta**, la cula reciba los siguientes argumentos:\n",
        "*   Sabor: string\n",
        "*   diametro: float\n",
        "*   chispas: bool\n",
        "\n",
        "La clase debera regresar el peso de la galleta. Una galleta Orea mide 4.4 cm de diametro con un peso de 11g.\n",
        "\n",
        "Si la galleta tiene chispas, añade 2gr al peso final.\n",
        "\n",
        "Ejemplo: Una galleta con chispas y un diametro de 4.4 cm, pesará 13 gr\n"
      ],
      "metadata": {
        "id": "hMNEqWMSQ4Yu"
      }
    },
    {
      "cell_type": "code",
      "source": [
        "class Galleta:\n",
        "  def __init__ (self, sabor, diametro, chispas):\n",
        "    self.sabor = sabor\n",
        "    self.diametro = diametro\n",
        "    self.chispas = chispas\n",
        "    self.peso = self.diametro * 2.5\n",
        "\n",
        "    if self.chispas:\n",
        "      self.peso += 2\n",
        "\n",
        "    print(f'Una galleta con {self.sabor}, un diametro de {self.diametro} que la aparicion de chispas es {self.chispas} tiene un peso de {self.peso}')\n"
      ],
      "metadata": {
        "id": "YTPh2_8TS4VP"
      },
      "execution_count": null,
      "outputs": []
    },
    {
      "cell_type": "code",
      "source": [
        "mi_galleta = Galleta('Chocolate', 4.4, True)"
      ],
      "metadata": {
        "colab": {
          "base_uri": "https://localhost:8080/"
        },
        "id": "cWOTsH3garKm",
        "outputId": "5c5ad121-a2c7-47bb-b25f-546eb5fa785b"
      },
      "execution_count": null,
      "outputs": [
        {
          "output_type": "stream",
          "name": "stdout",
          "text": [
            "Una galleta con Chocolate, un diametro de 4.4 que la aparicion de chispas es True tiene un peso de 13.0\n"
          ]
        }
      ]
    }
  ]
}