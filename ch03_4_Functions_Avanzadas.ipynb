{
  "nbformat": 4,
  "nbformat_minor": 0,
  "metadata": {
    "colab": {
      "provenance": [],
      "authorship_tag": "ABX9TyM03lEM0uTATY7PhNtmqNCL",
      "include_colab_link": true
    },
    "kernelspec": {
      "name": "python3",
      "display_name": "Python 3"
    },
    "language_info": {
      "name": "python"
    }
  },
  "cells": [
    {
      "cell_type": "markdown",
      "metadata": {
        "id": "view-in-github",
        "colab_type": "text"
      },
      "source": [
        "<a href=\"https://colab.research.google.com/github/SofiaCR2/Python-basico-intermedio/blob/main/ch03_4_Functions_Avanzadas.ipynb\" target=\"_parent\"><img src=\"https://colab.research.google.com/assets/colab-badge.svg\" alt=\"Open In Colab\"/></a>"
      ]
    },
    {
      "cell_type": "markdown",
      "source": [
        "# 3.4 Temas avanzados sobre funciones\n",
        "\n",
        "## Temas\n",
        "- manejar argumentos de longitud variable\n",
        "- expresiones lambda\n",
        "- funciones de orden superior\n",
        "- funciones anidadas\n",
        "- funciones como valores devueltos\n",
        "- al curry\n",
        "- decoradores de funciones"
      ],
      "metadata": {
        "id": "OxsKJq6yySmL"
      }
    },
    {
      "cell_type": "markdown",
      "source": [
        "## 3.4.1 Argumentos de longitud variable\n",
        "- cuando no está seguro de cuántos argumentos se pasarán a una función (por ejemplo, imprimir())\n",
        "- *args (argumentos de longitud variable sin palabras clave)\n",
        "- *kwargs (argumentos de longitud variable con palabras clave)\n",
        "- por ejemplo, la función de impresión integrada utiliza argumentos de longitud variable\n",
        "\n",
        "### print(*object, sep=' ', end='\\n', file=sys.stdout, flush=False)"
      ],
      "metadata": {
        "id": "NHJrobLT26CU"
      }
    },
    {
      "cell_type": "code",
      "execution_count": 1,
      "metadata": {
        "id": "LHPpqwyNvOgX"
      },
      "outputs": [],
      "source": [
        "# variable length arguments demo\n",
        "def someFunction(a, b, c, *varargs, **kwargs):\n",
        "    print('a = ', a)\n",
        "    print('b = ', b)\n",
        "    print('c = ', c)\n",
        "    print('*args = ', varargs)\n",
        "    print('type of args = ', type(varargs))\n",
        "    print('**kwargs = ', kwargs)\n",
        "    print('type of kwargs = ', type(kwargs))"
      ]
    },
    {
      "cell_type": "code",
      "source": [
        "# call someFunction with some arguments\n",
        "someFunction(1, 'Apple', 4.5, 5, [2.5, 'b'], fname='Jake', num=1)"
      ],
      "metadata": {
        "colab": {
          "base_uri": "https://localhost:8080/"
        },
        "id": "XNvre9i63N88",
        "outputId": "1e2207b0-fff0-4241-e128-e74b6c7e4fd1"
      },
      "execution_count": 2,
      "outputs": [
        {
          "output_type": "stream",
          "name": "stdout",
          "text": [
            "a =  1\n",
            "b =  Apple\n",
            "c =  4.5\n",
            "*args =  (5, [2.5, 'b'])\n",
            "type of args =  <class 'tuple'>\n",
            "**kwargs =  {'fname': 'Jake', 'num': 1}\n",
            "type of kwargs =  <class 'dict'>\n"
          ]
        }
      ]
    },
    {
      "cell_type": "markdown",
      "source": [
        "## 3.4.2 Funciones/expresiones lambda\n",
        "- funciones anónimas (sin nombre)\n",
        "- normalmente se usa junto con funciones de orden superior como: map(), reduce(), filter()\n",
        "- Referencia: http://www.secnetix.de/olli/Python/lambda_functions.hawk"
      ],
      "metadata": {
        "id": "ZI1fp8UL3eAy"
      }
    },
    {
      "cell_type": "markdown",
      "source": [
        "### Propiedades y uso de la función lambda\n",
        "- funciones simples de una sola línea\n",
        "- no se utiliza ninguna palabra clave de retorno explícita\n",
        "- siempre contiene una expresión que se devuelve implícitamente\n",
        "- puede usar una definición lambda en cualquier lugar donde se espera una función sin asignar a una variable\n",
        "- sintaxis: **argumento(s) lambda: expresión**\n",
        "- consulte el capítulo Avanzado de listas de Ch08-2 para aplicaciones lambda en algunas funciones integradas de orden superior"
      ],
      "metadata": {
        "id": "V1ANwIMr4XHx"
      }
    },
    {
      "cell_type": "markdown",
      "source": [
        "Diferencia entre lambda y una funcion regular"
      ],
      "metadata": {
        "id": "UcmnvOdP4ZHb"
      }
    },
    {
      "cell_type": "code",
      "source": [
        "# regular function\n",
        "def func(x): return x**2"
      ],
      "metadata": {
        "id": "S8jde0Gx4W7K"
      },
      "execution_count": 3,
      "outputs": []
    },
    {
      "cell_type": "code",
      "source": [
        "print(func(4))"
      ],
      "metadata": {
        "colab": {
          "base_uri": "https://localhost:8080/"
        },
        "id": "aNCG9Tiy4eI-",
        "outputId": "ca46da00-cd71-4dba-9fa0-09e5aae4a97a"
      },
      "execution_count": 4,
      "outputs": [
        {
          "output_type": "stream",
          "name": "stdout",
          "text": [
            "16\n"
          ]
        }
      ]
    },
    {
      "cell_type": "code",
      "source": [
        "g = lambda x: x**2 # no name, no parenthesis, and no return keyword\n",
        "# a function that takes x and returns x**2"
      ],
      "metadata": {
        "id": "Wd0CvF-94fz1"
      },
      "execution_count": 5,
      "outputs": []
    },
    {
      "cell_type": "code",
      "source": [
        "print(g)"
      ],
      "metadata": {
        "colab": {
          "base_uri": "https://localhost:8080/"
        },
        "id": "LwMM4QA34pbe",
        "outputId": "56d8e01b-01aa-4c9e-9597-ec159fb18a0c"
      },
      "execution_count": 8,
      "outputs": [
        {
          "output_type": "stream",
          "name": "stdout",
          "text": [
            "<function <lambda> at 0x7bf5837b2290>\n"
          ]
        }
      ]
    },
    {
      "cell_type": "code",
      "source": [
        "g(4)"
      ],
      "metadata": {
        "colab": {
          "base_uri": "https://localhost:8080/"
        },
        "id": "alI4cvFp4iKz",
        "outputId": "43ead332-f14d-4200-d807-825563956a1f"
      },
      "execution_count": 9,
      "outputs": [
        {
          "output_type": "execute_result",
          "data": {
            "text/plain": [
              "16"
            ]
          },
          "metadata": {},
          "execution_count": 9
        }
      ]
    },
    {
      "cell_type": "markdown",
      "source": [
        "## 3.4.3 Funciones de orden superior\n",
        "https://composingprograms.com/pages/16-higher-order-functions.html\n",
        "- las funciones que manipulan otras funciones se llaman funciones de orden superior\n",
        "- las funciones toman la(s) función(es) como argumento(s)\n",
        "    - normalmente se pasan expresiones lambda\n",
        "- las funciones pueden devolver una función"
      ],
      "metadata": {
        "id": "sLPfQlcY43cX"
      }
    },
    {
      "cell_type": "code",
      "source": [
        "# sumas computarizadas de n números naturales\n",
        "# func es una función aplicada a todos los números\n",
        "#    naturales entre 1 y n inclusive\n",
        "def sum_naturals(func, n):\n",
        "    total, k = 0, 1\n",
        "    while k <= n:\n",
        "        total += func(k)\n",
        "        k += 1\n",
        "    return total"
      ],
      "metadata": {
        "id": "F6bXCyV15Dzr"
      },
      "execution_count": 10,
      "outputs": []
    },
    {
      "cell_type": "code",
      "source": [
        "n = 100\n",
        "print(f'sum of first {n} natural numbers = {sum_naturals(lambda x: x, n)}')"
      ],
      "metadata": {
        "colab": {
          "base_uri": "https://localhost:8080/"
        },
        "id": "C2ni3gFz6F13",
        "outputId": "1d33406f-90d8-4ccf-e78d-0816b60ac166"
      },
      "execution_count": 12,
      "outputs": [
        {
          "output_type": "stream",
          "name": "stdout",
          "text": [
            "sum of first 100 natural numbers = 5050\n"
          ]
        }
      ]
    },
    {
      "cell_type": "code",
      "source": [
        "# of course you can pass regular function\n",
        "def even(n):\n",
        "    return n if n%2 == 0 else 0"
      ],
      "metadata": {
        "id": "4mz_xrCL6LXa"
      },
      "execution_count": 13,
      "outputs": []
    },
    {
      "cell_type": "code",
      "source": [
        "print(f'sum of even numbers from 1 to {n} = {sum_naturals(even, n)}')"
      ],
      "metadata": {
        "colab": {
          "base_uri": "https://localhost:8080/"
        },
        "id": "QYI_tvdP6OZK",
        "outputId": "22bb6e1d-5eae-45c6-d178-0d7b0842516b"
      },
      "execution_count": 14,
      "outputs": [
        {
          "output_type": "stream",
          "name": "stdout",
          "text": [
            "sum of even numbers from 1 to 100 = 2550\n"
          ]
        }
      ]
    },
    {
      "cell_type": "code",
      "source": [
        "# sum of odd numbers from 1 to 100\n",
        "print(f'sum of odd numbers from 1 to {n} = {sum_naturals(lambda x: x if x%2==1 else 0, n)}')"
      ],
      "metadata": {
        "colab": {
          "base_uri": "https://localhost:8080/"
        },
        "id": "GGZ61W0b6hDQ",
        "outputId": "fa221ce0-dcf6-482b-d57c-4e6114d39b19"
      },
      "execution_count": 15,
      "outputs": [
        {
          "output_type": "stream",
          "name": "stdout",
          "text": [
            "sum of odd numbers from 1 to 100 = 2500\n"
          ]
        }
      ]
    },
    {
      "cell_type": "markdown",
      "source": [
        "## 3.4.4 Definiciones anidadas\n",
        "- las funciones se pueden definir dentro de una función con alcance local\n",
        "- las funciones definidas localmente también tienen acceso a los nombres en los que están definidas\n",
        "    - esta técnica se llama alcance léxico\n",
        "- ayuda a mantener el marco global limpio y menos desordenado con funciones que solo se usan dentro de algunas funciones\n",
        "- redefinamos la función sum_natural nuevamente con funciones locales\n",
        "\n",
        "### Visualize using [PythonTutor.com](http://pythontutor.com/visualize.html#code=def%20sum_naturals1%28n,%20number_type%3D%22all%22%29%3A%0A%20%20%20%20def%20even%28x%29%3A%0A%20%20%20%20%20%20%20%20return%20x%20if%20x%252%20%3D%3D%200%20else%200%0A%20%20%20%20%0A%20%20%20%20def%20odd%28x%29%3A%0A%20%20%20%20%20%20%20%20return%20x%20if%20x%252%20%3D%3D%201%20else%200%0A%20%20%20%20%0A%20%20%20%20def%20func%28x%29%3A%0A%20%20%20%20%20%20%20%20%23%20local%20function%20has%20access%20to%20global%20variables%20as%20well%20as%20parent%20frames%0A%20%20%20%20%20%20%20%20if%20number_type%20%3D%3D%20'even'%3A%0A%20%20%20%20%20%20%20%20%20%20%20%20return%20x%20if%20x%252%20%3D%3D%200%20else%200%0A%20%20%20%20%20%20%20%20else%3A%0A%20%20%20%20%20%20%20%20%20%20%20%20return%20x%20if%20x%252%20%3D%3D%201%20else%200%0A%20%20%20%20%20%20%20%20%20%20%20%20%0A%20%20%20%20total,%20k%20%3D%200,%201%0A%20%20%20%20while%20k%20%3C%3D%20n%3A%0A%20%20%20%20%20%20%20%20if%20number_type%20!%3D%20'all'%3A%0A%20%20%20%20%20%20%20%20%20%20%20%20total%20%2B%3D%20func%28k%29%0A%20%20%20%20%20%20%20%20%23elif%20number_type%20%3D%3D%20'odd'%3A%0A%20%20%20%20%20%20%20%20%23%20%20%20%20total%20%2B%3D%20odd%28k%29%0A%20%20%20%20%20%20%20%20else%3A%0A%20%20%20%20%20%20%20%20%20%20%20%20total%20%2B%3D%20k%0A%20%20%20%20%20%20%20%20k%20%2B%3D%201%0A%20%20%20%20return%20total%0A%20%20%20%20%0An%20%3D%2010%20%20%0Aprint%28f'sum%20of%20even%20numbers%20from%201%20to%20%7Bn%7D%20%3D%20%7Bsum_naturals1%28n,%20%22even%22%29%7D'%29&cumulative=false&curInstr=0&heapPrimitives=nevernest&mode=display&origin=opt-frontend.js&py=3&rawInputLstJSON=%5B%5D&textReferences=false)"
      ],
      "metadata": {
        "id": "K5RbgQm66xTs"
      }
    },
    {
      "cell_type": "code",
      "source": [
        "# compute summations of n natural numbers\n",
        "# by default sum_natural1 finds sum of all the natural numbers between 1 and n inclusive\n",
        "def sum_naturals1(n, number_type=\"all\"):\n",
        "    def even(x):\n",
        "        return x if x%2 == 0 else 0\n",
        "\n",
        "    def odd(x):\n",
        "        return x if x%2 == 1 else 0\n",
        "\n",
        "    def func(x):\n",
        "        # local function has access to global variables as well as parent frames\n",
        "        if number_type == 'even':\n",
        "            return x if x%2 == 0 else 0\n",
        "        else:\n",
        "            return x if x%2 == 1 else 0\n",
        "\n",
        "    total, k = 0, 1\n",
        "    while k <= n:\n",
        "        if number_type != 'all':\n",
        "            total += func(k)\n",
        "        #elif number_type == 'odd':\n",
        "        #    total += odd(k)\n",
        "        else:\n",
        "            total += k\n",
        "        k += 1\n",
        "    return total"
      ],
      "metadata": {
        "id": "NZR6NTA66wYO"
      },
      "execution_count": 17,
      "outputs": []
    },
    {
      "cell_type": "code",
      "source": [
        "n = 100\n",
        "print(f'sum of first {n} natural numbers = {sum_naturals1(n)}')"
      ],
      "metadata": {
        "colab": {
          "base_uri": "https://localhost:8080/"
        },
        "id": "uYVWU0Dm8gKN",
        "outputId": "339f1066-b07b-4954-b5a7-bb215dcdb3f6"
      },
      "execution_count": 18,
      "outputs": [
        {
          "output_type": "stream",
          "name": "stdout",
          "text": [
            "sum of first 100 natural numbers = 5050\n"
          ]
        }
      ]
    },
    {
      "cell_type": "code",
      "source": [
        "print(f'sum of even numbers from 1 to {n} = {sum_naturals1(n, \"even\")}')"
      ],
      "metadata": {
        "colab": {
          "base_uri": "https://localhost:8080/"
        },
        "id": "w_g3iaNs8oTe",
        "outputId": "efc9bfb4-126d-4035-9511-8a1e83341b64"
      },
      "execution_count": 19,
      "outputs": [
        {
          "output_type": "stream",
          "name": "stdout",
          "text": [
            "sum of even numbers from 1 to 100 = 2550\n"
          ]
        }
      ]
    },
    {
      "cell_type": "code",
      "execution_count": 20,
      "metadata": {
        "id": "eUxfkTfZ4cRs",
        "outputId": "e17469cd-1722-4ba7-fad2-a26503e89571",
        "colab": {
          "base_uri": "https://localhost:8080/"
        }
      },
      "outputs": [
        {
          "output_type": "stream",
          "name": "stdout",
          "text": [
            "sum of odd numbers from 1 to 100 = 2500\n"
          ]
        }
      ],
      "source": [
        "# sum of odd numbers from 1 to 100\n",
        "print(f'sum of odd numbers from 1 to {n} = {sum_naturals1(n, \"odd\")}')"
      ]
    },
    {
      "cell_type": "markdown",
      "source": [
        "## 3.4.5 Funciones como valores devueltos\n",
        "- las funciones pueden devolver funciones\n",
        "- las funciones definidas localmente mantienen su entorno principal cuando se devuelven"
      ],
      "metadata": {
        "id": "BfYdtsDL9BNz"
      }
    },
    {
      "cell_type": "code",
      "source": [
        "def number_type(ntype='all'):\n",
        "    def even(x):\n",
        "        return x if x%2 == 0 else 0\n",
        "\n",
        "    def odd(x):\n",
        "        return x if x%2 == 1 else 0\n",
        "\n",
        "    def _(x): # function to return x as it is; any()\n",
        "        return x\n",
        "\n",
        "    if ntype == 'all':\n",
        "        return _\n",
        "    elif ntype == 'even':\n",
        "        return even\n",
        "    else:\n",
        "        return odd"
      ],
      "metadata": {
        "id": "FhVZcri99BtR"
      },
      "execution_count": 21,
      "outputs": []
    },
    {
      "cell_type": "code",
      "source": [
        "n = 100\n",
        "print(f'sum of first {n} natural numbers = {sum_naturals(number_type(\"all\"), n)}')"
      ],
      "metadata": {
        "colab": {
          "base_uri": "https://localhost:8080/"
        },
        "id": "c7ptIKKG-PEw",
        "outputId": "2ffd9763-30d3-4212-c0df-d7351af7642b"
      },
      "execution_count": 22,
      "outputs": [
        {
          "output_type": "stream",
          "name": "stdout",
          "text": [
            "sum of first 100 natural numbers = 5050\n"
          ]
        }
      ]
    },
    {
      "cell_type": "code",
      "source": [
        "print(f'sum of even numbers from 1 to {n} = {sum_naturals(number_type(\"even\"), n)}')"
      ],
      "metadata": {
        "colab": {
          "base_uri": "https://localhost:8080/"
        },
        "id": "sna4zB_G-RvQ",
        "outputId": "91063677-2baf-4de2-ae81-20e6e2c2a8e1"
      },
      "execution_count": 23,
      "outputs": [
        {
          "output_type": "stream",
          "name": "stdout",
          "text": [
            "sum of even numbers from 1 to 100 = 2550\n"
          ]
        }
      ]
    },
    {
      "cell_type": "code",
      "source": [
        "# sum of odd numbers from 1 to 100\n",
        "print(f'sum of odd numbers from 1 to {n} = {sum_naturals(number_type(\"odd\"), n)}')"
      ],
      "metadata": {
        "colab": {
          "base_uri": "https://localhost:8080/"
        },
        "id": "HNTudyeK-T2J",
        "outputId": "ed967072-5d72-4967-8d30-6c41e9b0cca2"
      },
      "execution_count": 24,
      "outputs": [
        {
          "output_type": "stream",
          "name": "stdout",
          "text": [
            "sum of odd numbers from 1 to 100 = 2500\n"
          ]
        }
      ]
    },
    {
      "cell_type": "markdown",
      "source": [
        "## 3.4.6 Curry\n",
        "- las funciones que toman múltiples argumentos se pueden convertir en una cadena de funciones cada una de las cuales toma un solo argumento usando una función de orden superior\n",
        "- por ejemplo, dada una función **f(x, y)**, podemos definir una función **g(x)(y)** equivalente a **f(x, y)**\n",
        "- **g** es una función de orden superior que toma un solo argumento **x** y devuelve otra función que toma un solo argumento **y**\n",
        "    - esta transformación se llama **currying**"
      ],
      "metadata": {
        "id": "dvX90_Gy-Wcj"
      }
    },
    {
      "cell_type": "code",
      "source": [
        "def curried_pow(x):\n",
        "    def g(y):\n",
        "        return pow(x, y)\n",
        "    return g"
      ],
      "metadata": {
        "id": "XPdjdbea-slq"
      },
      "execution_count": 29,
      "outputs": []
    },
    {
      "cell_type": "code",
      "execution_count": null,
      "metadata": {
        "id": "dwyyBqyo4cRt",
        "outputId": "77b8d7bb-012a-42ed-a774-ac3a0635c286"
      },
      "outputs": [
        {
          "data": {
            "text/plain": [
              "8"
            ]
          },
          "execution_count": 87,
          "metadata": {},
          "output_type": "execute_result"
        }
      ],
      "source": [
        "# same as 2**3\n",
        "curried_pow(2)(3)"
      ]
    },
    {
      "cell_type": "code",
      "source": [
        "# let's create a list of integers and map each to a different value\n",
        "nums = list(range(1, 11))"
      ],
      "metadata": {
        "id": "_JQhmPWF-1Pc"
      },
      "execution_count": 25,
      "outputs": []
    },
    {
      "cell_type": "code",
      "source": [
        "nums"
      ],
      "metadata": {
        "colab": {
          "base_uri": "https://localhost:8080/"
        },
        "id": "ZPiqsA7R-7Yg",
        "outputId": "4901e5a5-db73-4a60-ddda-bda97793cc45"
      },
      "execution_count": 26,
      "outputs": [
        {
          "output_type": "execute_result",
          "data": {
            "text/plain": [
              "[1, 2, 3, 4, 5, 6, 7, 8, 9, 10]"
            ]
          },
          "metadata": {},
          "execution_count": 26
        }
      ]
    },
    {
      "cell_type": "code",
      "source": [
        "def my_map(alist, func):\n",
        "    for i in range(len(alist)):\n",
        "        alist[i] = func(alist[i])"
      ],
      "metadata": {
        "id": "SKTlfBaP_wn1"
      },
      "execution_count": 27,
      "outputs": []
    },
    {
      "cell_type": "code",
      "source": [
        "my_map(nums, curried_pow(2))"
      ],
      "metadata": {
        "id": "uI24_nX4_y0u"
      },
      "execution_count": 30,
      "outputs": []
    },
    {
      "cell_type": "code",
      "source": [
        "nums"
      ],
      "metadata": {
        "colab": {
          "base_uri": "https://localhost:8080/"
        },
        "id": "hrMPDPs7_6MQ",
        "outputId": "b56f0a74-ac5e-41a7-8abb-fe91da7e622f"
      },
      "execution_count": 31,
      "outputs": [
        {
          "output_type": "execute_result",
          "data": {
            "text/plain": [
              "[2, 4, 8, 16, 32, 64, 128, 256, 512, 1024]"
            ]
          },
          "metadata": {},
          "execution_count": 31
        }
      ]
    },
    {
      "cell_type": "markdown",
      "source": [
        "## 3.4.7 Decoradores de funciones\n",
        "- https://realpython.com/primer-on-python-decoradores/\n",
        "- los decoradores son funciones de orden superior\n",
        "- los decoradores toman otra función y extienden el comportamiento de la última función sin modificarla explícitamente\n",
        "- si la función que se está decorando toma argumentos, proporcione argumentos al envoltorio\n",
        "- si la función que se está decorando devuelve un valor, llámela con declaración de retorno\n",
        "- muchos marcos como Flask, Django proporcionan muchos decoradores\n",
        "    - p.ej. @Necesario iniciar sesión; @app.ruta(\"/nombre_ruta\"), etc."
      ],
      "metadata": {
        "id": "kVoEpO-E_962"
      }
    },
    {
      "cell_type": "code",
      "source": [
        "# a simple decorator example\n",
        "# my_decorator decorates func\n",
        "def my_decorator(func):\n",
        "    def wrapper():\n",
        "        print(\"Before the function is called...\")\n",
        "        # call the original function\n",
        "        func()\n",
        "        print(\"After the function is called.\")\n",
        "    return wrapper\n",
        "\n",
        "def say_hello():\n",
        "    print(\"Hello there!\")"
      ],
      "metadata": {
        "id": "e-Byzn6RAbnm"
      },
      "execution_count": 32,
      "outputs": []
    },
    {
      "cell_type": "code",
      "source": [
        "# say_hello is decorated now, without modifying the original function\n",
        "# just the behavior is modified by added extra print() before and after say_hello\n",
        "say_hello = my_decorator(say_hello)"
      ],
      "metadata": {
        "id": "UIVhQUslBI2R"
      },
      "execution_count": 33,
      "outputs": []
    },
    {
      "cell_type": "code",
      "source": [
        "say_hello()"
      ],
      "metadata": {
        "colab": {
          "base_uri": "https://localhost:8080/"
        },
        "id": "O6p2eWvPBO0h",
        "outputId": "d65ee547-c5ea-4855-8901-d9f309a80b10"
      },
      "execution_count": 34,
      "outputs": [
        {
          "output_type": "stream",
          "name": "stdout",
          "text": [
            "Before the function is called...\n",
            "Hello there!\n",
            "After the function is called.\n"
          ]
        }
      ]
    },
    {
      "cell_type": "code",
      "source": [
        "# Python provides better syntax!\n",
        "# use @decorting_function\n",
        "@my_decorator\n",
        "def say_hi():\n",
        "    print(\"Hi there!\")"
      ],
      "metadata": {
        "id": "2heT5OZcBQvd"
      },
      "execution_count": 35,
      "outputs": []
    },
    {
      "cell_type": "code",
      "source": [
        "say_hi()"
      ],
      "metadata": {
        "colab": {
          "base_uri": "https://localhost:8080/"
        },
        "id": "9RNglzzpBeZh",
        "outputId": "76d05bfb-1df0-46b8-c9b6-1fd760b2e257"
      },
      "execution_count": 36,
      "outputs": [
        {
          "output_type": "stream",
          "name": "stdout",
          "text": [
            "Before the function is called...\n",
            "Hi there!\n",
            "After the function is called.\n"
          ]
        }
      ]
    },
    {
      "cell_type": "code",
      "source": [
        "# una función simple de cuenta regresiva\n",
        "def countDown(from_number):\n",
        "    if from_number <= 0:\n",
        "        print('Blast off!')\n",
        "    else:\n",
        "        print(from_number)\n",
        "        countDown(from_number-1)"
      ],
      "metadata": {
        "id": "ry9UMry1Bfkc"
      },
      "execution_count": 37,
      "outputs": []
    },
    {
      "cell_type": "code",
      "source": [
        "# ¡No ralentiza la cuenta atrás!\n",
        "countDown(10)"
      ],
      "metadata": {
        "colab": {
          "base_uri": "https://localhost:8080/"
        },
        "id": "a24-0KsmBsXK",
        "outputId": "7013ab5b-ae83-462d-9483-ac87b3c6f7c1"
      },
      "execution_count": 38,
      "outputs": [
        {
          "output_type": "stream",
          "name": "stdout",
          "text": [
            "10\n",
            "9\n",
            "8\n",
            "7\n",
            "6\n",
            "5\n",
            "4\n",
            "3\n",
            "2\n",
            "1\n",
            "Blast off!\n"
          ]
        }
      ]
    },
    {
      "cell_type": "code",
      "source": [
        "# escribamos un contenedor slow_down\n",
        "import time\n",
        "\n",
        "def slow_down(func):\n",
        "    \"\"\"Sleep 1 second before calling the function\"\"\"\n",
        "    def wrapper_slow_down(*args, **kwargs):\n",
        "        time.sleep(1) # sleep for a second\n",
        "        return func(*args, **kwargs) # call and return the result from the func\n",
        "    return wrapper_slow_down"
      ],
      "metadata": {
        "id": "nanoSPAqB0dq"
      },
      "execution_count": 56,
      "outputs": []
    },
    {
      "cell_type": "code",
      "source": [
        "countDownSlow = slow_down(countDown)"
      ],
      "metadata": {
        "id": "sH4gJYbRCGdb"
      },
      "execution_count": 41,
      "outputs": []
    },
    {
      "cell_type": "code",
      "source": [
        "countDownSlow(10)"
      ],
      "metadata": {
        "colab": {
          "base_uri": "https://localhost:8080/"
        },
        "id": "CDvKVjkACPDO",
        "outputId": "c3920571-a483-49db-ac35-4f28a6b065ac"
      },
      "execution_count": 57,
      "outputs": [
        {
          "output_type": "stream",
          "name": "stdout",
          "text": [
            "10\n",
            "9\n",
            "8\n",
            "7\n",
            "6\n",
            "5\n",
            "4\n",
            "3\n",
            "2\n",
            "1\n",
            "Blast off!\n"
          ]
        }
      ]
    }
  ]
}