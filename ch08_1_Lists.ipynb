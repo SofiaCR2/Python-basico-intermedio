{
  "cells": [
    {
      "cell_type": "markdown",
      "metadata": {
        "id": "view-in-github",
        "colab_type": "text"
      },
      "source": [
        "<a href=\"https://colab.research.google.com/github/SofiaCR2/Python-basico-intermedio/blob/main/ch08_1_Lists.ipynb\" target=\"_parent\"><img src=\"https://colab.research.google.com/assets/colab-badge.svg\" alt=\"Open In Colab\"/></a>"
      ]
    },
    {
      "cell_type": "markdown",
      "metadata": {
        "id": "0X-5odFACf6w"
      },
      "source": [
        "#8 Listas\n",
        "- http://openbookproject.net/thinkcs/python/english3e/lists.html\n",
        "\n",
        "## Temas\n",
        "- lista de estructura de datos\n",
        "- sintaxis para crear listas\n",
        "- métodos u operaciones proporcionados para listar objetos\n",
        "- operadores de lista\n",
        "- lista transversal\n",
        "- lista de aplicaciones y problemas\n",
        "\n",
        "## 8.1 Listas\n",
        "- un tipo de secuencia o contenedor\n",
        "- colección ordenada de valores llamados elementos o ítems\n",
        "- las listas son similares a las cadenas (colecciones ordenadas de caracteres) excepto que los elementos de una lista pueden ser de cualquier tipo\n"
      ]
    },
    {
      "cell_type": "markdown",
      "metadata": {
        "id": "4UbdibK4Cf6x"
      },
      "source": [
        "## 8.2 Creación de listas\n",
        "- varias formas; la más sencilla es encerrar los elementos entre corchetes [ ]"
      ]
    },
    {
      "cell_type": "code",
      "execution_count": 1,
      "metadata": {
        "id": "8fCYwiYMCf6x"
      },
      "outputs": [],
      "source": [
        "alist = [] # an empty list"
      ]
    },
    {
      "cell_type": "code",
      "execution_count": 2,
      "metadata": {
        "id": "yJrvpqK1Cf6y"
      },
      "outputs": [],
      "source": [
        "blist = list() # an empty list"
      ]
    },
    {
      "cell_type": "code",
      "execution_count": 3,
      "metadata": {
        "colab": {
          "base_uri": "https://localhost:8080/"
        },
        "id": "Rdw3qpOVCf6y",
        "outputId": "bdb08e12-e447-4f48-9f4d-2489b84b8ce8"
      },
      "outputs": [
        {
          "output_type": "execute_result",
          "data": {
            "text/plain": [
              "list"
            ]
          },
          "metadata": {},
          "execution_count": 3
        }
      ],
      "source": [
        "type(alist)"
      ]
    },
    {
      "cell_type": "code",
      "execution_count": 4,
      "metadata": {
        "id": "sLlHb6uSCf6z"
      },
      "outputs": [],
      "source": [
        "# creating lists with some elements of same type\n",
        "list1 = [10, 20, 30, 40]\n",
        "list2 = ['spam', 'bungee', 'swallow']"
      ]
    },
    {
      "cell_type": "code",
      "execution_count": 5,
      "metadata": {
        "id": "peKjVNWSCf6z"
      },
      "outputs": [],
      "source": [
        "# lists with elements of different types\n",
        "list3 = [\"hello\", 2.0, 10, [10, ('hi', 'world'), 3.5], (1, 'uno')]"
      ]
    },
    {
      "cell_type": "code",
      "execution_count": 6,
      "metadata": {
        "colab": {
          "base_uri": "https://localhost:8080/"
        },
        "id": "YOxYU6r2Cf6z",
        "outputId": "4fb74462-2d30-4c4c-fc76-f2ab88ea2ddb"
      },
      "outputs": [
        {
          "output_type": "stream",
          "name": "stdout",
          "text": [
            "['hello', 2.0, 10, [10, ('hi', 'world'), 3.5], (1, 'uno')]\n"
          ]
        }
      ],
      "source": [
        "# print list\n",
        "print(list3)"
      ]
    },
    {
      "cell_type": "code",
      "execution_count": 7,
      "metadata": {
        "id": "zRsiAl9QCf6z"
      },
      "outputs": [],
      "source": [
        "# quickly create a list of range of numbers between 1 and 19\n",
        "list4 = list(range(1, 20, 1))"
      ]
    },
    {
      "cell_type": "code",
      "execution_count": 8,
      "metadata": {
        "colab": {
          "base_uri": "https://localhost:8080/"
        },
        "id": "mZJtSH-YCf6z",
        "outputId": "6eed018c-6a40-427d-c5ab-6e79643a2264"
      },
      "outputs": [
        {
          "output_type": "stream",
          "name": "stdout",
          "text": [
            "[1, 2, 3, 4, 5, 6, 7, 8, 9, 10, 11, 12, 13, 14, 15, 16, 17, 18, 19]\n"
          ]
        }
      ],
      "source": [
        "print(list4)"
      ]
    },
    {
      "cell_type": "code",
      "execution_count": 9,
      "metadata": {
        "colab": {
          "base_uri": "https://localhost:8080/"
        },
        "id": "j48s73L0Cf6z",
        "outputId": "35c6adae-107c-480c-bb5b-40f46b2fe2fb"
      },
      "outputs": [
        {
          "output_type": "stream",
          "name": "stdout",
          "text": [
            "[] [10, 20, 30, 40] ['spam', 'bungee', 'swallow'] ['hello', 2.0, 10, [10, ('hi', 'world'), 3.5], (1, 'uno')]\n"
          ]
        }
      ],
      "source": [
        "# print multiple lists\n",
        "print(alist, list1, list2, list3)"
      ]
    },
    {
      "cell_type": "code",
      "execution_count": 19,
      "metadata": {
        "id": "IOKd0M3ZCf60",
        "colab": {
          "base_uri": "https://localhost:8080/"
        },
        "outputId": "7e483250-5329-4292-9ae1-38ad415ce323"
      },
      "outputs": [
        {
          "output_type": "stream",
          "name": "stdout",
          "text": [
            "[2, 4, 6, 8, 10, 12, 14, 16, 18, 20]\n"
          ]
        }
      ],
      "source": [
        "# Exercise: create a list of even numbers between 1 and 20 inclusive\n",
        "list_even = list(range(0 ,21, 2))\n",
        "print(list_even[1:20])"
      ]
    },
    {
      "cell_type": "code",
      "execution_count": 21,
      "metadata": {
        "id": "6p1RubrFCf60",
        "colab": {
          "base_uri": "https://localhost:8080/"
        },
        "outputId": "032cf241-8fdb-419d-c3d1-8531ce41f4ff"
      },
      "outputs": [
        {
          "output_type": "stream",
          "name": "stdout",
          "text": [
            "[1, 3, 5, 7, 9, 11, 13, 15, 17, 19]\n"
          ]
        }
      ],
      "source": [
        "# Exercise: create a list of odd numbers between 1 and 20 inclusive\n",
        "list_odd = list(range(1 ,21, 2))\n",
        "print(list_odd)"
      ]
    },
    {
      "cell_type": "code",
      "execution_count": 25,
      "metadata": {
        "id": "YTsKbZSTCf60",
        "colab": {
          "base_uri": "https://localhost:8080/"
        },
        "outputId": "814bf796-de29-4d07-9070-fffacb362545"
      },
      "outputs": [
        {
          "output_type": "stream",
          "name": "stdout",
          "text": [
            "[20, 19, 18, 17, 16, 15, 14, 13, 12, 11, 10, 9, 8, 7, 6, 5, 4, 3, 2, 1]\n"
          ]
        }
      ],
      "source": [
        "# Exercise: create a list of numbers from 20 to 1 inclusive\n",
        "list_numbers = list(range(20 ,0 , -1))\n",
        "print(list_numbers)"
      ]
    },
    {
      "cell_type": "markdown",
      "metadata": {
        "id": "78E18d_wCf60"
      },
      "source": [
        "## 8.3 Acceder a elementos\n",
        "- misma sintaxis para acceder a los caracteres de una cadena, el operador de índice: ['índice']"
      ]
    },
    {
      "cell_type": "code",
      "execution_count": 27,
      "metadata": {
        "colab": {
          "base_uri": "https://localhost:8080/"
        },
        "id": "5wv8f8oQCf60",
        "outputId": "db9e79e7-a195-4cff-a69c-be8d4d28ba40"
      },
      "outputs": [
        {
          "output_type": "execute_result",
          "data": {
            "text/plain": [
              "[10, 20, 30, 40]"
            ]
          },
          "metadata": {},
          "execution_count": 27
        }
      ],
      "source": [
        "# let's see what elements are in list1\n",
        "list1"
      ]
    },
    {
      "cell_type": "code",
      "execution_count": 26,
      "metadata": {
        "colab": {
          "base_uri": "https://localhost:8080/"
        },
        "id": "0yYYQGckCf60",
        "outputId": "f20a56f7-e0be-4742-d89e-53666812e0e0"
      },
      "outputs": [
        {
          "output_type": "execute_result",
          "data": {
            "text/plain": [
              "10"
            ]
          },
          "metadata": {},
          "execution_count": 26
        }
      ],
      "source": [
        "# access an element, which one?\n",
        "list1[0]"
      ]
    },
    {
      "cell_type": "code",
      "execution_count": 28,
      "metadata": {
        "colab": {
          "base_uri": "https://localhost:8080/"
        },
        "id": "HY09Mjg5Cf60",
        "outputId": "75294cc4-6db5-41f3-c4e3-2e6e23b64ede"
      },
      "outputs": [
        {
          "output_type": "execute_result",
          "data": {
            "text/plain": [
              "['hello', 2.0, 10, [10, ('hi', 'world'), 3.5], (1, 'uno')]"
            ]
          },
          "metadata": {},
          "execution_count": 28
        }
      ],
      "source": [
        "list3"
      ]
    },
    {
      "cell_type": "code",
      "execution_count": 29,
      "metadata": {
        "colab": {
          "base_uri": "https://localhost:8080/",
          "height": 36
        },
        "id": "oPcqTTHwCf60",
        "outputId": "e4a043f7-265f-4f40-96a5-1749f94d4bdc"
      },
      "outputs": [
        {
          "output_type": "execute_result",
          "data": {
            "text/plain": [
              "'hello'"
            ],
            "application/vnd.google.colaboratory.intrinsic+json": {
              "type": "string"
            }
          },
          "metadata": {},
          "execution_count": 29
        }
      ],
      "source": [
        "list3[2-2]"
      ]
    },
    {
      "cell_type": "code",
      "execution_count": 30,
      "metadata": {
        "colab": {
          "base_uri": "https://localhost:8080/"
        },
        "id": "_ZlPlAK6Cf60",
        "outputId": "963b8ec5-bb84-43d4-d905-c5bb46340881"
      },
      "outputs": [
        {
          "output_type": "stream",
          "name": "stdout",
          "text": [
            "hello\n"
          ]
        }
      ],
      "source": [
        "# list index can be variable as well\n",
        "index = 0\n",
        "print(list3[index])"
      ]
    },
    {
      "cell_type": "code",
      "execution_count": 31,
      "metadata": {
        "colab": {
          "base_uri": "https://localhost:8080/",
          "height": 182
        },
        "id": "GvndVW8wCf61",
        "outputId": "c5dddbbb-3ce5-47a2-a7de-4a346ea0660f"
      },
      "outputs": [
        {
          "output_type": "error",
          "ename": "TypeError",
          "evalue": "ignored",
          "traceback": [
            "\u001b[0;31m---------------------------------------------------------------------------\u001b[0m",
            "\u001b[0;31mTypeError\u001b[0m                                 Traceback (most recent call last)",
            "\u001b[0;32m<ipython-input-31-1fc6b2fe2f36>\u001b[0m in \u001b[0;36m<cell line: 2>\u001b[0;34m()\u001b[0m\n\u001b[1;32m      1\u001b[0m \u001b[0;31m# can you use float value as an index?\u001b[0m\u001b[0;34m\u001b[0m\u001b[0;34m\u001b[0m\u001b[0m\n\u001b[0;32m----> 2\u001b[0;31m \u001b[0mlist3\u001b[0m\u001b[0;34m[\u001b[0m\u001b[0;36m1.0\u001b[0m\u001b[0;34m]\u001b[0m\u001b[0;34m\u001b[0m\u001b[0;34m\u001b[0m\u001b[0m\n\u001b[0m",
            "\u001b[0;31mTypeError\u001b[0m: list indices must be integers or slices, not float"
          ]
        }
      ],
      "source": [
        "# can you use float value as an index?\n",
        "list3[1.0]"
      ]
    },
    {
      "cell_type": "code",
      "execution_count": 32,
      "metadata": {
        "colab": {
          "base_uri": "https://localhost:8080/"
        },
        "id": "CIjP0XF5Cf61",
        "outputId": "f3138a20-e60a-4704-bd68-ae9070530126"
      },
      "outputs": [
        {
          "output_type": "execute_result",
          "data": {
            "text/plain": [
              "5"
            ]
          },
          "metadata": {},
          "execution_count": 32
        }
      ],
      "source": [
        "# how many elements are there in list3?\n",
        "len(list3)"
      ]
    },
    {
      "cell_type": "code",
      "execution_count": 33,
      "metadata": {
        "colab": {
          "base_uri": "https://localhost:8080/",
          "height": 182
        },
        "id": "NS2Fa-ZUCf61",
        "outputId": "68a17ee9-5de3-4dc3-9411-01708e646514"
      },
      "outputs": [
        {
          "output_type": "error",
          "ename": "IndexError",
          "evalue": "ignored",
          "traceback": [
            "\u001b[0;31m---------------------------------------------------------------------------\u001b[0m",
            "\u001b[0;31mIndexError\u001b[0m                                Traceback (most recent call last)",
            "\u001b[0;32m<ipython-input-33-207cd7e1c880>\u001b[0m in \u001b[0;36m<cell line: 2>\u001b[0;34m()\u001b[0m\n\u001b[1;32m      1\u001b[0m \u001b[0;31m# what happens if you access an index equal to the size of the list\u001b[0m\u001b[0;34m\u001b[0m\u001b[0;34m\u001b[0m\u001b[0m\n\u001b[0;32m----> 2\u001b[0;31m \u001b[0mlist3\u001b[0m\u001b[0;34m[\u001b[0m\u001b[0;36m5\u001b[0m\u001b[0;34m]\u001b[0m\u001b[0;34m\u001b[0m\u001b[0;34m\u001b[0m\u001b[0m\n\u001b[0m",
            "\u001b[0;31mIndexError\u001b[0m: list index out of range"
          ]
        }
      ],
      "source": [
        "# what happens if you access an index equal to the size of the list\n",
        "list3[5]"
      ]
    },
    {
      "cell_type": "code",
      "execution_count": 34,
      "metadata": {
        "colab": {
          "base_uri": "https://localhost:8080/"
        },
        "id": "0gcC0qzRCf61",
        "outputId": "2c2e9446-90d4-40ae-9fc5-200a06da6d18"
      },
      "outputs": [
        {
          "output_type": "execute_result",
          "data": {
            "text/plain": [
              "['hello', 2.0, 10, [10, ('hi', 'world'), 3.5], (1, 'uno')]"
            ]
          },
          "metadata": {},
          "execution_count": 34
        }
      ],
      "source": [
        "list3"
      ]
    },
    {
      "cell_type": "code",
      "execution_count": 35,
      "metadata": {
        "colab": {
          "base_uri": "https://localhost:8080/"
        },
        "id": "MzpmS1xyCf61",
        "outputId": "99c3db6c-3853-4dfe-9109-3b7fe55f80e4"
      },
      "outputs": [
        {
          "output_type": "execute_result",
          "data": {
            "text/plain": [
              "(1, 'uno')"
            ]
          },
          "metadata": {},
          "execution_count": 35
        }
      ],
      "source": [
        "# Ejercicio: accede e imprime el último elemento de list3\n",
        "elemento = list3[-1]\n",
        "elemento"
      ]
    },
    {
      "cell_type": "code",
      "execution_count": 36,
      "metadata": {
        "colab": {
          "base_uri": "https://localhost:8080/",
          "height": 36
        },
        "id": "2pOMbKJLCf61",
        "outputId": "fdf55ccd-1548-4c60-9325-431d599a3b09"
      },
      "outputs": [
        {
          "output_type": "execute_result",
          "data": {
            "text/plain": [
              "'world'"
            ],
            "application/vnd.google.colaboratory.intrinsic+json": {
              "type": "string"
            }
          },
          "metadata": {},
          "execution_count": 36
        }
      ],
      "source": [
        "# Exercise - access and print 'world' in list3\n",
        "elemento = list3[3][1][1]\n",
        "elemento"
      ]
    },
    {
      "cell_type": "markdown",
      "metadata": {
        "id": "ceScFtmhCf61"
      },
      "source": [
        "## 8.4 Afiliación\n",
        "comprobar si algún dato/objeto es un miembro/elemento en la lista dada\n",
        "en y no en operadores booleanos vamos a verificar la membresía"
      ]
    },
    {
      "cell_type": "code",
      "execution_count": 37,
      "metadata": {
        "colab": {
          "base_uri": "https://localhost:8080/"
        },
        "id": "Lbtbz4V_Cf61",
        "outputId": "831e7f21-793e-473c-f1fc-9a6a5a3cbd66"
      },
      "outputs": [
        {
          "output_type": "execute_result",
          "data": {
            "text/plain": [
              "False"
            ]
          },
          "metadata": {},
          "execution_count": 37
        }
      ],
      "source": [
        "horsemen = [\"war\", \"famine\", \"pestilence\", [\"death\"]]\n",
        "'death' in horsemen"
      ]
    },
    {
      "cell_type": "code",
      "execution_count": 38,
      "metadata": {
        "colab": {
          "base_uri": "https://localhost:8080/"
        },
        "id": "R3ndLN7VCf61",
        "outputId": "05d6a1e3-1833-47c4-b68b-901ba93aea2e"
      },
      "outputs": [
        {
          "output_type": "execute_result",
          "data": {
            "text/plain": [
              "True"
            ]
          },
          "metadata": {},
          "execution_count": 38
        }
      ],
      "source": [
        "'War' not in horsemen"
      ]
    },
    {
      "cell_type": "code",
      "execution_count": 39,
      "metadata": {
        "colab": {
          "base_uri": "https://localhost:8080/"
        },
        "id": "AFBg8hctCf61",
        "outputId": "21c49c27-6fee-4cf9-8dd0-9bb29cafe062"
      },
      "outputs": [
        {
          "output_type": "execute_result",
          "data": {
            "text/plain": [
              "True"
            ]
          },
          "metadata": {},
          "execution_count": 39
        }
      ],
      "source": [
        "[\"death\"] in horsemen"
      ]
    },
    {
      "cell_type": "markdown",
      "metadata": {
        "id": "eszoNNtJCf62"
      },
      "source": [
        "## 8.5 Listas de desplazamiento\n",
        "for o while loop se puede usar para recorrer cada elemento de una lista"
      ]
    },
    {
      "cell_type": "code",
      "execution_count": 40,
      "metadata": {
        "colab": {
          "base_uri": "https://localhost:8080/"
        },
        "id": "qkLQDKbECf62",
        "outputId": "d53baf0d-b50a-4623-af58-85fb94b04cc8"
      },
      "outputs": [
        {
          "output_type": "execute_result",
          "data": {
            "text/plain": [
              "['hello', 2.0, 10, [10, ('hi', 'world'), 3.5], (1, 'uno')]"
            ]
          },
          "metadata": {},
          "execution_count": 40
        }
      ],
      "source": [
        "list3"
      ]
    },
    {
      "cell_type": "code",
      "execution_count": 41,
      "metadata": {
        "id": "CEvD1yqICf62",
        "colab": {
          "base_uri": "https://localhost:8080/"
        },
        "outputId": "7609d221-b0e0-4cb7-f1d3-b7198aa8b566"
      },
      "outputs": [
        {
          "output_type": "stream",
          "name": "stdout",
          "text": [
            "hello\n",
            "2.0\n",
            "10\n",
            "[10, ('hi', 'world'), 3.5]\n",
            "(1, 'uno')\n"
          ]
        }
      ],
      "source": [
        "# common technique; use for loop\n",
        "for item in list3:\n",
        "    print(item)"
      ]
    },
    {
      "cell_type": "code",
      "execution_count": 43,
      "metadata": {
        "colab": {
          "base_uri": "https://localhost:8080/"
        },
        "id": "KC5QxnjICf62",
        "outputId": "26f2ab96-0a85-4006-b5ec-bc3179116dd1"
      },
      "outputs": [
        {
          "output_type": "stream",
          "name": "stdout",
          "text": [
            "hello\n",
            "2.0\n",
            "10\n",
            "10\n",
            "hi\n",
            "world\n",
            "3.5\n",
            "1\n",
            "uno\n"
          ]
        }
      ],
      "source": [
        "for item in list3:\n",
        "    if isinstance(item, list) or isinstance(item, tuple):\n",
        "        for l in item:\n",
        "          if isinstance(l, list) or isinstance(l, tuple):\n",
        "            for m in l:\n",
        "              print(m)\n",
        "          else:\n",
        "            print(l)\n",
        "    else:\n",
        "        print(item)"
      ]
    },
    {
      "cell_type": "code",
      "execution_count": 44,
      "metadata": {
        "colab": {
          "base_uri": "https://localhost:8080/"
        },
        "id": "ojftXr6sCf62",
        "outputId": "f98787b8-8ba4-473e-8398-257c9493cc43"
      },
      "outputs": [
        {
          "output_type": "stream",
          "name": "stdout",
          "text": [
            "war\n",
            "famine\n",
            "pestilence\n",
            "death\n"
          ]
        }
      ],
      "source": [
        "horsemen = [\"war\", \"famine\", \"pestilence\", \"death\"]\n",
        "for i in [0, 1, 2, 3]:\n",
        "    print(horsemen[i])\n",
        "# better way to do the same thing?"
      ]
    },
    {
      "cell_type": "code",
      "execution_count": 45,
      "metadata": {
        "colab": {
          "base_uri": "https://localhost:8080/"
        },
        "id": "qbTvQeodCf62",
        "outputId": "78372cbd-fdeb-45ca-9119-740f697bc38a"
      },
      "outputs": [
        {
          "output_type": "stream",
          "name": "stdout",
          "text": [
            "traversing using indices\n",
            "war\n",
            "famine\n",
            "pestilence\n",
            "death\n"
          ]
        }
      ],
      "source": [
        "print(\"traversing using indices\")\n",
        "for i in range(len(horsemen)):\n",
        "    print(horsemen[i])"
      ]
    },
    {
      "cell_type": "code",
      "execution_count": 46,
      "metadata": {
        "colab": {
          "base_uri": "https://localhost:8080/"
        },
        "id": "iAvcKgC2Cf62",
        "outputId": "e1399ee8-8dce-4ce1-b424-873a98e64c6e"
      },
      "outputs": [
        {
          "output_type": "stream",
          "name": "stdout",
          "text": [
            "traversing each element\n",
            "war\n",
            "famine\n",
            "pestilence\n",
            "death\n"
          ]
        }
      ],
      "source": [
        "print('traversing each element')\n",
        "for ele in horsemen:\n",
        "    print(ele)"
      ]
    },
    {
      "cell_type": "markdown",
      "metadata": {
        "id": "PPNFv6otCf62"
      },
      "source": [
        "## 8.6 operadores de lista\n",
        "- El operador \\+ concatena dos listas y da una lista más grande\n",
        "- El operador \\* repite una lista de elementos un número dado de veces"
      ]
    },
    {
      "cell_type": "code",
      "execution_count": 47,
      "metadata": {
        "id": "X5ZLqR8tCf7G",
        "colab": {
          "base_uri": "https://localhost:8080/"
        },
        "outputId": "453f01d2-0f39-4b49-899a-92f6e80dbe62"
      },
      "outputs": [
        {
          "output_type": "execute_result",
          "data": {
            "text/plain": [
              "['spam', 'bungee', 'swallow']"
            ]
          },
          "metadata": {},
          "execution_count": 47
        }
      ],
      "source": [
        "list2"
      ]
    },
    {
      "cell_type": "code",
      "execution_count": 48,
      "metadata": {
        "colab": {
          "base_uri": "https://localhost:8080/"
        },
        "id": "zq8WmJvBCf7G",
        "outputId": "1bc3c3cb-629c-4245-fe4d-4ca0106fdf79"
      },
      "outputs": [
        {
          "output_type": "execute_result",
          "data": {
            "text/plain": [
              "['hello', 2.0, 10, [10, ('hi', 'world'), 3.5], (1, 'uno')]"
            ]
          },
          "metadata": {},
          "execution_count": 48
        }
      ],
      "source": [
        "list3"
      ]
    },
    {
      "cell_type": "code",
      "execution_count": 49,
      "metadata": {
        "id": "ZMmKHV8WCf7H"
      },
      "outputs": [],
      "source": [
        "list4 = list2 + list3"
      ]
    },
    {
      "cell_type": "code",
      "execution_count": 50,
      "metadata": {
        "colab": {
          "base_uri": "https://localhost:8080/"
        },
        "id": "TCXvWuqxCf7H",
        "outputId": "d8d8ba28-bfff-4e02-e46e-6ecfb4303dde"
      },
      "outputs": [
        {
          "output_type": "execute_result",
          "data": {
            "text/plain": [
              "['spam',\n",
              " 'bungee',\n",
              " 'swallow',\n",
              " 'hello',\n",
              " 2.0,\n",
              " 10,\n",
              " [10, ('hi', 'world'), 3.5],\n",
              " (1, 'uno')]"
            ]
          },
          "metadata": {},
          "execution_count": 50
        }
      ],
      "source": [
        "list4"
      ]
    },
    {
      "cell_type": "code",
      "execution_count": 51,
      "metadata": {
        "colab": {
          "base_uri": "https://localhost:8080/"
        },
        "id": "XaSHFBzOCf7H",
        "outputId": "bd36be23-81fa-4e04-db10-f8d3c04f55be"
      },
      "outputs": [
        {
          "output_type": "execute_result",
          "data": {
            "text/plain": [
              "[0, 0, 0, 0, 0, 0, 0, 0, 0, 0]"
            ]
          },
          "metadata": {},
          "execution_count": 51
        }
      ],
      "source": [
        "[0]*10"
      ]
    },
    {
      "cell_type": "code",
      "execution_count": 52,
      "metadata": {
        "id": "WdKXJ3Z7Cf7H"
      },
      "outputs": [],
      "source": [
        "a = [1, 2, 3]*4"
      ]
    },
    {
      "cell_type": "code",
      "execution_count": 53,
      "metadata": {
        "colab": {
          "base_uri": "https://localhost:8080/"
        },
        "id": "awvt-VSzCf7H",
        "outputId": "7cf51433-455d-40ac-96b5-acc4affdd122"
      },
      "outputs": [
        {
          "output_type": "execute_result",
          "data": {
            "text/plain": [
              "[1, 2, 3, 1, 2, 3, 1, 2, 3, 1, 2, 3]"
            ]
          },
          "metadata": {},
          "execution_count": 53
        }
      ],
      "source": [
        "a"
      ]
    },
    {
      "cell_type": "code",
      "execution_count": 54,
      "metadata": {
        "id": "nIQuMQRrCf7H"
      },
      "outputs": [],
      "source": [
        "b = [a]*3"
      ]
    },
    {
      "cell_type": "code",
      "execution_count": 55,
      "metadata": {
        "colab": {
          "base_uri": "https://localhost:8080/"
        },
        "id": "Kok7JdgMCf7H",
        "outputId": "306fad6f-d488-4a2c-ee97-7da244ac4497"
      },
      "outputs": [
        {
          "output_type": "execute_result",
          "data": {
            "text/plain": [
              "[[1, 2, 3, 1, 2, 3, 1, 2, 3, 1, 2, 3],\n",
              " [1, 2, 3, 1, 2, 3, 1, 2, 3, 1, 2, 3],\n",
              " [1, 2, 3, 1, 2, 3, 1, 2, 3, 1, 2, 3]]"
            ]
          },
          "metadata": {},
          "execution_count": 55
        }
      ],
      "source": [
        "b"
      ]
    },
    {
      "cell_type": "code",
      "execution_count": 56,
      "metadata": {
        "id": "DH1uL-BpCf7I"
      },
      "outputs": [],
      "source": [
        "# 2-D list or matrix\n",
        "matrix = [[1, 2], [3, 4], [5, 6]]"
      ]
    },
    {
      "cell_type": "code",
      "execution_count": 57,
      "metadata": {
        "colab": {
          "base_uri": "https://localhost:8080/"
        },
        "id": "ISSiB4aeCf7I",
        "outputId": "6a57b9aa-318e-43de-f73f-86d5d66267e0"
      },
      "outputs": [
        {
          "output_type": "stream",
          "name": "stdout",
          "text": [
            "[[1, 2], [3, 4], [5, 6]]\n"
          ]
        }
      ],
      "source": [
        "print(matrix)"
      ]
    },
    {
      "cell_type": "code",
      "execution_count": 58,
      "metadata": {
        "colab": {
          "base_uri": "https://localhost:8080/"
        },
        "id": "vQZi7OcwCf7I",
        "outputId": "ce655ad0-e471-4ef9-bde8-5d030a0ef8b9"
      },
      "outputs": [
        {
          "output_type": "execute_result",
          "data": {
            "text/plain": [
              "[[1, 2], [3, 4], [5, 6]]"
            ]
          },
          "metadata": {},
          "execution_count": 58
        }
      ],
      "source": [
        "matrix"
      ]
    },
    {
      "cell_type": "code",
      "execution_count": 59,
      "metadata": {
        "id": "_sZ94co6Cf7I"
      },
      "outputs": [],
      "source": [
        "# How do you replace 5 with 50 in matrix?\n",
        "matrix[2][0] = 50"
      ]
    },
    {
      "cell_type": "code",
      "execution_count": 60,
      "metadata": {
        "colab": {
          "base_uri": "https://localhost:8080/"
        },
        "id": "5QsmE0wwCf7I",
        "outputId": "e339e20d-843b-4b0f-f7e1-4771fc3d0b50"
      },
      "outputs": [
        {
          "output_type": "execute_result",
          "data": {
            "text/plain": [
              "[[1, 2], [3, 4], [50, 6]]"
            ]
          },
          "metadata": {},
          "execution_count": 60
        }
      ],
      "source": [
        "matrix"
      ]
    },
    {
      "cell_type": "markdown",
      "metadata": {
        "id": "RPw2vUrkCf7I"
      },
      "source": [
        "## 8.7 Listas de corte\n",
        "todas las operaciones de división que funcionan con cadenas también funcionan con listas\n",
        "\n",
        "sintaxis: [startIndex : endIndex : paso]\n",
        "\n",
        "startIndex es inclusivo; endIndex es exclusivo;\n",
        "el paso es opcional por defecto"
      ]
    },
    {
      "cell_type": "code",
      "execution_count": 61,
      "metadata": {
        "id": "Z3Qgh0JsCf7J"
      },
      "outputs": [],
      "source": [
        "# create a list of lower-case alphabets\n",
        "alphas = ['a', 'b', 'c', 'd', 'e', 'f', 'g'] # add the rest..."
      ]
    },
    {
      "cell_type": "code",
      "execution_count": 62,
      "metadata": {
        "colab": {
          "base_uri": "https://localhost:8080/"
        },
        "id": "-iRa-BEDCf7K",
        "outputId": "462c4090-fbf0-463e-d683-75c517992d42"
      },
      "outputs": [
        {
          "output_type": "execute_result",
          "data": {
            "text/plain": [
              "['a', 'b', 'c', 'd', 'e', 'f', 'g']"
            ]
          },
          "metadata": {},
          "execution_count": 62
        }
      ],
      "source": [
        "alphas"
      ]
    },
    {
      "cell_type": "code",
      "execution_count": 63,
      "metadata": {
        "id": "abgbSJ7MCf7K"
      },
      "outputs": [],
      "source": [
        "# there's better way to create lists of all lowercase ascii\n",
        "import string\n",
        "alphas = list(string.ascii_lowercase)"
      ]
    },
    {
      "cell_type": "code",
      "execution_count": 64,
      "metadata": {
        "colab": {
          "base_uri": "https://localhost:8080/"
        },
        "id": "UaURRzPlCf7K",
        "outputId": "9ae65c27-15dc-4d5f-cbaa-4810add1771d"
      },
      "outputs": [
        {
          "output_type": "stream",
          "name": "stdout",
          "text": [
            "['a', 'b', 'c', 'd', 'e', 'f', 'g', 'h', 'i', 'j', 'k', 'l', 'm', 'n', 'o', 'p', 'q', 'r', 's', 't', 'u', 'v', 'w', 'x', 'y', 'z']\n"
          ]
        }
      ],
      "source": [
        "print(alphas[:])"
      ]
    },
    {
      "cell_type": "code",
      "execution_count": 65,
      "metadata": {
        "colab": {
          "base_uri": "https://localhost:8080/"
        },
        "id": "BEDhQLukCf7L",
        "outputId": "babbbbf7-0f9d-4cf1-92c2-091b3ce7fac0"
      },
      "outputs": [
        {
          "output_type": "stream",
          "name": "stdout",
          "text": [
            "['a', 'd', 'g', 'j', 'm', 'p', 's', 'v', 'y']\n"
          ]
        }
      ],
      "source": [
        "print(alphas[::3])"
      ]
    },
    {
      "cell_type": "code",
      "execution_count": 66,
      "metadata": {
        "colab": {
          "base_uri": "https://localhost:8080/"
        },
        "id": "SvH3NmfWCf7L",
        "outputId": "4ed1e726-fab0-45dc-abaf-f3eb81034dd1"
      },
      "outputs": [
        {
          "output_type": "stream",
          "name": "stdout",
          "text": [
            "['b', 'c']\n"
          ]
        }
      ],
      "source": [
        "print(alphas[1:3])"
      ]
    },
    {
      "cell_type": "code",
      "execution_count": null,
      "metadata": {
        "colab": {
          "base_uri": "https://localhost:8080/"
        },
        "id": "rcymDANPCf7L",
        "outputId": "51c5a51a-a7b9-4437-f103-d77d2c633f1c"
      },
      "outputs": [
        {
          "output_type": "stream",
          "name": "stdout",
          "text": [
            "['z', 'y', 'x', 'w', 'v', 'u', 't', 's', 'r', 'q', 'p', 'o', 'n', 'm', 'l', 'k', 'j', 'i', 'h', 'g', 'f', 'e', 'd', 'c', 'b', 'a']\n"
          ]
        }
      ],
      "source": [
        "print(alphas[::-1])"
      ]
    },
    {
      "cell_type": "markdown",
      "metadata": {
        "id": "OqPzuZpnCf7M"
      },
      "source": [
        "## 8.8 Listas y cadenas\n",
        "- emparejamiento hecho en el cielo - trabajan juntos muy bien :)"
      ]
    },
    {
      "cell_type": "code",
      "execution_count": 67,
      "metadata": {
        "id": "32k8xg4ICf7M"
      },
      "outputs": [],
      "source": [
        "# convert string to list of characters\n",
        "alphaList = list(string.ascii_lowercase)"
      ]
    },
    {
      "cell_type": "code",
      "execution_count": 68,
      "metadata": {
        "colab": {
          "base_uri": "https://localhost:8080/"
        },
        "id": "bKyuDFCICf7M",
        "outputId": "ce565c6b-e831-4d90-d5dd-52de6ecda14e"
      },
      "outputs": [
        {
          "output_type": "execute_result",
          "data": {
            "text/plain": [
              "['a',\n",
              " 'b',\n",
              " 'c',\n",
              " 'd',\n",
              " 'e',\n",
              " 'f',\n",
              " 'g',\n",
              " 'h',\n",
              " 'i',\n",
              " 'j',\n",
              " 'k',\n",
              " 'l',\n",
              " 'm',\n",
              " 'n',\n",
              " 'o',\n",
              " 'p',\n",
              " 'q',\n",
              " 'r',\n",
              " 's',\n",
              " 't',\n",
              " 'u',\n",
              " 'v',\n",
              " 'w',\n",
              " 'x',\n",
              " 'y',\n",
              " 'z']"
            ]
          },
          "metadata": {},
          "execution_count": 68
        }
      ],
      "source": [
        "alphaList"
      ]
    },
    {
      "cell_type": "code",
      "execution_count": 69,
      "metadata": {
        "id": "Wltx4hijCf7M"
      },
      "outputs": [],
      "source": [
        "# convert list to string by joining pairs of chars with a delimiter\n",
        "alphaStr = '|'.join(alphaList)"
      ]
    },
    {
      "cell_type": "code",
      "execution_count": 70,
      "metadata": {
        "colab": {
          "base_uri": "https://localhost:8080/",
          "height": 36
        },
        "id": "oCmykDeZCf7M",
        "outputId": "acbe3d23-ad2c-49ec-baf6-8d81cfc6ea09"
      },
      "outputs": [
        {
          "output_type": "execute_result",
          "data": {
            "text/plain": [
              "'a|b|c|d|e|f|g|h|i|j|k|l|m|n|o|p|q|r|s|t|u|v|w|x|y|z'"
            ],
            "application/vnd.google.colaboratory.intrinsic+json": {
              "type": "string"
            }
          },
          "metadata": {},
          "execution_count": 70
        }
      ],
      "source": [
        "alphaStr"
      ]
    },
    {
      "cell_type": "markdown",
      "metadata": {
        "id": "LmTvDwJ7Cf7N"
      },
      "source": [
        "## 8.9 las listas son mutables\n",
        "podemos cambiar/reemplazar/actualizar los elementos de la lista en su lugar"
      ]
    },
    {
      "cell_type": "code",
      "execution_count": 71,
      "metadata": {
        "id": "bnJQRhnaCf7N"
      },
      "outputs": [],
      "source": [
        "names = [\"john\", \"David\", \"Alice\"]\n",
        "names[0] = \"jake\""
      ]
    },
    {
      "cell_type": "code",
      "execution_count": 72,
      "metadata": {
        "colab": {
          "base_uri": "https://localhost:8080/"
        },
        "id": "jdAMy2ZoCf7N",
        "outputId": "e4ad2c4b-8ea4-4f2d-f476-a9145c5b551f"
      },
      "outputs": [
        {
          "output_type": "execute_result",
          "data": {
            "text/plain": [
              "['jake', 'David', 'Alice']"
            ]
          },
          "metadata": {},
          "execution_count": 72
        }
      ],
      "source": [
        "names"
      ]
    },
    {
      "cell_type": "code",
      "execution_count": 73,
      "metadata": {
        "colab": {
          "base_uri": "https://localhost:8080/",
          "height": 36
        },
        "id": "oCVHByCCCf7N",
        "outputId": "dd73bd14-a4b6-4158-93be-cae24b80c1d4"
      },
      "outputs": [
        {
          "output_type": "execute_result",
          "data": {
            "text/plain": [
              "'j'"
            ],
            "application/vnd.google.colaboratory.intrinsic+json": {
              "type": "string"
            }
          },
          "metadata": {},
          "execution_count": 73
        }
      ],
      "source": [
        "# How to correct spelling of jake?\n",
        "names[0][0]"
      ]
    },
    {
      "cell_type": "code",
      "execution_count": 74,
      "metadata": {
        "colab": {
          "base_uri": "https://localhost:8080/",
          "height": 165
        },
        "id": "wg2bx9z5Cf7O",
        "outputId": "d227442c-ae6c-4d22-d728-726c372d2c6f"
      },
      "outputs": [
        {
          "output_type": "error",
          "ename": "TypeError",
          "evalue": "ignored",
          "traceback": [
            "\u001b[0;31m---------------------------------------------------------------------------\u001b[0m",
            "\u001b[0;31mTypeError\u001b[0m                                 Traceback (most recent call last)",
            "\u001b[0;32m<ipython-input-74-0442e9474c4b>\u001b[0m in \u001b[0;36m<cell line: 1>\u001b[0;34m()\u001b[0m\n\u001b[0;32m----> 1\u001b[0;31m \u001b[0mnames\u001b[0m\u001b[0;34m[\u001b[0m\u001b[0;36m0\u001b[0m\u001b[0;34m]\u001b[0m\u001b[0;34m[\u001b[0m\u001b[0;36m0\u001b[0m\u001b[0;34m]\u001b[0m \u001b[0;34m=\u001b[0m \u001b[0;34m'J'\u001b[0m\u001b[0;34m\u001b[0m\u001b[0;34m\u001b[0m\u001b[0m\n\u001b[0m",
            "\u001b[0;31mTypeError\u001b[0m: 'str' object does not support item assignment"
          ]
        }
      ],
      "source": [
        "names[0][0] = 'J'"
      ]
    },
    {
      "cell_type": "code",
      "execution_count": 75,
      "metadata": {
        "id": "FeZ8a5X6Cf7O"
      },
      "outputs": [],
      "source": [
        "names[0] = 'Jake'"
      ]
    },
    {
      "cell_type": "code",
      "execution_count": 76,
      "metadata": {
        "colab": {
          "base_uri": "https://localhost:8080/"
        },
        "id": "4KKAUxFfCf7O",
        "outputId": "9bfe8617-d510-40cf-f481-ae0ad9d90b64"
      },
      "outputs": [
        {
          "output_type": "execute_result",
          "data": {
            "text/plain": [
              "['Jake', 'David', 'Alice']"
            ]
          },
          "metadata": {},
          "execution_count": 76
        }
      ],
      "source": [
        "names"
      ]
    },
    {
      "cell_type": "code",
      "execution_count": 77,
      "metadata": {
        "colab": {
          "base_uri": "https://localhost:8080/"
        },
        "id": "rSXe5iHNCf7O",
        "outputId": "5402c482-443b-4b1d-9f38-d0c54d0d1046"
      },
      "outputs": [
        {
          "output_type": "execute_result",
          "data": {
            "text/plain": [
              "['a',\n",
              " 'b',\n",
              " 'c',\n",
              " 'd',\n",
              " 'e',\n",
              " 'f',\n",
              " 'g',\n",
              " 'h',\n",
              " 'i',\n",
              " 'j',\n",
              " 'k',\n",
              " 'l',\n",
              " 'm',\n",
              " 'n',\n",
              " 'o',\n",
              " 'p',\n",
              " 'q',\n",
              " 'r',\n",
              " 's',\n",
              " 't',\n",
              " 'u',\n",
              " 'v',\n",
              " 'w',\n",
              " 'x',\n",
              " 'y',\n",
              " 'z']"
            ]
          },
          "metadata": {},
          "execution_count": 77
        }
      ],
      "source": [
        "alphas"
      ]
    },
    {
      "cell_type": "code",
      "execution_count": 78,
      "metadata": {
        "id": "9teWDuPSCf7P"
      },
      "outputs": [],
      "source": [
        "alphas[:4] = ['A', 'B', 'C', 'D']"
      ]
    },
    {
      "cell_type": "code",
      "execution_count": 79,
      "metadata": {
        "colab": {
          "base_uri": "https://localhost:8080/"
        },
        "id": "PGHRJhgSCf7P",
        "outputId": "264b7afc-7edc-4b16-f915-e5b4b14ac01d"
      },
      "outputs": [
        {
          "output_type": "execute_result",
          "data": {
            "text/plain": [
              "['A',\n",
              " 'B',\n",
              " 'C',\n",
              " 'D',\n",
              " 'e',\n",
              " 'f',\n",
              " 'g',\n",
              " 'h',\n",
              " 'i',\n",
              " 'j',\n",
              " 'k',\n",
              " 'l',\n",
              " 'm',\n",
              " 'n',\n",
              " 'o',\n",
              " 'p',\n",
              " 'q',\n",
              " 'r',\n",
              " 's',\n",
              " 't',\n",
              " 'u',\n",
              " 'v',\n",
              " 'w',\n",
              " 'x',\n",
              " 'y',\n",
              " 'z']"
            ]
          },
          "metadata": {},
          "execution_count": 79
        }
      ],
      "source": [
        "alphas"
      ]
    },
    {
      "cell_type": "code",
      "execution_count": 80,
      "metadata": {
        "id": "RTXG0PR7Cf7P"
      },
      "outputs": [],
      "source": [
        "alphas[:4] = []"
      ]
    },
    {
      "cell_type": "code",
      "execution_count": 81,
      "metadata": {
        "colab": {
          "base_uri": "https://localhost:8080/"
        },
        "id": "33NUzFckCf7P",
        "outputId": "7146182c-bf35-487f-c9a5-5cc83a1cb228"
      },
      "outputs": [
        {
          "output_type": "execute_result",
          "data": {
            "text/plain": [
              "['e',\n",
              " 'f',\n",
              " 'g',\n",
              " 'h',\n",
              " 'i',\n",
              " 'j',\n",
              " 'k',\n",
              " 'l',\n",
              " 'm',\n",
              " 'n',\n",
              " 'o',\n",
              " 'p',\n",
              " 'q',\n",
              " 'r',\n",
              " 's',\n",
              " 't',\n",
              " 'u',\n",
              " 'v',\n",
              " 'w',\n",
              " 'x',\n",
              " 'y',\n",
              " 'z']"
            ]
          },
          "metadata": {},
          "execution_count": 81
        }
      ],
      "source": [
        "alphas"
      ]
    },
    {
      "cell_type": "markdown",
      "metadata": {
        "id": "fB3wSY44Cf7P"
      },
      "source": [
        "## 8.10 Eliminación de elementos de la lista\n",
        "- la instrucción del elimina un elemento de una lista dado su índice"
      ]
    },
    {
      "cell_type": "code",
      "execution_count": 82,
      "metadata": {
        "colab": {
          "base_uri": "https://localhost:8080/"
        },
        "id": "kHB93O6nCf7P",
        "outputId": "bf41fc3a-ddfd-48a3-e485-6fd997026f2f"
      },
      "outputs": [
        {
          "output_type": "execute_result",
          "data": {
            "text/plain": [
              "['e',\n",
              " 'f',\n",
              " 'g',\n",
              " 'h',\n",
              " 'i',\n",
              " 'j',\n",
              " 'k',\n",
              " 'l',\n",
              " 'm',\n",
              " 'n',\n",
              " 'o',\n",
              " 'p',\n",
              " 'q',\n",
              " 'r',\n",
              " 's',\n",
              " 't',\n",
              " 'u',\n",
              " 'v',\n",
              " 'w',\n",
              " 'x',\n",
              " 'y',\n",
              " 'z']"
            ]
          },
          "metadata": {},
          "execution_count": 82
        }
      ],
      "source": [
        "alphas"
      ]
    },
    {
      "cell_type": "code",
      "execution_count": 83,
      "metadata": {
        "id": "B80xoYFNCf7P"
      },
      "outputs": [],
      "source": [
        "del alphas[0]"
      ]
    },
    {
      "cell_type": "code",
      "execution_count": 84,
      "metadata": {
        "colab": {
          "base_uri": "https://localhost:8080/"
        },
        "id": "NQky0t9rCf7P",
        "outputId": "e12f4134-92d3-4462-9f15-6e9184671729"
      },
      "outputs": [
        {
          "output_type": "execute_result",
          "data": {
            "text/plain": [
              "['f',\n",
              " 'g',\n",
              " 'h',\n",
              " 'i',\n",
              " 'j',\n",
              " 'k',\n",
              " 'l',\n",
              " 'm',\n",
              " 'n',\n",
              " 'o',\n",
              " 'p',\n",
              " 'q',\n",
              " 'r',\n",
              " 's',\n",
              " 't',\n",
              " 'u',\n",
              " 'v',\n",
              " 'w',\n",
              " 'x',\n",
              " 'y',\n",
              " 'z']"
            ]
          },
          "metadata": {},
          "execution_count": 84
        }
      ],
      "source": [
        "alphas"
      ]
    },
    {
      "cell_type": "code",
      "execution_count": 87,
      "metadata": {
        "id": "qi_0x8R9Cf7P"
      },
      "outputs": [],
      "source": [
        "del alphas[20]"
      ]
    },
    {
      "cell_type": "code",
      "execution_count": 88,
      "metadata": {
        "colab": {
          "base_uri": "https://localhost:8080/"
        },
        "id": "7xNB3wmoCf7P",
        "outputId": "324a0986-136c-4288-ce54-799381bc398e"
      },
      "outputs": [
        {
          "output_type": "execute_result",
          "data": {
            "text/plain": [
              "19"
            ]
          },
          "metadata": {},
          "execution_count": 88
        }
      ],
      "source": [
        "alphas.index('y')"
      ]
    },
    {
      "cell_type": "code",
      "execution_count": 89,
      "metadata": {
        "colab": {
          "base_uri": "https://localhost:8080/"
        },
        "id": "wZNMAZ7_Cf7Q",
        "outputId": "bbc960fa-5550-4e72-f231-05afd1c61ade"
      },
      "outputs": [
        {
          "output_type": "execute_result",
          "data": {
            "text/plain": [
              "19"
            ]
          },
          "metadata": {},
          "execution_count": 89
        }
      ],
      "source": [
        "alphas.index(alphas[-1])"
      ]
    },
    {
      "cell_type": "code",
      "execution_count": 90,
      "metadata": {
        "id": "GUCOMZefCf7Q"
      },
      "outputs": [],
      "source": [
        "del alphas[1:3]"
      ]
    },
    {
      "cell_type": "code",
      "execution_count": 91,
      "metadata": {
        "colab": {
          "base_uri": "https://localhost:8080/"
        },
        "id": "MP2U99ZyCf7Q",
        "outputId": "c7a76c67-5124-4acf-840c-26052859dae4"
      },
      "outputs": [
        {
          "output_type": "execute_result",
          "data": {
            "text/plain": [
              "['f',\n",
              " 'i',\n",
              " 'j',\n",
              " 'k',\n",
              " 'l',\n",
              " 'm',\n",
              " 'n',\n",
              " 'o',\n",
              " 'p',\n",
              " 'q',\n",
              " 'r',\n",
              " 's',\n",
              " 't',\n",
              " 'u',\n",
              " 'v',\n",
              " 'w',\n",
              " 'x',\n",
              " 'y']"
            ]
          },
          "metadata": {},
          "execution_count": 91
        }
      ],
      "source": [
        "alphas"
      ]
    },
    {
      "cell_type": "code",
      "execution_count": 92,
      "metadata": {
        "id": "bC5iWsEhCf7Q"
      },
      "outputs": [],
      "source": [
        "indexOfy = alphas.index('y')\n",
        "del alphas[indexOfy]"
      ]
    },
    {
      "cell_type": "code",
      "execution_count": 93,
      "metadata": {
        "colab": {
          "base_uri": "https://localhost:8080/"
        },
        "id": "ptkqFkPtCf7Q",
        "outputId": "8f5f25bf-3c44-411d-c5d2-21f8350e33b8"
      },
      "outputs": [
        {
          "output_type": "stream",
          "name": "stdout",
          "text": [
            "['f', 'i', 'j', 'k', 'l', 'm', 'n', 'o', 'p', 'q', 'r', 's', 't', 'u', 'v', 'w', 'x']\n"
          ]
        }
      ],
      "source": [
        "print(alphas)"
      ]
    },
    {
      "cell_type": "markdown",
      "metadata": {
        "id": "q9HHbuZFCf7Q"
      },
      "source": [
        "## 8.11 Objetos y referencias\n",
        "- El operador **is** se puede usar para probar si dos objetos hacen referencia a la misma ubicación de memoria\n",
        "     - lo que significa que son esencialmente el mismo objeto con los mismos valores"
      ]
    },
    {
      "cell_type": "code",
      "execution_count": 94,
      "metadata": {
        "colab": {
          "base_uri": "https://localhost:8080/"
        },
        "id": "sxQjndJUCf7Q",
        "outputId": "c87d9efb-8020-4c20-f906-ef06be824ccb"
      },
      "outputs": [
        {
          "output_type": "execute_result",
          "data": {
            "text/plain": [
              "True"
            ]
          },
          "metadata": {},
          "execution_count": 94
        }
      ],
      "source": [
        "# even though a and b are two separate objects is still evaluates to True\n",
        "a = 'apple'\n",
        "b = 'apple'\n",
        "a is b"
      ]
    },
    {
      "cell_type": "code",
      "execution_count": 95,
      "metadata": {
        "colab": {
          "base_uri": "https://localhost:8080/"
        },
        "id": "E5-Bbn_MCf7Q",
        "outputId": "2cf00b6d-3ac6-45c8-c1b4-590209511911"
      },
      "outputs": [
        {
          "output_type": "execute_result",
          "data": {
            "text/plain": [
              "True"
            ]
          },
          "metadata": {},
          "execution_count": 95
        }
      ],
      "source": [
        "# even though c and d are two separate objects is still evaluates to True\n",
        "c = 10\n",
        "d = 10\n",
        "c is d"
      ]
    },
    {
      "cell_type": "code",
      "execution_count": 96,
      "metadata": {
        "colab": {
          "base_uri": "https://localhost:8080/"
        },
        "id": "ToDgvX26Cf7Q",
        "outputId": "395d6d99-281a-481a-f677-bc4f5c58a51e"
      },
      "outputs": [
        {
          "output_type": "stream",
          "name": "stdout",
          "text": [
            "True\n",
            "False\n"
          ]
        }
      ],
      "source": [
        "# what abut tuple?\n",
        "e = (1, 2)\n",
        "f = (1, 2)\n",
        "print(e == f)\n",
        "print(e is f)"
      ]
    },
    {
      "cell_type": "code",
      "execution_count": 97,
      "metadata": {
        "colab": {
          "base_uri": "https://localhost:8080/"
        },
        "id": "3Tm0FaWoCf7Q",
        "outputId": "b4cd01fb-ce42-4fbd-aa18-c6e5f4e6f4bd"
      },
      "outputs": [
        {
          "output_type": "stream",
          "name": "stdout",
          "text": [
            "True\n",
            "False\n"
          ]
        }
      ],
      "source": [
        "# What about lists?\n",
        "l1 = [1, 2, 3]\n",
        "l2 = [1, 2, 3]\n",
        "print(l1 == l2)\n",
        "print(l1 is l2)"
      ]
    },
    {
      "cell_type": "markdown",
      "metadata": {
        "id": "CEY6RDoiCf7Q"
      },
      "source": [
        "## 8.12 Copia de listas (copia superficial frente a copia profunda)\n",
        "- ve [PythonTutor.com to visualize aliasing](http://pythontutor.com/visualize.html#code=import%20copy%0A%0Aa%20%3D%20%5B1,%20%5B2,%203%5D%5D%0Ab%20%3D%20a%0Ac%20%3D%20a.copy%28%29%0Ad%20%3D%20a%5B%3A%5D%0Af%20%3D%20copy.deepcopy%28a%29&cumulative=false&curInstr=0&heapPrimitives=false&mode=display&origin=opt-frontend.js&py=3&rawInputLstJSON=%5B%5D&textReferences=false)\n",
        "- Asignación * = * Operadora hace copia superficial"
      ]
    },
    {
      "cell_type": "code",
      "execution_count": 99,
      "metadata": {
        "colab": {
          "base_uri": "https://localhost:8080/"
        },
        "id": "rsBAsEplCf7R",
        "outputId": "c686e2d6-9bcb-4dde-935c-51218fba4b96"
      },
      "outputs": [
        {
          "output_type": "stream",
          "name": "stdout",
          "text": [
            "True\n",
            "True\n"
          ]
        }
      ],
      "source": [
        "a = [1, 2, 3]\n",
        "b = a\n",
        "print(a is b)\n",
        "print(a == b)"
      ]
    },
    {
      "cell_type": "code",
      "execution_count": 100,
      "metadata": {
        "colab": {
          "base_uri": "https://localhost:8080/"
        },
        "id": "SSuCRT8UCf7R",
        "outputId": "1e1b487d-b430-431c-9502-47c52bcad678"
      },
      "outputs": [
        {
          "output_type": "stream",
          "name": "stdout",
          "text": [
            "[10, 2, 3]\n",
            "[10, 2, 3]\n"
          ]
        }
      ],
      "source": [
        "b[0] = 10\n",
        "print(a)\n",
        "print(b)"
      ]
    },
    {
      "cell_type": "code",
      "execution_count": 101,
      "metadata": {
        "id": "1qMKpA8SCf7R"
      },
      "outputs": [],
      "source": [
        "# How do you actually clone lists - do a deep copy?\n",
        "c = a[:] # easy way shallow copy\n",
        "d = a.copy() # shallow copy\n",
        "import copy\n",
        "e = copy.deepcopy(b)"
      ]
    },
    {
      "cell_type": "code",
      "execution_count": 102,
      "metadata": {
        "colab": {
          "base_uri": "https://localhost:8080/"
        },
        "id": "nsZsPgDZCf7R",
        "outputId": "abdcc612-4fca-497b-ceb5-8ce3a70c7f5d"
      },
      "outputs": [
        {
          "output_type": "execute_result",
          "data": {
            "text/plain": [
              "False"
            ]
          },
          "metadata": {},
          "execution_count": 102
        }
      ],
      "source": [
        "c is a"
      ]
    },
    {
      "cell_type": "code",
      "execution_count": 103,
      "metadata": {
        "colab": {
          "base_uri": "https://localhost:8080/"
        },
        "id": "rm7I2iEmCf7R",
        "outputId": "7200702d-0dd8-4742-b607-f3cab01183b3"
      },
      "outputs": [
        {
          "output_type": "execute_result",
          "data": {
            "text/plain": [
              "False"
            ]
          },
          "metadata": {},
          "execution_count": 103
        }
      ],
      "source": [
        "d is a"
      ]
    },
    {
      "cell_type": "code",
      "execution_count": 104,
      "metadata": {
        "colab": {
          "base_uri": "https://localhost:8080/"
        },
        "id": "kaIUSUWcCf7R",
        "outputId": "e04e8150-b067-4fd3-f2fd-d5c8e5693ff1"
      },
      "outputs": [
        {
          "output_type": "execute_result",
          "data": {
            "text/plain": [
              "False"
            ]
          },
          "metadata": {},
          "execution_count": 104
        }
      ],
      "source": [
        "a is e"
      ]
    },
    {
      "cell_type": "markdown",
      "metadata": {
        "id": "jX2Hud3BCf7R"
      },
      "source": [
        "## 8.13 Métodos de lista\n",
        "- los objetos de lista tienen un montón de métodos que se pueden invocar para trabajar con la lista\n",
        "- ejecutar help(list)"
      ]
    },
    {
      "cell_type": "code",
      "execution_count": null,
      "metadata": {
        "colab": {
          "base_uri": "https://localhost:8080/"
        },
        "id": "PDfQCnX3Cf7R",
        "outputId": "1ebcba8a-42b8-4ed4-e6d1-9c4f5e8ef993"
      },
      "outputs": [
        {
          "output_type": "stream",
          "name": "stdout",
          "text": [
            "Help on class list in module builtins:\n",
            "\n",
            "class list(object)\n",
            " |  list(iterable=(), /)\n",
            " |  \n",
            " |  Built-in mutable sequence.\n",
            " |  \n",
            " |  If no argument is given, the constructor creates a new empty list.\n",
            " |  The argument must be an iterable if specified.\n",
            " |  \n",
            " |  Methods defined here:\n",
            " |  \n",
            " |  __add__(self, value, /)\n",
            " |      Return self+value.\n",
            " |  \n",
            " |  __contains__(self, key, /)\n",
            " |      Return key in self.\n",
            " |  \n",
            " |  __delitem__(self, key, /)\n",
            " |      Delete self[key].\n",
            " |  \n",
            " |  __eq__(self, value, /)\n",
            " |      Return self==value.\n",
            " |  \n",
            " |  __ge__(self, value, /)\n",
            " |      Return self>=value.\n",
            " |  \n",
            " |  __getattribute__(self, name, /)\n",
            " |      Return getattr(self, name).\n",
            " |  \n",
            " |  __getitem__(...)\n",
            " |      x.__getitem__(y) <==> x[y]\n",
            " |  \n",
            " |  __gt__(self, value, /)\n",
            " |      Return self>value.\n",
            " |  \n",
            " |  __iadd__(self, value, /)\n",
            " |      Implement self+=value.\n",
            " |  \n",
            " |  __imul__(self, value, /)\n",
            " |      Implement self*=value.\n",
            " |  \n",
            " |  __init__(self, /, *args, **kwargs)\n",
            " |      Initialize self.  See help(type(self)) for accurate signature.\n",
            " |  \n",
            " |  __iter__(self, /)\n",
            " |      Implement iter(self).\n",
            " |  \n",
            " |  __le__(self, value, /)\n",
            " |      Return self<=value.\n",
            " |  \n",
            " |  __len__(self, /)\n",
            " |      Return len(self).\n",
            " |  \n",
            " |  __lt__(self, value, /)\n",
            " |      Return self<value.\n",
            " |  \n",
            " |  __mul__(self, value, /)\n",
            " |      Return self*value.\n",
            " |  \n",
            " |  __ne__(self, value, /)\n",
            " |      Return self!=value.\n",
            " |  \n",
            " |  __repr__(self, /)\n",
            " |      Return repr(self).\n",
            " |  \n",
            " |  __reversed__(self, /)\n",
            " |      Return a reverse iterator over the list.\n",
            " |  \n",
            " |  __rmul__(self, value, /)\n",
            " |      Return value*self.\n",
            " |  \n",
            " |  __setitem__(self, key, value, /)\n",
            " |      Set self[key] to value.\n",
            " |  \n",
            " |  __sizeof__(self, /)\n",
            " |      Return the size of the list in memory, in bytes.\n",
            " |  \n",
            " |  append(self, object, /)\n",
            " |      Append object to the end of the list.\n",
            " |  \n",
            " |  clear(self, /)\n",
            " |      Remove all items from list.\n",
            " |  \n",
            " |  copy(self, /)\n",
            " |      Return a shallow copy of the list.\n",
            " |  \n",
            " |  count(self, value, /)\n",
            " |      Return number of occurrences of value.\n",
            " |  \n",
            " |  extend(self, iterable, /)\n",
            " |      Extend list by appending elements from the iterable.\n",
            " |  \n",
            " |  index(self, value, start=0, stop=9223372036854775807, /)\n",
            " |      Return first index of value.\n",
            " |      \n",
            " |      Raises ValueError if the value is not present.\n",
            " |  \n",
            " |  insert(self, index, object, /)\n",
            " |      Insert object before index.\n",
            " |  \n",
            " |  pop(self, index=-1, /)\n",
            " |      Remove and return item at index (default last).\n",
            " |      \n",
            " |      Raises IndexError if list is empty or index is out of range.\n",
            " |  \n",
            " |  remove(self, value, /)\n",
            " |      Remove first occurrence of value.\n",
            " |      \n",
            " |      Raises ValueError if the value is not present.\n",
            " |  \n",
            " |  reverse(self, /)\n",
            " |      Reverse *IN PLACE*.\n",
            " |  \n",
            " |  sort(self, /, *, key=None, reverse=False)\n",
            " |      Sort the list in ascending order and return None.\n",
            " |      \n",
            " |      The sort is in-place (i.e. the list itself is modified) and stable (i.e. the\n",
            " |      order of two equal elements is maintained).\n",
            " |      \n",
            " |      If a key function is given, apply it once to each list item and sort them,\n",
            " |      ascending or descending, according to their function values.\n",
            " |      \n",
            " |      The reverse flag can be set to sort in descending order.\n",
            " |  \n",
            " |  ----------------------------------------------------------------------\n",
            " |  Class methods defined here:\n",
            " |  \n",
            " |  __class_getitem__(...) from builtins.type\n",
            " |      See PEP 585\n",
            " |  \n",
            " |  ----------------------------------------------------------------------\n",
            " |  Static methods defined here:\n",
            " |  \n",
            " |  __new__(*args, **kwargs) from builtins.type\n",
            " |      Create and return a new object.  See help(type) for accurate signature.\n",
            " |  \n",
            " |  ----------------------------------------------------------------------\n",
            " |  Data and other attributes defined here:\n",
            " |  \n",
            " |  __hash__ = None\n",
            "\n"
          ]
        }
      ],
      "source": [
        "help(list)"
      ]
    },
    {
      "cell_type": "code",
      "execution_count": 106,
      "metadata": {
        "id": "Bk9PxHHWCf7R"
      },
      "outputs": [],
      "source": [
        "# append es agregar para una lista, respeta los corchetas(otra lista)\n",
        "a = []\n",
        "a.append(1)\n",
        "a.append(2)\n",
        "a.append([2, 3])"
      ]
    },
    {
      "cell_type": "code",
      "execution_count": 107,
      "metadata": {
        "colab": {
          "base_uri": "https://localhost:8080/"
        },
        "id": "hMQMDOlJCf7R",
        "outputId": "edebda0c-3389-4b62-fe2e-e19c0255f272"
      },
      "outputs": [
        {
          "output_type": "execute_result",
          "data": {
            "text/plain": [
              "[1, 2, [2, 3]]"
            ]
          },
          "metadata": {},
          "execution_count": 107
        }
      ],
      "source": [
        "a"
      ]
    },
    {
      "cell_type": "code",
      "execution_count": 110,
      "metadata": {
        "id": "HAF-BcWJCf7R"
      },
      "outputs": [],
      "source": [
        "# extend extiende la lista, no respeta los corchetes(otra lista)\n",
        "a.extend([3, 4])"
      ]
    },
    {
      "cell_type": "code",
      "execution_count": 111,
      "metadata": {
        "colab": {
          "base_uri": "https://localhost:8080/"
        },
        "id": "TdOpwBgVCf7R",
        "outputId": "d635ab66-e455-47bd-b44c-9b5b5266b1dd"
      },
      "outputs": [
        {
          "output_type": "execute_result",
          "data": {
            "text/plain": [
              "[1, 2, [2, 3], 3, 4, 3, 4]"
            ]
          },
          "metadata": {},
          "execution_count": 111
        }
      ],
      "source": [
        "a"
      ]
    },
    {
      "cell_type": "code",
      "execution_count": 112,
      "metadata": {
        "id": "HgwVK8KaCf7S"
      },
      "outputs": [],
      "source": [
        "a.append([5, 6])"
      ]
    },
    {
      "cell_type": "code",
      "execution_count": 113,
      "metadata": {
        "colab": {
          "base_uri": "https://localhost:8080/"
        },
        "id": "d9DJQpCWCf7S",
        "outputId": "5f529b7d-2d4e-45a4-8807-cfaadf485777"
      },
      "outputs": [
        {
          "output_type": "execute_result",
          "data": {
            "text/plain": [
              "[1, 2, [2, 3], 3, 4, 3, 4, [5, 6]]"
            ]
          },
          "metadata": {},
          "execution_count": 113
        }
      ],
      "source": [
        "a"
      ]
    },
    {
      "cell_type": "code",
      "execution_count": 116,
      "metadata": {
        "id": "iZE6lKezCf7S"
      },
      "outputs": [],
      "source": [
        "# insert inserta en la posiscion el elemento dado\n",
        "a.insert(0, 'hi')"
      ]
    },
    {
      "cell_type": "code",
      "execution_count": 117,
      "metadata": {
        "colab": {
          "base_uri": "https://localhost:8080/"
        },
        "id": "pLtonY3_Cf7S",
        "outputId": "fc52d1fc-5dd4-4456-ab48-2391a3646f19"
      },
      "outputs": [
        {
          "output_type": "execute_result",
          "data": {
            "text/plain": [
              "['hi', 'hi', 1, 2, [2, 3], 3, 4, 3, 4, [5, 6]]"
            ]
          },
          "metadata": {},
          "execution_count": 117
        }
      ],
      "source": [
        "a"
      ]
    },
    {
      "cell_type": "code",
      "execution_count": 118,
      "metadata": {
        "id": "iimzb2UlCf7S"
      },
      "outputs": [],
      "source": [
        "a.reverse()"
      ]
    },
    {
      "cell_type": "code",
      "execution_count": 119,
      "metadata": {
        "id": "QgKoLm9OCf7S"
      },
      "outputs": [],
      "source": [
        "a[0].reverse()"
      ]
    },
    {
      "cell_type": "code",
      "execution_count": 120,
      "metadata": {
        "colab": {
          "base_uri": "https://localhost:8080/"
        },
        "id": "TnnOwZ_QCf7S",
        "outputId": "1d909de9-65d0-44c6-ba43-6df503f26e5b"
      },
      "outputs": [
        {
          "output_type": "execute_result",
          "data": {
            "text/plain": [
              "[[6, 5], 4, 3, 4, 3, [2, 3], 2, 1, 'hi', 'hi']"
            ]
          },
          "metadata": {},
          "execution_count": 120
        }
      ],
      "source": [
        "a"
      ]
    },
    {
      "cell_type": "code",
      "execution_count": 121,
      "metadata": {
        "colab": {
          "base_uri": "https://localhost:8080/",
          "height": 165
        },
        "id": "sqWhbDskCf7S",
        "outputId": "e48b23fd-2e0a-47d6-9bcc-f07c64790cbf"
      },
      "outputs": [
        {
          "output_type": "error",
          "ename": "TypeError",
          "evalue": "ignored",
          "traceback": [
            "\u001b[0;31m---------------------------------------------------------------------------\u001b[0m",
            "\u001b[0;31mTypeError\u001b[0m                                 Traceback (most recent call last)",
            "\u001b[0;32m<ipython-input-121-2ed0d7de6146>\u001b[0m in \u001b[0;36m<cell line: 1>\u001b[0;34m()\u001b[0m\n\u001b[0;32m----> 1\u001b[0;31m \u001b[0ma\u001b[0m\u001b[0;34m.\u001b[0m\u001b[0msort\u001b[0m\u001b[0;34m(\u001b[0m\u001b[0;34m)\u001b[0m\u001b[0;34m\u001b[0m\u001b[0;34m\u001b[0m\u001b[0m\n\u001b[0m",
            "\u001b[0;31mTypeError\u001b[0m: '<' not supported between instances of 'int' and 'list'"
          ]
        }
      ],
      "source": [
        "a.sort()"
      ]
    },
    {
      "cell_type": "code",
      "execution_count": 125,
      "metadata": {
        "id": "2QvuJprZCf7S"
      },
      "outputs": [],
      "source": [
        "blist = [9,4,6,1,2,7,8]"
      ]
    },
    {
      "cell_type": "code",
      "execution_count": 126,
      "metadata": {
        "colab": {
          "base_uri": "https://localhost:8080/"
        },
        "id": "5jY4-CU9Cf7S",
        "outputId": "e49f1bb7-3afd-441f-d905-11dde48d11d3"
      },
      "outputs": [
        {
          "output_type": "execute_result",
          "data": {
            "text/plain": [
              "[9, 4, 6, 1, 2, 7, 8]"
            ]
          },
          "metadata": {},
          "execution_count": 126
        }
      ],
      "source": [
        "blist"
      ]
    },
    {
      "cell_type": "code",
      "execution_count": 127,
      "metadata": {
        "id": "AxXfhZWCCf7S"
      },
      "outputs": [],
      "source": [
        "blist.sort()"
      ]
    },
    {
      "cell_type": "code",
      "execution_count": 128,
      "metadata": {
        "colab": {
          "base_uri": "https://localhost:8080/"
        },
        "id": "9l8Y9DAwCf7S",
        "outputId": "489e3b0f-0ac6-412d-bafe-54d842356d1f"
      },
      "outputs": [
        {
          "output_type": "stream",
          "name": "stdout",
          "text": [
            "[1, 2, 4, 6, 7, 8, 9]\n"
          ]
        }
      ],
      "source": [
        "print(blist)"
      ]
    },
    {
      "cell_type": "code",
      "execution_count": 129,
      "metadata": {
        "id": "Ih9eIF8ACf7S"
      },
      "outputs": [],
      "source": [
        "blist.sort(reverse=True)"
      ]
    },
    {
      "cell_type": "code",
      "execution_count": 130,
      "metadata": {
        "colab": {
          "base_uri": "https://localhost:8080/"
        },
        "id": "1tujYkRtCf7T",
        "outputId": "095d0e87-2fb1-4638-a44c-237c180426a9"
      },
      "outputs": [
        {
          "output_type": "execute_result",
          "data": {
            "text/plain": [
              "[9, 8, 7, 6, 4, 2, 1]"
            ]
          },
          "metadata": {},
          "execution_count": 130
        }
      ],
      "source": [
        "blist"
      ]
    },
    {
      "cell_type": "code",
      "execution_count": 131,
      "metadata": {
        "id": "7JyrJ0XeCf7T"
      },
      "outputs": [],
      "source": [
        "m = max(blist)\n",
        "mI = blist.index(m)"
      ]
    },
    {
      "cell_type": "code",
      "execution_count": 134,
      "metadata": {
        "colab": {
          "base_uri": "https://localhost:8080/"
        },
        "id": "MvBYZM14Cf7T",
        "outputId": "a18d49ce-b0b4-4523-ecc4-70b4ffaa7eef"
      },
      "outputs": [
        {
          "output_type": "stream",
          "name": "stdout",
          "text": [
            "0\n",
            "9\n"
          ]
        }
      ],
      "source": [
        "print(mI)\n",
        "print(m)"
      ]
    },
    {
      "cell_type": "code",
      "execution_count": 133,
      "metadata": {
        "colab": {
          "base_uri": "https://localhost:8080/"
        },
        "id": "7Oqub2BiCf7T",
        "outputId": "99a6950a-f882-42a3-eb2b-c763d446c241"
      },
      "outputs": [
        {
          "output_type": "execute_result",
          "data": {
            "text/plain": [
              "1"
            ]
          },
          "metadata": {},
          "execution_count": 133
        }
      ],
      "source": [
        "min(blist)"
      ]
    },
    {
      "cell_type": "code",
      "execution_count": 138,
      "metadata": {
        "colab": {
          "base_uri": "https://localhost:8080/"
        },
        "id": "W0QyBinxCf7T",
        "outputId": "b54ee16c-ad0e-4296-ab45-7ce2634bd1d0"
      },
      "outputs": [
        {
          "output_type": "stream",
          "name": "stdout",
          "text": [
            "0\n"
          ]
        }
      ],
      "source": [
        "print(blist.count(3))"
      ]
    },
    {
      "cell_type": "markdown",
      "metadata": {
        "id": "SBM1q3ZwCf7T"
      },
      "source": [
        "## 8.14 List applications\n",
        "\n",
        "### convert a string to list of integers"
      ]
    },
    {
      "cell_type": "code",
      "execution_count": 139,
      "metadata": {
        "colab": {
          "base_uri": "https://localhost:8080/"
        },
        "id": "A5mp9k3NCf7T",
        "outputId": "125f0e88-1062-4de2-e039-163678addcf1"
      },
      "outputs": [
        {
          "name": "stdout",
          "output_type": "stream",
          "text": [
            "Enter 5 numbers separated by space: 5 8 7 2 4\n"
          ]
        }
      ],
      "source": [
        "nums = input('Enter 5 numbers separated by space: ')"
      ]
    },
    {
      "cell_type": "code",
      "execution_count": 140,
      "metadata": {
        "colab": {
          "base_uri": "https://localhost:8080/",
          "height": 36
        },
        "id": "OajYDKw9Cf7T",
        "outputId": "e6bcf07a-64c2-44bc-a3ac-85b5ebb09cf3"
      },
      "outputs": [
        {
          "output_type": "execute_result",
          "data": {
            "text/plain": [
              "'5 8 7 2 4'"
            ],
            "application/vnd.google.colaboratory.intrinsic+json": {
              "type": "string"
            }
          },
          "metadata": {},
          "execution_count": 140
        }
      ],
      "source": [
        "nums"
      ]
    },
    {
      "cell_type": "code",
      "execution_count": 141,
      "metadata": {
        "id": "ziv-tT-tCf7T"
      },
      "outputs": [],
      "source": [
        "nums = nums.split(' ')"
      ]
    },
    {
      "cell_type": "code",
      "execution_count": 142,
      "metadata": {
        "colab": {
          "base_uri": "https://localhost:8080/"
        },
        "id": "RxkJM1rQCf7T",
        "outputId": "35add185-8c11-46b2-c68d-632e7d0c3d22"
      },
      "outputs": [
        {
          "output_type": "execute_result",
          "data": {
            "text/plain": [
              "['5', '8', '7', '2', '4']"
            ]
          },
          "metadata": {},
          "execution_count": 142
        }
      ],
      "source": [
        "nums"
      ]
    },
    {
      "cell_type": "code",
      "execution_count": 143,
      "metadata": {
        "id": "WMQZsJKWCf7T"
      },
      "outputs": [],
      "source": [
        "intNums = []\n",
        "for n in nums:\n",
        "    intN = int(n)\n",
        "    intNums.append(intN)"
      ]
    },
    {
      "cell_type": "code",
      "execution_count": 144,
      "metadata": {
        "colab": {
          "base_uri": "https://localhost:8080/"
        },
        "id": "PK3ddAllCf7U",
        "outputId": "eeeaa7cb-0157-4647-cd8f-8ba9da72649c"
      },
      "outputs": [
        {
          "output_type": "execute_result",
          "data": {
            "text/plain": [
              "[5, 8, 7, 2, 4]"
            ]
          },
          "metadata": {},
          "execution_count": 144
        }
      ],
      "source": [
        "intNums"
      ]
    },
    {
      "cell_type": "code",
      "execution_count": 145,
      "metadata": {
        "id": "SIKL5EVaCf7U"
      },
      "outputs": [],
      "source": [
        "intNums.sort()"
      ]
    },
    {
      "cell_type": "code",
      "execution_count": 146,
      "metadata": {
        "colab": {
          "base_uri": "https://localhost:8080/"
        },
        "id": "T1kuWow6Cf7U",
        "outputId": "905dc12b-ee29-4443-ba7f-ce84bb06bd5d"
      },
      "outputs": [
        {
          "output_type": "execute_result",
          "data": {
            "text/plain": [
              "[2, 4, 5, 7, 8]"
            ]
          },
          "metadata": {},
          "execution_count": 146
        }
      ],
      "source": [
        "intNums"
      ]
    },
    {
      "cell_type": "markdown",
      "metadata": {
        "id": "satXUSi-Cf7U"
      },
      "source": [
        "### convert list of integers to string"
      ]
    },
    {
      "cell_type": "code",
      "execution_count": 147,
      "metadata": {
        "id": "VzUF_HJECf7U"
      },
      "outputs": [],
      "source": [
        "strNum = []\n",
        "for n in intNums:\n",
        "    strNum.append(str(n))"
      ]
    },
    {
      "cell_type": "code",
      "execution_count": 148,
      "metadata": {
        "colab": {
          "base_uri": "https://localhost:8080/"
        },
        "id": "JQ6WGZTTCf7U",
        "outputId": "82383fca-2aa7-4599-ee21-b0d8367c581d"
      },
      "outputs": [
        {
          "output_type": "execute_result",
          "data": {
            "text/plain": [
              "['2', '4', '5', '7', '8']"
            ]
          },
          "metadata": {},
          "execution_count": 148
        }
      ],
      "source": [
        "strNum"
      ]
    },
    {
      "cell_type": "code",
      "execution_count": 149,
      "metadata": {
        "id": "oIHTUvvaCf7U"
      },
      "outputs": [],
      "source": [
        "strNum = ' '.join(strNum)"
      ]
    },
    {
      "cell_type": "code",
      "execution_count": 150,
      "metadata": {
        "colab": {
          "base_uri": "https://localhost:8080/",
          "height": 36
        },
        "id": "HSlNfrtmCf7U",
        "outputId": "1bb21eff-c145-42fe-eb64-2664d594a415"
      },
      "outputs": [
        {
          "output_type": "execute_result",
          "data": {
            "text/plain": [
              "'2 4 5 7 8'"
            ],
            "application/vnd.google.colaboratory.intrinsic+json": {
              "type": "string"
            }
          },
          "metadata": {},
          "execution_count": 150
        }
      ],
      "source": [
        "strNum"
      ]
    },
    {
      "cell_type": "markdown",
      "metadata": {
        "id": "WOJ9UqXpCf7U"
      },
      "source": [
        "## 8.15 Pasar lista a función - pasar por referencia\n",
        "- los tipos mutables, como la lista, se pasan por referencia\n",
        "- se pasa un alias o referencia en lugar de una copia de los datos## 8.15 Pasar lista a función - pasar por referencia\n",
        "- los tipos mutables, como la lista, se pasan por referencia\n",
        "- se pasa un alias o referencia en lugar de una copia de los datos"
      ]
    },
    {
      "cell_type": "code",
      "execution_count": 151,
      "metadata": {
        "id": "zT0lcxbNCf7U"
      },
      "outputs": [],
      "source": [
        "def getData(someList):# someList is formal parameter\n",
        "    for i in range(5):\n",
        "        a = int(input('enter a number: '))\n",
        "        someList.append(a)"
      ]
    },
    {
      "cell_type": "code",
      "execution_count": 152,
      "metadata": {
        "colab": {
          "base_uri": "https://localhost:8080/"
        },
        "id": "sZ8AWiqSCf7V",
        "outputId": "f783f5a7-c9f2-462f-9db0-0cb6c78b010f"
      },
      "outputs": [
        {
          "name": "stdout",
          "output_type": "stream",
          "text": [
            "enter a number: 5\n",
            "enter a number: 6\n",
            "enter a number: 7\n",
            "enter a number: 5\n",
            "enter a number: 9\n"
          ]
        }
      ],
      "source": [
        "alist = []\n",
        "getData(alist) # alist is actual argument"
      ]
    },
    {
      "cell_type": "code",
      "execution_count": 153,
      "metadata": {
        "colab": {
          "base_uri": "https://localhost:8080/"
        },
        "id": "xHe2Ti99Cf7V",
        "outputId": "348c4116-e9b4-4bc7-ec3c-af040c27fe84"
      },
      "outputs": [
        {
          "output_type": "execute_result",
          "data": {
            "text/plain": [
              "[5, 6, 7, 5, 9]"
            ]
          },
          "metadata": {},
          "execution_count": 153
        }
      ],
      "source": [
        "# when formal parameter is updated, actual parameter is also updated\n",
        "alist"
      ]
    },
    {
      "cell_type": "markdown",
      "metadata": {
        "id": "gJopvbbrCf7V"
      },
      "source": [
        "### [visualize - pass-by-reference with pythontutor.com](http://pythontutor.com/visualize.html#code=def%20getData%28someList%29%3A%23%20someList%20is%20formal%20parameter%0A%20%20%20%20for%20i%20in%20range%285%29%3A%0A%20%20%20%20%20%20%20%20a%20%3D%20int%28input%28'enter%20a%20number%3A%20'%29%29%0A%20%20%20%20%20%20%20%20someList.append%28a%29%0A%0Aalist%20%3D%20%5B%5D%0AgetData%28alist%29%20%23%20alist%20is%20actual%20argument&cumulative=false&curInstr=0&heapPrimitives=false&mode=display&origin=opt-frontend.js&py=3&rawInputLstJSON=%5B%5D&textReferences=false)"
      ]
    },
    {
      "cell_type": "markdown",
      "metadata": {
        "id": "wcstMLOcCf7V"
      },
      "source": [
        "## 8.16 lista de retorno de funciones\n",
        "- las listas se pueden devolver desde las funciones"
      ]
    },
    {
      "cell_type": "code",
      "execution_count": 154,
      "metadata": {
        "id": "LY1D9sWqCf7V"
      },
      "outputs": [],
      "source": [
        "def getMaxMin(alist):\n",
        "    m = max(alist)\n",
        "    minVal = min(alist)\n",
        "    return [m, minVal]\n"
      ]
    },
    {
      "cell_type": "code",
      "execution_count": 155,
      "metadata": {
        "colab": {
          "base_uri": "https://localhost:8080/"
        },
        "id": "2Q3g0qiNCf7W",
        "outputId": "d6ffae92-2ba5-4a46-a9a2-ce89fc67cac6"
      },
      "outputs": [
        {
          "output_type": "stream",
          "name": "stdout",
          "text": [
            "[1999999, -1000]\n"
          ]
        }
      ],
      "source": [
        "alist = list(range(-1000, 2000000))\n",
        "print(getMaxMin(alist))"
      ]
    },
    {
      "cell_type": "code",
      "execution_count": 156,
      "metadata": {
        "id": "fQy8wNBoCf7X"
      },
      "outputs": [],
      "source": [
        "assert getMaxMin(alist) == [1999999, -1000]"
      ]
    },
    {
      "cell_type": "markdown",
      "metadata": {
        "id": "iFdR4EqSCf7X"
      },
      "source": [
        "## 8.17 Casting lista en tupla y viceversa\n",
        "- dado que las tuplas son inmutables, puede ser beneficioso convertirlas en listas y actualizarlas\n",
        "- puede volver a convertir la lista a tupla nuevamente"
      ]
    },
    {
      "cell_type": "code",
      "execution_count": 157,
      "metadata": {
        "colab": {
          "base_uri": "https://localhost:8080/"
        },
        "id": "qmxR-7e7Cf7X",
        "outputId": "578f9d86-a8cd-4769-f139-5165ad06f20d"
      },
      "outputs": [
        {
          "output_type": "stream",
          "name": "stdout",
          "text": [
            "[1, 2, 3]\n"
          ]
        }
      ],
      "source": [
        "atuple = (1, 2, 3)\n",
        "alist = list(atuple)\n",
        "print(alist)"
      ]
    },
    {
      "cell_type": "code",
      "execution_count": 158,
      "metadata": {
        "id": "UcMsBvPPCf7X"
      },
      "outputs": [],
      "source": [
        "btuple = tuple(alist)"
      ]
    },
    {
      "cell_type": "code",
      "execution_count": 159,
      "metadata": {
        "colab": {
          "base_uri": "https://localhost:8080/"
        },
        "id": "WhEYBVPCCf7X",
        "outputId": "85ec39d0-cc73-480e-faca-3d784aa6b1cd"
      },
      "outputs": [
        {
          "output_type": "stream",
          "name": "stdout",
          "text": [
            "(1, 2, 3)\n"
          ]
        }
      ],
      "source": [
        "print(btuple)"
      ]
    },
    {
      "cell_type": "code",
      "execution_count": 160,
      "metadata": {
        "colab": {
          "base_uri": "https://localhost:8080/"
        },
        "id": "boV-1Ic1Cf7X",
        "outputId": "0d29b0f0-18c3-46b7-862d-0ba712553445"
      },
      "outputs": [
        {
          "output_type": "execute_result",
          "data": {
            "text/plain": [
              "True"
            ]
          },
          "metadata": {},
          "execution_count": 160
        }
      ],
      "source": [
        "atuple == btuple"
      ]
    },
    {
      "cell_type": "code",
      "execution_count": 161,
      "metadata": {
        "colab": {
          "base_uri": "https://localhost:8080/"
        },
        "id": "wX8cupQMCf7X",
        "outputId": "23336a71-35cd-417a-b4a1-158756d49e36"
      },
      "outputs": [
        {
          "output_type": "stream",
          "name": "stdout",
          "text": [
            "(1, 2, 3) [1, 2, 3]\n",
            "False\n"
          ]
        }
      ],
      "source": [
        "# aunque los elementos sean iguales; los tipos de dos objetos no son\n",
        "print(atuple, alist)\n",
        "print(atuple == alist)"
      ]
    },
    {
      "cell_type": "markdown",
      "metadata": {
        "id": "4DirOosUCf7X"
      },
      "source": [
        "## 8.18 Exercises\n",
        "1. Realiza un programa que calcula la suma de todos los elementos de una lista\n",
        "\n"
      ]
    },
    {
      "cell_type": "code",
      "source": [
        "lista = [5, 10]\n",
        "suma = 0\n",
        "\n",
        "for n in lista:\n",
        "  suma +=n\n",
        "\n",
        "print(\"La suma de los elementos de la lista es:\", suma)"
      ],
      "metadata": {
        "colab": {
          "base_uri": "https://localhost:8080/"
        },
        "id": "uDEhLMHBKWIs",
        "outputId": "c5cde931-4294-458d-b4e6-bcde117cdd94"
      },
      "execution_count": 168,
      "outputs": [
        {
          "output_type": "stream",
          "name": "stdout",
          "text": [
            "La suma de los elementos de la lista es: 15\n"
          ]
        }
      ]
    },
    {
      "cell_type": "markdown",
      "source": [
        "2. Realiza un programa que encuentra el número máximo en una lista de números\n",
        "\n"
      ],
      "metadata": {
        "id": "eWxsD0bOKgZN"
      }
    },
    {
      "cell_type": "code",
      "source": [
        "lista = [17, 12, 25, 8, 31, 19]\n",
        "\n",
        "maximo = max(lista)\n",
        "print(\"El número máximo en la lista es:\", maximo)"
      ],
      "metadata": {
        "colab": {
          "base_uri": "https://localhost:8080/"
        },
        "id": "7wWGB7q9KaIT",
        "outputId": "934d542d-a3c8-4aa5-b7af-cfa4c12c7615"
      },
      "execution_count": 170,
      "outputs": [
        {
          "output_type": "stream",
          "name": "stdout",
          "text": [
            "El número máximo en la lista es: 31\n"
          ]
        }
      ]
    }
  ],
  "metadata": {
    "kernelspec": {
      "display_name": "Python 3",
      "language": "python",
      "name": "python3"
    },
    "language_info": {
      "codemirror_mode": {
        "name": "ipython",
        "version": 3
      },
      "file_extension": ".py",
      "mimetype": "text/x-python",
      "name": "python",
      "nbconvert_exporter": "python",
      "pygments_lexer": "ipython3",
      "version": "3.7.3"
    },
    "colab": {
      "provenance": [],
      "include_colab_link": true
    }
  },
  "nbformat": 4,
  "nbformat_minor": 0
}