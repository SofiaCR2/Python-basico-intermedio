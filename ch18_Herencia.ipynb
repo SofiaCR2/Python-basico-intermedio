{
  "cells": [
    {
      "cell_type": "markdown",
      "metadata": {
        "id": "view-in-github",
        "colab_type": "text"
      },
      "source": [
        "<a href=\"https://colab.research.google.com/github/SofiaCR2/Python-basico-intermedio/blob/main/ch18_Herencia.ipynb\" target=\"_parent\"><img src=\"https://colab.research.google.com/assets/colab-badge.svg\" alt=\"Open In Colab\"/></a>"
      ]
    },
    {
      "cell_type": "markdown",
      "metadata": {
        "id": "BWZ4Ob1CmocK"
      },
      "source": [
        "# Herencia\n",
        "- http://openbookproject.net/thinkcs/python/english3e/inheritance.html\n",
        "- https://www.python-course.eu/python3_inheritance.php\n",
        "\n",
        "- función poderosa que facilita la reutilización de código imitando fenómenos del mundo real\n",
        "- capacidad para definir una nueva clase (hijo) que es una versión modificada de una clase existente (padre)\n",
        "- puede agregar nuevos métodos y propiedades a una clase sin modificar la clase existente\n",
        "- algunas imitaciones en caso de herencia:\n",
        "    - puede hacer que los programas sean difíciles de leer\n",
        "    - cuando se invoca el método, a veces no está claro dónde encontrar su definición, especialmente. en un proyecto grande, el código relevante puede estar disperso entre varios módulos\n",
        "- ver mejor ejemplo (una mano de cartas) en el texto\n",
        "- syntax:\n",
        "```\n",
        "class childClassName(parentClass1, baseClass2, ...):\n",
        "    #code (attributes and methods)\n",
        "    pass\n",
        "```"
      ]
    },
    {
      "cell_type": "markdown",
      "metadata": {
        "id": "6jV8pc1EmocV"
      },
      "source": [
        "## Herencia única\n",
        "- compatible con casi todos los leguajes OOP"
      ]
    },
    {
      "cell_type": "code",
      "execution_count": 1,
      "metadata": {
        "id": "G2a7xmnYmocX"
      },
      "outputs": [],
      "source": [
        "# by dafault all python class implicitly inherit from object base class\n",
        "class A(object):\n",
        "    def __init__(self):\n",
        "        self.a = \"A\"\n",
        "\n",
        "    def printMe(self):\n",
        "        print(\"A's printMe called!\")\n",
        "        print('a = {}'.format(self.a))\n",
        "\n",
        "    def sayHi(self):\n",
        "        print('{} says HI!'.format(self.a))"
      ]
    },
    {
      "cell_type": "code",
      "execution_count": 2,
      "metadata": {
        "id": "Xs5gpPmpmocb",
        "outputId": "6f40b5c8-98a3-4101-896d-baab0e5851c9",
        "colab": {
          "base_uri": "https://localhost:8080/"
        }
      },
      "outputs": [
        {
          "output_type": "stream",
          "name": "stdout",
          "text": [
            "A's printMe called!\n",
            "a = A\n",
            "A says HI!\n"
          ]
        }
      ],
      "source": [
        "obja = A()\n",
        "obja.printMe()\n",
        "obja.sayHi()"
      ]
    },
    {
      "cell_type": "code",
      "execution_count": 3,
      "metadata": {
        "id": "Dxgi5BPzmocd"
      },
      "outputs": [],
      "source": [
        "# single inheritance\n",
        "class B(A):\n",
        "    def __init__(self):\n",
        "        # must explictly invoke base classes constructors\n",
        "        # to inherit properties/attributes\n",
        "        A.__init__(self) # try commenting this out\n",
        "        self.b = 'B'\n",
        "\n",
        "    def update(self):\n",
        "        print(\"Attributes before modifaction: {} and {}\".format(self.a, self.b))\n",
        "        self.a = 'AAA' #can modify inherited attributes\n",
        "        print(\"Attributes after modification: {} and {}\".format(self.a, self.b))\n",
        "\n",
        "    # overrides inherited printMe\n",
        "    def printMe(self):\n",
        "        print(\"B's printMe called\")\n",
        "        print('a = {}'.format(self.a))"
      ]
    },
    {
      "cell_type": "code",
      "execution_count": 4,
      "metadata": {
        "id": "D8j0Ed3vmocf",
        "outputId": "faa2325e-ce91-4ff5-96bd-7483de0d019c",
        "colab": {
          "base_uri": "https://localhost:8080/"
        }
      },
      "outputs": [
        {
          "output_type": "stream",
          "name": "stdout",
          "text": [
            "Attributes before modifaction: A and B\n",
            "Attributes after modification: AAA and B\n"
          ]
        }
      ],
      "source": [
        "objb = B()\n",
        "# shows that A's properties are inherited by B\n",
        "objb.update()"
      ]
    },
    {
      "cell_type": "code",
      "execution_count": 5,
      "metadata": {
        "id": "lgDwg65umocg",
        "outputId": "b556f502-8538-4467-c118-d8c3dfb25fb8",
        "colab": {
          "base_uri": "https://localhost:8080/"
        }
      },
      "outputs": [
        {
          "output_type": "stream",
          "name": "stdout",
          "text": [
            "obja's property a = A\n",
            "objb's property a = AAA\n"
          ]
        }
      ],
      "source": [
        "# object a's properties are independent from object b's properties\n",
        "print(\"obja's property a = {}\".format(obja.a))\n",
        "print(\"objb's property a = {}\".format(objb.a))"
      ]
    },
    {
      "cell_type": "code",
      "execution_count": null,
      "metadata": {
        "id": "jKehUg_Lmoci",
        "outputId": "93796237-eb6d-40bc-9ad7-ed3491b99147"
      },
      "outputs": [
        {
          "name": "stdout",
          "output_type": "stream",
          "text": [
            "AAA says HI!\n"
          ]
        }
      ],
      "source": [
        "# B inherits A's sayHi()\n",
        "# what is the output of the following?\n",
        "objb.sayHi()"
      ]
    },
    {
      "cell_type": "markdown",
      "metadata": {
        "id": "gJC0g8j1mocj"
      },
      "source": [
        "## Anulando\n",
        "- la clase secundaria puede redefinir el método que se hereda de la clase principal con el mismo nombre\n",
        "- por ejemplo, el método printMe() en la clase B anula el método printMe de A\n",
        "- El printme de A todavía se puede llamar\n",
        "    - syntax\n",
        "    ```\n",
        "    ClassName.method(object)\n",
        "    ```"
      ]
    },
    {
      "cell_type": "code",
      "execution_count": 6,
      "metadata": {
        "id": "Slc9spd-mock",
        "outputId": "9a99e05f-78ea-484d-ba81-d49ceb6af6be",
        "colab": {
          "base_uri": "https://localhost:8080/"
        }
      },
      "outputs": [
        {
          "output_type": "stream",
          "name": "stdout",
          "text": [
            "B's printMe called\n",
            "a = AAA\n"
          ]
        }
      ],
      "source": [
        "objb.printMe()"
      ]
    },
    {
      "cell_type": "code",
      "execution_count": 7,
      "metadata": {
        "id": "eWoCOQJ_mocm",
        "outputId": "c18a1a71-6469-42c3-cc80-3615afe2056d",
        "colab": {
          "base_uri": "https://localhost:8080/"
        }
      },
      "outputs": [
        {
          "output_type": "stream",
          "name": "stdout",
          "text": [
            "A's printMe called!\n",
            "a = A\n"
          ]
        }
      ],
      "source": [
        "A.printMe(obja)"
      ]
    },
    {
      "cell_type": "code",
      "execution_count": 8,
      "metadata": {
        "id": "apxvr1MPmoco",
        "outputId": "5355044d-c598-4114-82c8-9e324ce0a76d",
        "colab": {
          "base_uri": "https://localhost:8080/"
        }
      },
      "outputs": [
        {
          "output_type": "stream",
          "name": "stdout",
          "text": [
            "A's printMe called!\n",
            "a = AAA\n"
          ]
        }
      ],
      "source": [
        "A.printMe(objb)"
      ]
    },
    {
      "cell_type": "code",
      "execution_count": 9,
      "metadata": {
        "id": "JvBbkXvYmocp"
      },
      "outputs": [],
      "source": [
        "# C inherits from B which inherits from A\n",
        "class C(B):\n",
        "    def __init__(self):\n",
        "        B.__init__(self)\n",
        "        self.c = 'C'\n",
        "\n",
        "    def printMe(self):\n",
        "        print(\"C's printMe called:\")\n",
        "        print(\"Attributes are {}, {}, {}\".format(self.c, self.b, self.a))\n"
      ]
    },
    {
      "cell_type": "code",
      "execution_count": 10,
      "metadata": {
        "id": "fQe8lUXRmocp",
        "outputId": "3f8c15c5-d6a1-4d90-9eac-fd77684ab34f",
        "colab": {
          "base_uri": "https://localhost:8080/"
        }
      },
      "outputs": [
        {
          "output_type": "stream",
          "name": "stdout",
          "text": [
            "C's printMe called:\n",
            "Attributes are C, B, A\n"
          ]
        }
      ],
      "source": [
        "c1 = C()\n",
        "c1.printMe()"
      ]
    },
    {
      "cell_type": "code",
      "execution_count": 11,
      "metadata": {
        "id": "KkVfG17gmocq",
        "outputId": "5aa74caf-8b75-4d8d-e8e8-2c754db9a4b0",
        "colab": {
          "base_uri": "https://localhost:8080/"
        }
      },
      "outputs": [
        {
          "output_type": "stream",
          "name": "stdout",
          "text": [
            "A says HI!\n"
          ]
        }
      ],
      "source": [
        "# sayHi() inherited from A\n",
        "c1.sayHi()"
      ]
    },
    {
      "cell_type": "code",
      "execution_count": 12,
      "metadata": {
        "id": "8SD7WsRAmocq",
        "outputId": "94b5aec5-9154-4763-f4e7-5ad31eb7a975",
        "colab": {
          "base_uri": "https://localhost:8080/"
        }
      },
      "outputs": [
        {
          "output_type": "stream",
          "name": "stdout",
          "text": [
            "Attributes before modifaction: A and B\n",
            "Attributes after modification: AAA and B\n"
          ]
        }
      ],
      "source": [
        "c1.update()"
      ]
    },
    {
      "cell_type": "markdown",
      "metadata": {
        "id": "5VuXu5-rmocr"
      },
      "source": [
        "## Herencia múltiple\n",
        "- Python permite que una clase derive/herede de múltiples clases base\n",
        "    - similar a C++\n",
        "- Java no lo permite (¡es complicado!)"
      ]
    },
    {
      "cell_type": "code",
      "execution_count": 14,
      "metadata": {
        "id": "NH2B32eqmocr"
      },
      "outputs": [],
      "source": [
        "# not required to explictly inherit from object class\n",
        "class D:\n",
        "    def __init__(self):\n",
        "        self.a = 'AAAAA'\n",
        "        self.d = 'D'\n",
        "\n",
        "    def scream(self):\n",
        "        print(\"D's scream() called:\")\n",
        "\n",
        "# class E inherits from class C and D\n",
        "class E(C, D):\n",
        "    def __init__(self):\n",
        "        # the order in which the base constructors are called matters!\n",
        "        # same attributes of proior constructors are overridden by later constructors\n",
        "        # e.g., try switching D and C's construntor calls\n",
        "        D.__init__(self)\n",
        "        C.__init__(self)\n",
        "        self.e = 'E'\n",
        "\n",
        "    def printMe(self):\n",
        "        print(\"E's printMe called:\")\n",
        "        print(\"Attributes are {}, {}, {}, {}, {}\".format(self.e, self.d, self.c, self.b, self.a))"
      ]
    },
    {
      "cell_type": "code",
      "execution_count": 15,
      "metadata": {
        "id": "4EE7ewNemocs",
        "outputId": "2f8697a9-b101-49af-8b06-4042e363c8d0",
        "colab": {
          "base_uri": "https://localhost:8080/"
        }
      },
      "outputs": [
        {
          "output_type": "stream",
          "name": "stdout",
          "text": [
            "E's printMe called:\n",
            "Attributes are E, D, C, B, A\n"
          ]
        }
      ],
      "source": [
        "e1 = E()\n",
        "e1.printMe()"
      ]
    },
    {
      "cell_type": "code",
      "execution_count": 16,
      "metadata": {
        "id": "UWwKAr4Omocs",
        "outputId": "16a0dfa4-e5d3-452c-d581-cf3ae1bfe676",
        "colab": {
          "base_uri": "https://localhost:8080/"
        }
      },
      "outputs": [
        {
          "output_type": "stream",
          "name": "stdout",
          "text": [
            "D's scream() called:\n"
          ]
        }
      ],
      "source": [
        "e1.scream()"
      ]
    },
    {
      "cell_type": "code",
      "execution_count": 17,
      "metadata": {
        "id": "btuEmv1lmoct",
        "outputId": "25f0d27a-6597-4273-dee4-7bbac419acb2",
        "colab": {
          "base_uri": "https://localhost:8080/"
        }
      },
      "outputs": [
        {
          "output_type": "stream",
          "name": "stdout",
          "text": [
            "A says HI!\n"
          ]
        }
      ],
      "source": [
        "e1.sayHi()"
      ]
    },
    {
      "cell_type": "markdown",
      "metadata": {
        "id": "sH7GaS8Nmoct"
      },
      "source": [
        "## Módulo abc - Clases base abstractas\n",
        "- permite definir ABCs con métodos abstractos @abstractmethod decoradores"
      ]
    }
  ],
  "metadata": {
    "kernelspec": {
      "display_name": "Python 3",
      "language": "python",
      "name": "python3"
    },
    "language_info": {
      "codemirror_mode": {
        "name": "ipython",
        "version": 3
      },
      "file_extension": ".py",
      "mimetype": "text/x-python",
      "name": "python",
      "nbconvert_exporter": "python",
      "pygments_lexer": "ipython3",
      "version": "3.7.3"
    },
    "colab": {
      "provenance": [],
      "include_colab_link": true
    }
  },
  "nbformat": 4,
  "nbformat_minor": 0
}