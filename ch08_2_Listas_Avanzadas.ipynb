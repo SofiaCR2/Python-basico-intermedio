{
  "nbformat": 4,
  "nbformat_minor": 0,
  "metadata": {
    "colab": {
      "provenance": [],
      "authorship_tag": "ABX9TyP0rRM8tzzuJnQfTog9Umqr",
      "include_colab_link": true
    },
    "kernelspec": {
      "name": "python3",
      "display_name": "Python 3"
    },
    "language_info": {
      "name": "python"
    }
  },
  "cells": [
    {
      "cell_type": "markdown",
      "metadata": {
        "id": "view-in-github",
        "colab_type": "text"
      },
      "source": [
        "<a href=\"https://colab.research.google.com/github/SofiaCR2/Python-basico-intermedio/blob/main/ch08_2_Listas_Avanzadas.ipynb\" target=\"_parent\"><img src=\"https://colab.research.google.com/assets/colab-badge.svg\" alt=\"Open In Colab\"/></a>"
      ]
    },
    {
      "cell_type": "markdown",
      "source": [
        "#List comprehesion\n",
        "Es una manera rápida y eficiente de ejecutar bucles y almacenar los resultados dentro de una lista"
      ],
      "metadata": {
        "id": "2H0pw3gKkOqS"
      }
    },
    {
      "cell_type": "code",
      "execution_count": null,
      "metadata": {
        "id": "mEEsYViqkEqA"
      },
      "outputs": [],
      "source": [
        "# Mi variable nueva_lista es la lista donde almacenaremos\n",
        "# el resultado de nuestro proceso\n",
        "nueva_lista = []\n",
        "\n",
        "for i in range(10):\n",
        "  nueva_lista.append(i **2)"
      ]
    },
    {
      "cell_type": "code",
      "source": [
        "print(nueva_lista)"
      ],
      "metadata": {
        "colab": {
          "base_uri": "https://localhost:8080/"
        },
        "id": "ZcPgkwmilC-a",
        "outputId": "27a658ad-2721-4363-ab0a-f535be930492"
      },
      "execution_count": null,
      "outputs": [
        {
          "output_type": "stream",
          "name": "stdout",
          "text": [
            "[0, 1, 4, 9, 16, 25, 36, 49, 64, 81]\n"
          ]
        }
      ]
    },
    {
      "cell_type": "code",
      "source": [
        "# La primer parte de un list comprehesion es el valor\n",
        "# que queremos almacenar. En este ejemplo, el vlor es igual a i ** 2\n",
        "nueva_lista = [i ** 2 for i in range(10)]"
      ],
      "metadata": {
        "id": "__XeDQmElLIp"
      },
      "execution_count": null,
      "outputs": []
    },
    {
      "cell_type": "code",
      "source": [
        "print(nueva_lista)"
      ],
      "metadata": {
        "colab": {
          "base_uri": "https://localhost:8080/"
        },
        "id": "qNb4UakdlZJP",
        "outputId": "b987138a-230e-4b47-cc0a-29c2d587150d"
      },
      "execution_count": null,
      "outputs": [
        {
          "output_type": "stream",
          "name": "stdout",
          "text": [
            "[0, 1, 4, 9, 16, 25, 36, 49, 64, 81]\n"
          ]
        }
      ]
    },
    {
      "cell_type": "code",
      "source": [
        "\n",
        "numeros_lista = [0,2,3,5,8,10,11,14]\n",
        "numeros_pares_lista = []\n",
        "\n",
        "for num in numeros_lista:\n",
        "  if num % 2 == 0 and num > 0:\n",
        "    numeros_pares_lista.append(num)"
      ],
      "metadata": {
        "id": "eIGTEfzcl6PV"
      },
      "execution_count": null,
      "outputs": []
    },
    {
      "cell_type": "code",
      "source": [
        "numeros_pares_lista"
      ],
      "metadata": {
        "colab": {
          "base_uri": "https://localhost:8080/"
        },
        "id": "zwSQkHl_mh1G",
        "outputId": "e0c3cea6-c814-4740-c3b0-53b687b1124f"
      },
      "execution_count": null,
      "outputs": [
        {
          "output_type": "execute_result",
          "data": {
            "text/plain": [
              "[2, 8, 10, 14]"
            ]
          },
          "metadata": {},
          "execution_count": 11
        }
      ]
    },
    {
      "cell_type": "code",
      "source": [
        "numeros_pares_lista = [num for num in numeros_lista if num % 2 == 0 and num > 0]"
      ],
      "metadata": {
        "id": "WRrqQZ65mkHY"
      },
      "execution_count": null,
      "outputs": []
    },
    {
      "cell_type": "code",
      "source": [
        "numeros_pares_lista"
      ],
      "metadata": {
        "colab": {
          "base_uri": "https://localhost:8080/"
        },
        "id": "pNqtc95Am1oo",
        "outputId": "5688ad5c-137c-4081-b283-09a799a56c40"
      },
      "execution_count": null,
      "outputs": [
        {
          "output_type": "execute_result",
          "data": {
            "text/plain": [
              "[0, 2, 8, 10, 14]"
            ]
          },
          "metadata": {},
          "execution_count": 13
        }
      ]
    },
    {
      "cell_type": "code",
      "source": [
        "\"Volver al futuro\".split()"
      ],
      "metadata": {
        "colab": {
          "base_uri": "https://localhost:8080/"
        },
        "id": "-Xa30aibouFX",
        "outputId": "ca8aa83e-878e-4f16-81db-f47af7fa4531"
      },
      "execution_count": null,
      "outputs": [
        {
          "output_type": "execute_result",
          "data": {
            "text/plain": [
              "['Volver', 'al', 'futuro']"
            ]
          },
          "metadata": {},
          "execution_count": 16
        }
      ]
    },
    {
      "cell_type": "code",
      "source": [
        "texto_procesado_lista = [(palabra.upper(), palabra.lower(), len(palabra))\n",
        "    for palabra in \"Volver al futuro\".split()]"
      ],
      "metadata": {
        "id": "KgTg7TatoRnN"
      },
      "execution_count": null,
      "outputs": []
    },
    {
      "cell_type": "code",
      "source": [
        "texto_procesado_lista"
      ],
      "metadata": {
        "colab": {
          "base_uri": "https://localhost:8080/"
        },
        "id": "YpZM7OlNphSd",
        "outputId": "45fb20a7-57b5-4ba0-dfa8-449d574a308b"
      },
      "execution_count": null,
      "outputs": [
        {
          "output_type": "execute_result",
          "data": {
            "text/plain": [
              "[('VOLVER', 'volver', 6), ('AL', 'al', 2), ('FUTURO', 'futuro', 6)]"
            ]
          },
          "metadata": {},
          "execution_count": 18
        }
      ]
    },
    {
      "cell_type": "code",
      "source": [
        "len(texto_procesado_lista)"
      ],
      "metadata": {
        "colab": {
          "base_uri": "https://localhost:8080/"
        },
        "id": "HV0ke-iqpjr1",
        "outputId": "cb016a13-00a2-4b54-e37b-2750accfa267"
      },
      "execution_count": null,
      "outputs": [
        {
          "output_type": "execute_result",
          "data": {
            "text/plain": [
              "3"
            ]
          },
          "metadata": {},
          "execution_count": 20
        }
      ]
    },
    {
      "cell_type": "markdown",
      "source": [
        "# Funcines lambda\n",
        "- Se utiliza la palabra reservada `lambda`\n",
        "- Son funciones escritas en una linea de codigo\n",
        "- No tienen `return` para devolver un valor\n",
        "- No tienen nombre"
      ],
      "metadata": {
        "id": "rHt9ernEpmkj"
      }
    },
    {
      "cell_type": "code",
      "source": [
        "# No recomendable hacerlo\n",
        "def func(x): return x ** 2"
      ],
      "metadata": {
        "id": "z2Kg0yb-pqRZ"
      },
      "execution_count": null,
      "outputs": []
    },
    {
      "cell_type": "code",
      "source": [
        "func(3)"
      ],
      "metadata": {
        "colab": {
          "base_uri": "https://localhost:8080/"
        },
        "id": "qohQ_zgjqH8Z",
        "outputId": "a135d223-2e3a-498f-d1cb-7f124885b57e"
      },
      "execution_count": null,
      "outputs": [
        {
          "output_type": "execute_result",
          "data": {
            "text/plain": [
              "9"
            ]
          },
          "metadata": {},
          "execution_count": 24
        }
      ]
    },
    {
      "cell_type": "code",
      "source": [
        "func_lambda = lambda x: x ** 2"
      ],
      "metadata": {
        "id": "9exh1WaQqQws"
      },
      "execution_count": null,
      "outputs": []
    },
    {
      "cell_type": "code",
      "source": [
        "print(func_lambda)"
      ],
      "metadata": {
        "colab": {
          "base_uri": "https://localhost:8080/"
        },
        "id": "5W4AyBO2qnI0",
        "outputId": "ba3e3c39-4811-42a2-86cf-a2503992f913"
      },
      "execution_count": null,
      "outputs": [
        {
          "output_type": "stream",
          "name": "stdout",
          "text": [
            "<function <lambda> at 0x796daa1bd6c0>\n"
          ]
        }
      ]
    },
    {
      "cell_type": "code",
      "source": [
        "func_lambda(4)"
      ],
      "metadata": {
        "colab": {
          "base_uri": "https://localhost:8080/"
        },
        "id": "2ZwqV09Zqx0H",
        "outputId": "1c8fd614-7925-4672-a89e-f045ca1184fd"
      },
      "execution_count": null,
      "outputs": [
        {
          "output_type": "execute_result",
          "data": {
            "text/plain": [
              "16"
            ]
          },
          "metadata": {},
          "execution_count": 28
        }
      ]
    },
    {
      "cell_type": "markdown",
      "source": [
        "#Sorted"
      ],
      "metadata": {
        "id": "PyX-Pp8otX4l"
      }
    },
    {
      "cell_type": "code",
      "source": [
        "mi_lista = [\"Apple\", \"apple\", \"ball\", \"Ball\", \"cat\"]\n",
        "mi_lista"
      ],
      "metadata": {
        "colab": {
          "base_uri": "https://localhost:8080/"
        },
        "id": "hNUgY9EvtXLz",
        "outputId": "a16400bb-f5ab-4dd8-da0d-1db42f903326"
      },
      "execution_count": null,
      "outputs": [
        {
          "output_type": "execute_result",
          "data": {
            "text/plain": [
              "['Apple', 'apple', 'ball', 'Ball', 'cat']"
            ]
          },
          "metadata": {},
          "execution_count": 29
        }
      ]
    },
    {
      "cell_type": "code",
      "source": [
        "sorted(mi_lista)"
      ],
      "metadata": {
        "colab": {
          "base_uri": "https://localhost:8080/"
        },
        "id": "IodLAur3tlHz",
        "outputId": "bcd9c73b-90a6-42fd-c82d-c9f617e658ce"
      },
      "execution_count": null,
      "outputs": [
        {
          "output_type": "execute_result",
          "data": {
            "text/plain": [
              "['Apple', 'Ball', 'apple', 'ball', 'cat']"
            ]
          },
          "metadata": {},
          "execution_count": 30
        }
      ]
    },
    {
      "cell_type": "code",
      "source": [
        "sorted(mi_lista, key=lambda x: x.lower())"
      ],
      "metadata": {
        "colab": {
          "base_uri": "https://localhost:8080/"
        },
        "id": "s9anbeihtnHE",
        "outputId": "e77a86fa-89aa-4b70-f947-83ea25e3fc80"
      },
      "execution_count": null,
      "outputs": [
        {
          "output_type": "execute_result",
          "data": {
            "text/plain": [
              "['Apple', 'apple', 'ball', 'Ball', 'cat']"
            ]
          },
          "metadata": {},
          "execution_count": 31
        }
      ]
    },
    {
      "cell_type": "markdown",
      "source": [
        "# Filter\n",
        "Nos regresa una nueva lista, que contiene cada elemento en que una funcion regresa `TRUE`\n",
        "\n",
        "NOTA: iterator protocol está compuesto por `__iter__()` y `__next__()`"
      ],
      "metadata": {
        "id": "Las2spXAt_jU"
      }
    },
    {
      "cell_type": "code",
      "source": [
        "help(filter)"
      ],
      "metadata": {
        "id": "Cs6tEwpTt-lS"
      },
      "execution_count": null,
      "outputs": []
    },
    {
      "cell_type": "code",
      "source": [
        "numeros_lista = [2, 18, 9, 22, 17, 24, 8, 12, 27]"
      ],
      "metadata": {
        "id": "2wJhGIh9uuF9"
      },
      "execution_count": null,
      "outputs": []
    },
    {
      "cell_type": "code",
      "source": [
        "# filter regresa un iterador\n",
        "list(filter(lambda numero: numero % 3 == 0, numeros_lista))"
      ],
      "metadata": {
        "colab": {
          "base_uri": "https://localhost:8080/"
        },
        "id": "jc-VgVlGvAFX",
        "outputId": "a3a13b13-7b2c-41cb-c17e-1c8f2c8d0f1f"
      },
      "execution_count": null,
      "outputs": [
        {
          "output_type": "execute_result",
          "data": {
            "text/plain": [
              "[18, 9, 24, 12, 27]"
            ]
          },
          "metadata": {},
          "execution_count": 35
        }
      ]
    },
    {
      "cell_type": "markdown",
      "source": [
        "#map\n",
        "Regresa un iterador que aplica una funcion sobre cada elemento de una lista"
      ],
      "metadata": {
        "id": "6_DOcorzwrZT"
      }
    },
    {
      "cell_type": "code",
      "source": [
        "numeros_lista = list(range(1, 11))\n",
        "numeros_lista"
      ],
      "metadata": {
        "colab": {
          "base_uri": "https://localhost:8080/"
        },
        "id": "zASiy_2ewpB4",
        "outputId": "a038fcf2-c5dd-48b5-9fc9-e48f74a3dd6b"
      },
      "execution_count": null,
      "outputs": [
        {
          "output_type": "execute_result",
          "data": {
            "text/plain": [
              "[1, 2, 3, 4, 5, 6, 7, 8, 9, 10]"
            ]
          },
          "metadata": {},
          "execution_count": 36
        }
      ]
    },
    {
      "cell_type": "code",
      "source": [
        "''' cuadrados_lista = []\n",
        "for numero in numeros_lista:\n",
        "  cuadrado = numero ** 2\n",
        "  cuadrados_lista.append(cuadrado) '''"
      ],
      "metadata": {
        "id": "_TLXgHtUxKOH"
      },
      "execution_count": null,
      "outputs": []
    },
    {
      "cell_type": "code",
      "source": [
        "list(map(lambda numero: numero ** 2, numeros_lista))"
      ],
      "metadata": {
        "colab": {
          "base_uri": "https://localhost:8080/"
        },
        "id": "rHvWxV07xKdb",
        "outputId": "0fb5cc45-e940-4729-f999-35eb6e68b9ae"
      },
      "execution_count": null,
      "outputs": [
        {
          "output_type": "execute_result",
          "data": {
            "text/plain": [
              "[1, 4, 9, 16, 25, 36, 49, 64, 81, 100]"
            ]
          },
          "metadata": {},
          "execution_count": 37
        }
      ]
    },
    {
      "cell_type": "code",
      "source": [
        "texto = \"Volver al futuro\"\n",
        "# p = palabra\n",
        "list(map(lambda p: (p.upper(), p.lower(), len(p)), texto.split()))\n",
        "\n",
        "#usando list comprehesion quedaria como:\n",
        "#texto_procesado_lista = [(palabra.upper(), palabra.lower(), len(palabra))\n",
        "#    for palabra in \"Volver al futuro\".split()]"
      ],
      "metadata": {
        "colab": {
          "base_uri": "https://localhost:8080/"
        },
        "id": "e28gpCb1xqtj",
        "outputId": "5735cb96-5115-4e30-8ca7-7db0eb2e0263"
      },
      "execution_count": 7,
      "outputs": [
        {
          "output_type": "execute_result",
          "data": {
            "text/plain": [
              "[('VOLVER', 'volver', 6), ('AL', 'al', 2), ('FUTURO', 'futuro', 6)]"
            ]
          },
          "metadata": {},
          "execution_count": 7
        }
      ]
    },
    {
      "cell_type": "markdown",
      "source": [
        "#reduce\n",
        "- Hay que importarla del modulo functools\n",
        "- Reducir una lista de valores a un solo valor"
      ],
      "metadata": {
        "id": "n7cRFTaDzL7r"
      }
    },
    {
      "cell_type": "code",
      "source": [
        "from functools import reduce\n",
        "help(reduce)"
      ],
      "metadata": {
        "colab": {
          "base_uri": "https://localhost:8080/"
        },
        "id": "yIpCGleyzgaG",
        "outputId": "481a0ef2-d000-4bcb-f64c-5385e3306a5b"
      },
      "execution_count": null,
      "outputs": [
        {
          "output_type": "stream",
          "name": "stdout",
          "text": [
            "Help on built-in function reduce in module _functools:\n",
            "\n",
            "reduce(...)\n",
            "    reduce(function, iterable[, initial]) -> value\n",
            "    \n",
            "    Apply a function of two arguments cumulatively to the items of a sequence\n",
            "    or iterable, from left to right, so as to reduce the iterable to a single\n",
            "    value.  For example, reduce(lambda x, y: x+y, [1, 2, 3, 4, 5]) calculates\n",
            "    ((((1+2)+3)+4)+5).  If initial is present, it is placed before the items\n",
            "    of the iterable in the calculation, and serves as a default when the\n",
            "    iterable is empty.\n",
            "\n"
          ]
        }
      ]
    },
    {
      "cell_type": "code",
      "source": [
        "from functools import reduce\n",
        "\n",
        "def sum(a,b):\n",
        "  print(f\"a={a}, b={b}, {a} + {b} = {a + b}\")\n",
        "  return a + b\n",
        "\n",
        "score = [75, 65, 80, 95, 50]\n",
        "total = reduce(sum, score)\n",
        "print(total)"
      ],
      "metadata": {
        "colab": {
          "base_uri": "https://localhost:8080/"
        },
        "id": "k7-M1uWo0s-r",
        "outputId": "c92f452b-40a5-4d46-ce0c-7ecf50b58493"
      },
      "execution_count": null,
      "outputs": [
        {
          "output_type": "stream",
          "name": "stdout",
          "text": [
            "a=75, b=65, 75 + 65 = 140\n",
            "a=140, b=80, 140 + 80 = 220\n",
            "a=220, b=95, 220 + 95 = 315\n",
            "a=315, b=50, 315 + 50 = 365\n",
            "365\n"
          ]
        }
      ]
    },
    {
      "cell_type": "code",
      "source": [
        "reduce(lambda a, b: a + b, score)"
      ],
      "metadata": {
        "colab": {
          "base_uri": "https://localhost:8080/"
        },
        "id": "gISXHTdz1O56",
        "outputId": "79ffc01d-e2c5-46b5-bd1f-3dd13ab7f995"
      },
      "execution_count": null,
      "outputs": [
        {
          "output_type": "execute_result",
          "data": {
            "text/plain": [
              "365"
            ]
          },
          "metadata": {},
          "execution_count": 44
        }
      ]
    }
  ]
}