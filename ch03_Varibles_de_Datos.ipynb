{
  "nbformat": 4,
  "nbformat_minor": 0,
  "metadata": {
    "colab": {
      "provenance": [],
      "authorship_tag": "ABX9TyNys++WInezwesXcDDnrtUh",
      "include_colab_link": true
    },
    "kernelspec": {
      "name": "python3",
      "display_name": "Python 3"
    },
    "language_info": {
      "name": "python"
    }
  },
  "cells": [
    {
      "cell_type": "markdown",
      "metadata": {
        "id": "view-in-github",
        "colab_type": "text"
      },
      "source": [
        "<a href=\"https://colab.research.google.com/github/SofiaCR2/Python-basico-intermedio/blob/main/ch03_Varibles_de_Datos.ipynb\" target=\"_parent\"><img src=\"https://colab.research.google.com/assets/colab-badge.svg\" alt=\"Open In Colab\"/></a>"
      ]
    },
    {
      "cell_type": "markdown",
      "source": [
        "#Funciones\n",
        "una funcion es un bloque de codigo (grupo de instrcciones) que se ejecuta cuando es llamado\n",
        "\n",
        "Son usada para guardar algún proceso (**algoritmo**) para que regrese que un valor.\n",
        "\n",
        "Nos sirven para crear bloques de código y mantener nuestros códigos ordeandos\n",
        "\n",
        "**Ventajas:**\n",
        "\n",
        "- Evitan que repitamos código cada que queramos realizar la misma tarea\n",
        "- Reducen el tamaño de nuestro código\n",
        "- Mejoran la legibilidad\n",
        "- Se reduce el tiempo de codificación (escribir código)\n",
        "- Solo se tiene que escribir una rutina una vez\n",
        "- Reducen el tiempo de depuración\n",
        "- Mejoran la mantenibilidad\n",
        "\n",
        "<br>\n",
        "\n",
        "**Palabras claves:** `def`"
      ],
      "metadata": {
        "id": "lu-Bh7JaK_gL"
      }
    },
    {
      "cell_type": "markdown",
      "source": [
        "## Partes de una función\n",
        "\n",
        "1. Inicia con la palabra clave `def` para indicar a Python que vamos a crear una función.\n",
        "2. Es seguida por el nombre de la función (sin espacios).\n",
        "3. Se colocan los paramétros que queremos en nuestra función (es opcional, entonces podemos tener desde 0 parámetros hasta tener \"ilimitados\").\n",
        "4. El cuerpo de la función (bloque de código), inicia en la siguiente línea, utilizando una identación (4 espacios en blanco)."
      ],
      "metadata": {
        "id": "0O_85zwzys5-"
      }
    },
    {
      "cell_type": "code",
      "execution_count": 1,
      "metadata": {
        "id": "dr6xBZ_vK502"
      },
      "outputs": [],
      "source": [
        "def nombre_funcion(argumentos):\n",
        "  # Aquí inicia bloque de código\n",
        "  \"\"\"Imprime el argumento dado\"\"\"\n",
        "  #bloque de código\n",
        "  print('El argumento es:', argumentos)\n",
        "  # Aquí termina el bloque de código"
      ]
    },
    {
      "cell_type": "markdown",
      "metadata": {
        "id": "D66KvV06pQm3"
      },
      "source": [
        "**Nota:**\n",
        "- El nombre de la función deber ser sin espacios\n",
        "- Una función puede ir sin argumentos"
      ]
    },
    {
      "cell_type": "code",
      "source": [
        "nombre_funcion(123)\n",
        "nombre_funcion('texto')"
      ],
      "metadata": {
        "colab": {
          "base_uri": "https://localhost:8080/"
        },
        "id": "3lUsbcw8zf2X",
        "outputId": "22ef4005-7069-4fb1-ac13-79dbb322f2f0"
      },
      "execution_count": 2,
      "outputs": [
        {
          "output_type": "stream",
          "name": "stdout",
          "text": [
            "El argumento es: 123\n",
            "El argumento es: texto\n"
          ]
        }
      ]
    },
    {
      "cell_type": "markdown",
      "source": [
        "## Llamando una función\n",
        "Para **llamar** una función ó usarla, escribimos el nombre de la función seguido de paréntesis. Recuerda que si abres paréntesis, debes cerralo."
      ],
      "metadata": {
        "id": "thV4NbPSzY8V"
      }
    },
    {
      "cell_type": "code",
      "source": [
        "#Para crear una funcion en python\n",
        "#usamos la palabra reservada 'def'\n",
        "\n",
        "def mi_primer_funcion():\n",
        "  print(\"Hola, estoy dentro de la funcion 😎\")"
      ],
      "metadata": {
        "id": "DwuYMb0Ez2I9"
      },
      "execution_count": 10,
      "outputs": []
    },
    {
      "cell_type": "markdown",
      "source": [
        "Puedes notar que la funcion no tiene argumentos"
      ],
      "metadata": {
        "id": "408jzgST0DGr"
      }
    },
    {
      "cell_type": "code",
      "source": [
        "mi_primer_funcion()"
      ],
      "metadata": {
        "colab": {
          "base_uri": "https://localhost:8080/"
        },
        "id": "-VhMxXC20CQV",
        "outputId": "75e40689-45c1-48c3-f4c7-0de193e59177"
      },
      "execution_count": 11,
      "outputs": [
        {
          "output_type": "stream",
          "name": "stdout",
          "text": [
            "Hola, estoy dentro de la funcion 😎\n"
          ]
        }
      ]
    },
    {
      "cell_type": "code",
      "source": [
        "mi_varible = mi_primer_funcion()"
      ],
      "metadata": {
        "colab": {
          "base_uri": "https://localhost:8080/"
        },
        "id": "ZXhl2pA_0hhk",
        "outputId": "09baf8bc-b3e7-4205-c613-433d30046bb0"
      },
      "execution_count": 5,
      "outputs": [
        {
          "output_type": "stream",
          "name": "stdout",
          "text": [
            "Hola, estoy dentro de la funcion 😎\n"
          ]
        }
      ]
    },
    {
      "cell_type": "code",
      "source": [
        "print(mi_varible)"
      ],
      "metadata": {
        "colab": {
          "base_uri": "https://localhost:8080/"
        },
        "id": "1whbUZUX0kJS",
        "outputId": "4494208f-0eb6-4699-944c-d2d8cc3ad385"
      },
      "execution_count": 6,
      "outputs": [
        {
          "output_type": "stream",
          "name": "stdout",
          "text": [
            "None\n"
          ]
        }
      ]
    },
    {
      "cell_type": "code",
      "source": [
        "type(mi_varible)"
      ],
      "metadata": {
        "colab": {
          "base_uri": "https://localhost:8080/"
        },
        "id": "zYcot8OQ0mjs",
        "outputId": "b838dc96-08f0-48c1-f878-d3051098de15"
      },
      "execution_count": 7,
      "outputs": [
        {
          "output_type": "execute_result",
          "data": {
            "text/plain": [
              "NoneType"
            ]
          },
          "metadata": {},
          "execution_count": 7
        }
      ]
    },
    {
      "cell_type": "code",
      "source": [
        "#borrar una funcion\n",
        "del mi_primer_funcion"
      ],
      "metadata": {
        "id": "3RFNGNQw0pMX"
      },
      "execution_count": 8,
      "outputs": []
    }
  ]
}