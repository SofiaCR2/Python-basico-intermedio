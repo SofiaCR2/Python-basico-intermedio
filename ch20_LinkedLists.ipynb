{
  "cells": [
    {
      "cell_type": "markdown",
      "metadata": {
        "id": "view-in-github",
        "colab_type": "text"
      },
      "source": [
        "<a href=\"https://colab.research.google.com/github/SofiaCR2/Python-basico-intermedio/blob/main/ch20_LinkedLists.ipynb\" target=\"_parent\"><img src=\"https://colab.research.google.com/assets/colab-badge.svg\" alt=\"Open In Colab\"/></a>"
      ]
    },
    {
      "cell_type": "markdown",
      "metadata": {
        "id": "MVmtFMeZKW7n"
      },
      "source": [
        "# Listas vinculadas\n",
        "\n",
        "http://openbookproject.net/thinkcs/python/english3e/linked_lists.html\n",
        "## lista de reenvío\n",
        "- compuesto por nodos vinculados entre sí de manera que no contiene una referencia al siguiente nodo en la lista\n",
        "- el primer nodo a menudo se llama cabeza y el último nodo también se llama cola\n",
        "- cada nodo también contiene un campo de datos también llamado carga\n",
        "- definición recursiva:\n",
        "    - una lista enlazada es:\n",
        "        1. la lista vacía, representada por Ninguno, o\n",
        "        2. un nodo que contiene un objeto de carga y una referencia a una lista enlazada\n",
        "- esta definición de lista enlazada también se llama lista directa o lista enlazada individualmente en lugar de lista doblemente enlazada\n",
        "- inconvenientes:\n",
        "    - no se puede acceder directamente a los nodos por su posición a diferencia de la lista de estructura de datos integrada\n",
        "    - consumir algo de memoria adicional para mantener la información de enlace asociada a cada elemento (puede ser un factor importante para listas grandes de elementos de tamaño pequeño)"
      ]
    },
    {
      "cell_type": "markdown",
      "metadata": {
        "id": "cNjMOTHWKW7o"
      },
      "source": [
        "## La clase Nodo"
      ]
    },
    {
      "cell_type": "code",
      "execution_count": 1,
      "metadata": {
        "id": "6H-_dQI-KW7p"
      },
      "outputs": [],
      "source": [
        "class Node:\n",
        "    def __init__(self, cargo=None, next=None):\n",
        "        self.cargo = cargo\n",
        "        self.next = next\n",
        "\n",
        "    def __str__(self):\n",
        "        return str(self.cargo)\n"
      ]
    },
    {
      "cell_type": "code",
      "execution_count": 2,
      "metadata": {
        "id": "gGGkHmoqKW7p",
        "outputId": "3c43837c-260d-40f0-f46a-add39834075e",
        "colab": {
          "base_uri": "https://localhost:8080/"
        }
      },
      "outputs": [
        {
          "output_type": "stream",
          "name": "stdout",
          "text": [
            "test\n"
          ]
        }
      ],
      "source": [
        "node = Node(\"test\")\n",
        "print(node)"
      ]
    },
    {
      "cell_type": "code",
      "execution_count": 30,
      "metadata": {
        "id": "S9LtzQFOKW7q"
      },
      "outputs": [],
      "source": [
        "node1 = Node(1)\n",
        "node2 = Node(2)\n",
        "node3 = Node(3)"
      ]
    },
    {
      "cell_type": "markdown",
      "metadata": {
        "id": "ZR3t1VEeKW7q"
      },
      "source": [
        "## visualize with Pythontutor.com\n",
        "https://goo.gl/u1vePS"
      ]
    },
    {
      "cell_type": "markdown",
      "source": [
        "### link the nodes to form linked list"
      ],
      "metadata": {
        "id": "MaBLRn8_2FS-"
      }
    },
    {
      "cell_type": "code",
      "source": [
        "node1.next = node2\n",
        "node2.next = node3"
      ],
      "metadata": {
        "id": "0ABl8s0D2EFp"
      },
      "execution_count": 31,
      "outputs": []
    },
    {
      "cell_type": "markdown",
      "metadata": {
        "id": "MFdpkPUQKW7r"
      },
      "source": [
        "### lista como colección\n",
        "- primer nodo, el nodo 1 de la lista sirve como referencia a toda la lista; también llamado raíz/primer nodo\n",
        "- para pasar lista como parámetro, solo tenemos que pasar una referencia al primer nodo"
      ]
    },
    {
      "cell_type": "code",
      "execution_count": 4,
      "metadata": {
        "id": "ylpLWJqXKW7r"
      },
      "outputs": [],
      "source": [
        "def print_list(node):\n",
        "    while node is not None:\n",
        "        print(node, end=\" \")\n",
        "        node = node.next\n",
        "    print()"
      ]
    },
    {
      "cell_type": "code",
      "execution_count": 18,
      "metadata": {
        "id": "jfgisDkvKW7r",
        "outputId": "de974073-e166-46fc-df99-c62da233e18a",
        "colab": {
          "base_uri": "https://localhost:8080/"
        }
      },
      "outputs": [
        {
          "output_type": "stream",
          "name": "stdout",
          "text": [
            "1 2 3 \n"
          ]
        }
      ],
      "source": [
        "print_list(node1)"
      ]
    },
    {
      "cell_type": "markdown",
      "metadata": {
        "id": "JQq5shb7KW7r"
      },
      "source": [
        "## Listas y recursividad\n",
        "- debido a la definición recursiva, naturalmente se presta a muchas operaciones recursivas\n",
        "- lista de impresión hacia atrás\n",
        "   1. Caso general:\n",
        "       1. separar las listas en dos partes: el primer nodo (cabeza) y el resto (cola)\n",
        "       2. impresión recursiva de la cola\n",
        "       3. imprime la cabeza"
      ]
    },
    {
      "cell_type": "code",
      "execution_count": 19,
      "metadata": {
        "id": "nx4tQvgbKW7r"
      },
      "outputs": [],
      "source": [
        "def print_backward(alist):\n",
        "    if alist is None:\n",
        "        return\n",
        "    head = alist\n",
        "    tail = alist.next\n",
        "    print_backward(tail)\n",
        "    print(head, end=\" \")"
      ]
    },
    {
      "cell_type": "code",
      "execution_count": 20,
      "metadata": {
        "id": "rJ0QlWMdKW7r",
        "outputId": "59b9b6b1-0cfb-41a1-c42b-a440ab2c1d80",
        "colab": {
          "base_uri": "https://localhost:8080/"
        }
      },
      "outputs": [
        {
          "output_type": "stream",
          "name": "stdout",
          "text": [
            "3 2 1 "
          ]
        }
      ],
      "source": [
        "print_backward(node1)"
      ]
    },
    {
      "cell_type": "markdown",
      "metadata": {
        "id": "8ptAFmN_KW7r"
      },
      "source": [
        "## Modificando listas\n",
        "- cambiar carga/datos de un nodo\n",
        "- añadir un nuevo nodo\n",
        "- eliminar un nodo existente\n",
        "- reordenar nodos"
      ]
    },
    {
      "cell_type": "code",
      "execution_count": 21,
      "metadata": {
        "id": "G4t5QOFkKW7r"
      },
      "outputs": [],
      "source": [
        "# function that removes the second node in the list and returns reference to the removed node\n",
        "def remove_second(alist):\n",
        "    if alist is None: return\n",
        "    first = alist\n",
        "    second = alist.next\n",
        "    # Make the first node point to the third\n",
        "    first.next = second.next\n",
        "    # Separate the second node from the rest of the list\n",
        "    second.next = None\n",
        "    return second"
      ]
    },
    {
      "cell_type": "code",
      "execution_count": 32,
      "metadata": {
        "id": "ukbZCzaOKW7r",
        "outputId": "eea1914d-229b-4876-c52e-9283d2188101",
        "colab": {
          "base_uri": "https://localhost:8080/"
        }
      },
      "outputs": [
        {
          "output_type": "stream",
          "name": "stdout",
          "text": [
            "1 2 3 \n"
          ]
        }
      ],
      "source": [
        "print_list(node1)"
      ]
    },
    {
      "cell_type": "code",
      "execution_count": 33,
      "metadata": {
        "id": "LOzJjbpCKW7r"
      },
      "outputs": [],
      "source": [
        "removed = remove_second(node1)"
      ]
    },
    {
      "cell_type": "code",
      "execution_count": 34,
      "metadata": {
        "id": "DUeH8tATKW7r",
        "outputId": "3357a677-f305-4a81-b04c-1fac919d001f",
        "colab": {
          "base_uri": "https://localhost:8080/"
        }
      },
      "outputs": [
        {
          "output_type": "stream",
          "name": "stdout",
          "text": [
            "2\n"
          ]
        }
      ],
      "source": [
        "print(removed)"
      ]
    },
    {
      "cell_type": "code",
      "execution_count": 35,
      "metadata": {
        "id": "8a6WZbfMKW7s",
        "outputId": "12eababb-239c-4bcc-99eb-74d5c08ed3dd",
        "colab": {
          "base_uri": "https://localhost:8080/"
        }
      },
      "outputs": [
        {
          "output_type": "stream",
          "name": "stdout",
          "text": [
            "1 3 \n"
          ]
        }
      ],
      "source": [
        "print_list(node1)"
      ]
    },
    {
      "cell_type": "markdown",
      "metadata": {
        "id": "4w_0fpwpKW7s"
      },
      "source": [
        "## envoltorios y ayudantes"
      ]
    },
    {
      "cell_type": "code",
      "execution_count": 36,
      "metadata": {
        "id": "5tN0PTAHKW7s"
      },
      "outputs": [],
      "source": [
        "def print_backward_nicely(alist):\n",
        "    print(\"[\", end=\" \")\n",
        "    print_backward(alist)\n",
        "    print(\"]\")"
      ]
    },
    {
      "cell_type": "code",
      "execution_count": 37,
      "metadata": {
        "id": "9oNm3tI_KW7s",
        "outputId": "ec4a662b-b2e4-4771-dc22-80fedd72c3e6",
        "colab": {
          "base_uri": "https://localhost:8080/"
        }
      },
      "outputs": [
        {
          "output_type": "stream",
          "name": "stdout",
          "text": [
            "[ 3 1 ]\n"
          ]
        }
      ],
      "source": [
        "print_backward_nicely(node1)"
      ]
    },
    {
      "cell_type": "markdown",
      "metadata": {
        "id": "gskWLjMAKW7s"
      },
      "source": [
        "## clase de contenedor LinkedList\n",
        "### mejor enfoque\n",
        "- defina la clase LinkeList que realiza un seguimiento de todos los metadatos y métodos para trabajar con listas vinculadas, como recorrer e imprimir, agregar, eliminar, etc."
      ]
    },
    {
      "cell_type": "code",
      "execution_count": 76,
      "metadata": {
        "id": "wQZbkOFUKW7s"
      },
      "outputs": [],
      "source": [
        "class LinkedList(object):\n",
        "    def __init__(self):\n",
        "        self.length = 0\n",
        "        self.head = None\n",
        "        self.tail = None\n",
        "\n",
        "    def append(self, data):\n",
        "        node = Node(data)\n",
        "        if not self.head: # empty linked list\n",
        "            # make the first and last point to the new node\n",
        "            self.head = node\n",
        "            self.tail = node\n",
        "        else:\n",
        "            self.tail.next = node # make the current tail's next node point to the new node\n",
        "            self.tail = node # node is the last node\n",
        "        self.length += 1\n",
        "\n",
        "    def __str__(self):\n",
        "        \"\"\"\n",
        "        traverse linked list and return all the cargos/data\n",
        "        \"\"\"\n",
        "        llist = list()\n",
        "        current = self.head\n",
        "        while current:\n",
        "            llist.append(current.cargo)\n",
        "            current = current.next\n",
        "        return str(llist)\n",
        "\n",
        "    def print(self):\n",
        "        current = self.head\n",
        "        print('(', end='')\n",
        "        while current is not None:\n",
        "            print(current, end=\",\")\n",
        "            current = current.next\n",
        "        print(')')\n",
        "        print()\n",
        "\n",
        "    def print_reverse(self):\n",
        "        current = self.head\n",
        "        if not current:\n",
        "            return\n",
        "        print_backward(current.next)\n",
        "        print(current, end=\" \")\n",
        "\n",
        "    def find(self, data):\n",
        "        # find and return the node with given data\n",
        "        current = self.head\n",
        "        found = False\n",
        "        while (current and not found):\n",
        "            if current.cargo == data:\n",
        "                found = True\n",
        "            else:\n",
        "                current = current.next\n",
        "        return current\n",
        "\n",
        "\n",
        "    def remove(self, data):\n",
        "        \"\"\"\n",
        "        We need to consider several cases:\n",
        "        Case 1: the list is empty - do nothing\n",
        "        Case 2: The first node is the node with the given cargo/data, we need to adjust head and may be tail\n",
        "        Case 3: The node with the given info is somewhere in the list.\n",
        "            i. find the node and delete\n",
        "            ii. If the node to be deleted is the tail,\n",
        "                we must adjust tail.\n",
        "        Case 4: The list doesn't contain a node with the given info - do nothing\n",
        "        \"\"\"\n",
        "        # case 1\n",
        "        if not self.head:\n",
        "            return # done\n",
        "        # case 2\n",
        "        if self.head.cargo == data:\n",
        "            self.head = self.head.next # 2nd node becomes the head\n",
        "            # if list becomes empty; update tail as well\n",
        "            if not self.head:\n",
        "                self.tail = None\n",
        "            self.length -= 1\n",
        "        else:\n",
        "            # search the list for the node with given data\n",
        "            found = False\n",
        "            trailCurrent = self.head # first node\n",
        "            current = self.head.next # second node\n",
        "            while(current and not found):\n",
        "                if current.cargo == data:\n",
        "                    found = True\n",
        "                else:\n",
        "                    trailCurrent = current\n",
        "                    current = current.next\n",
        "            if found: #case 3\n",
        "                trailCurrent.next = current.next\n",
        "                if self.tail is current:\n",
        "                    self.tail = trailCurrent\n",
        "                self.length -= 1\n",
        "            else: # case 4\n",
        "                return\n",
        "\n",
        "    def clear(self):\n",
        "        self.length = 0\n",
        "        self.head = None\n",
        "        self.tail = None\n",
        "\n",
        "    def __len__(self):\n",
        "        return self.length"
      ]
    },
    {
      "cell_type": "code",
      "execution_count": 77,
      "metadata": {
        "id": "vXUC68MGKW7s",
        "outputId": "22e0893a-0e04-4e08-eb4d-729a0c1d2eff",
        "colab": {
          "base_uri": "https://localhost:8080/"
        }
      },
      "outputs": [
        {
          "output_type": "stream",
          "name": "stdout",
          "text": [
            "[10, 5, 15, 'a', 'ball'] 5\n"
          ]
        }
      ],
      "source": [
        "alist = LinkedList()\n",
        "alist.append(10)\n",
        "alist.append(5)\n",
        "alist.append(15)\n",
        "alist.append('a')\n",
        "alist.append('ball')\n",
        "print(alist, len(alist))"
      ]
    },
    {
      "cell_type": "code",
      "execution_count": 40,
      "metadata": {
        "id": "-5SHDgmHKW7s",
        "outputId": "f00dce56-ed13-430e-af0a-20410ae3bfd3",
        "colab": {
          "base_uri": "https://localhost:8080/"
        }
      },
      "outputs": [
        {
          "output_type": "stream",
          "name": "stdout",
          "text": [
            "[10, 5, 'a', 'ball']\n",
            "4\n"
          ]
        }
      ],
      "source": [
        "alist.remove(15)\n",
        "print(alist)\n",
        "print(len(alist))"
      ]
    },
    {
      "cell_type": "code",
      "execution_count": 41,
      "metadata": {
        "id": "niF5bvcNKW7s",
        "outputId": "16b2aaa0-d9a3-4f17-e921-3868117655e6",
        "colab": {
          "base_uri": "https://localhost:8080/"
        }
      },
      "outputs": [
        {
          "output_type": "stream",
          "name": "stdout",
          "text": [
            "[5, 'a', 'ball']\n"
          ]
        }
      ],
      "source": [
        "alist.remove(10)\n",
        "print(alist)"
      ]
    },
    {
      "cell_type": "code",
      "execution_count": 42,
      "metadata": {
        "id": "fNPm3PdxKW7t",
        "outputId": "952c684f-c920-4124-e582-d03d6bbf571a",
        "colab": {
          "base_uri": "https://localhost:8080/"
        }
      },
      "outputs": [
        {
          "output_type": "stream",
          "name": "stdout",
          "text": [
            "[5, 'a']\n"
          ]
        }
      ],
      "source": [
        "alist.remove('ball')\n",
        "print(alist)"
      ]
    },
    {
      "cell_type": "code",
      "execution_count": 43,
      "metadata": {
        "id": "HEd6DVAcKW7t",
        "outputId": "67aa7fd9-cce6-46c6-a3e6-d93a204372d7",
        "colab": {
          "base_uri": "https://localhost:8080/"
        }
      },
      "outputs": [
        {
          "output_type": "stream",
          "name": "stdout",
          "text": [
            "[5, 'a', 'cat']\n"
          ]
        }
      ],
      "source": [
        "alist.append('cat')\n",
        "print(alist)\n",
        "assert len(alist) == alist.length"
      ]
    },
    {
      "cell_type": "code",
      "execution_count": 44,
      "metadata": {
        "id": "wHfES4mlKW7t",
        "outputId": "d8cc8714-25f9-4eec-90f8-507ed93e54f5",
        "colab": {
          "base_uri": "https://localhost:8080/"
        }
      },
      "outputs": [
        {
          "output_type": "stream",
          "name": "stdout",
          "text": [
            "3\n"
          ]
        }
      ],
      "source": [
        "print(alist.length)"
      ]
    },
    {
      "cell_type": "code",
      "execution_count": 45,
      "metadata": {
        "id": "zxbTqEqVKW7t",
        "outputId": "94d93bae-dd13-4da9-ccf7-e1866e8ee446",
        "colab": {
          "base_uri": "https://localhost:8080/"
        }
      },
      "outputs": [
        {
          "output_type": "stream",
          "name": "stdout",
          "text": [
            "cat a 5 "
          ]
        }
      ],
      "source": [
        "alist.print_reverse()"
      ]
    },
    {
      "cell_type": "code",
      "execution_count": 46,
      "metadata": {
        "id": "G4M4u3TqKW7t",
        "outputId": "b915faee-037a-486c-c44c-c4527fb9cb83",
        "colab": {
          "base_uri": "https://localhost:8080/"
        }
      },
      "outputs": [
        {
          "output_type": "stream",
          "name": "stdout",
          "text": [
            "5 a cat \n"
          ]
        }
      ],
      "source": [
        "alist.print()"
      ]
    },
    {
      "cell_type": "code",
      "execution_count": 47,
      "metadata": {
        "id": "wGN8HLUdKW7t"
      },
      "outputs": [],
      "source": [
        "node = alist.find('cat')"
      ]
    },
    {
      "cell_type": "code",
      "execution_count": 48,
      "metadata": {
        "id": "aE_QypQDKW7t",
        "outputId": "993f6018-22ed-4f6d-a196-e1721c6eb794",
        "colab": {
          "base_uri": "https://localhost:8080/"
        }
      },
      "outputs": [
        {
          "output_type": "stream",
          "name": "stdout",
          "text": [
            "cat\n"
          ]
        }
      ],
      "source": [
        "print(node)"
      ]
    },
    {
      "cell_type": "code",
      "execution_count": 49,
      "metadata": {
        "id": "3xf6GEhEKW7t"
      },
      "outputs": [],
      "source": [
        "node.cargo = 'Cat'"
      ]
    },
    {
      "cell_type": "code",
      "execution_count": 78,
      "metadata": {
        "id": "0Rc4FsFbKW7u",
        "outputId": "07407668-9801-4808-a167-e847e862491b",
        "colab": {
          "base_uri": "https://localhost:8080/"
        }
      },
      "outputs": [
        {
          "output_type": "stream",
          "name": "stdout",
          "text": [
            "(10,5,15,a,ball,)\n",
            "\n"
          ]
        }
      ],
      "source": [
        "alist.print()"
      ]
    },
    {
      "cell_type": "code",
      "execution_count": 51,
      "metadata": {
        "id": "vDzz2TOtKW7u"
      },
      "outputs": [],
      "source": [
        "alist.remove('dog')"
      ]
    },
    {
      "cell_type": "code",
      "execution_count": 79,
      "metadata": {
        "id": "HIxFuNpaKW7u",
        "outputId": "7f69a831-bcbc-48ea-8118-ae2013a50371",
        "colab": {
          "base_uri": "https://localhost:8080/"
        }
      },
      "outputs": [
        {
          "output_type": "stream",
          "name": "stdout",
          "text": [
            "(10,5,15,a,ball,)\n",
            "\n"
          ]
        }
      ],
      "source": [
        "alist.print()"
      ]
    },
    {
      "cell_type": "markdown",
      "metadata": {
        "id": "901IADPsKW7u"
      },
      "source": [
        "## ejercicios\n",
        "\n",
        "1. Por convención, las listas a menudo se imprimen entre paréntesis con comas entre los elementos, como en [1, 2, 3]. Modifique la función print_list para que genere resultados en este formato."
      ]
    }
  ],
  "metadata": {
    "kernelspec": {
      "display_name": "Python 3",
      "language": "python",
      "name": "python3"
    },
    "language_info": {
      "codemirror_mode": {
        "name": "ipython",
        "version": 3
      },
      "file_extension": ".py",
      "mimetype": "text/x-python",
      "name": "python",
      "nbconvert_exporter": "python",
      "pygments_lexer": "ipython3",
      "version": "3.7.3"
    },
    "colab": {
      "provenance": [],
      "include_colab_link": true
    }
  },
  "nbformat": 4,
  "nbformat_minor": 0
}