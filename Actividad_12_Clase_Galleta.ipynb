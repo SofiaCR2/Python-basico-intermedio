{
  "nbformat": 4,
  "nbformat_minor": 0,
  "metadata": {
    "colab": {
      "provenance": [],
      "authorship_tag": "ABX9TyOBTDhklhBe/XpU6CTt+rEQ",
      "include_colab_link": true
    },
    "kernelspec": {
      "name": "python3",
      "display_name": "Python 3"
    },
    "language_info": {
      "name": "python"
    }
  },
  "cells": [
    {
      "cell_type": "markdown",
      "metadata": {
        "id": "view-in-github",
        "colab_type": "text"
      },
      "source": [
        "<a href=\"https://colab.research.google.com/github/SofiaCR2/Python-basico-intermedio/blob/main/Actividad_12_Clase_Galleta.ipynb\" target=\"_parent\"><img src=\"https://colab.research.google.com/assets/colab-badge.svg\" alt=\"Open In Colab\"/></a>"
      ]
    },
    {
      "cell_type": "markdown",
      "source": [
        "#Actividad\n",
        "Crear la clase **Galleta**, la cula reciba los siguientes argumentos:\n",
        "*   Sabor: string\n",
        "*   diametro: float\n",
        "*   chispas: bool\n",
        "\n",
        "La clase debera regresar el peso de la galleta. Una galleta Orea mide 4.4 cm de diametro con un peso de 11g.\n",
        "\n",
        "Si la galleta tiene chispas, añade 2gr al peso final.\n",
        "\n",
        "Ejemplo: Una galleta con chispas y un diametro de 4.4 cm, pesará 13 gr\n"
      ],
      "metadata": {
        "id": "GmXW6rnFbHhJ"
      }
    },
    {
      "cell_type": "code",
      "execution_count": 30,
      "metadata": {
        "id": "Z5rD5Poda-cF"
      },
      "outputs": [],
      "source": [
        "class Galleta:\n",
        "  def __init__ (self, sabor, diametro, chispas):\n",
        "    self.sabor = sabor\n",
        "    self.diametro = float(diametro)\n",
        "    self.chispas = chispas\n",
        "\n",
        "  def peso(self):\n",
        "    self.peso = (self.diametro * 11 ) / 4.4\n",
        "\n",
        "    if self.chispas.lower() == 'si':\n",
        "      self.peso += 2\n",
        "\n",
        "    print(f'Una galleta con {self.sabor}, un diametro de {self.diametro} que la aparicion de chispas es {self.chispas} tiene un peso de {self.peso}')\n",
        "\n"
      ]
    },
    {
      "cell_type": "code",
      "source": [
        "sabor = input('Cual sabor es: ')\n",
        "diametro = float(input('Cual es diametro: '))\n",
        "chispas = input('Tiene chispas: ')\n",
        "\n",
        "mi_galleta = Galleta(sabor, diametro, chispas)\n",
        "mi_galleta.peso()"
      ],
      "metadata": {
        "colab": {
          "base_uri": "https://localhost:8080/"
        },
        "id": "OeI0b8S3bEZ-",
        "outputId": "b6fc1864-be30-49fd-e051-21956b6be5d6"
      },
      "execution_count": 33,
      "outputs": [
        {
          "output_type": "stream",
          "name": "stdout",
          "text": [
            "Cual sabor es: FRESA\n",
            "Cual es diametro: 4.4\n",
            "Tiene chispas: SI\n",
            "Una galleta con FRESA, un diametro de 4.4 que la aparicion de chispas es SI tiene un peso de 13.0\n"
          ]
        }
      ]
    }
  ]
}