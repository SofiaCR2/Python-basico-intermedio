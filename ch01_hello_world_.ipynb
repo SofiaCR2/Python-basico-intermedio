{
  "nbformat": 4,
  "nbformat_minor": 0,
  "metadata": {
    "colab": {
      "provenance": [],
      "authorship_tag": "ABX9TyNC+2rq5Kt4hJm2GczNiq0z",
      "include_colab_link": true
    },
    "kernelspec": {
      "name": "python3",
      "display_name": "Python 3"
    },
    "language_info": {
      "name": "python"
    }
  },
  "cells": [
    {
      "cell_type": "markdown",
      "metadata": {
        "id": "view-in-github",
        "colab_type": "text"
      },
      "source": [
        "<a href=\"https://colab.research.google.com/github/SofiaCR2/Python-basico-intermedio/blob/main/ch01_hello_world_.ipynb\" target=\"_parent\"><img src=\"https://colab.research.google.com/assets/colab-badge.svg\" alt=\"Open In Colab\"/></a>"
      ]
    },
    {
      "cell_type": "markdown",
      "source": [
        "#Primer Clase de Python"
      ],
      "metadata": {
        "id": "m50v8KS5AkYR"
      }
    },
    {
      "cell_type": "code",
      "source": [
        "#En python podemos usar comillas dobles\n",
        "# para crear un string (cadena de caracteres o texto)\n",
        "print(\"Hello, world\")"
      ],
      "metadata": {
        "colab": {
          "base_uri": "https://localhost:8080/"
        },
        "id": "zoMgrtycArsq",
        "outputId": "86d65fef-de94-4544-a39d-91ad0fc8f8ec"
      },
      "execution_count": null,
      "outputs": [
        {
          "output_type": "stream",
          "name": "stdout",
          "text": [
            "hello, world\n"
          ]
        }
      ]
    },
    {
      "cell_type": "code",
      "source": [
        "# PEro tambien podemos usar comillas sencillas\n",
        "print('Hello world')"
      ],
      "metadata": {
        "colab": {
          "base_uri": "https://localhost:8080/"
        },
        "id": "IRY5A77dA9tU",
        "outputId": "094a3420-48b4-4d75-a796-25e31911bf81"
      },
      "execution_count": null,
      "outputs": [
        {
          "output_type": "stream",
          "name": "stdout",
          "text": [
            "Hello world\n"
          ]
        }
      ]
    },
    {
      "cell_type": "code",
      "source": [
        "#Aunque no es necesario usar el print en colab\n",
        "# para mostrar el resoltado\n",
        "\"Hello, world\"\n",
        "#Útil cuando desarrollamos o queremos ver un resultado rapido\n",
        "# Pero, como buena practicas hay que usar siempre la funcion print\n",
        "#para mostrar un resultado"
      ],
      "metadata": {
        "colab": {
          "base_uri": "https://localhost:8080/",
          "height": 36
        },
        "id": "OKD5lnRGuwPl",
        "outputId": "a8259dba-5e6d-4fc4-8ef6-ad2d6588b6f9"
      },
      "execution_count": null,
      "outputs": [
        {
          "output_type": "execute_result",
          "data": {
            "text/plain": [
              "'Hello, world'"
            ],
            "application/vnd.google.colaboratory.intrinsic+json": {
              "type": "string"
            }
          },
          "metadata": {},
          "execution_count": 2
        }
      ]
    },
    {
      "cell_type": "markdown",
      "source": [
        "#Introducción"
      ],
      "metadata": {
        "id": "Rpx2VfmzyBSh"
      }
    },
    {
      "cell_type": "markdown",
      "source": [
        "# 1.1 Zen de Python"
      ],
      "metadata": {
        "id": "TfJKiSStyNCQ"
      }
    },
    {
      "cell_type": "code",
      "source": [
        "import this"
      ],
      "metadata": {
        "colab": {
          "base_uri": "https://localhost:8080/"
        },
        "id": "XA2oRjtmyRP0",
        "outputId": "42062630-585f-4af1-f63d-bf8e4d0b5cc5"
      },
      "execution_count": null,
      "outputs": [
        {
          "output_type": "stream",
          "name": "stdout",
          "text": [
            "The Zen of Python, by Tim Peters\n",
            "\n",
            "Beautiful is better than ugly.\n",
            "Explicit is better than implicit.\n",
            "Simple is better than complex.\n",
            "Complex is better than complicated.\n",
            "Flat is better than nested.\n",
            "Sparse is better than dense.\n",
            "Readability counts.\n",
            "Special cases aren't special enough to break the rules.\n",
            "Although practicality beats purity.\n",
            "Errors should never pass silently.\n",
            "Unless explicitly silenced.\n",
            "In the face of ambiguity, refuse the temptation to guess.\n",
            "There should be one-- and preferably only one --obvious way to do it.\n",
            "Although that way may not be obvious at first unless you're Dutch.\n",
            "Now is better than never.\n",
            "Although never is often better than *right* now.\n",
            "If the implementation is hard to explain, it's a bad idea.\n",
            "If the implementation is easy to explain, it may be a good idea.\n",
            "Namespaces are one honking great idea -- let's do more of those!\n"
          ]
        }
      ]
    },
    {
      "cell_type": "markdown",
      "source": [
        "#Depuración\n",
        " - Encontrar y deshacer debugs/errores\n",
        " - mientras los humanos escriban codigos de computacion simepre habra errores en el programa\n",
        " - Aunque a veces es frustante, es una de las etapas más valiosas y formativas en el desarrollo de software\n",
        "\n",
        "#1.9 Ejercicios\n",
        "\n",
        "1. Escribe un guión de hola mundo\n",
        "- Escriba un script de python que imprima \"Hello World!\" como salida en la consola  en Colab\n",
        "- Publicarlo en GitHutb\n",
        "- Compartir la liga de su código en github"
      ],
      "metadata": {
        "id": "6jc1WLM-zurF"
      }
    }
  ]
}