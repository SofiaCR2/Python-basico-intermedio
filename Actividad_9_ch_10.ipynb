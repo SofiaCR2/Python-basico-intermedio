{
  "nbformat": 4,
  "nbformat_minor": 0,
  "metadata": {
    "colab": {
      "provenance": [],
      "authorship_tag": "ABX9TyPucP6VXQH3yDNc4TMtHhj9",
      "include_colab_link": true
    },
    "kernelspec": {
      "name": "python3",
      "display_name": "Python 3"
    },
    "language_info": {
      "name": "python"
    }
  },
  "cells": [
    {
      "cell_type": "markdown",
      "metadata": {
        "id": "view-in-github",
        "colab_type": "text"
      },
      "source": [
        "<a href=\"https://colab.research.google.com/github/SofiaCR2/Python-basico-intermedio/blob/main/Actividad_9_ch_10.ipynb\" target=\"_parent\"><img src=\"https://colab.research.google.com/assets/colab-badge.svg\" alt=\"Open In Colab\"/></a>"
      ]
    },
    {
      "cell_type": "markdown",
      "source": [
        "#Ejercicio 1\n",
        "Leer un archivo e imprimirlo al revez"
      ],
      "metadata": {
        "id": "VtDjnhCrKcF1"
      }
    },
    {
      "cell_type": "code",
      "execution_count": null,
      "metadata": {
        "id": "pMoH6zCdJi8_"
      },
      "outputs": [],
      "source": [
        "def invertir_lineas(archvio_nombre_entrada, archivo_nombre_salida):\n",
        "  with open(archvio_nombre_entrada, 'r') as entradas:\n",
        "    data = entradas.readlines()\n",
        "    invertidas = data[::-1]\n",
        "\n",
        "  with open(archivo_nombre_salida, 'w') as salidas:\n",
        "    salidas.writelines(invertidas)\n",
        "\n",
        "archivo_entrada = \"entrada.txt\"\n",
        "archivo_salida = \"salida.txt\"\n",
        "\n",
        "invertir_lineas (archivo_entrada, archivo_salida)"
      ]
    },
    {
      "cell_type": "markdown",
      "source": [
        "#Ejerccio de Don Quijote"
      ],
      "metadata": {
        "id": "Uyd6Z5b79-S8"
      }
    },
    {
      "cell_type": "code",
      "source": [
        "import nltk\n",
        "from nltk.corpus import gutenberg\n",
        "from nltk.corpus import stopwords"
      ],
      "metadata": {
        "id": "JAt6u3Fu99-P"
      },
      "execution_count": 1,
      "outputs": []
    },
    {
      "cell_type": "code",
      "source": [
        "nltk.download('gutenberg')"
      ],
      "metadata": {
        "colab": {
          "base_uri": "https://localhost:8080/"
        },
        "id": "V6tTzguO-OOU",
        "outputId": "0e7f234b-fcd1-4ddf-d5b3-1ce134defbe1"
      },
      "execution_count": 2,
      "outputs": [
        {
          "output_type": "stream",
          "name": "stderr",
          "text": [
            "[nltk_data] Downloading package gutenberg to /root/nltk_data...\n",
            "[nltk_data]   Unzipping corpora/gutenberg.zip.\n"
          ]
        },
        {
          "output_type": "execute_result",
          "data": {
            "text/plain": [
              "True"
            ]
          },
          "metadata": {},
          "execution_count": 2
        }
      ]
    },
    {
      "cell_type": "code",
      "source": [
        "nltk.download('punkt')"
      ],
      "metadata": {
        "colab": {
          "base_uri": "https://localhost:8080/"
        },
        "id": "bNzTUIIu-RJe",
        "outputId": "4f7298d1-fd92-426a-bc5a-e7626c075848"
      },
      "execution_count": 3,
      "outputs": [
        {
          "output_type": "stream",
          "name": "stderr",
          "text": [
            "[nltk_data] Downloading package punkt to /root/nltk_data...\n",
            "[nltk_data]   Unzipping tokenizers/punkt.zip.\n"
          ]
        },
        {
          "output_type": "execute_result",
          "data": {
            "text/plain": [
              "True"
            ]
          },
          "metadata": {},
          "execution_count": 3
        }
      ]
    },
    {
      "cell_type": "code",
      "source": [
        "num_caracteres = len(gutenberg.raw('/content/quijote.txt'))\n",
        "num_palabras = len(gutenberg.words('/content/quijote.txt'))\n",
        "num_oraciones = len(gutenberg.sents('/content/quijote.txt'))\n",
        "\n",
        "print('Cantidad de caracteres: ',num_caracteres )\n",
        "print('Cantidad de palabras: ',num_palabras )\n",
        "print('Cantidad de oraciones: ',num_oraciones )\n",
        "print('Frecuencian de las palabra: ',int(num_caracteres/num_palabras) )"
      ],
      "metadata": {
        "colab": {
          "base_uri": "https://localhost:8080/"
        },
        "id": "hRWURIXD-To4",
        "outputId": "069abed1-4a08-4279-8240-6eacea3fa3df"
      },
      "execution_count": 7,
      "outputs": [
        {
          "output_type": "stream",
          "name": "stdout",
          "text": [
            "Cantidad de caracteres:  2198927\n",
            "Cantidad de palabras:  505300\n",
            "Cantidad de oraciones:  10967\n",
            "Frecuencian de las palabra:  4\n"
          ]
        }
      ]
    }
  ]
}