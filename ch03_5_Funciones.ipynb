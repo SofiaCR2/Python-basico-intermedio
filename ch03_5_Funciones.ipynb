{
  "nbformat": 4,
  "nbformat_minor": 0,
  "metadata": {
    "colab": {
      "provenance": [],
      "authorship_tag": "ABX9TyNL6H5j7jR1tHlBXft3VDKa",
      "include_colab_link": true
    },
    "kernelspec": {
      "name": "python3",
      "display_name": "Python 3"
    },
    "language_info": {
      "name": "python"
    }
  },
  "cells": [
    {
      "cell_type": "markdown",
      "metadata": {
        "id": "view-in-github",
        "colab_type": "text"
      },
      "source": [
        "<a href=\"https://colab.research.google.com/github/SofiaCR2/Python-basico-intermedio/blob/main/ch03_5_Funciones.ipynb\" target=\"_parent\"><img src=\"https://colab.research.google.com/assets/colab-badge.svg\" alt=\"Open In Colab\"/></a>"
      ]
    },
    {
      "cell_type": "markdown",
      "source": [
        "#Funciones\n",
        "una funcion es un bloque de codigo (grupo de instrcciones) que se ejecuta cuando es llamado\n",
        "\n",
        "Son usada para guardar algún proceso (**algoritmo**) para que regrese que un valor.\n",
        "\n",
        "Nos sirven para crear bloques de código y mantener nuestros códigos ordeandos\n",
        "\n",
        "**Ventajas:**\n",
        "\n",
        "- Evitan que repitamos código cada que queramos realizar la misma tarea\n",
        "- Reducen el tamaño de nuestro código\n",
        "- Mejoran la legibilidad\n",
        "- Se reduce el tiempo de codificación (escribir código)\n",
        "- Solo se tiene que escribir una rutina una vez\n",
        "- Reducen el tiempo de depuración\n",
        "- Mejoran la mantenibilidad\n",
        "\n",
        "<br>\n",
        "\n",
        "**Palabras claves:** `def`"
      ],
      "metadata": {
        "id": "lu-Bh7JaK_gL"
      }
    },
    {
      "cell_type": "markdown",
      "source": [
        "## Partes de una función\n",
        "\n",
        "1. Inicia con la palabra clave `def` para indicar a Python que vamos a crear una función.\n",
        "2. Es seguida por el nombre de la función (sin espacios).\n",
        "3. Se colocan los paramétros que queremos en nuestra función (es opcional, entonces podemos tener desde 0 parámetros hasta tener \"ilimitados\").\n",
        "4. El cuerpo de la función (bloque de código), inicia en la siguiente línea, utilizando una identación (4 espacios en blanco)."
      ],
      "metadata": {
        "id": "0O_85zwzys5-"
      }
    },
    {
      "cell_type": "code",
      "execution_count": null,
      "metadata": {
        "id": "dr6xBZ_vK502"
      },
      "outputs": [],
      "source": [
        "def nombre_funcion(argumentos):\n",
        "  # Aquí inicia bloque de código\n",
        "  \"\"\"Imprime el argumento dado\"\"\"\n",
        "  #bloque de código\n",
        "  print('El argumento es:', argumentos)\n",
        "  # Aquí termina el bloque de código"
      ]
    },
    {
      "cell_type": "markdown",
      "metadata": {
        "id": "D66KvV06pQm3"
      },
      "source": [
        "**Nota:**\n",
        "- El nombre de la función deber ser sin espacios\n",
        "- Una función puede ir sin argumentos"
      ]
    },
    {
      "cell_type": "code",
      "source": [
        "nombre_funcion(123)\n",
        "nombre_funcion('texto')"
      ],
      "metadata": {
        "colab": {
          "base_uri": "https://localhost:8080/"
        },
        "id": "3lUsbcw8zf2X",
        "outputId": "22ef4005-7069-4fb1-ac13-79dbb322f2f0"
      },
      "execution_count": null,
      "outputs": [
        {
          "output_type": "stream",
          "name": "stdout",
          "text": [
            "El argumento es: 123\n",
            "El argumento es: texto\n"
          ]
        }
      ]
    },
    {
      "cell_type": "markdown",
      "source": [
        "## Llamando una función\n",
        "Para **llamar** una función ó usarla, escribimos el nombre de la función seguido de paréntesis. Recuerda que si abres paréntesis, debes cerralo."
      ],
      "metadata": {
        "id": "thV4NbPSzY8V"
      }
    },
    {
      "cell_type": "markdown",
      "source": [
        "#Nuevo notebook"
      ],
      "metadata": {
        "id": "pAGvFmhlAWgT"
      }
    },
    {
      "cell_type": "code",
      "source": [
        "#Para crear una funcion en python\n",
        "#usamos la palabra reservada 'def'\n",
        "\n",
        "def mi_primer_funcion():\n",
        "  print(\"Hola, estoy dentro de la funcion 😎\")"
      ],
      "metadata": {
        "id": "DwuYMb0Ez2I9"
      },
      "execution_count": null,
      "outputs": []
    },
    {
      "cell_type": "markdown",
      "source": [
        "Puedes notar que la funcion no tiene argumentos"
      ],
      "metadata": {
        "id": "408jzgST0DGr"
      }
    },
    {
      "cell_type": "code",
      "source": [
        "mi_primer_funcion()"
      ],
      "metadata": {
        "colab": {
          "base_uri": "https://localhost:8080/"
        },
        "id": "-VhMxXC20CQV",
        "outputId": "b5609afc-9ab1-4e88-814d-ef30b0769d41"
      },
      "execution_count": null,
      "outputs": [
        {
          "output_type": "stream",
          "name": "stdout",
          "text": [
            "Hola, estoy dentro de la funcion 😎\n"
          ]
        }
      ]
    },
    {
      "cell_type": "code",
      "source": [
        "mi_varible = mi_primer_funcion()"
      ],
      "metadata": {
        "colab": {
          "base_uri": "https://localhost:8080/"
        },
        "id": "ZXhl2pA_0hhk",
        "outputId": "db81c3ab-2bf7-4d66-9b73-df85cf7e3aae"
      },
      "execution_count": null,
      "outputs": [
        {
          "output_type": "stream",
          "name": "stdout",
          "text": [
            "Hola, estoy dentro de la funcion 😎\n"
          ]
        }
      ]
    },
    {
      "cell_type": "code",
      "source": [
        "print(mi_varible)"
      ],
      "metadata": {
        "colab": {
          "base_uri": "https://localhost:8080/"
        },
        "id": "1whbUZUX0kJS",
        "outputId": "4494208f-0eb6-4699-944c-d2d8cc3ad385"
      },
      "execution_count": null,
      "outputs": [
        {
          "output_type": "stream",
          "name": "stdout",
          "text": [
            "None\n"
          ]
        }
      ]
    },
    {
      "cell_type": "code",
      "source": [
        "type(mi_varible)"
      ],
      "metadata": {
        "colab": {
          "base_uri": "https://localhost:8080/"
        },
        "id": "zYcot8OQ0mjs",
        "outputId": "b838dc96-08f0-48c1-f878-d3051098de15"
      },
      "execution_count": null,
      "outputs": [
        {
          "output_type": "execute_result",
          "data": {
            "text/plain": [
              "NoneType"
            ]
          },
          "metadata": {},
          "execution_count": 7
        }
      ]
    },
    {
      "cell_type": "code",
      "source": [
        "#borrar una funcion\n",
        "del mi_primer_funcion"
      ],
      "metadata": {
        "id": "3RFNGNQw0pMX"
      },
      "execution_count": null,
      "outputs": []
    },
    {
      "cell_type": "markdown",
      "source": [
        "#Creando una funion con argumentos\n",
        "\n",
        "Crando una funcion para obtener el área de un cuadrado"
      ],
      "metadata": {
        "id": "M330k1XXAfh6"
      }
    },
    {
      "cell_type": "code",
      "source": [
        "#NIVEL BASICO\n",
        "def area_cuadrado(lado):\n",
        "  '''Calcula el area dee un cuadrado'''\n",
        "  area = lado * lado\n",
        "  return area"
      ],
      "metadata": {
        "id": "txlXWKc9AoOo"
      },
      "execution_count": null,
      "outputs": []
    },
    {
      "cell_type": "code",
      "source": [
        "from typing import Union\n",
        "#puede regresar o resivir dos tipos de valores"
      ],
      "metadata": {
        "id": "7Ll7U43fCcNP"
      },
      "execution_count": null,
      "outputs": []
    },
    {
      "cell_type": "code",
      "source": [
        "#NIVEL INTERMEDIO-AVANZADO\n",
        "def area_cuadrado(lado: Union[int, float]) -> Union[int, float]:\n",
        "  '''Calcula el area dee un cuadrado'''\n",
        "  area = lado * lado\n",
        "  return area"
      ],
      "metadata": {
        "id": "8yrBLAZkCBGv"
      },
      "execution_count": null,
      "outputs": []
    },
    {
      "cell_type": "code",
      "source": [
        "area_cuadrado(4)"
      ],
      "metadata": {
        "colab": {
          "base_uri": "https://localhost:8080/"
        },
        "id": "zwO5zrl7B2Pt",
        "outputId": "c0d08b4d-6072-41a0-c49a-00213a078be1"
      },
      "execution_count": null,
      "outputs": [
        {
          "output_type": "execute_result",
          "data": {
            "text/plain": [
              "16"
            ]
          },
          "metadata": {},
          "execution_count": 9
        }
      ]
    },
    {
      "cell_type": "code",
      "source": [
        "help(area_cuadrado)"
      ],
      "metadata": {
        "colab": {
          "base_uri": "https://localhost:8080/"
        },
        "id": "3_El8A1RA-OU",
        "outputId": "546ad584-a3a4-4813-89a3-ba738d1c9156"
      },
      "execution_count": null,
      "outputs": [
        {
          "output_type": "stream",
          "name": "stdout",
          "text": [
            "Help on function area_cuadrado in module __main__:\n",
            "\n",
            "area_cuadrado(lado)\n",
            "    Calcula el area dee un cuadrado\n",
            "\n"
          ]
        }
      ]
    },
    {
      "cell_type": "markdown",
      "source": [
        "##Area y perimetro del rectangulo"
      ],
      "metadata": {
        "id": "l-5T9lcVCw5s"
      }
    },
    {
      "cell_type": "code",
      "source": [
        "def area_rectangulo(base: Union[int, float], altura: Union[int, float])-> Union[int, float]:\n",
        "  '''Calcula el area de un rectangulo '''\n",
        "  area = base * altura\n",
        "  return area"
      ],
      "metadata": {
        "id": "6AObu04yDS0_"
      },
      "execution_count": null,
      "outputs": []
    },
    {
      "cell_type": "code",
      "source": [
        "def perimetro_rectangulo(base: Union[int, float], altura: Union[int, float])-> Union[int, float]:\n",
        "  '''Calucla el perimetro de un rectangulo '''\n",
        "  perimetro = (2 * base) + (2 * altura)\n",
        "  return perimetro"
      ],
      "metadata": {
        "id": "bfDgFloKDySp"
      },
      "execution_count": null,
      "outputs": []
    },
    {
      "cell_type": "code",
      "source": [
        "area_rectangulo(2,1)"
      ],
      "metadata": {
        "colab": {
          "base_uri": "https://localhost:8080/"
        },
        "id": "viIS74nwENov",
        "outputId": "dde6ec81-cc81-45d6-b43b-83efc5208bbc"
      },
      "execution_count": null,
      "outputs": [
        {
          "output_type": "execute_result",
          "data": {
            "text/plain": [
              "2"
            ]
          },
          "metadata": {},
          "execution_count": 17
        }
      ]
    },
    {
      "cell_type": "code",
      "source": [
        "perimetro_rectangulo(2,3)"
      ],
      "metadata": {
        "colab": {
          "base_uri": "https://localhost:8080/"
        },
        "id": "godZ9GTPE2ET",
        "outputId": "d5d6da4d-fddc-4d82-e096-a1a2b9927b4c"
      },
      "execution_count": null,
      "outputs": [
        {
          "output_type": "execute_result",
          "data": {
            "text/plain": [
              "10"
            ]
          },
          "metadata": {},
          "execution_count": 18
        }
      ]
    },
    {
      "cell_type": "markdown",
      "source": [
        "## Area y perimetro del circulo"
      ],
      "metadata": {
        "id": "kbWrp6PYC8wC"
      }
    },
    {
      "cell_type": "code",
      "source": [
        "from math import pi\n",
        "from math import pow\n",
        "def area_circulo(r: Union[int, float])-> Union[int, float]:\n",
        "  '''Calcula el area de un circulo '''\n",
        "  area = pi * pow(r, 2)\n",
        "  return area"
      ],
      "metadata": {
        "id": "Zwye8uYlE4RF"
      },
      "execution_count": null,
      "outputs": []
    },
    {
      "cell_type": "code",
      "source": [
        "def perimetro_circulo(r: Union[int, float])-> Union[int, float]:\n",
        "  '''Calucla el perimetro de un circulo '''\n",
        "  perimetro = 2 * pi * r\n",
        "  return perimetro"
      ],
      "metadata": {
        "id": "ZubwxRyAF9DX"
      },
      "execution_count": null,
      "outputs": []
    },
    {
      "cell_type": "code",
      "source": [
        "area_circulo(2.5)"
      ],
      "metadata": {
        "colab": {
          "base_uri": "https://localhost:8080/"
        },
        "id": "-5Z8RX3rFk1q",
        "outputId": "daa0ec8f-01ff-4788-fb6c-27da94f96113"
      },
      "execution_count": null,
      "outputs": [
        {
          "output_type": "execute_result",
          "data": {
            "text/plain": [
              "19.634954084936208"
            ]
          },
          "metadata": {},
          "execution_count": 27
        }
      ]
    },
    {
      "cell_type": "code",
      "source": [
        "perimetro_circulo(4)"
      ],
      "metadata": {
        "colab": {
          "base_uri": "https://localhost:8080/"
        },
        "id": "Su-5wdNoGZg4",
        "outputId": "19ba5d1b-2cb1-471f-eee4-3c44400bd37d"
      },
      "execution_count": null,
      "outputs": [
        {
          "output_type": "execute_result",
          "data": {
            "text/plain": [
              "25.132741228718345"
            ]
          },
          "metadata": {},
          "execution_count": 26
        }
      ]
    },
    {
      "cell_type": "markdown",
      "source": [
        "#Alcance de las variables globales y locales"
      ],
      "metadata": {
        "id": "OwKj0D7CMYy4"
      }
    },
    {
      "cell_type": "code",
      "source": [
        "nombre_global = \"Cuau\"\n",
        "def mi_funcion(arg1, arg2):\n",
        "  print(\"print(Dentro de la funcion) nombre_global: \", nombre_global)\n",
        "  nombre_local = \"Jess\"\n",
        "  print(\"print(Dentro de la funcion) \\n\\targ1: \", arg1 , \"\\n\\targ2: \", arg2)\n",
        "  print(\"print(Dentro de la funcion) nombre_local: \", nombre_local)\n",
        "\n",
        "mi_funcion(1, \"manzana\")\n",
        "print(\"print(Fuera de la funcion) nombre_global: \", nombre_global)"
      ],
      "metadata": {
        "colab": {
          "base_uri": "https://localhost:8080/"
        },
        "id": "zaBr-iNXMX4U",
        "outputId": "1a0cb759-32b4-4592-e51b-62c70cd34a92"
      },
      "execution_count": null,
      "outputs": [
        {
          "output_type": "stream",
          "name": "stdout",
          "text": [
            "print(Dentro de la funcion) nombre_global:  Cuau\n",
            "print(Dentro de la funcion) \n",
            "\targ1:  1 \n",
            "\targ2:  manzana\n",
            "print(Dentro de la funcion) nombre_local:  Jess\n",
            "print(Fuera de la funcion) nombre_global:  Cuau\n"
          ]
        }
      ]
    },
    {
      "cell_type": "code",
      "source": [
        "print(\"print(Fuera de la funcion) nombre_local: \", nombre_local)"
      ],
      "metadata": {
        "colab": {
          "base_uri": "https://localhost:8080/",
          "height": 165
        },
        "id": "TE4__dPoOgYW",
        "outputId": "0c67a03e-a4d4-4912-e732-232963e7eb45"
      },
      "execution_count": null,
      "outputs": [
        {
          "output_type": "error",
          "ename": "NameError",
          "evalue": "ignored",
          "traceback": [
            "\u001b[0;31m---------------------------------------------------------------------------\u001b[0m",
            "\u001b[0;31mNameError\u001b[0m                                 Traceback (most recent call last)",
            "\u001b[0;32m<ipython-input-36-038ef7e292fc>\u001b[0m in \u001b[0;36m<cell line: 1>\u001b[0;34m()\u001b[0m\n\u001b[0;32m----> 1\u001b[0;31m \u001b[0mprint\u001b[0m\u001b[0;34m(\u001b[0m\u001b[0;34m\"print(Fuera de la funcion) nombre_local: \"\u001b[0m\u001b[0;34m,\u001b[0m \u001b[0mnombre_local\u001b[0m\u001b[0;34m)\u001b[0m\u001b[0;34m\u001b[0m\u001b[0;34m\u001b[0m\u001b[0m\n\u001b[0m",
            "\u001b[0;31mNameError\u001b[0m: name 'nombre_local' is not defined"
          ]
        }
      ]
    }
  ]
}