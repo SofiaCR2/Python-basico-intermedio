{
  "nbformat": 4,
  "nbformat_minor": 0,
  "metadata": {
    "colab": {
      "provenance": [],
      "toc_visible": true,
      "authorship_tag": "ABX9TyPocImJFYeIWV+Abp+k/eje",
      "include_colab_link": true
    },
    "kernelspec": {
      "name": "python3",
      "display_name": "Python 3"
    },
    "language_info": {
      "name": "python"
    }
  },
  "cells": [
    {
      "cell_type": "markdown",
      "metadata": {
        "id": "view-in-github",
        "colab_type": "text"
      },
      "source": [
        "<a href=\"https://colab.research.google.com/github/SofiaCR2/Python-basico-intermedio/blob/main/ch03_5_Funciones.ipynb\" target=\"_parent\"><img src=\"https://colab.research.google.com/assets/colab-badge.svg\" alt=\"Open In Colab\"/></a>"
      ]
    },
    {
      "cell_type": "markdown",
      "source": [
        "#Funciones\n",
        "una funcion es un bloque de codigo (grupo de instrcciones) que se ejecuta cuando es llamado\n",
        "\n",
        "Son usada para guardar algún proceso (**algoritmo**) para que regrese que un valor.\n",
        "\n",
        "Nos sirven para crear bloques de código y mantener nuestros códigos ordeandos\n",
        "\n",
        "**Ventajas:**\n",
        "\n",
        "- Evitan que repitamos código cada que queramos realizar la misma tarea\n",
        "- Reducen el tamaño de nuestro código\n",
        "- Mejoran la legibilidad\n",
        "- Se reduce el tiempo de codificación (escribir código)\n",
        "- Solo se tiene que escribir una rutina una vez\n",
        "- Reducen el tiempo de depuración\n",
        "- Mejoran la mantenibilidad\n",
        "\n",
        "<br>\n",
        "\n",
        "**Palabras claves:** `def`"
      ],
      "metadata": {
        "id": "lu-Bh7JaK_gL"
      }
    },
    {
      "cell_type": "markdown",
      "source": [
        "## Partes de una función\n",
        "\n",
        "1. Inicia con la palabra clave `def` para indicar a Python que vamos a crear una función.\n",
        "2. Es seguida por el nombre de la función (sin espacios).\n",
        "3. Se colocan los paramétros que queremos en nuestra función (es opcional, entonces podemos tener desde 0 parámetros hasta tener \"ilimitados\").\n",
        "4. El cuerpo de la función (bloque de código), inicia en la siguiente línea, utilizando una identación (4 espacios en blanco)."
      ],
      "metadata": {
        "id": "0O_85zwzys5-"
      }
    },
    {
      "cell_type": "code",
      "execution_count": null,
      "metadata": {
        "id": "dr6xBZ_vK502"
      },
      "outputs": [],
      "source": [
        "def nombre_funcion(argumentos):\n",
        "  # Aquí inicia bloque de código\n",
        "  \"\"\"Imprime el argumento dado\"\"\"\n",
        "  #bloque de código\n",
        "  print('El argumento es:', argumentos)\n",
        "  # Aquí termina el bloque de código"
      ]
    },
    {
      "cell_type": "markdown",
      "metadata": {
        "id": "D66KvV06pQm3"
      },
      "source": [
        "**Nota:**\n",
        "- El nombre de la función deber ser sin espacios\n",
        "- Una función puede ir sin argumentos"
      ]
    },
    {
      "cell_type": "code",
      "source": [
        "nombre_funcion(123)\n",
        "nombre_funcion('texto')"
      ],
      "metadata": {
        "colab": {
          "base_uri": "https://localhost:8080/"
        },
        "id": "3lUsbcw8zf2X",
        "outputId": "22ef4005-7069-4fb1-ac13-79dbb322f2f0"
      },
      "execution_count": null,
      "outputs": [
        {
          "output_type": "stream",
          "name": "stdout",
          "text": [
            "El argumento es: 123\n",
            "El argumento es: texto\n"
          ]
        }
      ]
    },
    {
      "cell_type": "markdown",
      "source": [
        "## Llamando una función\n",
        "Para **llamar** una función ó usarla, escribimos el nombre de la función seguido de paréntesis. Recuerda que si abres paréntesis, debes cerralo."
      ],
      "metadata": {
        "id": "thV4NbPSzY8V"
      }
    },
    {
      "cell_type": "code",
      "source": [
        "#Para crear una funcion en python\n",
        "#usamos la palabra reservada 'def'\n",
        "\n",
        "def mi_primer_funcion():\n",
        "  print(\"Hola, estoy dentro de la funcion 😎\")"
      ],
      "metadata": {
        "id": "DwuYMb0Ez2I9"
      },
      "execution_count": null,
      "outputs": []
    },
    {
      "cell_type": "markdown",
      "source": [
        "Puedes notar que la funcion no tiene argumentos"
      ],
      "metadata": {
        "id": "408jzgST0DGr"
      }
    },
    {
      "cell_type": "code",
      "source": [
        "mi_primer_funcion()"
      ],
      "metadata": {
        "colab": {
          "base_uri": "https://localhost:8080/"
        },
        "id": "-VhMxXC20CQV",
        "outputId": "b5609afc-9ab1-4e88-814d-ef30b0769d41"
      },
      "execution_count": null,
      "outputs": [
        {
          "output_type": "stream",
          "name": "stdout",
          "text": [
            "Hola, estoy dentro de la funcion 😎\n"
          ]
        }
      ]
    },
    {
      "cell_type": "code",
      "source": [
        "mi_varible = mi_primer_funcion()"
      ],
      "metadata": {
        "colab": {
          "base_uri": "https://localhost:8080/"
        },
        "id": "ZXhl2pA_0hhk",
        "outputId": "db81c3ab-2bf7-4d66-9b73-df85cf7e3aae"
      },
      "execution_count": null,
      "outputs": [
        {
          "output_type": "stream",
          "name": "stdout",
          "text": [
            "Hola, estoy dentro de la funcion 😎\n"
          ]
        }
      ]
    },
    {
      "cell_type": "code",
      "source": [
        "otra_variable = 2"
      ],
      "metadata": {
        "id": "kxktl9LYxeCa"
      },
      "execution_count": 1,
      "outputs": []
    },
    {
      "cell_type": "code",
      "source": [
        "print(mi_varible)"
      ],
      "metadata": {
        "colab": {
          "base_uri": "https://localhost:8080/"
        },
        "id": "1whbUZUX0kJS",
        "outputId": "4494208f-0eb6-4699-944c-d2d8cc3ad385"
      },
      "execution_count": null,
      "outputs": [
        {
          "output_type": "stream",
          "name": "stdout",
          "text": [
            "None\n"
          ]
        }
      ]
    },
    {
      "cell_type": "code",
      "source": [
        "type(mi_varible)"
      ],
      "metadata": {
        "colab": {
          "base_uri": "https://localhost:8080/"
        },
        "id": "zYcot8OQ0mjs",
        "outputId": "b838dc96-08f0-48c1-f878-d3051098de15"
      },
      "execution_count": null,
      "outputs": [
        {
          "output_type": "execute_result",
          "data": {
            "text/plain": [
              "NoneType"
            ]
          },
          "metadata": {},
          "execution_count": 7
        }
      ]
    },
    {
      "cell_type": "code",
      "source": [
        "#borrar una funcion\n",
        "del mi_primer_funcion"
      ],
      "metadata": {
        "id": "3RFNGNQw0pMX"
      },
      "execution_count": null,
      "outputs": []
    },
    {
      "cell_type": "markdown",
      "source": [
        "## Argumentos\n",
        "\n",
        "- Es la información adicional (parámetros) que le pasamos a nuestra función y que necesita para ejecutarse.\n",
        "- Están dentro de los paréntesis (después del nombre).\n",
        "- Podemos agregar todos los argumentos que queramos, separados por coma."
      ],
      "metadata": {
        "id": "vs4GV4HnxkJ_"
      }
    },
    {
      "cell_type": "code",
      "source": [
        "def mi_segunda_funcion(nombre):\n",
        "  print('Hola ' + nombre + \", estamos dentro de una función\")"
      ],
      "metadata": {
        "id": "BD8ItbfZxk_f"
      },
      "execution_count": 2,
      "outputs": []
    },
    {
      "cell_type": "code",
      "source": [
        "mi_segunda_funcion(\"Jess\")"
      ],
      "metadata": {
        "colab": {
          "base_uri": "https://localhost:8080/"
        },
        "id": "Gg8EtBHjxx1v",
        "outputId": "9daf144d-2469-4458-a108-dcc7c821fa22"
      },
      "execution_count": 3,
      "outputs": [
        {
          "output_type": "stream",
          "name": "stdout",
          "text": [
            "Hola Jess, estamos dentro de una función\n"
          ]
        }
      ]
    },
    {
      "cell_type": "code",
      "source": [
        "def mi_segunda_funcion(nombre='Cuau'):\n",
        "  print('Hola ' + nombre + \", estamos dentro de una función. Buenas noches!\")"
      ],
      "metadata": {
        "id": "OOZVNIOMx06H"
      },
      "execution_count": 4,
      "outputs": []
    },
    {
      "cell_type": "code",
      "source": [
        "mi_segunda_funcion()"
      ],
      "metadata": {
        "id": "aurJDjANx3J2"
      },
      "execution_count": null,
      "outputs": []
    },
    {
      "cell_type": "code",
      "source": [
        "mi_segunda_funcion(nombre='México')"
      ],
      "metadata": {
        "colab": {
          "base_uri": "https://localhost:8080/"
        },
        "id": "fcZRhzVnx5Bv",
        "outputId": "c06f08ca-fc5b-4729-baf7-6ab178b78c48"
      },
      "execution_count": 5,
      "outputs": [
        {
          "output_type": "stream",
          "name": "stdout",
          "text": [
            "Hola México, estamos dentro de una función. Buenas noches!\n"
          ]
        }
      ]
    },
    {
      "cell_type": "code",
      "source": [
        "for name in ['Brenda', 'Violeta', 'Cuau']:\n",
        "  mi_segunda_funcion(name)"
      ],
      "metadata": {
        "colab": {
          "base_uri": "https://localhost:8080/"
        },
        "id": "iJGHfMIIx8mx",
        "outputId": "3e4143ed-57fe-41c7-caeb-d73da1474f72"
      },
      "execution_count": 6,
      "outputs": [
        {
          "output_type": "stream",
          "name": "stdout",
          "text": [
            "Hola Brenda, estamos dentro de una función. Buenas noches!\n",
            "Hola Violeta, estamos dentro de una función. Buenas noches!\n",
            "Hola Cuau, estamos dentro de una función. Buenas noches!\n"
          ]
        }
      ]
    },
    {
      "cell_type": "markdown",
      "source": [
        "# Número de argumentos\n",
        "<br>\n",
        "Una función debería ser llamada con el número correcto de argumentos. Si nuestra función tiene dos argumentos cuando es creada, cuando la llamemos, debería tener dos argumentos."
      ],
      "metadata": {
        "id": "3GXLXrGAyFiU"
      }
    },
    {
      "cell_type": "markdown",
      "source": [
        "I. Sin argumentos"
      ],
      "metadata": {
        "id": "kBqRndaryK3O"
      }
    },
    {
      "cell_type": "code",
      "source": [
        "def funcion_sin_argumentos():\n",
        "  print('Soy una función sin argumentos :D')"
      ],
      "metadata": {
        "id": "CFNJsoauyJHf"
      },
      "execution_count": 7,
      "outputs": []
    },
    {
      "cell_type": "code",
      "source": [
        "funcion_sin_argumentos()"
      ],
      "metadata": {
        "colab": {
          "base_uri": "https://localhost:8080/"
        },
        "id": "uQBXElAayN2K",
        "outputId": "2002edb8-0c21-494a-b436-222c1c1db6f0"
      },
      "execution_count": 8,
      "outputs": [
        {
          "output_type": "stream",
          "name": "stdout",
          "text": [
            "Soy una función sin argumentos :D\n"
          ]
        }
      ]
    },
    {
      "cell_type": "markdown",
      "source": [
        "II. con argumentos"
      ],
      "metadata": {
        "id": "SnU8M7UAyQFo"
      }
    },
    {
      "cell_type": "code",
      "source": [
        "def otra_funcion(nombre, correo_electronico):\n",
        "  print('El correo de ' + nombre + ' es ' + correo_electronico)"
      ],
      "metadata": {
        "id": "p6-W7lyYySLs"
      },
      "execution_count": 9,
      "outputs": []
    },
    {
      "cell_type": "code",
      "source": [
        "otra_funcion(\"Oliver\")"
      ],
      "metadata": {
        "colab": {
          "base_uri": "https://localhost:8080/",
          "height": 165
        },
        "id": "5AqF1_l6yUOR",
        "outputId": "027a60c3-7b09-4336-b5bc-9ba5fc12e7b0"
      },
      "execution_count": 10,
      "outputs": [
        {
          "output_type": "error",
          "ename": "TypeError",
          "evalue": "ignored",
          "traceback": [
            "\u001b[0;31m---------------------------------------------------------------------------\u001b[0m",
            "\u001b[0;31mTypeError\u001b[0m                                 Traceback (most recent call last)",
            "\u001b[0;32m<ipython-input-10-e7fcb9a64d1f>\u001b[0m in \u001b[0;36m<cell line: 1>\u001b[0;34m()\u001b[0m\n\u001b[0;32m----> 1\u001b[0;31m \u001b[0motra_funcion\u001b[0m\u001b[0;34m(\u001b[0m\u001b[0;34m\"Oliver\"\u001b[0m\u001b[0;34m)\u001b[0m\u001b[0;34m\u001b[0m\u001b[0;34m\u001b[0m\u001b[0m\n\u001b[0m",
            "\u001b[0;31mTypeError\u001b[0m: otra_funcion() missing 1 required positional argument: 'correo_electronico'"
          ]
        }
      ]
    },
    {
      "cell_type": "code",
      "source": [
        "otra_funcion(\"oliver@correo.com.mx\")"
      ],
      "metadata": {
        "colab": {
          "base_uri": "https://localhost:8080/",
          "height": 165
        },
        "id": "nes7qRjAyWes",
        "outputId": "92ea93a8-6135-442f-9a48-d93c50fe2241"
      },
      "execution_count": 11,
      "outputs": [
        {
          "output_type": "error",
          "ename": "TypeError",
          "evalue": "ignored",
          "traceback": [
            "\u001b[0;31m---------------------------------------------------------------------------\u001b[0m",
            "\u001b[0;31mTypeError\u001b[0m                                 Traceback (most recent call last)",
            "\u001b[0;32m<ipython-input-11-7f74f211d1cf>\u001b[0m in \u001b[0;36m<cell line: 1>\u001b[0;34m()\u001b[0m\n\u001b[0;32m----> 1\u001b[0;31m \u001b[0motra_funcion\u001b[0m\u001b[0;34m(\u001b[0m\u001b[0;34m\"oliver@correo.com.mx\"\u001b[0m\u001b[0;34m)\u001b[0m\u001b[0;34m\u001b[0m\u001b[0;34m\u001b[0m\u001b[0m\n\u001b[0m",
            "\u001b[0;31mTypeError\u001b[0m: otra_funcion() missing 1 required positional argument: 'correo_electronico'"
          ]
        }
      ]
    },
    {
      "cell_type": "code",
      "source": [
        "otra_funcion(correo_electronico=\"oliver@correo.com.mx\")"
      ],
      "metadata": {
        "colab": {
          "base_uri": "https://localhost:8080/",
          "height": 165
        },
        "id": "65pYdQroyb_Q",
        "outputId": "b469dd10-1973-443f-a1c2-c7cd155e0f83"
      },
      "execution_count": 12,
      "outputs": [
        {
          "output_type": "error",
          "ename": "TypeError",
          "evalue": "ignored",
          "traceback": [
            "\u001b[0;31m---------------------------------------------------------------------------\u001b[0m",
            "\u001b[0;31mTypeError\u001b[0m                                 Traceback (most recent call last)",
            "\u001b[0;32m<ipython-input-12-4957a7092085>\u001b[0m in \u001b[0;36m<cell line: 1>\u001b[0;34m()\u001b[0m\n\u001b[0;32m----> 1\u001b[0;31m \u001b[0motra_funcion\u001b[0m\u001b[0;34m(\u001b[0m\u001b[0mcorreo_electronico\u001b[0m\u001b[0;34m=\u001b[0m\u001b[0;34m\"oliver@correo.com.mx\"\u001b[0m\u001b[0;34m)\u001b[0m\u001b[0;34m\u001b[0m\u001b[0;34m\u001b[0m\u001b[0m\n\u001b[0m",
            "\u001b[0;31mTypeError\u001b[0m: otra_funcion() missing 1 required positional argument: 'nombre'"
          ]
        }
      ]
    },
    {
      "cell_type": "code",
      "source": [
        "otra_funcion(\"Oliver\", \"oliver@correo.com.mx\")"
      ],
      "metadata": {
        "colab": {
          "base_uri": "https://localhost:8080/"
        },
        "id": "nA8efdSDydDd",
        "outputId": "2636e1d8-4381-4f88-d5a2-b002e7910997"
      },
      "execution_count": 13,
      "outputs": [
        {
          "output_type": "stream",
          "name": "stdout",
          "text": [
            "El correo de Oliver es oliver@correo.com.mx\n"
          ]
        }
      ]
    },
    {
      "cell_type": "code",
      "source": [
        "otra_funcion(nombre=\"Oliver\", correo_electronico=\"oliver@correo.com.mx\")"
      ],
      "metadata": {
        "colab": {
          "base_uri": "https://localhost:8080/"
        },
        "id": "3WKDjarjyfCC",
        "outputId": "d55dac7c-1eab-49fe-b8a0-cb357ae6dcf1"
      },
      "execution_count": 15,
      "outputs": [
        {
          "output_type": "stream",
          "name": "stdout",
          "text": [
            "El correo de Oliver es oliver@correo.com.mx\n"
          ]
        }
      ]
    },
    {
      "cell_type": "code",
      "source": [
        "otra_funcion(correo_electronico=\"Oliver\", nombre=\"oliver@correo.com.mx\")"
      ],
      "metadata": {
        "colab": {
          "base_uri": "https://localhost:8080/"
        },
        "id": "3t9eqCjHyoy_",
        "outputId": "2fa7c2f4-ab31-4b4d-885c-54d7017b93c6"
      },
      "execution_count": 16,
      "outputs": [
        {
          "output_type": "stream",
          "name": "stdout",
          "text": [
            "El correo de oliver@correo.com.mx es Oliver\n"
          ]
        }
      ]
    },
    {
      "cell_type": "markdown",
      "source": [
        "**Argumentos \"infinitos\"**\n",
        "<br>\n",
        "Python tiene el parámetro especial *args, para pasar de forma opcional, un número de variables de argumentos posicionales.\n",
        "\n",
        "Palabra clave: **return** envía objetos (números, texto, tablas, funciones, None, boleanos) fuera de la función. Regresa un valor."
      ],
      "metadata": {
        "id": "EVf_6vlzytoK"
      }
    },
    {
      "cell_type": "code",
      "source": [
        "def suma(x, y):\n",
        "    return x + y\n",
        "\n",
        "suma(7, 20)"
      ],
      "metadata": {
        "colab": {
          "base_uri": "https://localhost:8080/"
        },
        "id": "xXO3I-ZBywE4",
        "outputId": "51fa14e7-87f7-4bbb-ec80-84a41342d50a"
      },
      "execution_count": 17,
      "outputs": [
        {
          "output_type": "execute_result",
          "data": {
            "text/plain": [
              "27"
            ]
          },
          "metadata": {},
          "execution_count": 17
        }
      ]
    },
    {
      "cell_type": "code",
      "source": [
        "resultado = suma(7, 20)"
      ],
      "metadata": {
        "id": "feTb0MRzyx1M"
      },
      "execution_count": 18,
      "outputs": []
    },
    {
      "cell_type": "code",
      "source": [
        "suma(2, 30, 12)"
      ],
      "metadata": {
        "colab": {
          "base_uri": "https://localhost:8080/",
          "height": 165
        },
        "id": "9JvalxTsyynX",
        "outputId": "aeaaf203-fc9d-4b4b-e976-2e7bd44100ef"
      },
      "execution_count": 19,
      "outputs": [
        {
          "output_type": "error",
          "ename": "TypeError",
          "evalue": "ignored",
          "traceback": [
            "\u001b[0;31m---------------------------------------------------------------------------\u001b[0m",
            "\u001b[0;31mTypeError\u001b[0m                                 Traceback (most recent call last)",
            "\u001b[0;32m<ipython-input-19-d6c2bafa6ef3>\u001b[0m in \u001b[0;36m<cell line: 1>\u001b[0;34m()\u001b[0m\n\u001b[0;32m----> 1\u001b[0;31m \u001b[0msuma\u001b[0m\u001b[0;34m(\u001b[0m\u001b[0;36m2\u001b[0m\u001b[0;34m,\u001b[0m \u001b[0;36m30\u001b[0m\u001b[0;34m,\u001b[0m \u001b[0;36m12\u001b[0m\u001b[0;34m)\u001b[0m\u001b[0;34m\u001b[0m\u001b[0;34m\u001b[0m\u001b[0m\n\u001b[0m",
            "\u001b[0;31mTypeError\u001b[0m: suma() takes 2 positional arguments but 3 were given"
          ]
        }
      ]
    },
    {
      "cell_type": "code",
      "source": [
        "mi_lista = [1, 2, 3]\n",
        "print(mi_lista)\n",
        "print(*mi_lista)"
      ],
      "metadata": {
        "colab": {
          "base_uri": "https://localhost:8080/"
        },
        "id": "pKjBtS3Xy3c2",
        "outputId": "869d41ad-7861-42ad-ce21-f31a5a0f6eda"
      },
      "execution_count": 20,
      "outputs": [
        {
          "output_type": "stream",
          "name": "stdout",
          "text": [
            "[1, 2, 3]\n",
            "1 2 3\n"
          ]
        }
      ]
    },
    {
      "cell_type": "code",
      "source": [
        "def suma(*numeros):\n",
        "  print(type(numeros))\n",
        "  value = 0\n",
        "  for n in numeros:\n",
        "    value += n\n",
        "  return value"
      ],
      "metadata": {
        "id": "r8qGCbT5y4To"
      },
      "execution_count": 21,
      "outputs": []
    },
    {
      "cell_type": "code",
      "source": [
        "suma(2, 30, 12, 2, 5, 10)"
      ],
      "metadata": {
        "colab": {
          "base_uri": "https://localhost:8080/"
        },
        "id": "6fO9Skiwy7ny",
        "outputId": "afe94353-6e14-4c98-c26f-0ad3e404f3e0"
      },
      "execution_count": 22,
      "outputs": [
        {
          "output_type": "stream",
          "name": "stdout",
          "text": [
            "<class 'tuple'>\n"
          ]
        },
        {
          "output_type": "execute_result",
          "data": {
            "text/plain": [
              "61"
            ]
          },
          "metadata": {},
          "execution_count": 22
        }
      ]
    },
    {
      "cell_type": "markdown",
      "source": [
        "Resumiendo:\n",
        "- El símbolo `*` indica a python que habrá _argumentos posicionales variables_. `args` es usado por convención.\n",
        "- El párametro es una _tupla_\n",
        "- Es un párametro _opcional_\n",
        "- Son parámetros _posicionales_ (su valor depende la la posición en que sean pasados a la función)"
      ],
      "metadata": {
        "id": "20QLb8-gzBN_"
      }
    },
    {
      "cell_type": "markdown",
      "source": [
        "# Tipos de argumentos en Python\n",
        "<br>\n",
        "Recordemos que los argumentos, son los valores que nuestra función necesita para ejecutarse (funcionar). Tenemos 5 tipos de argumentos:\n",
        "\n",
        "1. Default (Predeterminado)\n",
        "2. Keyword (Palabra clave)\n",
        "3. Posicional (Posicional)\n",
        "4. Arbitrary positional (Posicional arbitrario)\n",
        "5. Arbitrary keyword (Palabra clave posicional)\n",
        "\n",
        "<br>"
      ],
      "metadata": {
        "id": "WZORB7FIzDWp"
      }
    },
    {
      "cell_type": "markdown",
      "source": [
        "### Default\n",
        "<br>\n",
        "\n",
        "- Son los valores que utilizados cuando definimos una función.\n",
        "- Si usa el operador `=` para asingar un valor default a un argumento\n",
        "- Puede haber cualquier número de argumentos default"
      ],
      "metadata": {
        "id": "BZPr2CM5zFc9"
      }
    },
    {
      "cell_type": "code",
      "source": [
        "help(round)"
      ],
      "metadata": {
        "colab": {
          "base_uri": "https://localhost:8080/"
        },
        "id": "9mStEpTEzCBL",
        "outputId": "cca7e3af-db7c-4b70-92f1-5c737e8cd1fd"
      },
      "execution_count": 23,
      "outputs": [
        {
          "output_type": "stream",
          "name": "stdout",
          "text": [
            "Help on built-in function round in module builtins:\n",
            "\n",
            "round(number, ndigits=None)\n",
            "    Round a number to a given precision in decimal digits.\n",
            "    \n",
            "    The return value is an integer if ndigits is omitted or None.  Otherwise\n",
            "    the return value has the same type as the number.  ndigits may be negative.\n",
            "\n"
          ]
        }
      ]
    },
    {
      "cell_type": "code",
      "source": [
        "ndigits = None\n",
        "if not ndigits:\n",
        "  ndigits = 0"
      ],
      "metadata": {
        "id": "GoRAidu1zPON"
      },
      "execution_count": 24,
      "outputs": []
    },
    {
      "cell_type": "code",
      "source": [
        "round(3.64)"
      ],
      "metadata": {
        "colab": {
          "base_uri": "https://localhost:8080/"
        },
        "id": "YnwCyXy6zSH0",
        "outputId": "3184516f-1964-4375-9027-de3ad9af71e8"
      },
      "execution_count": 25,
      "outputs": [
        {
          "output_type": "execute_result",
          "data": {
            "text/plain": [
              "4"
            ]
          },
          "metadata": {},
          "execution_count": 25
        }
      ]
    },
    {
      "cell_type": "code",
      "source": [
        "round(3.64, ndigits)"
      ],
      "metadata": {
        "colab": {
          "base_uri": "https://localhost:8080/"
        },
        "id": "SEp30z-kzY7q",
        "outputId": "c3b5688c-f141-40b2-a381-d01aece58e5c"
      },
      "execution_count": 26,
      "outputs": [
        {
          "output_type": "execute_result",
          "data": {
            "text/plain": [
              "4.0"
            ]
          },
          "metadata": {},
          "execution_count": 26
        }
      ]
    },
    {
      "cell_type": "code",
      "source": [
        "# Ejemplo\n",
        "def resta(x, y=3):\n",
        "  print(f'x: {x} ; y: {y}')\n",
        "  print(f'Resultado = {x - y}')"
      ],
      "metadata": {
        "id": "vnWx-i__zaqw"
      },
      "execution_count": 27,
      "outputs": []
    },
    {
      "cell_type": "code",
      "source": [
        "resta(2,3)"
      ],
      "metadata": {
        "colab": {
          "base_uri": "https://localhost:8080/"
        },
        "id": "y-yHKDi3zf9E",
        "outputId": "d6e607a7-5c31-4338-db26-660240214d53"
      },
      "execution_count": 28,
      "outputs": [
        {
          "output_type": "stream",
          "name": "stdout",
          "text": [
            "x: 2 ; y: 3\n",
            "Resultado = -1\n"
          ]
        }
      ]
    },
    {
      "cell_type": "code",
      "source": [
        "resta(2, z=3)"
      ],
      "metadata": {
        "colab": {
          "base_uri": "https://localhost:8080/",
          "height": 165
        },
        "id": "9Qn8_GF3zkVa",
        "outputId": "c10400ef-f7f3-4740-9714-112c89d3c5e1"
      },
      "execution_count": 29,
      "outputs": [
        {
          "output_type": "error",
          "ename": "TypeError",
          "evalue": "ignored",
          "traceback": [
            "\u001b[0;31m---------------------------------------------------------------------------\u001b[0m",
            "\u001b[0;31mTypeError\u001b[0m                                 Traceback (most recent call last)",
            "\u001b[0;32m<ipython-input-29-3e7968eaf17d>\u001b[0m in \u001b[0;36m<cell line: 1>\u001b[0;34m()\u001b[0m\n\u001b[0;32m----> 1\u001b[0;31m \u001b[0mresta\u001b[0m\u001b[0;34m(\u001b[0m\u001b[0;36m2\u001b[0m\u001b[0;34m,\u001b[0m \u001b[0mz\u001b[0m\u001b[0;34m=\u001b[0m\u001b[0;36m3\u001b[0m\u001b[0;34m)\u001b[0m\u001b[0;34m\u001b[0m\u001b[0;34m\u001b[0m\u001b[0m\n\u001b[0m",
            "\u001b[0;31mTypeError\u001b[0m: resta() got an unexpected keyword argument 'z'"
          ]
        }
      ]
    },
    {
      "cell_type": "code",
      "source": [
        "resta()"
      ],
      "metadata": {
        "colab": {
          "base_uri": "https://localhost:8080/",
          "height": 165
        },
        "id": "y_B0eYznzqri",
        "outputId": "2bd2f429-585e-4006-e4ca-6f36e3b04f43"
      },
      "execution_count": 32,
      "outputs": [
        {
          "output_type": "error",
          "ename": "TypeError",
          "evalue": "ignored",
          "traceback": [
            "\u001b[0;31m---------------------------------------------------------------------------\u001b[0m",
            "\u001b[0;31mTypeError\u001b[0m                                 Traceback (most recent call last)",
            "\u001b[0;32m<ipython-input-32-6d2da7c12523>\u001b[0m in \u001b[0;36m<cell line: 1>\u001b[0;34m()\u001b[0m\n\u001b[0;32m----> 1\u001b[0;31m \u001b[0mresta\u001b[0m\u001b[0;34m(\u001b[0m\u001b[0;34m)\u001b[0m\u001b[0;34m\u001b[0m\u001b[0;34m\u001b[0m\u001b[0m\n\u001b[0m",
            "\u001b[0;31mTypeError\u001b[0m: resta() missing 1 required positional argument: 'x'"
          ]
        }
      ]
    },
    {
      "cell_type": "code",
      "source": [
        "resta(4)"
      ],
      "metadata": {
        "colab": {
          "base_uri": "https://localhost:8080/"
        },
        "id": "nLcOSlfbzsUG",
        "outputId": "e93143b7-3b37-4e96-9a05-1f51249a622a"
      },
      "execution_count": 33,
      "outputs": [
        {
          "output_type": "stream",
          "name": "stdout",
          "text": [
            "x: 4 ; y: 3\n",
            "Resultado = 1\n"
          ]
        }
      ]
    },
    {
      "cell_type": "code",
      "source": [
        "resta(y=2)"
      ],
      "metadata": {
        "colab": {
          "base_uri": "https://localhost:8080/",
          "height": 165
        },
        "id": "OT-Oc4PAzxy0",
        "outputId": "62be3fd7-9201-47bf-b559-14e19df893e7"
      },
      "execution_count": 34,
      "outputs": [
        {
          "output_type": "error",
          "ename": "TypeError",
          "evalue": "ignored",
          "traceback": [
            "\u001b[0;31m---------------------------------------------------------------------------\u001b[0m",
            "\u001b[0;31mTypeError\u001b[0m                                 Traceback (most recent call last)",
            "\u001b[0;32m<ipython-input-34-3ebeaf02635c>\u001b[0m in \u001b[0;36m<cell line: 1>\u001b[0;34m()\u001b[0m\n\u001b[0;32m----> 1\u001b[0;31m \u001b[0mresta\u001b[0m\u001b[0;34m(\u001b[0m\u001b[0my\u001b[0m\u001b[0;34m=\u001b[0m\u001b[0;36m2\u001b[0m\u001b[0;34m)\u001b[0m\u001b[0;34m\u001b[0m\u001b[0;34m\u001b[0m\u001b[0m\n\u001b[0m",
            "\u001b[0;31mTypeError\u001b[0m: resta() missing 1 required positional argument: 'x'"
          ]
        }
      ]
    },
    {
      "cell_type": "code",
      "source": [
        "resta(y=3, x=2)"
      ],
      "metadata": {
        "colab": {
          "base_uri": "https://localhost:8080/"
        },
        "id": "qwpgZp_XzzkV",
        "outputId": "f5d5e1ef-13fc-4771-d6d4-fcc2c8f0b028"
      },
      "execution_count": 35,
      "outputs": [
        {
          "output_type": "stream",
          "name": "stdout",
          "text": [
            "x: 2 ; y: 3\n",
            "Resultado = -1\n"
          ]
        }
      ]
    },
    {
      "cell_type": "code",
      "source": [
        "resta(3, 2)"
      ],
      "metadata": {
        "colab": {
          "base_uri": "https://localhost:8080/"
        },
        "id": "7-r8tWluz1ap",
        "outputId": "1d002b64-88d2-4102-9bdf-adbfd5c26c9c"
      },
      "execution_count": 36,
      "outputs": [
        {
          "output_type": "stream",
          "name": "stdout",
          "text": [
            "x: 3 ; y: 2\n",
            "Resultado = 1\n"
          ]
        }
      ]
    },
    {
      "cell_type": "markdown",
      "source": [
        "## Keyword arguments\n",
        "\n",
        "<br>\n",
        "\n",
        "Cuando declaramos un parámetro mediante un **keyword argument** usaremos `karg = value`.\n",
        "\n",
        "<br>\n",
        "\n",
        "Cuando llamamos una función, los valores que pasemos a través de los argumentos, no necesitan estar en orden."
      ],
      "metadata": {
        "id": "s0HwA4OMz_FF"
      }
    },
    {
      "cell_type": "code",
      "source": [
        "# Ejemplo\n",
        "def resta(x=2, y=3):\n",
        "  print(f'x: {x} ; y: {y}')\n",
        "  print(f'Resultado = {x - y}')"
      ],
      "metadata": {
        "id": "joqGQEVe0ENf"
      },
      "execution_count": 37,
      "outputs": []
    },
    {
      "cell_type": "code",
      "source": [
        "resta(y=3, x=2)"
      ],
      "metadata": {
        "colab": {
          "base_uri": "https://localhost:8080/"
        },
        "id": "zLOPtOK10LDk",
        "outputId": "f2eb5a96-3c44-44dd-ea9a-3a5d425f4d2b"
      },
      "execution_count": 38,
      "outputs": [
        {
          "output_type": "stream",
          "name": "stdout",
          "text": [
            "x: 2 ; y: 3\n",
            "Resultado = -1\n"
          ]
        }
      ]
    },
    {
      "cell_type": "code",
      "source": [
        "resta(y=1, x=4)"
      ],
      "metadata": {
        "colab": {
          "base_uri": "https://localhost:8080/"
        },
        "id": "7vYicLbo0MsJ",
        "outputId": "e90ab718-b94f-476d-f2a4-45312c033471"
      },
      "execution_count": 39,
      "outputs": [
        {
          "output_type": "stream",
          "name": "stdout",
          "text": [
            "x: 4 ; y: 1\n",
            "Resultado = 3\n"
          ]
        }
      ]
    },
    {
      "cell_type": "code",
      "source": [
        "resta(1, 4)"
      ],
      "metadata": {
        "colab": {
          "base_uri": "https://localhost:8080/"
        },
        "id": "dSuToHEg0R8b",
        "outputId": "47d2d1f3-c906-43a8-baf3-23d279ff70bb"
      },
      "execution_count": 40,
      "outputs": [
        {
          "output_type": "stream",
          "name": "stdout",
          "text": [
            "x: 1 ; y: 4\n",
            "Resultado = -3\n"
          ]
        }
      ]
    },
    {
      "cell_type": "code",
      "source": [
        "resta()"
      ],
      "metadata": {
        "colab": {
          "base_uri": "https://localhost:8080/"
        },
        "id": "3cvZNC-P0S9l",
        "outputId": "b65f06ed-1007-43b9-c07c-7d6bb90cdacf"
      },
      "execution_count": 41,
      "outputs": [
        {
          "output_type": "stream",
          "name": "stdout",
          "text": [
            "x: 2 ; y: 3\n",
            "Resultado = -1\n"
          ]
        }
      ]
    },
    {
      "cell_type": "markdown",
      "source": [
        "## Positional Arguments\n",
        "\n",
        "<br>\n",
        "\n",
        "Son los argumentos en los que el orden importa."
      ],
      "metadata": {
        "id": "4yFIA21Y0WV6"
      }
    },
    {
      "cell_type": "code",
      "source": [
        "# Ejemplo\n",
        "def resta(x, y):\n",
        "  print(f'x: {x} ; y: {y}')\n",
        "  print(f'Resultado = {x - y}')"
      ],
      "metadata": {
        "id": "Qjuco0cD0fSM"
      },
      "execution_count": 42,
      "outputs": []
    },
    {
      "cell_type": "code",
      "source": [
        "resta()"
      ],
      "metadata": {
        "colab": {
          "base_uri": "https://localhost:8080/",
          "height": 165
        },
        "id": "NSjhMaUc0htr",
        "outputId": "e7341871-cd8f-4962-fc9f-c85f7caac33f"
      },
      "execution_count": 43,
      "outputs": [
        {
          "output_type": "error",
          "ename": "TypeError",
          "evalue": "ignored",
          "traceback": [
            "\u001b[0;31m---------------------------------------------------------------------------\u001b[0m",
            "\u001b[0;31mTypeError\u001b[0m                                 Traceback (most recent call last)",
            "\u001b[0;32m<ipython-input-43-6d2da7c12523>\u001b[0m in \u001b[0;36m<cell line: 1>\u001b[0;34m()\u001b[0m\n\u001b[0;32m----> 1\u001b[0;31m \u001b[0mresta\u001b[0m\u001b[0;34m(\u001b[0m\u001b[0;34m)\u001b[0m\u001b[0;34m\u001b[0m\u001b[0;34m\u001b[0m\u001b[0m\n\u001b[0m",
            "\u001b[0;31mTypeError\u001b[0m: resta() missing 2 required positional arguments: 'x' and 'y'"
          ]
        }
      ]
    },
    {
      "cell_type": "code",
      "source": [
        "resta(1, 2)"
      ],
      "metadata": {
        "colab": {
          "base_uri": "https://localhost:8080/"
        },
        "id": "JopN2cKl0kPq",
        "outputId": "f2b15a18-e145-4111-bf16-3907b5cda57f"
      },
      "execution_count": 47,
      "outputs": [
        {
          "output_type": "stream",
          "name": "stdout",
          "text": [
            "x: 1 ; y: 2\n",
            "Resultado = -1\n"
          ]
        }
      ]
    },
    {
      "cell_type": "code",
      "source": [],
      "metadata": {
        "id": "uUaXf3vP05pV"
      },
      "execution_count": null,
      "outputs": []
    },
    {
      "cell_type": "code",
      "source": [
        "resta(2, 1)"
      ],
      "metadata": {
        "colab": {
          "base_uri": "https://localhost:8080/"
        },
        "id": "TVW1-8Q60mu0",
        "outputId": "3735a227-d19f-44e5-9e6d-0934847cc630"
      },
      "execution_count": 45,
      "outputs": [
        {
          "output_type": "stream",
          "name": "stdout",
          "text": [
            "x: 2 ; y: 1\n",
            "Resultado = 1\n"
          ]
        }
      ]
    },
    {
      "cell_type": "markdown",
      "source": [
        "**Cosas importantes para recordar**\n",
        "\n",
        "- Los argumentos **default** deberían ir después de los argumentos **no-default**\n",
        "- Argumentos **keyword** deberían ir después de los **positional**\n",
        "- Los argumentos **default** son opcionales"
      ],
      "metadata": {
        "id": "BeHzGuvw0qV3"
      }
    },
    {
      "cell_type": "code",
      "source": [
        "def resta(y=5, x):\n",
        "    return x - y"
      ],
      "metadata": {
        "colab": {
          "base_uri": "https://localhost:8080/",
          "height": 130
        },
        "id": "GSiOtwBQ0xTY",
        "outputId": "25b456ad-0af7-4c65-c6d4-be59b4a4abcc"
      },
      "execution_count": 50,
      "outputs": [
        {
          "output_type": "error",
          "ename": "SyntaxError",
          "evalue": "ignored",
          "traceback": [
            "\u001b[0;36m  File \u001b[0;32m\"<ipython-input-50-1e5b7627c4d4>\"\u001b[0;36m, line \u001b[0;32m1\u001b[0m\n\u001b[0;31m    def resta(y=5, x):\u001b[0m\n\u001b[0m                   ^\u001b[0m\n\u001b[0;31mSyntaxError\u001b[0m\u001b[0;31m:\u001b[0m non-default argument follows default argument\n"
          ]
        }
      ]
    },
    {
      "cell_type": "code",
      "source": [
        "def resta(x, y=5):\n",
        "    return x - y"
      ],
      "metadata": {
        "id": "uTs4SV0T06zZ"
      },
      "execution_count": 52,
      "outputs": []
    },
    {
      "cell_type": "code",
      "source": [
        "resta(x=5, 2)"
      ],
      "metadata": {
        "colab": {
          "base_uri": "https://localhost:8080/",
          "height": 130
        },
        "id": "cO3K1nBj08Tz",
        "outputId": "6d2e5713-0e43-4582-c0a9-478c5c124096"
      },
      "execution_count": 49,
      "outputs": [
        {
          "output_type": "error",
          "ename": "SyntaxError",
          "evalue": "ignored",
          "traceback": [
            "\u001b[0;36m  File \u001b[0;32m\"<ipython-input-49-24e0441e0b29>\"\u001b[0;36m, line \u001b[0;32m1\u001b[0m\n\u001b[0;31m    resta(x=5, 2)\u001b[0m\n\u001b[0m                ^\u001b[0m\n\u001b[0;31mSyntaxError\u001b[0m\u001b[0;31m:\u001b[0m positional argument follows keyword argument\n"
          ]
        }
      ]
    },
    {
      "cell_type": "code",
      "source": [
        "resta(2, x=5)"
      ],
      "metadata": {
        "colab": {
          "base_uri": "https://localhost:8080/",
          "height": 165
        },
        "id": "9kgLQd9U1AM8",
        "outputId": "1050c312-fefe-4978-b3d6-18fa21ad2a05"
      },
      "execution_count": 53,
      "outputs": [
        {
          "output_type": "error",
          "ename": "TypeError",
          "evalue": "ignored",
          "traceback": [
            "\u001b[0;31m---------------------------------------------------------------------------\u001b[0m",
            "\u001b[0;31mTypeError\u001b[0m                                 Traceback (most recent call last)",
            "\u001b[0;32m<ipython-input-53-4b9f67d47a56>\u001b[0m in \u001b[0;36m<cell line: 1>\u001b[0;34m()\u001b[0m\n\u001b[0;32m----> 1\u001b[0;31m \u001b[0mresta\u001b[0m\u001b[0;34m(\u001b[0m\u001b[0;36m2\u001b[0m\u001b[0;34m,\u001b[0m \u001b[0mx\u001b[0m\u001b[0;34m=\u001b[0m\u001b[0;36m5\u001b[0m\u001b[0;34m)\u001b[0m\u001b[0;34m\u001b[0m\u001b[0;34m\u001b[0m\u001b[0m\n\u001b[0m",
            "\u001b[0;31mTypeError\u001b[0m: resta() got multiple values for argument 'x'"
          ]
        }
      ]
    },
    {
      "cell_type": "code",
      "source": [
        "resta(2, y=5)"
      ],
      "metadata": {
        "colab": {
          "base_uri": "https://localhost:8080/"
        },
        "id": "ddpmJwco1B8u",
        "outputId": "c95dcf4c-1b06-4880-f68e-fc2db00a880d"
      },
      "execution_count": 54,
      "outputs": [
        {
          "output_type": "execute_result",
          "data": {
            "text/plain": [
              "-3"
            ]
          },
          "metadata": {},
          "execution_count": 54
        }
      ]
    },
    {
      "cell_type": "markdown",
      "source": [
        "# Temas avanzados\n",
        "\n",
        "*   Lambda (útiles en pandas y spark)\n",
        "*   Higher-order (funciones que usan otras funciones, funciones que toman funciones como argumentos, funciones que regresan una función)\n",
        "* Nested (funciones definidas dentro de otras funciones)\n",
        "* Decorators: extienden el comportamiento de otra función (sin tener que modificar manualmente la función)\n"
      ],
      "metadata": {
        "id": "OFDyIgZ91J_0"
      }
    },
    {
      "cell_type": "markdown",
      "source": [],
      "metadata": {
        "id": "f8rw41Rq1MGH"
      }
    },
    {
      "cell_type": "markdown",
      "source": [
        "#Creando una funion con argumentos\n",
        "\n",
        "Crando una funcion para obtener el área de un cuadrado"
      ],
      "metadata": {
        "id": "M330k1XXAfh6"
      }
    },
    {
      "cell_type": "code",
      "source": [
        "#NIVEL BASICO\n",
        "def area_cuadrado(lado):\n",
        "  '''Calcula el area dee un cuadrado'''\n",
        "  area = lado * lado\n",
        "  return area"
      ],
      "metadata": {
        "id": "txlXWKc9AoOo"
      },
      "execution_count": null,
      "outputs": []
    },
    {
      "cell_type": "code",
      "source": [
        "from typing import Union\n",
        "#puede regresar o resivir dos tipos de valores"
      ],
      "metadata": {
        "id": "7Ll7U43fCcNP"
      },
      "execution_count": null,
      "outputs": []
    },
    {
      "cell_type": "code",
      "source": [
        "#NIVEL INTERMEDIO-AVANZADO\n",
        "def area_cuadrado(lado: Union[int, float]) -> Union[int, float]:\n",
        "  '''Calcula el area dee un cuadrado'''\n",
        "  area = lado * lado\n",
        "  return area"
      ],
      "metadata": {
        "id": "8yrBLAZkCBGv"
      },
      "execution_count": null,
      "outputs": []
    },
    {
      "cell_type": "code",
      "source": [
        "area_cuadrado(4)"
      ],
      "metadata": {
        "colab": {
          "base_uri": "https://localhost:8080/"
        },
        "id": "zwO5zrl7B2Pt",
        "outputId": "c0d08b4d-6072-41a0-c49a-00213a078be1"
      },
      "execution_count": null,
      "outputs": [
        {
          "output_type": "execute_result",
          "data": {
            "text/plain": [
              "16"
            ]
          },
          "metadata": {},
          "execution_count": 9
        }
      ]
    },
    {
      "cell_type": "code",
      "source": [
        "help(area_cuadrado)"
      ],
      "metadata": {
        "colab": {
          "base_uri": "https://localhost:8080/"
        },
        "id": "3_El8A1RA-OU",
        "outputId": "546ad584-a3a4-4813-89a3-ba738d1c9156"
      },
      "execution_count": null,
      "outputs": [
        {
          "output_type": "stream",
          "name": "stdout",
          "text": [
            "Help on function area_cuadrado in module __main__:\n",
            "\n",
            "area_cuadrado(lado)\n",
            "    Calcula el area dee un cuadrado\n",
            "\n"
          ]
        }
      ]
    },
    {
      "cell_type": "markdown",
      "source": [
        "#Ejercicios"
      ],
      "metadata": {
        "id": "pAGvFmhlAWgT"
      }
    },
    {
      "cell_type": "markdown",
      "source": [
        "##Area y perimetro del rectangulo"
      ],
      "metadata": {
        "id": "l-5T9lcVCw5s"
      }
    },
    {
      "cell_type": "code",
      "source": [
        "def area_rectangulo(base: Union[int, float], altura: Union[int, float])-> Union[int, float]:\n",
        "  '''Calcula el area de un rectangulo '''\n",
        "  area = base * altura\n",
        "  return area"
      ],
      "metadata": {
        "id": "6AObu04yDS0_"
      },
      "execution_count": null,
      "outputs": []
    },
    {
      "cell_type": "code",
      "source": [
        "def perimetro_rectangulo(base: Union[int, float], altura: Union[int, float])-> Union[int, float]:\n",
        "  '''Calucla el perimetro de un rectangulo '''\n",
        "  perimetro = (2 * base) + (2 * altura)\n",
        "  return perimetro"
      ],
      "metadata": {
        "id": "bfDgFloKDySp"
      },
      "execution_count": null,
      "outputs": []
    },
    {
      "cell_type": "code",
      "source": [
        "area_rectangulo(2,1)"
      ],
      "metadata": {
        "colab": {
          "base_uri": "https://localhost:8080/"
        },
        "id": "viIS74nwENov",
        "outputId": "dde6ec81-cc81-45d6-b43b-83efc5208bbc"
      },
      "execution_count": null,
      "outputs": [
        {
          "output_type": "execute_result",
          "data": {
            "text/plain": [
              "2"
            ]
          },
          "metadata": {},
          "execution_count": 17
        }
      ]
    },
    {
      "cell_type": "code",
      "source": [
        "perimetro_rectangulo(2,3)"
      ],
      "metadata": {
        "colab": {
          "base_uri": "https://localhost:8080/"
        },
        "id": "godZ9GTPE2ET",
        "outputId": "d5d6da4d-fddc-4d82-e096-a1a2b9927b4c"
      },
      "execution_count": null,
      "outputs": [
        {
          "output_type": "execute_result",
          "data": {
            "text/plain": [
              "10"
            ]
          },
          "metadata": {},
          "execution_count": 18
        }
      ]
    },
    {
      "cell_type": "markdown",
      "source": [
        "## Area y perimetro del circulo"
      ],
      "metadata": {
        "id": "kbWrp6PYC8wC"
      }
    },
    {
      "cell_type": "code",
      "source": [
        "from math import pi\n",
        "from math import pow\n",
        "def area_circulo(r: Union[int, float])-> Union[int, float]:\n",
        "  '''Calcula el area de un circulo '''\n",
        "  area = pi * pow(r, 2)\n",
        "  return area"
      ],
      "metadata": {
        "id": "Zwye8uYlE4RF"
      },
      "execution_count": null,
      "outputs": []
    },
    {
      "cell_type": "code",
      "source": [
        "def perimetro_circulo(r: Union[int, float])-> Union[int, float]:\n",
        "  '''Calucla el perimetro de un circulo '''\n",
        "  perimetro = 2 * pi * r\n",
        "  return perimetro"
      ],
      "metadata": {
        "id": "ZubwxRyAF9DX"
      },
      "execution_count": null,
      "outputs": []
    },
    {
      "cell_type": "code",
      "source": [
        "area_circulo(2.5)"
      ],
      "metadata": {
        "colab": {
          "base_uri": "https://localhost:8080/"
        },
        "id": "-5Z8RX3rFk1q",
        "outputId": "daa0ec8f-01ff-4788-fb6c-27da94f96113"
      },
      "execution_count": null,
      "outputs": [
        {
          "output_type": "execute_result",
          "data": {
            "text/plain": [
              "19.634954084936208"
            ]
          },
          "metadata": {},
          "execution_count": 27
        }
      ]
    },
    {
      "cell_type": "code",
      "source": [
        "perimetro_circulo(4)"
      ],
      "metadata": {
        "colab": {
          "base_uri": "https://localhost:8080/"
        },
        "id": "Su-5wdNoGZg4",
        "outputId": "19ba5d1b-2cb1-471f-eee4-3c44400bd37d"
      },
      "execution_count": null,
      "outputs": [
        {
          "output_type": "execute_result",
          "data": {
            "text/plain": [
              "25.132741228718345"
            ]
          },
          "metadata": {},
          "execution_count": 26
        }
      ]
    },
    {
      "cell_type": "markdown",
      "source": [
        "#Alcance de las variables globales y locales"
      ],
      "metadata": {
        "id": "OwKj0D7CMYy4"
      }
    },
    {
      "cell_type": "code",
      "source": [
        "nombre_global = \"Cuau\"\n",
        "def mi_funcion(arg1, arg2):\n",
        "  print(\"print(Dentro de la funcion) nombre_global: \", nombre_global)\n",
        "  nombre_local = \"Jess\"\n",
        "  print(\"print(Dentro de la funcion) \\n\\targ1: \", arg1 , \"\\n\\targ2: \", arg2)\n",
        "  print(\"print(Dentro de la funcion) nombre_local: \", nombre_local)\n",
        "\n",
        "mi_funcion(1, \"manzana\")\n",
        "print(\"print(Fuera de la funcion) nombre_global: \", nombre_global)"
      ],
      "metadata": {
        "colab": {
          "base_uri": "https://localhost:8080/"
        },
        "id": "zaBr-iNXMX4U",
        "outputId": "1a0cb759-32b4-4592-e51b-62c70cd34a92"
      },
      "execution_count": null,
      "outputs": [
        {
          "output_type": "stream",
          "name": "stdout",
          "text": [
            "print(Dentro de la funcion) nombre_global:  Cuau\n",
            "print(Dentro de la funcion) \n",
            "\targ1:  1 \n",
            "\targ2:  manzana\n",
            "print(Dentro de la funcion) nombre_local:  Jess\n",
            "print(Fuera de la funcion) nombre_global:  Cuau\n"
          ]
        }
      ]
    },
    {
      "cell_type": "code",
      "source": [
        "print(\"print(Fuera de la funcion) nombre_local: \", nombre_local)"
      ],
      "metadata": {
        "colab": {
          "base_uri": "https://localhost:8080/",
          "height": 165
        },
        "id": "TE4__dPoOgYW",
        "outputId": "0c67a03e-a4d4-4912-e732-232963e7eb45"
      },
      "execution_count": null,
      "outputs": [
        {
          "output_type": "error",
          "ename": "NameError",
          "evalue": "ignored",
          "traceback": [
            "\u001b[0;31m---------------------------------------------------------------------------\u001b[0m",
            "\u001b[0;31mNameError\u001b[0m                                 Traceback (most recent call last)",
            "\u001b[0;32m<ipython-input-36-038ef7e292fc>\u001b[0m in \u001b[0;36m<cell line: 1>\u001b[0;34m()\u001b[0m\n\u001b[0;32m----> 1\u001b[0;31m \u001b[0mprint\u001b[0m\u001b[0;34m(\u001b[0m\u001b[0;34m\"print(Fuera de la funcion) nombre_local: \"\u001b[0m\u001b[0;34m,\u001b[0m \u001b[0mnombre_local\u001b[0m\u001b[0;34m)\u001b[0m\u001b[0;34m\u001b[0m\u001b[0;34m\u001b[0m\u001b[0m\n\u001b[0m",
            "\u001b[0;31mNameError\u001b[0m: name 'nombre_local' is not defined"
          ]
        }
      ]
    }
  ]
}