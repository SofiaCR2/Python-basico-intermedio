{
  "cells": [
    {
      "cell_type": "markdown",
      "metadata": {
        "id": "view-in-github",
        "colab_type": "text"
      },
      "source": [
        "<a href=\"https://colab.research.google.com/github/SofiaCR2/Python-basico-intermedio/blob/main/Actividad_7.ipynb\" target=\"_parent\"><img src=\"https://colab.research.google.com/assets/colab-badge.svg\" alt=\"Open In Colab\"/></a>"
      ]
    },
    {
      "cell_type": "markdown",
      "metadata": {
        "id": "pQmWIfc2v_4A"
      },
      "source": [
        "## 5.8 Ejercicios\n"
      ]
    },
    {
      "cell_type": "markdown",
      "source": [
        "Ejemplo 1. Imprime cada fruta en una lista de frutas:"
      ],
      "metadata": {
        "id": "NgIOc2nOLWPX"
      }
    },
    {
      "cell_type": "code",
      "source": [
        "fruits = [\"manzana\", \"platano\", \"cereza\"]\n",
        "contador = 0\n",
        "\n",
        "for i in fruits:\n",
        "  contador += 1\n",
        "  print(f'La fruta {contador} es: {i}')\n"
      ],
      "metadata": {
        "colab": {
          "base_uri": "https://localhost:8080/"
        },
        "id": "VR5EiTBVLVwv",
        "outputId": "547f3f8a-c349-4a25-f038-4c1e04f0bf79"
      },
      "execution_count": 1,
      "outputs": [
        {
          "output_type": "stream",
          "name": "stdout",
          "text": [
            "La fruta 1 es: manzana\n",
            "La fruta 2 es: platano\n",
            "La fruta 3 es: cereza\n"
          ]
        }
      ]
    },
    {
      "cell_type": "markdown",
      "source": [
        "Ejercicio: Ajustar el código para que pinte"
      ],
      "metadata": {
        "id": "lqmUY_zuMc-b"
      }
    },
    {
      "cell_type": "code",
      "source": [
        "adj = [\"roja\", \"grande\", \"dulce\"]\n",
        "fruits = [\"manzana\", \"platano\", \"cereza\"]\n",
        "\n",
        "for j in adj:\n",
        "  for k in fruits:\n",
        "    print(j,k)\n"
      ],
      "metadata": {
        "colab": {
          "base_uri": "https://localhost:8080/"
        },
        "id": "AGmvEWCVMRZY",
        "outputId": "105223be-8826-4442-9304-64105a031f67"
      },
      "execution_count": 2,
      "outputs": [
        {
          "output_type": "stream",
          "name": "stdout",
          "text": [
            "roja manzana\n",
            "roja platano\n",
            "roja cereza\n",
            "grande manzana\n",
            "grande platano\n",
            "grande cereza\n",
            "dulce manzana\n",
            "dulce platano\n",
            "dulce cereza\n"
          ]
        }
      ]
    },
    {
      "cell_type": "code",
      "source": [
        "adj = [\"roja\", \"grande\", \"dulce\"]\n",
        "fruits = [\"manzana\", \"platano\", \"cereza\"]\n",
        "i = 0\n",
        "j = 0\n",
        "contador_i = 1\n",
        "contador_j = 0\n",
        "\n",
        "for j in adj:\n",
        "  contador_j += 1\n",
        "  for i in fruits:\n",
        "    print(f'Fruta ({contador_j},{contador_i}): {j}, {i}')\n",
        "    contador_i += 1"
      ],
      "metadata": {
        "colab": {
          "base_uri": "https://localhost:8080/"
        },
        "id": "JkziziTcL0e7",
        "outputId": "16d735bf-d208-4ca4-b556-e2336af94acd"
      },
      "execution_count": 3,
      "outputs": [
        {
          "output_type": "stream",
          "name": "stdout",
          "text": [
            "Fruta (1,1): roja, manzana\n",
            "Fruta (1,2): roja, platano\n",
            "Fruta (1,3): roja, cereza\n",
            "Fruta (2,4): grande, manzana\n",
            "Fruta (2,5): grande, platano\n",
            "Fruta (2,6): grande, cereza\n",
            "Fruta (3,7): dulce, manzana\n",
            "Fruta (3,8): dulce, platano\n",
            "Fruta (3,9): dulce, cereza\n"
          ]
        }
      ]
    },
    {
      "cell_type": "markdown",
      "source": [
        "Ejercicio A.Escribir un programa que pregunte al usuario su edad y muestre por pantalla todos los años que ha cumplido (desde 1 hasta su edad).\n",
        "\n",
        "¿Cuántos años tienes?  5\n",
        "\n",
        "Has cumplido 1 años\n",
        "\n",
        "Has cumplido 2 años\n",
        "\n",
        "Has cumplido 3 años\n",
        "\n",
        "Has cumplido 4 años\n",
        "\n",
        "Has cumplido 5 años\n"
      ],
      "metadata": {
        "id": "qDN7-8ztSE41"
      }
    },
    {
      "cell_type": "code",
      "source": [
        "edad = int(input(\"¿Cuántos años tienes? \"))\n",
        "for i in range(1,edad+1):\n",
        "  print(f'Has cumplido {i} años')"
      ],
      "metadata": {
        "id": "39l6sSMUST36",
        "outputId": "608e217e-aeb4-4bf4-d295-4dc5f68b3663",
        "colab": {
          "base_uri": "https://localhost:8080/"
        }
      },
      "execution_count": 4,
      "outputs": [
        {
          "output_type": "stream",
          "name": "stdout",
          "text": [
            "¿Cuántos años tienes? 5\n",
            "Has cumplido 1 años\n",
            "Has cumplido 2 años\n",
            "Has cumplido 3 años\n",
            "Has cumplido 4 años\n",
            "Has cumplido 5 años\n"
          ]
        }
      ]
    },
    {
      "cell_type": "code",
      "source": [
        "edad1 = int(input(\"¿Cuántos años tienes? \"))\n",
        "for i in range(1,edad1+1):\n",
        "  print(f'Ha cumplido {i} años')"
      ],
      "metadata": {
        "colab": {
          "base_uri": "https://localhost:8080/"
        },
        "id": "kuA5ixYNIKqp",
        "outputId": "4725c94d-54e1-4726-da47-9313f292591f"
      },
      "execution_count": 5,
      "outputs": [
        {
          "output_type": "stream",
          "name": "stdout",
          "text": [
            "¿Cuántos años tienes? 5\n",
            "Ha cumplido 1 años\n",
            "Ha cumplido 2 años\n",
            "Ha cumplido 3 años\n",
            "Ha cumplido 4 años\n",
            "Ha cumplido 5 años\n"
          ]
        }
      ]
    },
    {
      "cell_type": "markdown",
      "source": [
        "Ejercicio A2. Realiza un programa que solicita al usuario ingresar números hasta que ingrese 0, luego muestra la suma de los números ingresados.\n"
      ],
      "metadata": {
        "id": "IK28e2x_Iid9"
      }
    },
    {
      "cell_type": "code",
      "source": [
        "suma = 0\n",
        "\n",
        "while True:\n",
        "  numeros = int(input('Ingrese un numero: '))\n",
        "  if numeros == 0:\n",
        "    print(suma)\n",
        "    break\n",
        "  else:\n",
        "    suma = suma + numeros\n",
        "print(f'La suma es: {suma}')"
      ],
      "metadata": {
        "colab": {
          "base_uri": "https://localhost:8080/"
        },
        "id": "yZc7rxJmIhzd",
        "outputId": "37a22105-1630-4d68-9db7-67ba4cd3d2f5"
      },
      "execution_count": 6,
      "outputs": [
        {
          "output_type": "stream",
          "name": "stdout",
          "text": [
            "Ingrese un numero: 9\n",
            "Ingrese un numero: 2\n",
            "Ingrese un numero: 0\n",
            "11\n",
            "La suma es: 11\n"
          ]
        }
      ]
    },
    {
      "cell_type": "code",
      "source": [
        "suma = 0\n",
        "numero = None\n",
        "\n",
        "while numero !=0:\n",
        "  numero = int(input('Ingrese un numero: '))\n",
        "  suma +=numero\n",
        "print(f'La suma es: {suma}')"
      ],
      "metadata": {
        "id": "vF4QMLRGl0PO",
        "outputId": "01760b4d-2f32-4444-f619-4e2b6d584689",
        "colab": {
          "base_uri": "https://localhost:8080/"
        }
      },
      "execution_count": 7,
      "outputs": [
        {
          "output_type": "stream",
          "name": "stdout",
          "text": [
            "Ingrese un numero: 9\n",
            "Ingrese un numero: 8\n",
            "Ingrese un numero: 8\n",
            "Ingrese un numero: 0\n",
            "La suma es: 25\n"
          ]
        }
      ]
    },
    {
      "cell_type": "markdown",
      "source": [
        "\n",
        "Ejercicio B.\n",
        "Árbol de navidad en Python. Imprime un árbol de navidad formado con * haciendo uso del while y de la multiplicación de un entero por una cadena, cuyo resultado en Python es replicar la cadena."
      ],
      "metadata": {
        "id": "NcVixJ3WSISO"
      }
    },
    {
      "cell_type": "code",
      "source": [
        "z = 7\n",
        "x = 1\n",
        "while z > 0:\n",
        "    print(' ' * z + '*' * x + ' ' * z)\n",
        "    x+=2\n",
        "    z-=1"
      ],
      "metadata": {
        "id": "UjZc9-MCT_jd",
        "outputId": "e6ad3b5d-9cd1-4ad1-8379-d1e49c8c8792",
        "colab": {
          "base_uri": "https://localhost:8080/"
        }
      },
      "execution_count": 8,
      "outputs": [
        {
          "output_type": "stream",
          "name": "stdout",
          "text": [
            "       *       \n",
            "      ***      \n",
            "     *****     \n",
            "    *******    \n",
            "   *********   \n",
            "  ***********  \n",
            " ************* \n"
          ]
        }
      ]
    },
    {
      "cell_type": "markdown",
      "metadata": {
        "id": "ls4hM0SQv_4B"
      },
      "source": [
        "Ejercicio 2. Escribir un programa para contar el número de dígitos 0 o 5 en un entero positivo."
      ]
    },
    {
      "cell_type": "code",
      "execution_count": 9,
      "metadata": {
        "id": "7XLkGJkQv_4B",
        "colab": {
          "base_uri": "https://localhost:8080/"
        },
        "outputId": "cc04ce10-8ecc-4c88-f9ce-fb31c017f6ed"
      },
      "outputs": [
        {
          "output_type": "stream",
          "name": "stdout",
          "text": [
            "There are 1 zero(s) and 3 five(s) digits in 12345505.\n"
          ]
        }
      ],
      "source": [
        "# solución 1\n",
        "# convertir un entero positivo en una cadena y analizar un carácter a la vez\n",
        "n = 12345505\n",
        "n = str(n)\n",
        "count0 = 0\n",
        "count5 = 0\n",
        "for c in n:\n",
        "    if c == '0':\n",
        "        count0 += 1\n",
        "    elif c == '5':\n",
        "        count5 += 1\n",
        "print('There are {} zero(s) and {} five(s) digits in {}.'.format(count0, count5, n))"
      ]
    },
    {
      "cell_type": "markdown",
      "metadata": {
        "id": "g9qjigL1v_4B"
      },
      "source": [
        "Ejercicio 2.1. Convierta el ejercicio 2 en una función y escriba al menos 2 casos de prueba"
      ]
    },
    {
      "cell_type": "code",
      "source": [
        "def entero_cadena(n):\n",
        "  n_str = str(n)\n",
        "  count0 = 0\n",
        "  count5 = 0\n",
        "  for c in n_str:\n",
        "    if c == '0':\n",
        "        count0 += 1\n",
        "    elif c == '5':\n",
        "        count5 += 1\n",
        "  return (count0, count5)"
      ],
      "metadata": {
        "id": "JT1ZH6bJ_89P"
      },
      "execution_count": 10,
      "outputs": []
    },
    {
      "cell_type": "code",
      "source": [
        "entero_cadena(12345505)"
      ],
      "metadata": {
        "colab": {
          "base_uri": "https://localhost:8080/"
        },
        "id": "vVYFeJQnATA4",
        "outputId": "b9adead8-5aad-4a9b-bda9-201cb1a7f52c"
      },
      "execution_count": 11,
      "outputs": [
        {
          "output_type": "execute_result",
          "data": {
            "text/plain": [
              "(1, 3)"
            ]
          },
          "metadata": {},
          "execution_count": 11
        }
      ]
    },
    {
      "cell_type": "markdown",
      "metadata": {
        "id": "L1dEygl6v_4B"
      },
      "source": [
        "Ejercicio 3. Programa FizzBuzz - Escribe un programa que imprima números entre 1 y 100 con los siguientes requisitos.\n",
        "\n",
        "- Si el número es divisible por 3, imprime 'Fizz'.\n",
        "\n",
        "- Si el número es divisible por 5, imprime 'Buzz'.\n",
        "- Si el número es divisible por 3 y 5, imprime 'FizzBuzz'."
      ]
    },
    {
      "cell_type": "code",
      "source": [
        "for i in range(1,101):\n",
        "  if i%3 == 0:\n",
        "    print(f'{i}: Fizz')\n",
        "  elif i%5 == 0:\n",
        "    print(f'{i}: Buzz')\n",
        "  elif i%3 == 0 and i%5 == 0:\n",
        "    print(f'{i}: FizzBuzz')\n",
        "  else:\n",
        "    print(i)"
      ],
      "metadata": {
        "id": "1qmRdsMMDrDR",
        "colab": {
          "base_uri": "https://localhost:8080/"
        },
        "outputId": "7233070f-0272-4b9b-89d8-924bc9ade4c0"
      },
      "execution_count": 12,
      "outputs": [
        {
          "output_type": "stream",
          "name": "stdout",
          "text": [
            "1\n",
            "2\n",
            "3: Fizz\n",
            "4\n",
            "5: Buzz\n",
            "6: Fizz\n",
            "7\n",
            "8\n",
            "9: Fizz\n",
            "10: Buzz\n",
            "11\n",
            "12: Fizz\n",
            "13\n",
            "14\n",
            "15: Fizz\n",
            "16\n",
            "17\n",
            "18: Fizz\n",
            "19\n",
            "20: Buzz\n",
            "21: Fizz\n",
            "22\n",
            "23\n",
            "24: Fizz\n",
            "25: Buzz\n",
            "26\n",
            "27: Fizz\n",
            "28\n",
            "29\n",
            "30: Fizz\n",
            "31\n",
            "32\n",
            "33: Fizz\n",
            "34\n",
            "35: Buzz\n",
            "36: Fizz\n",
            "37\n",
            "38\n",
            "39: Fizz\n",
            "40: Buzz\n",
            "41\n",
            "42: Fizz\n",
            "43\n",
            "44\n",
            "45: Fizz\n",
            "46\n",
            "47\n",
            "48: Fizz\n",
            "49\n",
            "50: Buzz\n",
            "51: Fizz\n",
            "52\n",
            "53\n",
            "54: Fizz\n",
            "55: Buzz\n",
            "56\n",
            "57: Fizz\n",
            "58\n",
            "59\n",
            "60: Fizz\n",
            "61\n",
            "62\n",
            "63: Fizz\n",
            "64\n",
            "65: Buzz\n",
            "66: Fizz\n",
            "67\n",
            "68\n",
            "69: Fizz\n",
            "70: Buzz\n",
            "71\n",
            "72: Fizz\n",
            "73\n",
            "74\n",
            "75: Fizz\n",
            "76\n",
            "77\n",
            "78: Fizz\n",
            "79\n",
            "80: Buzz\n",
            "81: Fizz\n",
            "82\n",
            "83\n",
            "84: Fizz\n",
            "85: Buzz\n",
            "86\n",
            "87: Fizz\n",
            "88\n",
            "89\n",
            "90: Fizz\n",
            "91\n",
            "92\n",
            "93: Fizz\n",
            "94\n",
            "95: Buzz\n",
            "96: Fizz\n",
            "97\n",
            "98\n",
            "99: Fizz\n",
            "100: Buzz\n"
          ]
        }
      ]
    },
    {
      "cell_type": "markdown",
      "metadata": {
        "id": "E1FaOkGbv_4B"
      },
      "source": [
        "Ejercicio 3.1. Convierta el ejercicio 3 en una función y escriba al menos 2 tres casos de prueba"
      ]
    },
    {
      "cell_type": "code",
      "source": [
        "def numeros_3_5():\n",
        "  for i in range(1,101):\n",
        "   if i%3 == 0:\n",
        "     print(f'{i}: Fizz')\n",
        "   elif i%5 == 0:\n",
        "    print(f'{i}: Buzz')\n",
        "   elif i%3 == 0 and i%5 == 0:\n",
        "     print(f'{i}: FizzBuzz')\n",
        "   else:\n",
        "     print(i)"
      ],
      "metadata": {
        "id": "MeqxsgeqE8zs"
      },
      "execution_count": 13,
      "outputs": []
    },
    {
      "cell_type": "code",
      "source": [
        "numeros_3_5()"
      ],
      "metadata": {
        "id": "G8x08o8qFIud",
        "colab": {
          "base_uri": "https://localhost:8080/"
        },
        "outputId": "809df7d2-39a3-400b-a5de-ee92d3897ce6"
      },
      "execution_count": 14,
      "outputs": [
        {
          "output_type": "stream",
          "name": "stdout",
          "text": [
            "1\n",
            "2\n",
            "3: Fizz\n",
            "4\n",
            "5: Buzz\n",
            "6: Fizz\n",
            "7\n",
            "8\n",
            "9: Fizz\n",
            "10: Buzz\n",
            "11\n",
            "12: Fizz\n",
            "13\n",
            "14\n",
            "15: Fizz\n",
            "16\n",
            "17\n",
            "18: Fizz\n",
            "19\n",
            "20: Buzz\n",
            "21: Fizz\n",
            "22\n",
            "23\n",
            "24: Fizz\n",
            "25: Buzz\n",
            "26\n",
            "27: Fizz\n",
            "28\n",
            "29\n",
            "30: Fizz\n",
            "31\n",
            "32\n",
            "33: Fizz\n",
            "34\n",
            "35: Buzz\n",
            "36: Fizz\n",
            "37\n",
            "38\n",
            "39: Fizz\n",
            "40: Buzz\n",
            "41\n",
            "42: Fizz\n",
            "43\n",
            "44\n",
            "45: Fizz\n",
            "46\n",
            "47\n",
            "48: Fizz\n",
            "49\n",
            "50: Buzz\n",
            "51: Fizz\n",
            "52\n",
            "53\n",
            "54: Fizz\n",
            "55: Buzz\n",
            "56\n",
            "57: Fizz\n",
            "58\n",
            "59\n",
            "60: Fizz\n",
            "61\n",
            "62\n",
            "63: Fizz\n",
            "64\n",
            "65: Buzz\n",
            "66: Fizz\n",
            "67\n",
            "68\n",
            "69: Fizz\n",
            "70: Buzz\n",
            "71\n",
            "72: Fizz\n",
            "73\n",
            "74\n",
            "75: Fizz\n",
            "76\n",
            "77\n",
            "78: Fizz\n",
            "79\n",
            "80: Buzz\n",
            "81: Fizz\n",
            "82\n",
            "83\n",
            "84: Fizz\n",
            "85: Buzz\n",
            "86\n",
            "87: Fizz\n",
            "88\n",
            "89\n",
            "90: Fizz\n",
            "91\n",
            "92\n",
            "93: Fizz\n",
            "94\n",
            "95: Buzz\n",
            "96: Fizz\n",
            "97\n",
            "98\n",
            "99: Fizz\n",
            "100: Buzz\n"
          ]
        }
      ]
    },
    {
      "cell_type": "markdown",
      "metadata": {
        "id": "4jpOb3bZv_4B"
      },
      "source": [
        "Ejercicio 4. ¿Cuáles son los resultados de los siguientes fragmentos de código?"
      ]
    },
    {
      "cell_type": "code",
      "execution_count": 15,
      "metadata": {
        "id": "MAPfSruSv_4B",
        "colab": {
          "base_uri": "https://localhost:8080/"
        },
        "outputId": "c04ecc9e-55dd-46a8-c88a-89c62671a922"
      },
      "outputs": [
        {
          "output_type": "stream",
          "name": "stdout",
          "text": [
            "1\n",
            "2\n",
            "3\n",
            "4\n",
            "5\n",
            "6\n",
            "7\n",
            "8\n",
            "9\n",
            "Done\n"
          ]
        }
      ],
      "source": [
        "a = 1\n",
        "while a < 10:\n",
        "    print(a)\n",
        "    a += 1\n",
        "    #break\n",
        "else:\n",
        "    print('Done')"
      ]
    },
    {
      "cell_type": "code",
      "execution_count": 16,
      "metadata": {
        "id": "k0dbEI64v_4C",
        "colab": {
          "base_uri": "https://localhost:8080/"
        },
        "outputId": "e2a9102e-d936-4c3a-b71c-b7090e2e21e4"
      },
      "outputs": [
        {
          "output_type": "stream",
          "name": "stdout",
          "text": [
            "1\n",
            "2\n",
            "3\n",
            "4\n"
          ]
        }
      ],
      "source": [
        "for i in range(1, 10):\n",
        "    if i == 5:\n",
        "        break\n",
        "    print(i)\n",
        "else:\n",
        "    print('done')"
      ]
    },
    {
      "cell_type": "code",
      "execution_count": 17,
      "metadata": {
        "id": "FjxQL2z1v_4C",
        "colab": {
          "base_uri": "https://localhost:8080/"
        },
        "outputId": "be15e750-b311-44a1-bda8-05c18cb176e3"
      },
      "outputs": [
        {
          "output_type": "stream",
          "name": "stdout",
          "text": [
            "h e l l o "
          ]
        }
      ],
      "source": [
        "for c in 'hello':\n",
        "    print(c, end=' ')"
      ]
    }
  ],
  "metadata": {
    "kernelspec": {
      "display_name": "Python 3",
      "language": "python",
      "name": "python3"
    },
    "language_info": {
      "codemirror_mode": {
        "name": "ipython",
        "version": 3
      },
      "file_extension": ".py",
      "mimetype": "text/x-python",
      "name": "python",
      "nbconvert_exporter": "python",
      "pygments_lexer": "ipython3",
      "version": "3.7.3"
    },
    "colab": {
      "provenance": [],
      "include_colab_link": true
    }
  },
  "nbformat": 4,
  "nbformat_minor": 0
}