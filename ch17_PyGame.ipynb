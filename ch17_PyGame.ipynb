{
  "cells": [
    {
      "cell_type": "markdown",
      "metadata": {
        "id": "view-in-github",
        "colab_type": "text"
      },
      "source": [
        "<a href=\"https://colab.research.google.com/github/SofiaCR2/Python-basico-intermedio/blob/main/ch17_PyGame.ipynb\" target=\"_parent\"><img src=\"https://colab.research.google.com/assets/colab-badge.svg\" alt=\"Open In Colab\"/></a>"
      ]
    },
    {
      "cell_type": "markdown",
      "metadata": {
        "id": "G5uQ11ESa7Zg"
      },
      "source": [
        "# PyGame\n",
        "http://openbookproject.net/thinkcs/python/english3e/pygame.html\n",
        "\n",
        "- paquete de terceros que se usa en el desarrollo de juegos usando Python\n",
        "- debe instalarse usando pip - https://www.pygame.org/download.shtml\n",
        "- pip install pygame\n",
        "- ver: http://openbookproject.net/thinkcs/python/english3e/pygame.html\n",
        "- vea la carpeta pygame dentro del repositorio para ejecutar los códigos fuente provistos"
      ]
    },
    {
      "cell_type": "code",
      "execution_count": null,
      "metadata": {
        "id": "AdIflCd8a7Zo",
        "outputId": "c9ef476e-2fd7-45fe-ec53-9b8ea5b2cb07"
      },
      "outputs": [
        {
          "name": "stdout",
          "output_type": "stream",
          "text": [
            "Requirement already satisfied: pygame in /Users/rbasnet/miniconda3/lib/python3.7/site-packages (1.9.4)\n"
          ]
        }
      ],
      "source": [
        "%%bash\n",
        "# install pygame\n",
        "pip install pygame"
      ]
    },
    {
      "cell_type": "markdown",
      "metadata": {
        "id": "z0x06e5za7Zr"
      },
      "source": [
        "# The game loop\n",
        "\n",
        "<img src=\"http://openbookproject.net/thinkcs/python/english3e/_images/pygame_structure.png\">\n",
        "\n",
        "En cada juego, en la sección de configuración, crearemos una ventana, cargaremos y prepararemos algunos contenidos y luego ingresaremos al ciclo del juego. El bucle del juego continuamente hace cuatro cosas principales:\n",
        "\n",
        "- sondea eventos, es decir, pregunta al sistema si se han producido eventos y responde adecuadamente,\n",
        "- actualiza cualquier estructura de datos interna u objetos que necesiten cambios,\n",
        "- dibuja el estado actual del juego en una superficie (no visible),\n",
        "- pone a la vista la superficie recién dibujada."
      ]
    },
    {
      "cell_type": "code",
      "execution_count": null,
      "metadata": {
        "id": "Mo8PMlD2a7Zs",
        "outputId": "fa348faf-3adf-47b7-df1d-ec56e370878d"
      },
      "outputs": [
        {
          "name": "stdout",
          "output_type": "stream",
          "text": [
            "pygame 1.9.4\n",
            "Hello from the pygame community. https://www.pygame.org/contribute.html\n"
          ]
        }
      ],
      "source": [
        "import pygame\n",
        "\n",
        "def main():\n",
        "    \"\"\" Set up the game and run the main game loop \"\"\"\n",
        "    pygame.init()      # Prepare the pygame module for use\n",
        "    surface_sz = 480   # Desired physical surface size, in pixels.\n",
        "\n",
        "    # Create surface of (width, height), and its window.\n",
        "    main_surface = pygame.display.set_mode((surface_sz, surface_sz))\n",
        "\n",
        "    # Set up some data to describe a small rectangle and its color\n",
        "    small_rect = (300, 200, 150, 90)\n",
        "    some_color = (255, 0, 0)        # A color is a mix of (Red, Green, Blue)\n",
        "\n",
        "    while True:\n",
        "        ev = pygame.event.poll()    # Look for any event\n",
        "        if ev.type == pygame.QUIT:  # Window close button clicked?\n",
        "            break                   #   ... leave game loop\n",
        "\n",
        "        # Update your game objects and data structures here...\n",
        "\n",
        "        # We draw everything from scratch on each frame.\n",
        "        # So first fill everything with the background color\n",
        "        main_surface.fill((0, 200, 255))\n",
        "\n",
        "        # Overpaint a smaller rectangle on the main surface\n",
        "        main_surface.fill(some_color, small_rect)\n",
        "\n",
        "        # Now the surface is ready, tell pygame to display it!\n",
        "        pygame.display.flip()\n",
        "\n",
        "    pygame.quit()     # Once we leave the loop, close the window.\n",
        "\n",
        "main()"
      ]
    },
    {
      "cell_type": "code",
      "execution_count": null,
      "metadata": {
        "id": "gqZJ5giBa7Zu",
        "outputId": "121887d6-7eb4-42c3-9947-1bb2ac0e1def"
      },
      "outputs": [
        {
          "name": "stdout",
          "output_type": "stream",
          "text": [
            "pygame 1.9.4\n",
            "Hello from the pygame community. https://www.pygame.org/contribute.html\n"
          ]
        },
        {
          "name": "stderr",
          "output_type": "stream",
          "text": [
            "/Users/rbasnet/miniconda3/lib/python3.7/site-packages/ipykernel_launcher.py:18: DeprecationWarning: time.clock has been deprecated in Python 3.3 and will be removed from Python 3.8: use time.perf_counter or time.process_time instead\n",
            "/Users/rbasnet/miniconda3/lib/python3.7/site-packages/ipykernel_launcher.py:30: DeprecationWarning: time.clock has been deprecated in Python 3.3 and will be removed from Python 3.8: use time.perf_counter or time.process_time instead\n"
          ]
        }
      ],
      "source": [
        "import pygame\n",
        "import time\n",
        "\n",
        "def main():\n",
        "\n",
        "    pygame.init()    # Prepare the PyGame module for use\n",
        "    main_surface = pygame.display.set_mode((480, 240))\n",
        "\n",
        "    # Load an image to draw. Substitute your own.\n",
        "    # PyGame handles gif, jpg, png, etc. image types.\n",
        "    ball = pygame.image.load(\"pygame/ball.png\")\n",
        "    ball = pygame.transform.scale(ball, [20, 20])\n",
        "    # Create a font for rendering text\n",
        "    my_font = pygame.font.SysFont(\"Courier\", 16)\n",
        "\n",
        "    frame_count = 0\n",
        "    frame_rate = 0\n",
        "    t0 = time.clock()\n",
        "\n",
        "    while True:\n",
        "\n",
        "        # Look for an event from keyboard, mouse, joystick, etc.\n",
        "        ev = pygame.event.poll()\n",
        "        if ev.type == pygame.QUIT:   # Window close button clicked?\n",
        "            break                    # Leave game loop\n",
        "\n",
        "        # Do other bits of logic for the game here\n",
        "        frame_count += 1\n",
        "        if frame_count % 500 == 0:\n",
        "            t1 = time.clock()\n",
        "            frame_rate = 500 / (t1-t0)\n",
        "            t0 = t1\n",
        "\n",
        "        # Completely redraw the surface, starting with background\n",
        "        main_surface.fill((0, 200, 255))\n",
        "\n",
        "        # Put a red rectangle somewhere on the surface\n",
        "        main_surface.fill((255,0,0), (300, 100, 150, 90))\n",
        "\n",
        "        # Copy our image to the surface, at this (x,y) posn\n",
        "        main_surface.blit(ball, (100, 120))\n",
        "\n",
        "        # Make a new surface with an image of the text\n",
        "        the_text = my_font.render(\"Frame = {0},  rate = {1:.2f} fps\"\n",
        "                  .format(frame_count, frame_rate), True, (0,0,0))\n",
        "        # Copy the text surface to the main surface\n",
        "        main_surface.blit(the_text, (10, 10))\n",
        "\n",
        "        # Now that everything is drawn, put it on display!\n",
        "        pygame.display.flip()\n",
        "\n",
        "    pygame.quit()\n",
        "\n",
        "\n",
        "main()"
      ]
    },
    {
      "cell_type": "code",
      "execution_count": null,
      "metadata": {
        "id": "b9OrxJ7Ja7Zx"
      },
      "outputs": [],
      "source": []
    }
  ],
  "metadata": {
    "kernelspec": {
      "display_name": "Python 3",
      "language": "python",
      "name": "python3"
    },
    "language_info": {
      "codemirror_mode": {
        "name": "ipython",
        "version": 3
      },
      "file_extension": ".py",
      "mimetype": "text/x-python",
      "name": "python",
      "nbconvert_exporter": "python",
      "pygments_lexer": "ipython3",
      "version": "3.7.3"
    },
    "colab": {
      "provenance": [],
      "include_colab_link": true
    }
  },
  "nbformat": 4,
  "nbformat_minor": 0
}