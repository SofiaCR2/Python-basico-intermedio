{
  "nbformat": 4,
  "nbformat_minor": 0,
  "metadata": {
    "colab": {
      "provenance": [],
      "authorship_tag": "ABX9TyMU/tJuGAa7HJegdkKUmDRl",
      "include_colab_link": true
    },
    "kernelspec": {
      "name": "python3",
      "display_name": "Python 3"
    },
    "language_info": {
      "name": "python"
    }
  },
  "cells": [
    {
      "cell_type": "markdown",
      "metadata": {
        "id": "view-in-github",
        "colab_type": "text"
      },
      "source": [
        "<a href=\"https://colab.research.google.com/github/SofiaCR2/Python-basico-intermedio/blob/main/ch06_Tuplas.ipynb\" target=\"_parent\"><img src=\"https://colab.research.google.com/assets/colab-badge.svg\" alt=\"Open In Colab\"/></a>"
      ]
    },
    {
      "cell_type": "markdown",
      "source": [
        "#Tuplas\n",
        "- Nos puede servir para almacenar valores\n",
        "- Se crean utilizando parentesis\n",
        "- Al igual que los str son objetos inmutables\n",
        "- Puede contener diferentes tipos de datos(heterogeneos)"
      ],
      "metadata": {
        "id": "t_sfTmsHdqUS"
      }
    },
    {
      "cell_type": "code",
      "execution_count": null,
      "metadata": {
        "id": "9oZajoVwdTDi"
      },
      "outputs": [],
      "source": [
        "mi_primer_tupla = ('México', 'CDMX')"
      ]
    },
    {
      "cell_type": "code",
      "source": [
        "type(mi_primer_tupla)"
      ],
      "metadata": {
        "colab": {
          "base_uri": "https://localhost:8080/"
        },
        "id": "jX8sm6hPeb5f",
        "outputId": "81fcf117-5387-4cf4-c4e9-f02943fc1e18"
      },
      "execution_count": null,
      "outputs": [
        {
          "output_type": "execute_result",
          "data": {
            "text/plain": [
              "tuple"
            ]
          },
          "metadata": {},
          "execution_count": 2
        }
      ]
    },
    {
      "cell_type": "code",
      "source": [
        "mi_sugunda_tupla = ('Sofia', 20)"
      ],
      "metadata": {
        "id": "YOQFkLWTefBL"
      },
      "execution_count": null,
      "outputs": []
    },
    {
      "cell_type": "code",
      "source": [
        "mi_sugunda_tupla"
      ],
      "metadata": {
        "colab": {
          "base_uri": "https://localhost:8080/"
        },
        "id": "Bwm3aALfem73",
        "outputId": "be2129d7-20e7-428f-dbf2-b7db3d685211"
      },
      "execution_count": null,
      "outputs": [
        {
          "output_type": "execute_result",
          "data": {
            "text/plain": [
              "('Sofia', 20)"
            ]
          },
          "metadata": {},
          "execution_count": 4
        }
      ]
    },
    {
      "cell_type": "code",
      "source": [
        "def area_perimetro(base, altura):\n",
        "  #calculos\n",
        "  return (perimetro, area)"
      ],
      "metadata": {
        "id": "LPaaRqKQeq6s"
      },
      "execution_count": null,
      "outputs": []
    },
    {
      "cell_type": "code",
      "source": [
        "(16, 20)"
      ],
      "metadata": {
        "colab": {
          "base_uri": "https://localhost:8080/"
        },
        "id": "WuBYCuv9fJqS",
        "outputId": "c4652e4e-0be7-43ad-d68c-e09bea64550e"
      },
      "execution_count": null,
      "outputs": [
        {
          "output_type": "execute_result",
          "data": {
            "text/plain": [
              "(16, 20)"
            ]
          },
          "metadata": {},
          "execution_count": 6
        }
      ]
    },
    {
      "cell_type": "markdown",
      "source": [
        "#unpacking"
      ],
      "metadata": {
        "id": "ee1fsKQG-ItJ"
      }
    },
    {
      "cell_type": "code",
      "source": [
        "resultados = (16, 20)"
      ],
      "metadata": {
        "id": "iDy5_3mffMgJ"
      },
      "execution_count": 1,
      "outputs": []
    },
    {
      "cell_type": "code",
      "source": [
        "resultados"
      ],
      "metadata": {
        "colab": {
          "base_uri": "https://localhost:8080/"
        },
        "id": "my_6sEn6fQ0B",
        "outputId": "301cab64-941a-424f-b8fe-aec3632242cf"
      },
      "execution_count": null,
      "outputs": [
        {
          "output_type": "execute_result",
          "data": {
            "text/plain": [
              "(16, 20)"
            ]
          },
          "metadata": {},
          "execution_count": 9
        }
      ]
    },
    {
      "cell_type": "code",
      "source": [
        "perimetro, area = resultados"
      ],
      "metadata": {
        "id": "vOaja6nxfTTe"
      },
      "execution_count": null,
      "outputs": []
    },
    {
      "cell_type": "code",
      "source": [
        "perimetro"
      ],
      "metadata": {
        "colab": {
          "base_uri": "https://localhost:8080/"
        },
        "id": "sUWFeeAhfYWz",
        "outputId": "1a3f72f7-a5a3-4b99-c968-e8d853ebcbab"
      },
      "execution_count": null,
      "outputs": [
        {
          "output_type": "execute_result",
          "data": {
            "text/plain": [
              "16"
            ]
          },
          "metadata": {},
          "execution_count": 12
        }
      ]
    },
    {
      "cell_type": "code",
      "source": [
        "area"
      ],
      "metadata": {
        "colab": {
          "base_uri": "https://localhost:8080/"
        },
        "id": "EN2UoA9EfbJL",
        "outputId": "f5e62380-4067-46d7-c091-f605c6ad938a"
      },
      "execution_count": null,
      "outputs": [
        {
          "output_type": "execute_result",
          "data": {
            "text/plain": [
              "20"
            ]
          },
          "metadata": {},
          "execution_count": 13
        }
      ]
    },
    {
      "cell_type": "markdown",
      "source": [
        "#Accediendo a los elementos"
      ],
      "metadata": {
        "id": "0XGK8v7K-WKm"
      }
    },
    {
      "cell_type": "code",
      "source": [
        "resultados[1]"
      ],
      "metadata": {
        "colab": {
          "base_uri": "https://localhost:8080/"
        },
        "id": "7mAChBwlfct5",
        "outputId": "de2ad5a3-fb43-4aa9-928c-b860f9c56833"
      },
      "execution_count": 2,
      "outputs": [
        {
          "output_type": "execute_result",
          "data": {
            "text/plain": [
              "20"
            ]
          },
          "metadata": {},
          "execution_count": 2
        }
      ]
    },
    {
      "cell_type": "code",
      "source": [
        "resultados[10]"
      ],
      "metadata": {
        "colab": {
          "base_uri": "https://localhost:8080/",
          "height": 165
        },
        "id": "0xanR02c-g8Y",
        "outputId": "8f698ee7-d43a-41b4-817f-652d46886fb2"
      },
      "execution_count": 3,
      "outputs": [
        {
          "output_type": "error",
          "ename": "IndexError",
          "evalue": "ignored",
          "traceback": [
            "\u001b[0;31m---------------------------------------------------------------------------\u001b[0m",
            "\u001b[0;31mIndexError\u001b[0m                                Traceback (most recent call last)",
            "\u001b[0;32m<ipython-input-3-023b711cfab3>\u001b[0m in \u001b[0;36m<cell line: 1>\u001b[0;34m()\u001b[0m\n\u001b[0;32m----> 1\u001b[0;31m \u001b[0mresultados\u001b[0m\u001b[0;34m[\u001b[0m\u001b[0;36m10\u001b[0m\u001b[0;34m]\u001b[0m\u001b[0;34m\u001b[0m\u001b[0;34m\u001b[0m\u001b[0m\n\u001b[0m",
            "\u001b[0;31mIndexError\u001b[0m: tuple index out of range"
          ]
        }
      ]
    },
    {
      "cell_type": "markdown",
      "source": [
        "#Operadores in, not in"
      ],
      "metadata": {
        "id": "QH_FIENI-rwD"
      }
    },
    {
      "cell_type": "code",
      "source": [
        "mi_sugunda_tupla = ('Sofia', 20)"
      ],
      "metadata": {
        "id": "Q815WAw6fiZZ"
      },
      "execution_count": null,
      "outputs": []
    },
    {
      "cell_type": "code",
      "source": [
        "'Sofia' in mi_sugunda_tupla"
      ],
      "metadata": {
        "colab": {
          "base_uri": "https://localhost:8080/"
        },
        "id": "BXQVWqaOfoES",
        "outputId": "f6ce0c42-043f-47c3-a3b0-ab2536913350"
      },
      "execution_count": null,
      "outputs": [
        {
          "output_type": "execute_result",
          "data": {
            "text/plain": [
              "True"
            ]
          },
          "metadata": {},
          "execution_count": 18
        }
      ]
    },
    {
      "cell_type": "code",
      "source": [
        "'Jess' in mi_sugunda_tupla"
      ],
      "metadata": {
        "colab": {
          "base_uri": "https://localhost:8080/"
        },
        "id": "KKiOkYQKfuCN",
        "outputId": "f5260e6f-04b7-4a6b-f116-6c34630959d3"
      },
      "execution_count": null,
      "outputs": [
        {
          "output_type": "execute_result",
          "data": {
            "text/plain": [
              "False"
            ]
          },
          "metadata": {},
          "execution_count": 19
        }
      ]
    },
    {
      "cell_type": "markdown",
      "source": [
        "#Inmutabilidad"
      ],
      "metadata": {
        "id": "_Wk-VRjS-kNJ"
      }
    },
    {
      "cell_type": "code",
      "source": [
        "mi_tercer_tupla = (1, 2, 3)"
      ],
      "metadata": {
        "id": "Z4TKaGIWfx8X"
      },
      "execution_count": null,
      "outputs": []
    },
    {
      "cell_type": "code",
      "source": [
        "mi_tercer_tupla[0] = 4"
      ],
      "metadata": {
        "colab": {
          "base_uri": "https://localhost:8080/",
          "height": 165
        },
        "id": "k0futs9ff7hJ",
        "outputId": "034b77d2-4112-4247-f82d-ce9ecb83e371"
      },
      "execution_count": null,
      "outputs": [
        {
          "output_type": "error",
          "ename": "TypeError",
          "evalue": "ignored",
          "traceback": [
            "\u001b[0;31m---------------------------------------------------------------------------\u001b[0m",
            "\u001b[0;31mTypeError\u001b[0m                                 Traceback (most recent call last)",
            "\u001b[0;32m<ipython-input-23-706a537492d6>\u001b[0m in \u001b[0;36m<cell line: 1>\u001b[0;34m()\u001b[0m\n\u001b[0;32m----> 1\u001b[0;31m \u001b[0mmi_tercer_tupla\u001b[0m\u001b[0;34m[\u001b[0m\u001b[0;36m0\u001b[0m\u001b[0;34m]\u001b[0m \u001b[0;34m=\u001b[0m \u001b[0;36m4\u001b[0m\u001b[0;34m\u001b[0m\u001b[0;34m\u001b[0m\u001b[0m\n\u001b[0m",
            "\u001b[0;31mTypeError\u001b[0m: 'tuple' object does not support item assignment"
          ]
        }
      ]
    },
    {
      "cell_type": "code",
      "source": [
        "len(mi_tercer_tupla)"
      ],
      "metadata": {
        "colab": {
          "base_uri": "https://localhost:8080/"
        },
        "id": "hN6CFzjrgdYI",
        "outputId": "b842a308-a7f1-481a-e794-19c1624b9377"
      },
      "execution_count": null,
      "outputs": [
        {
          "output_type": "execute_result",
          "data": {
            "text/plain": [
              "3"
            ]
          },
          "metadata": {},
          "execution_count": 25
        }
      ]
    },
    {
      "cell_type": "code",
      "source": [
        "len('Hola mundo')"
      ],
      "metadata": {
        "colab": {
          "base_uri": "https://localhost:8080/"
        },
        "id": "CbxsAhWAgPKm",
        "outputId": "b9642f79-0dcb-490e-9895-ec695bcf039f"
      },
      "execution_count": null,
      "outputs": [
        {
          "output_type": "execute_result",
          "data": {
            "text/plain": [
              "10"
            ]
          },
          "metadata": {},
          "execution_count": 24
        }
      ]
    },
    {
      "cell_type": "markdown",
      "source": [
        "#Aplicación de tuplas"
      ],
      "metadata": {
        "id": "z0CmT0CI-3dZ"
      }
    },
    {
      "cell_type": "code",
      "source": [
        "def calculate_square_properties(side_lengh):\n",
        "  \"\"\"Calculates the area and perimeter of a square\"\"\"\n",
        "\n",
        "  area = side_lengh ** 2\n",
        "  perimeter = 4 * side_lengh\n",
        "\n",
        "  return (area, perimeter)"
      ],
      "metadata": {
        "id": "H6X8f_gF-6Ux"
      },
      "execution_count": 4,
      "outputs": []
    },
    {
      "cell_type": "markdown",
      "source": [
        "# Lab\n",
        "\n",
        "Crear una función similar a `calculate_square_properties` para un rectángulo o círculo y regrese 3 valores:\n",
        "1. área\n",
        "2. perímetro\n",
        "3. color\n",
        "\n",
        "**Nota:** Tu función debe aceptar 3 argumentos (réctangulo) ó 2 argumentos (círculo)\n",
        "\n",
        "El tipo de dato resultate esperado es una tupla (área, perímetro, color)."
      ],
      "metadata": {
        "id": "ALd-YbvB_BQQ"
      }
    },
    {
      "cell_type": "code",
      "source": [
        "def calcular_propiedades_rectangulo(base, altura, color):\n",
        "  \"\"\"Calcula y regresa el área de un perímetro y el color\"\"\"\n",
        "  area = base * altura\n",
        "  perimetro = 2 * (base + altura)\n",
        "\n",
        "  return area, perimetro, color\n",
        "\n",
        "var_base = 10\n",
        "var_altura = 20\n",
        "var_color = \"rojo\"\n",
        "\n",
        "calcular_propiedades_rectangulo(base=var_base, altura=var_altura, color=var_color)"
      ],
      "metadata": {
        "colab": {
          "base_uri": "https://localhost:8080/"
        },
        "id": "XGh6uzoC_CHi",
        "outputId": "c5334806-b87e-486c-9f09-029767bb2e63"
      },
      "execution_count": 5,
      "outputs": [
        {
          "output_type": "execute_result",
          "data": {
            "text/plain": [
              "(200, 60, 'rojo')"
            ]
          },
          "metadata": {},
          "execution_count": 5
        }
      ]
    },
    {
      "cell_type": "code",
      "source": [
        "side = 5.0\n",
        "results = calculate_square_properties(side)"
      ],
      "metadata": {
        "id": "h6TEGFw9_HgX"
      },
      "execution_count": 6,
      "outputs": []
    },
    {
      "cell_type": "code",
      "source": [
        "results"
      ],
      "metadata": {
        "colab": {
          "base_uri": "https://localhost:8080/"
        },
        "id": "i-Yuu6jw_JUB",
        "outputId": "bd3eba83-2141-4f2a-e666-ee1e8adf8dee"
      },
      "execution_count": 7,
      "outputs": [
        {
          "output_type": "execute_result",
          "data": {
            "text/plain": [
              "(25.0, 20.0)"
            ]
          },
          "metadata": {},
          "execution_count": 7
        }
      ]
    },
    {
      "cell_type": "code",
      "source": [
        "type(results)"
      ],
      "metadata": {
        "colab": {
          "base_uri": "https://localhost:8080/"
        },
        "id": "SbuDwwaC_L0Q",
        "outputId": "e9dc7363-40d6-491a-8597-5a1089eaa23f"
      },
      "execution_count": 8,
      "outputs": [
        {
          "output_type": "execute_result",
          "data": {
            "text/plain": [
              "tuple"
            ]
          },
          "metadata": {},
          "execution_count": 8
        }
      ]
    },
    {
      "cell_type": "code",
      "source": [
        "# area, perimeter = calculate_square_properties(side)\n",
        "area, perimeter = results"
      ],
      "metadata": {
        "id": "q9jd8Is5_N4C"
      },
      "execution_count": 10,
      "outputs": []
    },
    {
      "cell_type": "code",
      "source": [
        "area"
      ],
      "metadata": {
        "colab": {
          "base_uri": "https://localhost:8080/"
        },
        "id": "OrH8ip_s_Qgm",
        "outputId": "13453081-e69a-44b1-9e35-fdbf3ad211f2"
      },
      "execution_count": 11,
      "outputs": [
        {
          "output_type": "execute_result",
          "data": {
            "text/plain": [
              "25.0"
            ]
          },
          "metadata": {},
          "execution_count": 11
        }
      ]
    },
    {
      "cell_type": "code",
      "source": [
        "perimeter"
      ],
      "metadata": {
        "colab": {
          "base_uri": "https://localhost:8080/"
        },
        "id": "HxdjsCM-_Tfr",
        "outputId": "de7e8de2-5887-4ff2-a2df-36d506fb209e"
      },
      "execution_count": 12,
      "outputs": [
        {
          "output_type": "execute_result",
          "data": {
            "text/plain": [
              "20.0"
            ]
          },
          "metadata": {},
          "execution_count": 12
        }
      ]
    },
    {
      "cell_type": "markdown",
      "source": [
        "Ventajas:\n",
        "- Es más rápido iterar sobre una tupla que sobre una lista\n",
        "- Se recomiendadn para datos no modificables para evitar errores durante el procesamiento de datos"
      ],
      "metadata": {
        "id": "ZYzfJT3T_V2m"
      }
    },
    {
      "cell_type": "code",
      "source": [
        "# Tuple iteration\n",
        "def iterate_tuple():\n",
        "    my_tuple = (1, 2, 3, 4, 5)\n",
        "    for item in my_tuple:\n",
        "        # print(item)\n",
        "        pass\n",
        "\n",
        "# List iteration\n",
        "def iterate_list():\n",
        "    my_list = [1, 2, 3, 4, 5]\n",
        "    for item in my_list:\n",
        "        # print(item)\n",
        "        pass"
      ],
      "metadata": {
        "id": "y_dxLAnJ_Y2P"
      },
      "execution_count": 13,
      "outputs": []
    },
    {
      "cell_type": "code",
      "source": [
        "import timeit\n",
        "\n",
        "# Probar el tiempo de ejecución para las tuplas\n",
        "timeit.timeit(iterate_tuple, number=10_000_000)\n",
        "# 1_000 iteraciones = 0.0003056670000205486\n",
        "# 10 millones de iteraciones = 1.49334"
      ],
      "metadata": {
        "colab": {
          "base_uri": "https://localhost:8080/"
        },
        "id": "zPoacjT0_b8M",
        "outputId": "8f118c83-0be3-4621-84fc-cf4d96e5b0d6"
      },
      "execution_count": 14,
      "outputs": [
        {
          "output_type": "execute_result",
          "data": {
            "text/plain": [
              "1.408140056000093"
            ]
          },
          "metadata": {},
          "execution_count": 14
        }
      ]
    },
    {
      "cell_type": "code",
      "source": [
        "timeit.timeit(iterate_list, number=10_000_000)"
      ],
      "metadata": {
        "colab": {
          "base_uri": "https://localhost:8080/"
        },
        "id": "TOI8ypqD_f9i",
        "outputId": "52b19bed-36b7-4d13-9619-c797ae4b9fb7"
      },
      "execution_count": 15,
      "outputs": [
        {
          "output_type": "execute_result",
          "data": {
            "text/plain": [
              "2.0815269930000113"
            ]
          },
          "metadata": {},
          "execution_count": 15
        }
      ]
    }
  ]
}