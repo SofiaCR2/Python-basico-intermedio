{
  "nbformat": 4,
  "nbformat_minor": 0,
  "metadata": {
    "colab": {
      "provenance": [],
      "authorship_tag": "ABX9TyMHi5O7f+g2Zf4SAX2CuDkF",
      "include_colab_link": true
    },
    "kernelspec": {
      "name": "python3",
      "display_name": "Python 3"
    },
    "language_info": {
      "name": "python"
    }
  },
  "cells": [
    {
      "cell_type": "markdown",
      "metadata": {
        "id": "view-in-github",
        "colab_type": "text"
      },
      "source": [
        "<a href=\"https://colab.research.google.com/github/SofiaCR2/Python-basico-intermedio/blob/main/Actividad_8_ch09.ipynb\" target=\"_parent\"><img src=\"https://colab.research.google.com/assets/colab-badge.svg\" alt=\"Open In Colab\"/></a>"
      ]
    },
    {
      "cell_type": "code",
      "execution_count": null,
      "metadata": {
        "id": "XJVuMqL79jOu"
      },
      "outputs": [],
      "source": [
        "from collections import OrderedDict, Counter\n",
        "import re\n",
        "\n",
        "def contar_frecuencia_palabras(texto):\n",
        "    # Obtener todas las palabras del texto en minúsculas\n",
        "    palabra = texto.lower().split()\n",
        "\n",
        "    # Usar Counter para contar la frecuencia de las palabras\n",
        "    contador_palabras = Counter(palabra)\n",
        "\n",
        "    return contador_palabras\n",
        "\n",
        "def palabras_mas_comunes(contador_palabras, n=4):\n",
        "    # Usar OrderedDict para obtener las palabras más comunes en orden\n",
        "    palabras_comunes = OrderedDict(contador_palabras.most_common(n))\n",
        "\n",
        "    return palabras_comunes\n",
        "\n",
        "texto = \"\"\"\n",
        "Python es un lenguaje de programación interpretado de alto nivel.\n",
        "Es conocido por su legibilidad y claridad de código.\n",
        "Python es utilizado en una amplia variedad de aplicaciones,\n",
        "desde desarrollo web hasta análisis de datos y aprendizaje automático.\n",
        "\"\"\"\n",
        "\n",
        "contador = contar_frecuencia_palabras(texto)\n",
        "palabras_comunes = palabras_mas_comunes(contador)\n",
        "\n",
        "print(\"Las palabras más comunes son:\")\n",
        "for palabra, frecuencia in palabras_comunes.items():\n",
        "    print(f\"{palabra}: {frecuencia}\")"
      ]
    }
  ]
}