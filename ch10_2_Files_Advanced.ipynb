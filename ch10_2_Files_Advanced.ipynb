{
  "cells": [
    {
      "cell_type": "markdown",
      "metadata": {
        "id": "view-in-github",
        "colab_type": "text"
      },
      "source": [
        "<a href=\"https://colab.research.google.com/github/SofiaCR2/Python-basico-intermedio/blob/main/ch10_2_Files_Advanced.ipynb\" target=\"_parent\"><img src=\"https://colab.research.google.com/assets/colab-badge.svg\" alt=\"Open In Colab\"/></a>"
      ]
    },
    {
      "cell_type": "markdown",
      "metadata": {
        "id": "dNWi6GXzBfLg"
      },
      "source": [
        "# Temas avanzados sobre archivos"
      ]
    },
    {
      "cell_type": "markdown",
      "metadata": {
        "id": "i0ZgKYDSBfLh"
      },
      "source": [
        "## Trabajar con archivos HTML\n",
        "- obtener una página HTML de la web\n",
        "- analizar el archivo HTML con la biblioteca BeautifulSoup"
      ]
    },
    {
      "cell_type": "code",
      "execution_count": 1,
      "metadata": {
        "colab": {
          "base_uri": "https://localhost:8080/"
        },
        "id": "a3VDOujQBfLh",
        "outputId": "9a329c61-a634-4dee-f450-df1b1b662883"
      },
      "outputs": [
        {
          "output_type": "execute_result",
          "data": {
            "text/plain": [
              "('teaching.html', <http.client.HTTPMessage at 0x7ac99ce6f0d0>)"
            ]
          },
          "metadata": {},
          "execution_count": 1
        }
      ],
      "source": [
        "# obtener una página html\n",
        "import urllib.request\n",
        "url = 'https://rambasnet.github.io/teaching.html'\n",
        "localfile = 'teaching.html'\n",
        "urllib.request.urlretrieve(url, localfile)"
      ]
    },
    {
      "cell_type": "code",
      "execution_count": 3,
      "metadata": {
        "colab": {
          "base_uri": "https://localhost:8080/"
        },
        "id": "pDj1CJ2cBfLi",
        "outputId": "dc3f135a-e51f-404c-a0e4-176f07a4b288"
      },
      "outputs": [
        {
          "output_type": "stream",
          "name": "stdout",
          "text": [
            "Hay 543 palabras en el archivo.\n"
          ]
        }
      ],
      "source": [
        "with open(localfile) as f:\n",
        "    data = f.read()\n",
        "words = data.split(' ')\n",
        "print('Hay {0} palabras en el archivo.'.format(len(words)))"
      ]
    },
    {
      "cell_type": "markdown",
      "metadata": {
        "id": "G4yin5dDBfLi"
      },
      "source": [
        "## analizando HTML usando la biblioteca BeautifulSoup\n",
        "- instalar la biblioteca Beautifulsoup\n",
        "    $ pip install bs4\n",
        "- https://www.crummy.com/software/BeautifulSoup/bs4/doc/#\n",
        "- La alternativa es la biblioteca nltk (Natural Language Toolkit)\n",
        "- http://www.nltk.org/"
      ]
    },
    {
      "cell_type": "code",
      "execution_count": 4,
      "metadata": {
        "colab": {
          "base_uri": "https://localhost:8080/"
        },
        "id": "XlAPykZWBfLi",
        "outputId": "ec0a42c0-3618-4232-8aef-f354740a8a91"
      },
      "outputs": [
        {
          "output_type": "stream",
          "name": "stdout",
          "text": [
            "Collecting bs4\n",
            "  Downloading bs4-0.0.1.tar.gz (1.1 kB)\n",
            "  Preparing metadata (setup.py) ... \u001b[?25l\u001b[?25hdone\n",
            "Requirement already satisfied: beautifulsoup4 in /usr/local/lib/python3.10/dist-packages (from bs4) (4.11.2)\n",
            "Requirement already satisfied: soupsieve>1.2 in /usr/local/lib/python3.10/dist-packages (from beautifulsoup4->bs4) (2.4.1)\n",
            "Building wheels for collected packages: bs4\n",
            "  Building wheel for bs4 (setup.py) ... \u001b[?25l\u001b[?25hdone\n",
            "  Created wheel for bs4: filename=bs4-0.0.1-py3-none-any.whl size=1257 sha256=41a8bca73b49d25d1d9b61da5c3967eb3cfbe52d64c3012dc8667dd14754a4f4\n",
            "  Stored in directory: /root/.cache/pip/wheels/25/42/45/b773edc52acb16cd2db4cf1a0b47117e2f69bb4eb300ed0e70\n",
            "Successfully built bs4\n",
            "Installing collected packages: bs4\n",
            "Successfully installed bs4-0.0.1\n"
          ]
        }
      ],
      "source": [
        "# puede ejecutar comandos de terminal/bash desde una computadora portátil usando !\n",
        "! pip install bs4"
      ]
    },
    {
      "cell_type": "code",
      "execution_count": 5,
      "metadata": {
        "colab": {
          "base_uri": "https://localhost:8080/"
        },
        "id": "9jNy0rTABfLj",
        "outputId": "569f1c98-2fd6-4267-83fc-74ceba46faaa"
      },
      "outputs": [
        {
          "output_type": "stream",
          "name": "stdout",
          "text": [
            "Dr. Ram BasnetProfessor of Computer Science and CybersecurityHomeTeachingResearchResourcesContactTeachingTeaching InterestsCybersecurityPython, C++, JavaScript, DatabasesData Science and ML ApplicationsWeb Design and Secure Web App DevelopmentCourses Taught at CMUCSCI 106- Web I  6CSCI 110- Beg. Python  8CSCI 111- CS 1  11CSCI 112- CS 2  7CSCI 206- Web 2  2CSCI 250- CS 3  3CSCI 310- Adv. Python  10CSCI 310- Adv. JavaScript  3CSCI 370- Computer Security  5CSCI 420- Software Security  9CSCI 465- Net/App Security  8CSCI 425- Python Machine Learning  3CSCI 260- Intro To Database  1CSCI 375- OOP & Design Patterns  1SPRING 2023 SCHEDULETimeMonTuesWedThrsFri8:00     8:30     9:00Office HourCH 3299-9:50Office HourCH 3299-9:50Office HourCH 3299-9:50Office HourCH 3299-9:50Office HourCH 3299-9:509:3010:00Python Machine LearningCH 21510:00-10:50 Python Machine LearningCH 21510:00-10:50 Python Machine LearningCH 21510:00-10:5010:30  11:00     11:30     12:00     12:30 OOP & Design PatternsCH 31012:30-1:45 OOP & Design PatternsCH 31012:30-1:45 1:00Software SecurityCH 2151:00-1:50Software SecurityCH 2151:00-1:50Software SecurityCH 2151:00-1:501:302:00     2:30     3:00     | Home | Teaching | Research | Resources | Contact |    © 2023\n"
          ]
        }
      ],
      "source": [
        "from bs4 import BeautifulSoup\n",
        "localfile = 'teaching.html'\n",
        "with open(localfile) as f:\n",
        "    soup = BeautifulSoup(f.read(), 'lxml')\n",
        "text = soup.get_text()\n",
        "print(text)"
      ]
    },
    {
      "cell_type": "code",
      "execution_count": 7,
      "metadata": {
        "id": "ugBDKjEnBfLj"
      },
      "outputs": [],
      "source": [
        "# dividir en líneas y eliminar el espacio inicial y final en cada línea\n",
        "lines = [line.strip() for line in text.splitlines()]"
      ]
    },
    {
      "cell_type": "code",
      "execution_count": 8,
      "metadata": {
        "colab": {
          "base_uri": "https://localhost:8080/"
        },
        "id": "BQqrX9OCBfLj",
        "outputId": "1eaf3c04-de37-489d-cb56-a13f96e96bb4"
      },
      "outputs": [
        {
          "output_type": "stream",
          "name": "stdout",
          "text": [
            "['Dr. Ram BasnetProfessor of Computer Science and CybersecurityHomeTeachingResearchResourcesContactTeachingTeaching InterestsCybersecurityPython, C++, JavaScript, DatabasesData Science and ML ApplicationsWeb Design and Secure Web App DevelopmentCourses Taught at CMUCSCI 106- Web I \\xa06CSCI 110- Beg. Python \\xa08CSCI 111- CS 1 \\xa011CSCI 112- CS 2 \\xa07CSCI 206- Web 2 \\xa02CSCI 250- CS 3 \\xa03CSCI 310- Adv. Python \\xa010CSCI 310- Adv. JavaScript \\xa03CSCI 370- Computer Security \\xa05CSCI 420- Software Security \\xa09CSCI 465- Net/App Security \\xa08CSCI 425- Python Machine Learning \\xa03CSCI 260- Intro To Database \\xa01CSCI 375- OOP & Design Patterns \\xa01SPRING 2023 SCHEDULETimeMonTuesWedThrsFri8:00\\xa0\\xa0\\xa0\\xa0\\xa08:30\\xa0\\xa0\\xa0\\xa0\\xa09:00Office HourCH 3299-9:50Office HourCH 3299-9:50Office HourCH 3299-9:50Office HourCH 3299-9:50Office HourCH 3299-9:509:3010:00Python Machine LearningCH 21510:00-10:50\\xa0Python Machine LearningCH 21510:00-10:50\\xa0Python Machine LearningCH 21510:00-10:5010:30\\xa0\\xa011:00\\xa0\\xa0\\xa0\\xa0\\xa011:30\\xa0\\xa0\\xa0\\xa0\\xa012:00\\xa0\\xa0\\xa0\\xa0\\xa012:30\\xa0OOP & Design PatternsCH 31012:30-1:45\\xa0OOP & Design PatternsCH 31012:30-1:45\\xa01:00Software SecurityCH 2151:00-1:50Software SecurityCH 2151:00-1:50Software SecurityCH 2151:00-1:501:302:00\\xa0\\xa0\\xa0\\xa0\\xa02:30\\xa0\\xa0\\xa0\\xa0\\xa03:00\\xa0\\xa0\\xa0\\xa0\\xa0|\\xa0Home\\xa0|\\xa0Teaching\\xa0|\\xa0Research\\xa0|\\xa0Resources\\xa0|\\xa0Contact\\xa0| \\xa0\\xa0 © 2023']\n"
          ]
        }
      ],
      "source": [
        "print(lines[:20])"
      ]
    },
    {
      "cell_type": "code",
      "execution_count": 9,
      "metadata": {
        "id": "ywt0OcEIBfLj"
      },
      "outputs": [],
      "source": [
        "# crear una lista de palabras dividiendo elementos de varias palabras\n",
        "words = [word.strip().lower() for line in lines for word in line.split()]"
      ]
    },
    {
      "cell_type": "code",
      "execution_count": 10,
      "metadata": {
        "colab": {
          "base_uri": "https://localhost:8080/"
        },
        "id": "E_ZQ47rGBfLj",
        "outputId": "f809c229-495c-4d85-8eea-839342bcceca"
      },
      "outputs": [
        {
          "output_type": "stream",
          "name": "stdout",
          "text": [
            "['dr.', 'ram', 'basnetprofessor', 'of', 'computer', 'science', 'and', 'cybersecurityhometeachingresearchresourcescontactteachingteaching', 'interestscybersecuritypython,', 'c++,', 'javascript,', 'databasesdata', 'science', 'and', 'ml', 'applicationsweb', 'design', 'and', 'secure', 'web']\n"
          ]
        }
      ],
      "source": [
        "print(words[:20])"
      ]
    },
    {
      "cell_type": "code",
      "execution_count": 11,
      "metadata": {
        "colab": {
          "base_uri": "https://localhost:8080/"
        },
        "id": "ew8OYvA9BfLk",
        "outputId": "2be92eab-ca55-422e-a861-fbdd76624cc1"
      },
      "outputs": [
        {
          "output_type": "stream",
          "name": "stdout",
          "text": [
            "There are 146 words in the file.\n"
          ]
        }
      ],
      "source": [
        "print('There are {0} words in the file.'.format(len(words)))"
      ]
    },
    {
      "cell_type": "markdown",
      "metadata": {
        "id": "6PTHjw4UBfLk"
      },
      "source": [
        "## Find histogram of words\n",
        "- use DefaultDict found in collections module\n",
        "- https://docs.python.org/3/library/collections.html"
      ]
    },
    {
      "cell_type": "code",
      "execution_count": 12,
      "metadata": {
        "id": "6VupERAqBfLk"
      },
      "outputs": [],
      "source": [
        "from collections import defaultdict"
      ]
    },
    {
      "cell_type": "code",
      "execution_count": 13,
      "metadata": {
        "id": "ywF7RcvzBfLk"
      },
      "outputs": [],
      "source": [
        "hist = defaultdict(int)\n",
        "for w in words:\n",
        "    hist[w] += 1"
      ]
    },
    {
      "cell_type": "code",
      "execution_count": 14,
      "metadata": {
        "id": "tIJY8XOoBfLk"
      },
      "outputs": [],
      "source": [
        "# print top 10 most common words\n",
        "listHist = [(k, v) for k, v in hist.items()]"
      ]
    },
    {
      "cell_type": "code",
      "execution_count": 15,
      "metadata": {
        "colab": {
          "base_uri": "https://localhost:8080/"
        },
        "id": "t2V8x_caBfLk",
        "outputId": "adc0d32d-ebda-49c2-8658-22184e1bb0bc"
      },
      "outputs": [
        {
          "output_type": "stream",
          "name": "stdout",
          "text": [
            "[('dr.', 1), ('ram', 1), ('basnetprofessor', 1), ('of', 1), ('computer', 2), ('science', 2), ('and', 3), ('cybersecurityhometeachingresearchresourcescontactteachingteaching', 1), ('interestscybersecuritypython,', 1), ('c++,', 1)]\n"
          ]
        }
      ],
      "source": [
        "print(listHist[:10])"
      ]
    },
    {
      "cell_type": "code",
      "execution_count": null,
      "metadata": {
        "id": "_PCPPobyBfLk"
      },
      "outputs": [],
      "source": [
        "listHist.sort(key = lambda x: x[1], reverse=True)"
      ]
    },
    {
      "cell_type": "code",
      "execution_count": null,
      "metadata": {
        "colab": {
          "base_uri": "https://localhost:8080/"
        },
        "id": "RaPG--ggBfLk",
        "outputId": "8ad28725-1067-4d07-d299-42fe7ea66518"
      },
      "outputs": [
        {
          "output_type": "stream",
          "name": "stdout",
          "text": [
            "[('|', 6), ('python', 5), ('hourch', 5), ('design', 4), ('machine', 4), ('3299-9:50office', 4), ('and', 3), ('web', 3), ('cs', 3), ('3csci', 3)]\n"
          ]
        }
      ],
      "source": [
        "print(listHist[:10])"
      ]
    },
    {
      "cell_type": "markdown",
      "metadata": {
        "id": "AJvvLLRYBfLl"
      },
      "source": [
        "## trabajar con archivos binarios\n",
        "- el siguiente ejemplo copia un archivo binario como image"
      ]
    },
    {
      "cell_type": "code",
      "execution_count": 16,
      "metadata": {
        "id": "-eOENZLLBfLl"
      },
      "outputs": [],
      "source": [
        "fileSrc = 'brain.jpg'\n",
        "fileDst = 'brain-copy.jpg'\n",
        "with open(fileSrc, 'rb') as rbf:\n",
        "    #rb - leer modo binario\n",
        "    data = rbf.read() # leer todo el archivo binario\n",
        "    with open(fileDst, 'wb') as wbf:\n",
        "        wbf.write(data) # escribir todo el archivo binario"
      ]
    },
    {
      "cell_type": "markdown",
      "metadata": {
        "id": "pogVgUiFBfLl"
      },
      "source": [
        "## ¡utilice cheksum para comparar si dos archivos coinciden exactamente!\n",
        "\n",
        "- checksum asegura que ni un solo bit sea diferente entre los dos archivos\n",
        "- usado en seguridad\n",
        "- importar y usar hashlib - https://docs.python.org/3/library/hashlib.html"
      ]
    },
    {
      "cell_type": "code",
      "execution_count": 17,
      "metadata": {
        "colab": {
          "base_uri": "https://localhost:8080/"
        },
        "id": "j6k7qlF-BfLl",
        "outputId": "c50c297d-b905-4cbb-da51-4e94f711540a"
      },
      "outputs": [
        {
          "output_type": "stream",
          "name": "stdout",
          "text": [
            "two files checksums match!\n"
          ]
        }
      ],
      "source": [
        "import hashlib\n",
        "file1Contents = open(fileSrc, 'rb').read()\n",
        "file2Contents = open(fileDst, 'rb').read()\n",
        "\n",
        "file1ChkSum = hashlib.sha256(file1Contents).hexdigest()\n",
        "file2ChkSum = hashlib.sha256(file2Contents).hexdigest()\n",
        "if (file1ChkSum == file2ChkSum):\n",
        "    print('two files checksums match!')\n",
        "else:\n",
        "    print('oops! two files checksums do NOT match!')"
      ]
    },
    {
      "cell_type": "markdown",
      "metadata": {
        "id": "OHS6tO0vBfLl"
      },
      "source": [
        "## Serialización de objetos de Python con la biblioteca pickle\n",
        "https://docs.python.org/3/library/pickle.html\n",
        "- El módulo pickle implementa protocolos binarios para serializar y deserializar un objeto de Python\n",
        "- Pickling : serialización de objetos de python\n",
        "- Un-Pickling  - deserialización del objeto python (operación inversa)"
      ]
    },
    {
      "cell_type": "code",
      "execution_count": 18,
      "metadata": {
        "id": "GKh85TCbBfLl"
      },
      "outputs": [],
      "source": [
        "import pickle\n",
        "alist = list(range(2, 21, 2))"
      ]
    },
    {
      "cell_type": "code",
      "execution_count": 19,
      "metadata": {
        "colab": {
          "base_uri": "https://localhost:8080/"
        },
        "id": "8KGGBiLvBfLl",
        "outputId": "78c024a4-aa1c-4302-8225-71fe7f843075"
      },
      "outputs": [
        {
          "output_type": "stream",
          "name": "stdout",
          "text": [
            "[2, 4, 6, 8, 10, 12, 14, 16, 18, 20]\n"
          ]
        }
      ],
      "source": [
        "print(alist)"
      ]
    },
    {
      "cell_type": "code",
      "execution_count": 22,
      "metadata": {
        "id": "93x3vlXvBfLl"
      },
      "outputs": [],
      "source": [
        "# lets pickle alist\n",
        "pickleFile = 'myPickle.pkl'\n",
        "with open(pickleFile, 'wb') as p:\n",
        "    pickle.dump(alist, p)"
      ]
    },
    {
      "cell_type": "code",
      "execution_count": 29,
      "metadata": {
        "id": "JxrFUWhdBfLl"
      },
      "outputs": [],
      "source": [
        "# lets unpickle alist\n",
        "with open(pickleFile, 'rb') as p:\n",
        "    blist = pickle.load(p)"
      ]
    },
    {
      "cell_type": "code",
      "execution_count": 30,
      "metadata": {
        "colab": {
          "base_uri": "https://localhost:8080/"
        },
        "id": "l2-LAfhaBfLl",
        "outputId": "374c1954-e863-4be8-e197-7f48c34752af"
      },
      "outputs": [
        {
          "output_type": "execute_result",
          "data": {
            "text/plain": [
              "True"
            ]
          },
          "metadata": {},
          "execution_count": 30
        }
      ],
      "source": [
        "alist == blist"
      ]
    },
    {
      "cell_type": "markdown",
      "source": [
        "# Usando NLTK"
      ],
      "metadata": {
        "id": "pjyaF86XERVz"
      }
    },
    {
      "cell_type": "code",
      "execution_count": 31,
      "metadata": {
        "colab": {
          "base_uri": "https://localhost:8080/"
        },
        "id": "51ZEJ1JNBfLl",
        "outputId": "d224a639-feb1-42a6-8802-937038c99ca4"
      },
      "outputs": [
        {
          "output_type": "stream",
          "name": "stdout",
          "text": [
            "Requirement already satisfied: NLTK in /usr/local/lib/python3.10/dist-packages (3.8.1)\n",
            "Requirement already satisfied: click in /usr/local/lib/python3.10/dist-packages (from NLTK) (8.1.4)\n",
            "Requirement already satisfied: joblib in /usr/local/lib/python3.10/dist-packages (from NLTK) (1.3.1)\n",
            "Requirement already satisfied: regex>=2021.8.3 in /usr/local/lib/python3.10/dist-packages (from NLTK) (2022.10.31)\n",
            "Requirement already satisfied: tqdm in /usr/local/lib/python3.10/dist-packages (from NLTK) (4.65.0)\n"
          ]
        }
      ],
      "source": [
        "! pip install NLTK"
      ]
    },
    {
      "cell_type": "code",
      "source": [
        "import nltk\n",
        "from nltk.corpus import gutenberg\n",
        "from nltk.corpus import stopwords"
      ],
      "metadata": {
        "id": "Hsf83cWXEWm9"
      },
      "execution_count": 33,
      "outputs": []
    },
    {
      "cell_type": "markdown",
      "source": [
        "# Trabajando con Corpus"
      ],
      "metadata": {
        "id": "ATu3nt6LEaiE"
      }
    },
    {
      "cell_type": "code",
      "source": [
        "nltk.download('gutenberg')"
      ],
      "metadata": {
        "colab": {
          "base_uri": "https://localhost:8080/"
        },
        "id": "1yONpdOQEa7u",
        "outputId": "aa1ec7ce-16b1-42b8-f0a7-cf48c38157f5"
      },
      "execution_count": 34,
      "outputs": [
        {
          "output_type": "stream",
          "name": "stderr",
          "text": [
            "[nltk_data] Downloading package gutenberg to /root/nltk_data...\n",
            "[nltk_data]   Unzipping corpora/gutenberg.zip.\n"
          ]
        },
        {
          "output_type": "execute_result",
          "data": {
            "text/plain": [
              "True"
            ]
          },
          "metadata": {},
          "execution_count": 34
        }
      ]
    },
    {
      "cell_type": "code",
      "source": [
        "nltk.corpus.gutenberg.fileids()"
      ],
      "metadata": {
        "colab": {
          "base_uri": "https://localhost:8080/"
        },
        "id": "IELtynUrEi_Q",
        "outputId": "491f8fa7-9bab-46af-a556-4f4bbe88ed1c"
      },
      "execution_count": 35,
      "outputs": [
        {
          "output_type": "execute_result",
          "data": {
            "text/plain": [
              "['austen-emma.txt',\n",
              " 'austen-persuasion.txt',\n",
              " 'austen-sense.txt',\n",
              " 'bible-kjv.txt',\n",
              " 'blake-poems.txt',\n",
              " 'bryant-stories.txt',\n",
              " 'burgess-busterbrown.txt',\n",
              " 'carroll-alice.txt',\n",
              " 'chesterton-ball.txt',\n",
              " 'chesterton-brown.txt',\n",
              " 'chesterton-thursday.txt',\n",
              " 'edgeworth-parents.txt',\n",
              " 'melville-moby_dick.txt',\n",
              " 'milton-paradise.txt',\n",
              " 'shakespeare-caesar.txt',\n",
              " 'shakespeare-hamlet.txt',\n",
              " 'shakespeare-macbeth.txt',\n",
              " 'whitman-leaves.txt']"
            ]
          },
          "metadata": {},
          "execution_count": 35
        }
      ]
    },
    {
      "cell_type": "code",
      "source": [
        "hamlet = nltk.corpus.gutenberg.words('shakespeare-hamlet.txt')"
      ],
      "metadata": {
        "id": "-qk_CpRIElwc"
      },
      "execution_count": 36,
      "outputs": []
    },
    {
      "cell_type": "code",
      "source": [
        "nltk.download('punkt')"
      ],
      "metadata": {
        "colab": {
          "base_uri": "https://localhost:8080/"
        },
        "id": "0FEG1Gjv0ySc",
        "outputId": "e447716c-d114-4fe2-d4b5-de6586798328"
      },
      "execution_count": 42,
      "outputs": [
        {
          "output_type": "stream",
          "name": "stderr",
          "text": [
            "[nltk_data] Downloading package punkt to /root/nltk_data...\n",
            "[nltk_data]   Unzipping tokenizers/punkt.zip.\n"
          ]
        },
        {
          "output_type": "execute_result",
          "data": {
            "text/plain": [
              "True"
            ]
          },
          "metadata": {},
          "execution_count": 42
        }
      ]
    },
    {
      "cell_type": "code",
      "source": [
        "num_caracteres = len(gutenberg.raw('shakespeare-hamlet.txt'))\n",
        "num_palabras = len(gutenberg.words('shakespeare-hamlet.txt'))\n",
        "num_oraciones = len(gutenberg.sents('shakespeare-hamlet.txt'))\n",
        "num_vocab = len(set([w.lower() for w in gutenberg.words('shakespeare-hamlet.txt')]))\n",
        "\n",
        "print('Cantidad de caracteres: ',num_caracteres )\n",
        "print('Cantidad de palabras: ',num_palabras )\n",
        "print('Cantidad de oraciones: ',num_oraciones )\n",
        "print('Longitud promedio de una palabra: ',int(num_caracteres/num_palabras) )\n",
        "print('Longitud promedio de una oracion: ',int(num_palabras/num_oraciones) )\n",
        "print('Diversidad léxica: ',int(num_palabras/num_vocab) )"
      ],
      "metadata": {
        "colab": {
          "base_uri": "https://localhost:8080/"
        },
        "id": "vZ5WhFVoEshW",
        "outputId": "300eafe5-556a-4ecc-a708-2c589e8c98c8"
      },
      "execution_count": 43,
      "outputs": [
        {
          "output_type": "stream",
          "name": "stdout",
          "text": [
            "Cantidad de caracteres:  162881\n",
            "Cantidad de palabras:  37360\n",
            "Cantidad de oraciones:  3106\n",
            "Longitud promedio de una palabra:  4\n",
            "Longitud promedio de una oracion:  12\n",
            "Diversidad léxica:  7\n"
          ]
        }
      ]
    },
    {
      "cell_type": "code",
      "source": [
        "nltk.download('brown')\n",
        "from nltk.corpus import brown"
      ],
      "metadata": {
        "colab": {
          "base_uri": "https://localhost:8080/"
        },
        "id": "5D-oanBdEyAJ",
        "outputId": "8faed45b-4f2b-4d2c-cb63-d95b3af4cd43"
      },
      "execution_count": 44,
      "outputs": [
        {
          "output_type": "stream",
          "name": "stderr",
          "text": [
            "[nltk_data] Downloading package brown to /root/nltk_data...\n",
            "[nltk_data]   Unzipping corpora/brown.zip.\n"
          ]
        }
      ]
    },
    {
      "cell_type": "code",
      "source": [
        "brown.categories()"
      ],
      "metadata": {
        "colab": {
          "base_uri": "https://localhost:8080/"
        },
        "id": "H8NmYwk6EztG",
        "outputId": "a474a6ef-b5d2-4d50-e438-961901456a30"
      },
      "execution_count": 45,
      "outputs": [
        {
          "output_type": "execute_result",
          "data": {
            "text/plain": [
              "['adventure',\n",
              " 'belles_lettres',\n",
              " 'editorial',\n",
              " 'fiction',\n",
              " 'government',\n",
              " 'hobbies',\n",
              " 'humor',\n",
              " 'learned',\n",
              " 'lore',\n",
              " 'mystery',\n",
              " 'news',\n",
              " 'religion',\n",
              " 'reviews',\n",
              " 'romance',\n",
              " 'science_fiction']"
            ]
          },
          "metadata": {},
          "execution_count": 45
        }
      ]
    },
    {
      "cell_type": "code",
      "source": [
        "noticias = brown.words(categories='religion')\n",
        "dist_frec = nltk.FreqDist([w.lower() for w in noticias])\n",
        "verbo_modal = ['can','could','may','migth','must','will']\n",
        "for m in verbo_modal:\n",
        "  print(m + \":\", dist_frec[m],)"
      ],
      "metadata": {
        "id": "36Xtb2NqE3tm",
        "outputId": "e96ccec7-943d-4a74-acbe-c4cf72af66b5",
        "colab": {
          "base_uri": "https://localhost:8080/"
        }
      },
      "execution_count": 46,
      "outputs": [
        {
          "output_type": "stream",
          "name": "stdout",
          "text": [
            "can: 84\n",
            "could: 59\n",
            "may: 79\n",
            "migth: 0\n",
            "must: 54\n",
            "will: 72\n"
          ]
        }
      ]
    }
  ],
  "metadata": {
    "kernelspec": {
      "display_name": "Python 3",
      "language": "python",
      "name": "python3"
    },
    "language_info": {
      "codemirror_mode": {
        "name": "ipython",
        "version": 3
      },
      "file_extension": ".py",
      "mimetype": "text/x-python",
      "name": "python",
      "nbconvert_exporter": "python",
      "pygments_lexer": "ipython3",
      "version": "3.7.2"
    },
    "colab": {
      "provenance": [],
      "include_colab_link": true
    }
  },
  "nbformat": 4,
  "nbformat_minor": 0
}