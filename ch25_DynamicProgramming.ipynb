{
  "cells": [
    {
      "cell_type": "markdown",
      "metadata": {
        "id": "view-in-github",
        "colab_type": "text"
      },
      "source": [
        "<a href=\"https://colab.research.google.com/github/SofiaCR2/Python-basico-intermedio/blob/main/ch25_DynamicProgramming.ipynb\" target=\"_parent\"><img src=\"https://colab.research.google.com/assets/colab-badge.svg\" alt=\"Open In Colab\"/></a>"
      ]
    },
    {
      "cell_type": "markdown",
      "metadata": {
        "id": "YEQg_uMc-PKA"
      },
      "source": [
        "# Programación Dinámica (DP)\n",
        "\n",
        "- https://www.cs.cmu.edu/~avrim/451f09/lectures/lect1001.pdf\n",
        "- https://www.geeksforgeeks.org/overlapping-subproblems-property-in-dynamic-programming-dp-1/\n",
        "- técnica poderosa que permite resolver muchos tipos diferentes de problemas en el tiempo $O(n^2)$ o $O(n^3)$ para los cuales un enfoque ingenuo tomaría un tiempo exponencial\n",
        "- dos propiedades principales de un problema que garantiza una solución DP:\n",
        "    1. Subproblemas superpuestos\n",
        "    2. Subestructuras óptimas"
      ]
    },
    {
      "cell_type": "markdown",
      "metadata": {
        "id": "dGpQGdBw-PKC"
      },
      "source": [
        "## Subproblemas superpuestos\n",
        "- el problema combina soluciones de muchos subproblemas superpuestos\n",
        "- DP no es útil cuando no hay subproblemas comunes (superpuestos)\n",
        "- Las soluciones calculadas para los subproblemas se almacenan en una tabla de búsqueda para evitar volver a calcular\n",
        "- ligeramente diferente de la técnica **Divide and Conquer**\n",
        "    - dividir los problemas en subproblemas más pequeños que no se superpongan y resolverlos de forma independiente\n",
        "    - por ejemplo: clasificación por combinación y clasificación rápida\n",
        "\n",
        "## Subestructuras óptimas\n",
        "- La solución óptima del problema dado se puede obtener mediante el uso de soluciones óptimas de sus subproblemas"
      ]
    },
    {
      "cell_type": "markdown",
      "metadata": {
        "id": "q0bOqxGU-PKC"
      },
      "source": [
        "## 2 Tipos de soluciones DP\n",
        "\n",
        "## 1. De arriba hacia abajo (memorización)\n",
        "- basado en la palabra latina memorandum, que significa \"para ser recordado\" <img src=\"./resources/brain.jpg\" width=\"25%\" style=\"float:right\">\n",
        "- similar a la memorización de palabras, es una técnica utilizada en la codificación para mejorar el tiempo de ejecución del programa mediante la memorización de soluciones intermedias\n",
        "- utilizando la estructura de datos de búsqueda de tipo dict, uno puede memorizar los resultados intermedios de los subproblemas\n",
        "- Tpicamente recursividad utiliza un enfoque de arriba hacia abajo\n",
        "\n",
        "### Proceso\n",
        "- comenzar a resolver el problema dado dividiéndolo\n",
        "- primero verifique si el problema dado ya se ha resuelto\n",
        "    - si es así, devolver la respuesta guardada\n",
        "    - si no, resuélvelo y guarda la respuesta\n",
        "    \n",
        "## 2. De abajo hacia arriba (tabulación)\n",
        "- empezar a resolver desde el subproblema trivial\n",
        "- almacenar los resultados en una tabla/lista/matriz\n",
        "- avanzar hacia el problema dado usando los resultados de los subproblemas\n",
        "- las soluciones típicamente iterativas utilizan un enfoque de abajo hacia arriba"
      ]
    },
    {
      "cell_type": "markdown",
      "metadata": {
        "id": "NpmNJSRa-PKD"
      },
      "source": [
        "### función fib recursiva simple\n",
        "- recuerde, la definición de fibonacci es recursiva y tiene muchos subproblemas comunes/superpuestos"
      ]
    },
    {
      "cell_type": "code",
      "execution_count": 1,
      "metadata": {
        "colab": {
          "base_uri": "https://localhost:8080/"
        },
        "id": "ce3UmPeE-PKD",
        "outputId": "0403a8e4-2f1f-423b-da9b-965c721bee22"
      },
      "outputs": [
        {
          "output_type": "stream",
          "name": "stdout",
          "text": [
            "fib at 30th position = 1346269\n",
            "fib function count = 2692537\n"
          ]
        }
      ],
      "source": [
        "count = 0\n",
        "def fib(n):\n",
        "    global count\n",
        "    count += 1\n",
        "    if n <= 1:\n",
        "        return 1\n",
        "    f = fib(n-1) + fib(n-2)\n",
        "    return f\n",
        "\n",
        "n=30 #40, 50? takes a while\n",
        "print(\"fib at {}th position = {}\".format(n, fib(n)))\n",
        "print(\"fib function count = {}\".format(count))"
      ]
    },
    {
      "cell_type": "markdown",
      "metadata": {
        "id": "oRHd8_Lt-PKD"
      },
      "source": [
        "### complejidad computacional teórica\n",
        "- Complejidad del tiempo: $T(n)$ = time to calculate Fib(n-1) + Fib(n-2) + time to add them: O(1)\n",
        "- usando Big-Oh (O) notación para el límite superior:\n",
        "    - $T(n) = T(n-1) + T(n-2) + O(1)$\n",
        "    - $T(n) = O(2^{n-1}) + O(2^{n-2}) + O(1)$\n",
        "    - $T(n) = O(2^n)$\n",
        "   \n",
        "    **precisely**\n",
        "    - $T(n) = O(1.6)^n$\n",
        "    \n",
        "        - 1.6... se llama proporción áurea- https://www.mathsisfun.com/numbers/golden-ratio.html\n",
        "- Space Complexity = $O(n)$ due to call stack"
      ]
    },
    {
      "cell_type": "code",
      "execution_count": 2,
      "metadata": {
        "colab": {
          "base_uri": "https://localhost:8080/"
        },
        "id": "l6Tz2Anu-PKE",
        "outputId": "2f211b9f-a882-454d-ac2e-2dae1704f539"
      },
      "outputs": [
        {
          "output_type": "stream",
          "name": "stdout",
          "text": [
            "0.6139613329999634\n"
          ]
        }
      ],
      "source": [
        "#print(globals())\n",
        "import timeit\n",
        "print(timeit.timeit('fib(30)', number=1, globals=globals()))\n",
        "# big difference between 30 and 40"
      ]
    },
    {
      "cell_type": "markdown",
      "metadata": {
        "id": "0Muich05-PKE"
      },
      "source": [
        "### función fib recursiva memorizada"
      ]
    },
    {
      "cell_type": "code",
      "execution_count": 3,
      "metadata": {
        "id": "fs3R5wOi-PKE"
      },
      "outputs": [],
      "source": [
        "count = 0\n",
        "def MemoizedFib(memo, n):\n",
        "    global count\n",
        "    count += 1\n",
        "    if n <= 1:\n",
        "        return 1\n",
        "    if n in memo:\n",
        "        return memo[n]\n",
        "    memo[n] = MemoizedFib(memo, n-1) + MemoizedFib(memo, n-2)\n",
        "    return memo[n]"
      ]
    },
    {
      "cell_type": "code",
      "execution_count": 4,
      "metadata": {
        "colab": {
          "base_uri": "https://localhost:8080/"
        },
        "id": "brN_2ArQ-PKE",
        "outputId": "386bb353-735b-43c6-cfc7-2f604b39923c"
      },
      "outputs": [
        {
          "output_type": "stream",
          "name": "stdout",
          "text": [
            "fib at 100th position = 573147844013817084101\n",
            "fib function called 199 times.\n"
          ]
        }
      ],
      "source": [
        "memo = {}\n",
        "n=100 #try 40, 50, 60, 100, 500, 10000, ...\n",
        "print(\"fib at {}th position = {}\".format(n, MemoizedFib(memo, n)))\n",
        "print(\"fib function called {} times.\".format(count))"
      ]
    },
    {
      "cell_type": "code",
      "execution_count": 5,
      "metadata": {
        "colab": {
          "base_uri": "https://localhost:8080/"
        },
        "id": "E-bf1acd-PKE",
        "outputId": "ae98014a-97d6-4ce2-c674-0850caa1fe3c"
      },
      "outputs": [
        {
          "output_type": "stream",
          "name": "stdout",
          "text": [
            "0.0001549159999854055\n"
          ]
        }
      ],
      "source": [
        "import timeit\n",
        "memo = {}\n",
        "n=100\n",
        "print(timeit.timeit('MemoizedFib(memo, n)', number=1, globals=globals()))"
      ]
    },
    {
      "cell_type": "markdown",
      "metadata": {
        "id": "vuoamnch-PKG"
      },
      "source": [
        "### complejidad computacional de fib memorizado\n",
        "- Complejidad del tiempo - $O(n)$\n",
        "- Complejidad espacial - $O(n)$"
      ]
    },
    {
      "cell_type": "markdown",
      "metadata": {
        "id": "yiQE8Hj8-PKG"
      },
      "source": [
        "### normalmente las respuestas enteras grandes se informan en mod $(10^9+7)$\n",
        "- mod de un número primo muy grande\n",
        "- necesita saber algo de aritmética modular: https://www.khanacademy.org/computing/computer-science/cryptography/modarithmetic/a/modular-addition-and-subtraction\n",
        "- $(A+B) \\% C = (A \\% C + B \\% C) \\% C$\n",
        "- $(A-B) \\% C = (A \\% C - B \\% C) \\% C$\n"
      ]
    },
    {
      "cell_type": "code",
      "execution_count": 6,
      "metadata": {
        "id": "0hJGhAeG-PKG"
      },
      "outputs": [],
      "source": [
        "mod = 1000000007\n",
        "def MemoizedModFib(memo, n):\n",
        "    if n <= 1:\n",
        "        return 1\n",
        "    if n in memo:\n",
        "        return memo[n]\n",
        "    memo[n] = (MemoizedFib(memo, n-1)%mod + MemoizedFib(memo, n-2)%mod)%mod\n",
        "    return memo[n]"
      ]
    },
    {
      "cell_type": "code",
      "execution_count": 7,
      "metadata": {
        "colab": {
          "base_uri": "https://localhost:8080/"
        },
        "id": "3BRiraUq-PKG",
        "outputId": "0b421034-88e1-4654-d80e-751df288c375"
      },
      "outputs": [
        {
          "output_type": "stream",
          "name": "stdout",
          "text": [
            "fib at 100th position = 782204094\n"
          ]
        }
      ],
      "source": [
        "memo = {}\n",
        "n=100 #try 40, 50, 60, 100, 500, 10000, ...\n",
        "print(\"fib at {}th position = {}\".format(n, MemoizedModFib(memo, n)))"
      ]
    },
    {
      "cell_type": "markdown",
      "metadata": {
        "id": "RgqFLRGE-PKG"
      },
      "source": [
        "### Solución de fibonacci ascendente (iterativa)\n",
        "- primero calcula fib(0) then fib(1), then fib(2), fib(3), etcétera"
      ]
    },
    {
      "cell_type": "code",
      "execution_count": 8,
      "metadata": {
        "id": "Ji6VB39u-PKG"
      },
      "outputs": [],
      "source": [
        "def iterativeFib(n):\n",
        "    # fib array/list\n",
        "    fib = [1]*(n+1) # initialize 0..n list with 1\n",
        "    for i in range(2, n+1):\n",
        "        fib[i] = fib[i-1] + fib[i-2]\n",
        "    return fib[i]"
      ]
    },
    {
      "cell_type": "code",
      "execution_count": 9,
      "metadata": {
        "colab": {
          "base_uri": "https://localhost:8080/"
        },
        "id": "8otPqJCt-PKH",
        "outputId": "ea515b08-d9fc-498f-cf1c-8cf900cd000f"
      },
      "outputs": [
        {
          "output_type": "stream",
          "name": "stdout",
          "text": [
            "3.1657000022278226e-05\n"
          ]
        }
      ],
      "source": [
        "n=100\n",
        "\n",
        "print(timeit.timeit('iterativeFib(n)', number=1, globals=globals()))\n",
        "# is faster than recursive counterpart"
      ]
    },
    {
      "cell_type": "markdown",
      "metadata": {
        "id": "5JdPfM5x-PKH"
      },
      "source": [
        "## Problema de cambio de moneda\n",
        "- https://www.geeksforgeeks.org/understanding-the-coin-change-problem-with-dynamic-programming/\n",
        "- esencial para comprender el paradigma de PD\n",
        "- una variación de la definición del problema:\n",
        "    - Dado un número infinito de monedas de varias denominaciones tales como $1$ cent (centavo), $5$ cents (níquel), and $10$ cents (diez centavos), ¿Puedes determinar el número total de combinaciones (no importa el orden) de las monedas en la lista dada para formar una cantidad de $N$?\n",
        "- Ejemplo 1:\n",
        "    - Input: coins = $[1, 5, 10]$, $N = 8$\n",
        "    - Output: 2\n",
        "    - Combinations:\n",
        "        1. $1 + 1 + 1 + 1+1+1+1+1 = 8$\n",
        "        - $1 + 1 + 1 + 5 = 8 $  \n",
        "- Ejemplo 2:\n",
        "    - Input: coins = $[1, 5, 10], N = 10$\n",
        "    - Output: 4\n",
        "    - Combinations:\n",
        "        1. $1+1+1+1+1+1+1+1+1+1=10$\n",
        "        - $ 1+1+1+1+1+5 = 10$\n",
        "        - $ 5+5 = 10$\n",
        "        - $10 = 10$\n",
        "- Implementación:\n",
        "    - usamos tabulación/lista/matriz para almacenar el número de formas para el resultado $N = 0$ a $12$\n",
        "    - los valores de la lista representan el número de formas; los índices representan el resultado/suma $N$\n",
        "    - soways = [0, 0, 0, 0, 0, 0....] inicializado con 12 0s\n",
        "    - caso base:\n",
        "        - caminos[0] = 1; hay 1 manera de hacer la suma N=0 usando 0 monedas\n",
        "    - por cada moneda:\n",
        "        - si el valor de la moneda es menor que el resultado/índice $N$,\n",
        "            - actualizar el ways[n] = ways[n-coin] + ways[n]"
      ]
    },
    {
      "cell_type": "code",
      "execution_count": 10,
      "metadata": {
        "id": "pR_Xnc_k-PKH"
      },
      "outputs": [],
      "source": [
        "def countWays(coins, N):\n",
        "    # use ways table to store the results\n",
        "    # ways[i] will store the number of solutions for value i\n",
        "    ways = [0]*(N+1) # initialize all values 0-12 as 0\n",
        "    # base case\n",
        "    ways[0] = 1\n",
        "    # pick all coins one by one\n",
        "    # update the ways starting from the value of the picked coin\n",
        "    print('values:', list(range(N+1)))\n",
        "    for coin in coins:\n",
        "        for i in range(coin, N+1):\n",
        "            ways[i] += ways[i-coin]\n",
        "        print('ways:  ', ways, coin)\n",
        "    return ways[N]\n"
      ]
    },
    {
      "cell_type": "code",
      "execution_count": 11,
      "metadata": {
        "colab": {
          "base_uri": "https://localhost:8080/"
        },
        "id": "IPti7lHZ-PKH",
        "outputId": "e91bbd11-9f27-40da-8dd9-0a5d7c1fa129"
      },
      "outputs": [
        {
          "output_type": "stream",
          "name": "stdout",
          "text": [
            "values: [0, 1, 2, 3, 4, 5, 6, 7, 8]\n",
            "ways:   [1, 1, 1, 1, 1, 1, 1, 1, 1] 1\n",
            "ways:   [1, 1, 1, 1, 1, 2, 2, 2, 2] 5\n",
            "ways:   [1, 1, 1, 1, 1, 2, 2, 2, 2] 10\n",
            "Number of Ways to get 8 = 2\n"
          ]
        }
      ],
      "source": [
        "coins = [1, 5, 10]\n",
        "N = 8\n",
        "print('Number of Ways to get {} = {}'.format(N, countWays(coins, N)))"
      ]
    },
    {
      "cell_type": "code",
      "execution_count": 12,
      "metadata": {
        "colab": {
          "base_uri": "https://localhost:8080/"
        },
        "id": "9U9bysiP-PKH",
        "outputId": "401916a0-1e54-4d3c-ad1b-3707c2487473"
      },
      "outputs": [
        {
          "output_type": "stream",
          "name": "stdout",
          "text": [
            "values: [0, 1, 2, 3, 4, 5, 6, 7, 8, 9, 10]\n",
            "ways:   [1, 1, 1, 1, 1, 1, 1, 1, 1, 1, 1] 1\n",
            "ways:   [1, 1, 1, 1, 1, 2, 2, 2, 2, 2, 3] 5\n",
            "ways:   [1, 1, 1, 1, 1, 2, 2, 2, 2, 2, 4] 10\n",
            "Number of Ways to get 10 = 4\n"
          ]
        }
      ],
      "source": [
        "N = 10\n",
        "print('Number of Ways to get {} = {}'.format(N, countWays(coins, N)))"
      ]
    },
    {
      "cell_type": "code",
      "execution_count": 13,
      "metadata": {
        "colab": {
          "base_uri": "https://localhost:8080/"
        },
        "id": "6i1uGjvB-PKH",
        "outputId": "fce2c688-7830-4550-9bab-9fa55fc672a2"
      },
      "outputs": [
        {
          "output_type": "stream",
          "name": "stdout",
          "text": [
            "values: [0, 1, 2, 3, 4, 5, 6, 7, 8, 9, 10, 11, 12]\n",
            "ways:   [1, 1, 1, 1, 1, 1, 1, 1, 1, 1, 1, 1, 1] 1\n",
            "ways:   [1, 1, 1, 1, 1, 2, 2, 2, 2, 2, 3, 3, 3] 5\n",
            "ways:   [1, 1, 1, 1, 1, 2, 2, 2, 2, 2, 4, 4, 4] 10\n",
            "Number of Ways to get 10 = 4\n"
          ]
        }
      ],
      "source": [
        "N = 10\n",
        "print('Number of Ways to get {} = {}'.format(N, countWays(coins, 12)))"
      ]
    },
    {
      "cell_type": "markdown",
      "metadata": {
        "id": "q3JhC2zS-PKH"
      },
      "source": [
        "## encuentra el número mínimo de monedas que hacen un valor/cambio dado\n",
        "- Problema:\n",
        "    - Input: $coins = [5, 10, 25], N = 30$\n",
        "    - Output: 2\n",
        "    - Combinations: $25 + 5 = 30$"
      ]
    },
    {
      "cell_type": "code",
      "execution_count": 14,
      "metadata": {
        "id": "h504MNMN-PKH"
      },
      "outputs": [],
      "source": [
        "import math\n",
        "\n",
        "# DP solution for min coin count to make the change N\n",
        "def minCoins(coins, N):\n",
        "     # lista de conteo almacena la cantidad mínima de monedas requeridas para el valor i\n",
        "     # todos los valores 0-N se inicializan hasta el infinito\n",
        "    count = [math.inf]*(N+1)\n",
        "    # base case\n",
        "    # no. of coin required to make 0 value is 0\n",
        "    count[0] = 0\n",
        "    # computer min coins for all values from 1 to N\n",
        "    for i in range(1, N+1):\n",
        "        for coin in coins:\n",
        "            # for every coin smaller than value i\n",
        "            if coin <= i:\n",
        "                if count[i-coin]+1 < count[i]:\n",
        "                    count[i] = count[i-coin]+1\n",
        "    return count[N]\n"
      ]
    },
    {
      "cell_type": "code",
      "execution_count": 15,
      "metadata": {
        "colab": {
          "base_uri": "https://localhost:8080/"
        },
        "id": "vmbXDTvW-PKH",
        "outputId": "0b230639-a8fa-4d83-fc5d-6df3f5764d95"
      },
      "outputs": [
        {
          "output_type": "stream",
          "name": "stdout",
          "text": [
            "min coins required to give total of 6 change = 2\n"
          ]
        }
      ],
      "source": [
        "coins = [1, 3, 4]\n",
        "N = 6\n",
        "print('min coins required to give total of {} change = {}'.format(N, minCoins(coins, N)))"
      ]
    },
    {
      "cell_type": "markdown",
      "metadata": {
        "id": "nmTzpu39-PKI"
      },
      "source": [
        "## Ejercicios\n",
        "1. Ocean's Anti-11 - https://open.kattis.com/problems/anti11\n",
        "    - Sugerencia: cuente todos los enteros binarios de longitud n posibles (sin 11) para los primeros (2,3,4) enteros positivos y verá un patrón similar a Fibonaccii que da el número total de binarios posibles sin 11 en ellos\n",
        "- Escribir un programa que encuentre factoriales de un conjunto de números enteros positivos. ¿Mejoraría la memorización la complejidad temporal del programa?"
      ]
    },
    {
      "cell_type": "code",
      "execution_count": null,
      "metadata": {
        "id": "mHf_hTnb-PKI"
      },
      "outputs": [],
      "source": []
    }
  ],
  "metadata": {
    "kernelspec": {
      "display_name": "Python 3",
      "language": "python",
      "name": "python3"
    },
    "language_info": {
      "codemirror_mode": {
        "name": "ipython",
        "version": 3
      },
      "file_extension": ".py",
      "mimetype": "text/x-python",
      "name": "python",
      "nbconvert_exporter": "python",
      "pygments_lexer": "ipython3",
      "version": "3.7.3"
    },
    "colab": {
      "provenance": [],
      "include_colab_link": true
    }
  },
  "nbformat": 4,
  "nbformat_minor": 0
}