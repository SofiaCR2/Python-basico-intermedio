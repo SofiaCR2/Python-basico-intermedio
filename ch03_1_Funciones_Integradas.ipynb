{
  "nbformat": 4,
  "nbformat_minor": 0,
  "metadata": {
    "colab": {
      "provenance": [],
      "authorship_tag": "ABX9TyOR1RMktw1BPTqP1Dkzeqp/",
      "include_colab_link": true
    },
    "kernelspec": {
      "name": "python3",
      "display_name": "Python 3"
    },
    "language_info": {
      "name": "python"
    }
  },
  "cells": [
    {
      "cell_type": "markdown",
      "metadata": {
        "id": "view-in-github",
        "colab_type": "text"
      },
      "source": [
        "<a href=\"https://colab.research.google.com/github/SofiaCR2/Python-basico-intermedio/blob/main/ch03_1_Funciones_Integradas.ipynb\" target=\"_parent\"><img src=\"https://colab.research.google.com/assets/colab-badge.svg\" alt=\"Open In Colab\"/></a>"
      ]
    },
    {
      "cell_type": "markdown",
      "source": [
        "# Funciones integradas\n",
        "\n",
        "- secuencia nombrada de código que realiza una tarea específica o una función\n",
        "\n",
        "- algunas funciones integradas que hemos usado hasta ahora: type(), int(), float(), str(), input(), print(), etc.\n",
        "- Python proporciona una lista de funciones integradas que están disponibles para su uso:\n",
        "https://docs.python.org/3/library/functions.html\n",
        "- a continuación hay ejemplos de algunas funciones integradas que pueden ser útiles para saber\n"
      ],
      "metadata": {
        "id": "wAmGVKCkoHp4"
      }
    },
    {
      "cell_type": "markdown",
      "source": [
        "##bin(x)\n",
        "- Convierta un número entero en una cadena binaria con el prefijo \"0b\""
      ],
      "metadata": {
        "id": "ItsGt7enz-xa"
      }
    },
    {
      "cell_type": "code",
      "execution_count": 1,
      "metadata": {
        "colab": {
          "base_uri": "https://localhost:8080/",
          "height": 36
        },
        "id": "fg9mlxnVoEdi",
        "outputId": "2ec744a6-86c1-4462-99a1-9b04669905f9"
      },
      "outputs": [
        {
          "output_type": "execute_result",
          "data": {
            "text/plain": [
              "'0b11'"
            ],
            "application/vnd.google.colaboratory.intrinsic+json": {
              "type": "string"
            }
          },
          "metadata": {},
          "execution_count": 1
        }
      ],
      "source": [
        "bin(3)"
      ]
    },
    {
      "cell_type": "markdown",
      "source": [
        "##format(value, format_spec='')\n",
        "\n",
        "- formatea el value dado usando la el format spac dado"
      ],
      "metadata": {
        "id": "6z7FFSrU1J8Y"
      }
    },
    {
      "cell_type": "code",
      "source": [
        "help(format)"
      ],
      "metadata": {
        "colab": {
          "base_uri": "https://localhost:8080/"
        },
        "id": "L5lHJ1uo9yOv",
        "outputId": "725aad38-f508-45c1-cf1c-e81389e0ada9"
      },
      "execution_count": 2,
      "outputs": [
        {
          "output_type": "stream",
          "name": "stdout",
          "text": [
            "Help on built-in function format in module builtins:\n",
            "\n",
            "format(value, format_spec='', /)\n",
            "    Return value.__format__(format_spec)\n",
            "    \n",
            "    format_spec defaults to the empty string.\n",
            "    See the Format Specification Mini-Language section of help('FORMATTING') for\n",
            "    details.\n",
            "\n"
          ]
        }
      ]
    },
    {
      "cell_type": "code",
      "source": [
        "# Si se desea el prefijo \"0b\", use:\n",
        "print(format(3, '#b'))\n",
        "# Si no se desea el prefijo \"0b\", use:\n",
        "print(format(3, 'b'))"
      ],
      "metadata": {
        "colab": {
          "base_uri": "https://localhost:8080/"
        },
        "id": "KXjnOSBS9zuz",
        "outputId": "b4b1674a-bc97-4332-ba77-42cc207ce1f2"
      },
      "execution_count": 3,
      "outputs": [
        {
          "output_type": "stream",
          "name": "stdout",
          "text": [
            "0b11\n",
            "11\n"
          ]
        }
      ]
    },
    {
      "cell_type": "markdown",
      "source": [
        "## chr( uniCode )\n",
        "\n",
        "- Retorna la cadena que representa un carácter cuyo código Unicode es el entero uniCode.\n",
        "- Esta función es la inversa de ord(Chasracter)"
      ],
      "metadata": {
        "id": "JQ0K11y59wn1"
      }
    },
    {
      "cell_type": "code",
      "source": [
        "print(chr(65))\n",
        "print(chr(97))\n",
        "print(chr(8364))\n",
        "print(chr(114))"
      ],
      "metadata": {
        "colab": {
          "base_uri": "https://localhost:8080/"
        },
        "id": "0mC960ob-0EA",
        "outputId": "7fdc71e5-9e28-46bb-d6d4-6f0a1d71e9c1"
      },
      "execution_count": 4,
      "outputs": [
        {
          "output_type": "stream",
          "name": "stdout",
          "text": [
            "A\n",
            "a\n",
            "€\n",
            "r\n"
          ]
        }
      ]
    },
    {
      "cell_type": "markdown",
      "source": [
        "##globals() y locals()\n",
        "\n",
        "- globals() devuelve un diccionario que representa la tabla de símbolos global actual\n",
        "- locals() devuelve un diccionario que representa la tabla de símbolos local actual\n"
      ],
      "metadata": {
        "id": "2PGKcBCb-69s"
      }
    },
    {
      "cell_type": "code",
      "source": [
        "globals()"
      ],
      "metadata": {
        "colab": {
          "base_uri": "https://localhost:8080/"
        },
        "id": "PAmgPEHP_Qhh",
        "outputId": "645cd4e3-69ae-4fbb-de08-99ac30f2a1eb"
      },
      "execution_count": 5,
      "outputs": [
        {
          "output_type": "execute_result",
          "data": {
            "text/plain": [
              "{'__name__': '__main__',\n",
              " '__doc__': 'Automatically created module for IPython interactive environment',\n",
              " '__package__': None,\n",
              " '__loader__': None,\n",
              " '__spec__': None,\n",
              " '__builtin__': <module 'builtins' (built-in)>,\n",
              " '__builtins__': <module 'builtins' (built-in)>,\n",
              " '_ih': ['',\n",
              "  'bin(3)',\n",
              "  'help(format)',\n",
              "  '# Si se desea o no el prefijo \"0b\", use cualquiera de las siguientes formas\\nprint(format(3, \\'#b\\'))\\n# Si se desea o no el prefijo \"0b\", use cualquiera de las siguientes formas\\nprint(format(3, \\'b\\'))',\n",
              "  'print(chr(65))\\nprint(chr(97))\\nprint(chr(8364))\\nprint(chr(114))',\n",
              "  'globals()'],\n",
              " '_oh': {1: '0b11'},\n",
              " '_dh': ['/content'],\n",
              " 'In': ['',\n",
              "  'bin(3)',\n",
              "  'help(format)',\n",
              "  '# Si se desea o no el prefijo \"0b\", use cualquiera de las siguientes formas\\nprint(format(3, \\'#b\\'))\\n# Si se desea o no el prefijo \"0b\", use cualquiera de las siguientes formas\\nprint(format(3, \\'b\\'))',\n",
              "  'print(chr(65))\\nprint(chr(97))\\nprint(chr(8364))\\nprint(chr(114))',\n",
              "  'globals()'],\n",
              " 'Out': {1: '0b11'},\n",
              " 'get_ipython': <bound method InteractiveShell.get_ipython of <google.colab._shell.Shell object at 0x7c0f5bdee1d0>>,\n",
              " 'exit': <IPython.core.autocall.ZMQExitAutocall at 0x7c0f5bdeebc0>,\n",
              " 'quit': <IPython.core.autocall.ZMQExitAutocall at 0x7c0f5bdeebc0>,\n",
              " '_': '0b11',\n",
              " '__': '',\n",
              " '___': '',\n",
              " '_i': 'print(chr(65))\\nprint(chr(97))\\nprint(chr(8364))\\nprint(chr(114))',\n",
              " '_ii': '# Si se desea o no el prefijo \"0b\", use cualquiera de las siguientes formas\\nprint(format(3, \\'#b\\'))\\n# Si se desea o no el prefijo \"0b\", use cualquiera de las siguientes formas\\nprint(format(3, \\'b\\'))',\n",
              " '_iii': 'help(format)',\n",
              " '_i1': 'bin(3)',\n",
              " '_1': '0b11',\n",
              " '_i2': 'help(format)',\n",
              " '_i3': '# Si se desea o no el prefijo \"0b\", use cualquiera de las siguientes formas\\nprint(format(3, \\'#b\\'))\\n# Si se desea o no el prefijo \"0b\", use cualquiera de las siguientes formas\\nprint(format(3, \\'b\\'))',\n",
              " '_i4': 'print(chr(65))\\nprint(chr(97))\\nprint(chr(8364))\\nprint(chr(114))',\n",
              " '_i5': 'globals()'}"
            ]
          },
          "metadata": {},
          "execution_count": 5
        }
      ]
    },
    {
      "cell_type": "markdown",
      "source": [
        "##hex(x)\n",
        "\n",
        "- Convertir un número entero en una cadena hexadecimal en minúsculas con el prefijo \"0x\""
      ],
      "metadata": {
        "id": "qF1UaRQG_X5_"
      }
    },
    {
      "cell_type": "code",
      "source": [
        "print(hex(42))\n",
        "print(hex(-42))"
      ],
      "metadata": {
        "colab": {
          "base_uri": "https://localhost:8080/"
        },
        "id": "8iN8qMg7_Vhj",
        "outputId": "3eed99e6-9595-45d1-8b55-739e15f0a559"
      },
      "execution_count": 6,
      "outputs": [
        {
          "output_type": "stream",
          "name": "stdout",
          "text": [
            "0x2a\n",
            "-0x2a\n"
          ]
        }
      ]
    },
    {
      "cell_type": "code",
      "source": [
        "#Otras maneras\n",
        "print(format(255, '#x'))\n",
        "print(format(255, 'x'))\n",
        "print(format(255, 'X'))"
      ],
      "metadata": {
        "colab": {
          "base_uri": "https://localhost:8080/"
        },
        "id": "AlHIMcSH_q8m",
        "outputId": "b095c8de-6bb4-4ac3-d23e-88c8749b6688"
      },
      "execution_count": 7,
      "outputs": [
        {
          "output_type": "stream",
          "name": "stdout",
          "text": [
            "0xff\n",
            "ff\n",
            "FF\n"
          ]
        }
      ]
    },
    {
      "cell_type": "markdown",
      "source": [
        "##oct(x)\n",
        "\n",
        "- Devolver una representación de cadena octal con el prefijo \"0o\" de un entero x dado"
      ],
      "metadata": {
        "id": "ukRohx8W_3lx"
      }
    },
    {
      "cell_type": "code",
      "source": [
        "print(oct(100))"
      ],
      "metadata": {
        "colab": {
          "base_uri": "https://localhost:8080/"
        },
        "id": "26G-ZPTx_87Z",
        "outputId": "9886dde9-45b4-49ae-af87-47811a649c45"
      },
      "execution_count": 8,
      "outputs": [
        {
          "output_type": "stream",
          "name": "stdout",
          "text": [
            "0o144\n"
          ]
        }
      ]
    },
    {
      "cell_type": "code",
      "source": [
        "#Otras maneras\n",
        "print(format(10, '#o'))\n",
        "print(format(10, 'o'))"
      ],
      "metadata": {
        "colab": {
          "base_uri": "https://localhost:8080/"
        },
        "id": "ZlBWxWFk_-yB",
        "outputId": "f8ab4b0e-6c4e-4312-bf51-9ac50f3716b4"
      },
      "execution_count": 9,
      "outputs": [
        {
          "output_type": "stream",
          "name": "stdout",
          "text": [
            "0o12\n",
            "12\n"
          ]
        }
      ]
    },
    {
      "cell_type": "markdown",
      "source": [
        "##ord(cc)\n",
        "\n",
        " - Retorna un entero que representa el código Unicode de ese carácter."
      ],
      "metadata": {
        "id": "JomwRCISAjQV"
      }
    },
    {
      "cell_type": "code",
      "source": [
        "print(ord(' '))\n",
        "print(ord('~'))"
      ],
      "metadata": {
        "colab": {
          "base_uri": "https://localhost:8080/"
        },
        "id": "uohdRZ7NAs0_",
        "outputId": "d9563fd9-b4ed-4f3c-bd77-90289493885b"
      },
      "execution_count": 10,
      "outputs": [
        {
          "output_type": "stream",
          "name": "stdout",
          "text": [
            "32\n",
            "126\n"
          ]
        }
      ]
    },
    {
      "cell_type": "markdown",
      "source": [
        "##id(object)\n",
        "\n",
        "- Retorna la «identidad» de un objeto.\n",
        "- Garantiza que es único y constante para este objeto durante toda su existencia."
      ],
      "metadata": {
        "id": "F20l004RAnrl"
      }
    },
    {
      "cell_type": "code",
      "source": [
        "x = 10"
      ],
      "metadata": {
        "id": "ZWEIIYywBR66"
      },
      "execution_count": 11,
      "outputs": []
    },
    {
      "cell_type": "code",
      "source": [
        "id(x)"
      ],
      "metadata": {
        "colab": {
          "base_uri": "https://localhost:8080/"
        },
        "id": "hFbRbh5xBVXK",
        "outputId": "9d5ae68d-729d-48a8-b4b8-6994bdde08b0"
      },
      "execution_count": 12,
      "outputs": [
        {
          "output_type": "execute_result",
          "data": {
            "text/plain": [
              "136405540422160"
            ]
          },
          "metadata": {},
          "execution_count": 12
        }
      ]
    },
    {
      "cell_type": "markdown",
      "source": [
        "##divmod(a,b)\n",
        "\n",
        "- Toma dos números (no complejos) como argumentos y retorna un par de números consistentes en su cociente y su resto al emplear división de enteros."
      ],
      "metadata": {
        "id": "JCbMWGi-B9aF"
      }
    },
    {
      "cell_type": "code",
      "source": [
        "print(divmod(7, 3)) # return (cociente, residuo)\n",
        "cociente, residuo = divmod(7, 3)\n",
        "print(cociente, residuo)"
      ],
      "metadata": {
        "colab": {
          "base_uri": "https://localhost:8080/"
        },
        "id": "OF48BLH-CBWP",
        "outputId": "3b196fb4-0f98-48a9-8e20-21a36dbdfac4"
      },
      "execution_count": 13,
      "outputs": [
        {
          "output_type": "stream",
          "name": "stdout",
          "text": [
            "(2, 1)\n",
            "2 1\n"
          ]
        }
      ]
    },
    {
      "cell_type": "markdown",
      "source": [
        "## eval(expression, globals=None, locals=None)\n",
        "\n",
        "- El argumento expression se analiza y evalúa como una expresión de Python\n",
        "- Los errores de sintaxis son reportados como excepciones."
      ],
      "metadata": {
        "id": "0s7I2A-ICh4Z"
      }
    },
    {
      "cell_type": "code",
      "source": [
        "y = 2\n",
        "print(eval('y**2'))\n",
        "print(eval('y+2*3'))"
      ],
      "metadata": {
        "colab": {
          "base_uri": "https://localhost:8080/"
        },
        "id": "Xv0rn2jUC2Sl",
        "outputId": "60ae9d9b-f5df-4038-9a72-2b4664454666"
      },
      "execution_count": 14,
      "outputs": [
        {
          "output_type": "stream",
          "name": "stdout",
          "text": [
            "4\n",
            "8\n"
          ]
        }
      ]
    },
    {
      "cell_type": "markdown",
      "source": [
        "## max(iterable, ...) or max(arg1, arg2, ...)\n",
        "\n",
        "- Retorna el elemento mayor en un iterable o el mayor de dos o más argumentos."
      ],
      "metadata": {
        "id": "8TDaYM4UC52L"
      }
    },
    {
      "cell_type": "code",
      "source": [
        "print('max=', max(100, 8.9, 999, 1000.5))"
      ],
      "metadata": {
        "colab": {
          "base_uri": "https://localhost:8080/"
        },
        "id": "zsCDCU6GDPQV",
        "outputId": "758d7ad8-2aff-440e-e947-23c671b4face"
      },
      "execution_count": 15,
      "outputs": [
        {
          "output_type": "stream",
          "name": "stdout",
          "text": [
            "max= 1000.5\n"
          ]
        }
      ]
    },
    {
      "cell_type": "markdown",
      "source": [
        "##min(arg1, arg2, ...)\n",
        "\n",
        "- Retorna el menor elemento en un iterable o el menor de dos o más argumentos."
      ],
      "metadata": {
        "id": "mA_nOP0zDYB6"
      }
    },
    {
      "cell_type": "code",
      "source": [
        "print('min=', min(100, 8.9, 999, 1000.5))"
      ],
      "metadata": {
        "colab": {
          "base_uri": "https://localhost:8080/"
        },
        "id": "t7TQuOfcDjKH",
        "outputId": "0f8b5350-ff8b-48e8-e5d0-14e1a8f71470"
      },
      "execution_count": 16,
      "outputs": [
        {
          "output_type": "stream",
          "name": "stdout",
          "text": [
            "min= 8.9\n"
          ]
        }
      ]
    },
    {
      "cell_type": "markdown",
      "source": [
        "##pow(base,exponent)\n",
        "\n",
        "- Retorna base elevado a exponent"
      ],
      "metadata": {
        "id": "9MYGL95_Dl0n"
      }
    },
    {
      "cell_type": "code",
      "source": [
        "print('2 to the power 3 =', pow(2, 3))"
      ],
      "metadata": {
        "colab": {
          "base_uri": "https://localhost:8080/"
        },
        "id": "nOJ_62G8DzoH",
        "outputId": "bae0fc30-6884-496d-b787-ff56800f2b05"
      },
      "execution_count": 17,
      "outputs": [
        {
          "output_type": "stream",
          "name": "stdout",
          "text": [
            "2 to the power 3 = 8\n"
          ]
        }
      ]
    },
    {
      "cell_type": "markdown",
      "source": [
        "##print()\n",
        "\n",
        "- Print(*object, sep=' ', end='\\n', file=sys.stdout, flush=False)\n",
        "- Print toma muchos argumentos e imprime un número arbitrario de valores.\n",
        "- Demostración de algunos ejemplos de impresión con diferentes valores de argumento"
      ],
      "metadata": {
        "id": "c5lNvtQOEhtK"
      }
    },
    {
      "cell_type": "code",
      "source": [
        "print('hi', 'hello', sep='', end='')"
      ],
      "metadata": {
        "colab": {
          "base_uri": "https://localhost:8080/"
        },
        "id": "GXakofplEqLG",
        "outputId": "304c4c8c-443f-4c94-bdc6-7cad046d61d1"
      },
      "execution_count": 18,
      "outputs": [
        {
          "output_type": "stream",
          "name": "stdout",
          "text": [
            "hihello"
          ]
        }
      ]
    },
    {
      "cell_type": "code",
      "source": [
        "print('hi', 'hello', sep=' ', end='')"
      ],
      "metadata": {
        "colab": {
          "base_uri": "https://localhost:8080/"
        },
        "id": "QEtsMVzWEvbP",
        "outputId": "5c7ecf2b-6648-491b-c7a7-f587e3cc8dc8"
      },
      "execution_count": 19,
      "outputs": [
        {
          "output_type": "stream",
          "name": "stdout",
          "text": [
            "hi hello"
          ]
        }
      ]
    },
    {
      "cell_type": "code",
      "source": [
        "print('hi', 'hello', sep=' ', end='')\n",
        "print('next line?')"
      ],
      "metadata": {
        "colab": {
          "base_uri": "https://localhost:8080/"
        },
        "id": "46dkNg3kEw-4",
        "outputId": "6722a6ad-343a-465b-a4c1-2208cbd913e4"
      },
      "execution_count": 20,
      "outputs": [
        {
          "output_type": "stream",
          "name": "stdout",
          "text": [
            "hi hellonext line?\n"
          ]
        }
      ]
    },
    {
      "cell_type": "code",
      "source": [
        "print('hi', 'hello', sep='\\t', end='\\n')\n",
        "print('next line?')"
      ],
      "metadata": {
        "colab": {
          "base_uri": "https://localhost:8080/"
        },
        "id": "DY3o21qfEzwM",
        "outputId": "fdd3b14c-0152-4fae-a6c4-ee83a3618804"
      },
      "execution_count": 21,
      "outputs": [
        {
          "output_type": "stream",
          "name": "stdout",
          "text": [
            "hi\thello\n",
            "next line?\n"
          ]
        }
      ]
    }
  ]
}