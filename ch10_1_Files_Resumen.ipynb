{
  "cells": [
    {
      "cell_type": "markdown",
      "metadata": {
        "id": "view-in-github",
        "colab_type": "text"
      },
      "source": [
        "<a href=\"https://colab.research.google.com/github/SofiaCR2/Python-basico-intermedio/blob/main/ch10_1_Files_Resumen.ipynb\" target=\"_parent\"><img src=\"https://colab.research.google.com/assets/colab-badge.svg\" alt=\"Open In Colab\"/></a>"
      ]
    },
    {
      "cell_type": "markdown",
      "metadata": {
        "id": "vWMKoZo1e9zi"
      },
      "source": [
        "# Files Input/Output\n",
        "\n",
        "- Los datos generalmente se almacenan en un medio de almacenamiento secundario: disco duro, usb, en la nube,  \n",
        "- Los archivos se pueden organizar en carpetas\n",
        "- Los programas leen y guardan los archivos para almacenamiento a largo plazo\n",
        "- Función integrada (built-in) open()\n",
        "```python\n",
        "fileio = open(fileName, mode='r')\n",
        "```\n"
      ]
    },
    {
      "cell_type": "markdown",
      "metadata": {
        "id": "6gCseDToe9zn"
      },
      "source": [
        "## Crear y guardar un archivo\n",
        "\n",
        "1. Se abre el archivo\n",
        "2. Se escribe la información\n",
        "3. Se cierra el archivo\n"
      ]
    },
    {
      "cell_type": "code",
      "execution_count": null,
      "metadata": {
        "colab": {
          "base_uri": "https://localhost:8080/"
        },
        "id": "xBk-cGUbe9zn",
        "outputId": "468b26cf-4f81-40d7-93b0-435d0ff40ff2"
      },
      "outputs": [
        {
          "output_type": "stream",
          "name": "stdout",
          "text": [
            "6\n"
          ]
        }
      ],
      "source": [
        "# Old school - no hacer!\n",
        "fw = open('test1.txt', 'w') # w es write mode\n",
        "fw.write('palabras\\n=====\\n')\n",
        "fw.write('plegable\\nbronce\\ncaballo\\nturbulencia\\n')\n",
        "print(fw.write('cebra\\n'))\n",
        "fw.close() # Se debe cerra el archivo para que se escriba la infomación"
      ]
    },
    {
      "cell_type": "code",
      "execution_count": null,
      "metadata": {
        "id": "ld2_LdtYe9zo"
      },
      "outputs": [],
      "source": [
        "# Forma en que se hace actualmente\n",
        "\n",
        "with open(\"words.txt\", \"w\") as file:\n",
        "  file.write(('plegable\\nbronce\\ncaballo\\nturbulencia\\n'))\n",
        "  file.write(str(1))\n",
        "  file.write(\"\\n\")\n",
        "  file.write(str([1, 20, 10]))\n",
        "  # file.close() En cuanto se termina ejecutar la línea\n",
        "  # anterior se aplica el close()\n",
        "\n",
        "# file.write(\"algo más\")"
      ]
    },
    {
      "cell_type": "markdown",
      "metadata": {
        "id": "C6YsKztYe9zo"
      },
      "source": [
        "## Leer un archivo\n",
        "1. Se abre el archivo (usando el path absoluto o relativo):\n",
        "-  Se puede leer una línea a la vez, todas las línes, bytes, todo el archivo\n",
        "2. Se usa la información\n",
        "3. Se cierra el archivo"
      ]
    },
    {
      "cell_type": "code",
      "execution_count": null,
      "metadata": {
        "id": "jzm3IpFUe9zo"
      },
      "outputs": [],
      "source": [
        "# Leyendo todo el archivo (como una lista de lineas)\n",
        "# Solo con fines didácticos\n",
        "file = open('/content/words.txt', 'r') # 'r': read mode\n",
        "data = file.readlines()\n",
        "file.close()"
      ]
    },
    {
      "cell_type": "code",
      "source": [
        "data"
      ],
      "metadata": {
        "colab": {
          "base_uri": "https://localhost:8080/"
        },
        "id": "-G8dAGxlFB5I",
        "outputId": "864ab610-542c-4f96-b957-f53d71c07c05"
      },
      "execution_count": null,
      "outputs": [
        {
          "output_type": "execute_result",
          "data": {
            "text/plain": [
              "['plegable\\n', 'bronce\\n', 'caballo\\n', 'turbulencia\\n', '1\\n', '[1, 20, 10]']"
            ]
          },
          "metadata": {},
          "execution_count": 12
        }
      ]
    },
    {
      "cell_type": "code",
      "source": [
        "type(data)"
      ],
      "metadata": {
        "colab": {
          "base_uri": "https://localhost:8080/"
        },
        "id": "UiVV9eXZgDnb",
        "outputId": "4987986a-4ff4-4945-e777-5ecc25ce3d41"
      },
      "execution_count": null,
      "outputs": [
        {
          "output_type": "execute_result",
          "data": {
            "text/plain": [
              "list"
            ]
          },
          "metadata": {},
          "execution_count": 11
        }
      ]
    },
    {
      "cell_type": "code",
      "execution_count": null,
      "metadata": {
        "id": "LXSABve4e9zo",
        "outputId": "df8851b2-fa18-4d2e-d224-a1304b01c84a",
        "colab": {
          "base_uri": "https://localhost:8080/",
          "height": 36
        }
      },
      "outputs": [
        {
          "output_type": "execute_result",
          "data": {
            "text/plain": [
              "'plegable\\n'"
            ],
            "application/vnd.google.colaboratory.intrinsic+json": {
              "type": "string"
            }
          },
          "metadata": {},
          "execution_count": 13
        }
      ],
      "source": [
        "data[0]"
      ]
    },
    {
      "cell_type": "code",
      "source": [
        "print(data[0])"
      ],
      "metadata": {
        "colab": {
          "base_uri": "https://localhost:8080/"
        },
        "id": "uZmZ5ViFFFqs",
        "outputId": "edfd2b88-a7c7-4b83-d2fe-f7aa9cda77e4"
      },
      "execution_count": null,
      "outputs": [
        {
          "output_type": "stream",
          "name": "stdout",
          "text": [
            "plegable\n",
            "\n"
          ]
        }
      ]
    },
    {
      "cell_type": "code",
      "execution_count": null,
      "metadata": {
        "id": "a7yiQ70ge9zp"
      },
      "outputs": [],
      "source": [
        "# Forma preferida\n",
        "with open('words.txt', 'r') as fr:\n",
        "    data = fr.readlines()"
      ]
    },
    {
      "cell_type": "code",
      "source": [
        "data"
      ],
      "metadata": {
        "colab": {
          "base_uri": "https://localhost:8080/"
        },
        "id": "ecSQ5-EwFQ4s",
        "outputId": "965c6784-8c35-46e8-ece8-8478a7e2db30"
      },
      "execution_count": null,
      "outputs": [
        {
          "output_type": "execute_result",
          "data": {
            "text/plain": [
              "['plegable\\n', 'bronce\\n', 'caballo\\n', 'turbulencia\\n', '1\\n', '[1, 20, 10]']"
            ]
          },
          "metadata": {},
          "execution_count": 5
        }
      ]
    },
    {
      "cell_type": "code",
      "execution_count": null,
      "metadata": {
        "id": "BRicRm61e9zp",
        "outputId": "81a66a1e-4474-4665-acd7-e55afc71d8e1",
        "colab": {
          "base_uri": "https://localhost:8080/"
        }
      },
      "outputs": [
        {
          "output_type": "stream",
          "name": "stdout",
          "text": [
            "plegable\n",
            "\n",
            "bronce\n",
            "\n",
            "caballo\n",
            "\n",
            "turbulencia\n",
            "\n",
            "1\n",
            "\n",
            "[1, 20, 10]\n"
          ]
        }
      ],
      "source": [
        "for elemento in data:\n",
        "    print(elemento)"
      ]
    },
    {
      "cell_type": "code",
      "execution_count": null,
      "metadata": {
        "id": "rWhjBOhTe9zq"
      },
      "outputs": [],
      "source": [
        "#sort() ordena\n",
        "data.sort()"
      ]
    },
    {
      "cell_type": "code",
      "execution_count": null,
      "metadata": {
        "id": "vqBvzxLte9zq",
        "outputId": "a8fa8aae-e81a-4b3c-f983-fed7fb967a93",
        "colab": {
          "base_uri": "https://localhost:8080/"
        }
      },
      "outputs": [
        {
          "output_type": "execute_result",
          "data": {
            "text/plain": [
              "['1\\n', '[1, 20, 10]', 'bronce\\n', 'caballo\\n', 'plegable\\n', 'turbulencia\\n']"
            ]
          },
          "metadata": {},
          "execution_count": 8
        }
      ],
      "source": [
        "data"
      ]
    },
    {
      "cell_type": "code",
      "execution_count": 23,
      "metadata": {
        "id": "7CY4rAvxe9zq",
        "colab": {
          "base_uri": "https://localhost:8080/",
          "height": 200
        },
        "outputId": "df36e49a-5537-41d4-9b71-50d6ef6407c9"
      },
      "outputs": [
        {
          "output_type": "error",
          "ename": "NameError",
          "evalue": "ignored",
          "traceback": [
            "\u001b[0;31m---------------------------------------------------------------------------\u001b[0m",
            "\u001b[0;31mNameError\u001b[0m                                 Traceback (most recent call last)",
            "\u001b[0;32m<ipython-input-23-c4d99cf8bcf6>\u001b[0m in \u001b[0;36m<cell line: 1>\u001b[0;34m()\u001b[0m\n\u001b[1;32m      1\u001b[0m \u001b[0;32mwith\u001b[0m \u001b[0mopen\u001b[0m\u001b[0;34m(\u001b[0m\u001b[0;34m'words1.txt'\u001b[0m\u001b[0;34m,\u001b[0m \u001b[0;34m'w'\u001b[0m\u001b[0;34m)\u001b[0m \u001b[0;32mas\u001b[0m \u001b[0mnewFile\u001b[0m\u001b[0;34m:\u001b[0m\u001b[0;34m\u001b[0m\u001b[0;34m\u001b[0m\u001b[0m\n\u001b[0;32m----> 2\u001b[0;31m   \u001b[0;32mfor\u001b[0m \u001b[0mword\u001b[0m \u001b[0;32min\u001b[0m \u001b[0mdata\u001b[0m\u001b[0;34m:\u001b[0m\u001b[0;34m\u001b[0m\u001b[0;34m\u001b[0m\u001b[0m\n\u001b[0m\u001b[1;32m      3\u001b[0m     \u001b[0mnewFile\u001b[0m\u001b[0;34m.\u001b[0m\u001b[0mwrite\u001b[0m\u001b[0;34m(\u001b[0m\u001b[0mword\u001b[0m\u001b[0;34m)\u001b[0m\u001b[0;34m\u001b[0m\u001b[0;34m\u001b[0m\u001b[0m\n",
            "\u001b[0;31mNameError\u001b[0m: name 'data' is not defined"
          ]
        }
      ],
      "source": [
        "with open('words1.txt', 'w') as newFile:\n",
        "  for word in data:\n",
        "    newFile.write(word)"
      ]
    },
    {
      "cell_type": "markdown",
      "metadata": {
        "id": "4tKb3T35e9zq"
      },
      "source": [
        "## Leyendo linea por linea"
      ]
    },
    {
      "cell_type": "code",
      "source": [
        "import random"
      ],
      "metadata": {
        "id": "4EdAE_ZmGS9x"
      },
      "execution_count": null,
      "outputs": []
    },
    {
      "cell_type": "code",
      "source": [
        "# for i in range(10):\n",
        "#   print(random.randint(1, 1000))"
      ],
      "metadata": {
        "id": "NZgWgS3zGN9Z"
      },
      "execution_count": null,
      "outputs": []
    },
    {
      "cell_type": "code",
      "execution_count": null,
      "metadata": {
        "id": "0npsB9pDe9zq"
      },
      "outputs": [],
      "source": [
        "import random\n",
        "\n",
        "# a: append mode\n",
        "with open('numeros.txt', 'a') as file:\n",
        "  for i in range(10):\n",
        "    num = random.randint(1, 1000)\n",
        "    file.write(str(num) + '\\n')"
      ]
    },
    {
      "cell_type": "code",
      "execution_count": null,
      "metadata": {
        "colab": {
          "base_uri": "https://localhost:8080/"
        },
        "id": "SvEEbx_6e9zq",
        "outputId": "d747c617-5231-4974-ab66-3c31e989cfba"
      },
      "outputs": [
        {
          "output_type": "stream",
          "name": "stdout",
          "text": [
            "num =  865 <class 'str'>\n",
            "num =  649 <class 'str'>\n",
            "num =  385 <class 'str'>\n",
            "num =  562 <class 'str'>\n",
            "num =  371 <class 'str'>\n",
            "num =  612 <class 'str'>\n",
            "num =  498 <class 'str'>\n",
            "num =  813 <class 'str'>\n",
            "num =  825 <class 'str'>\n",
            "num =  526 <class 'str'>\n"
          ]
        }
      ],
      "source": [
        "# Leyendo los números linea por línea\n",
        "# y almacenando en una lista\n",
        "numeros_list = []\n",
        "with open('numeros.txt', 'r') as f:\n",
        "    while True:\n",
        "        num = f.readline()\n",
        "        num = num.strip() # strip \\n quitar\n",
        "        if not num:\n",
        "            break\n",
        "        print('num = ', num, type(num))\n",
        "        numeros_list.append(int(num))"
      ]
    },
    {
      "cell_type": "code",
      "execution_count": null,
      "metadata": {
        "id": "uXFMX7hve9zr",
        "outputId": "dd1836f1-40a7-4b54-e3d5-ea51d54fdf3e",
        "colab": {
          "base_uri": "https://localhost:8080/"
        }
      },
      "outputs": [
        {
          "output_type": "stream",
          "name": "stdout",
          "text": [
            "[865, 649, 385, 562, 371, 612, 498, 813, 825, 526]\n"
          ]
        }
      ],
      "source": [
        "print(numeros_list)"
      ]
    },
    {
      "cell_type": "code",
      "source": [
        "type(numeros_list[1])"
      ],
      "metadata": {
        "colab": {
          "base_uri": "https://localhost:8080/"
        },
        "id": "CLeJZX-xHNyu",
        "outputId": "b1e67c35-2ab8-4c5b-a057-8da23e3a7ccc"
      },
      "execution_count": null,
      "outputs": [
        {
          "output_type": "execute_result",
          "data": {
            "text/plain": [
              "int"
            ]
          },
          "metadata": {},
          "execution_count": 43
        }
      ]
    },
    {
      "cell_type": "markdown",
      "metadata": {
        "id": "LZ1ks4rAe9zr"
      },
      "source": [
        "## Leyendo el archivo completo\n"
      ]
    },
    {
      "cell_type": "code",
      "source": [
        "!ls"
      ],
      "metadata": {
        "colab": {
          "base_uri": "https://localhost:8080/"
        },
        "id": "8ov_yV64HXcv",
        "outputId": "de0bb081-afc9-4bb4-db23-8783902bc73c"
      },
      "execution_count": null,
      "outputs": [
        {
          "output_type": "stream",
          "name": "stdout",
          "text": [
            "numeros.txt  sample_data  test1.txt  words1.txt  words.txt\n"
          ]
        }
      ]
    },
    {
      "cell_type": "code",
      "execution_count": null,
      "metadata": {
        "id": "-jJpfEGTe9zr",
        "outputId": "c3c155d9-8412-4134-f4e0-a4e9bcebef07",
        "colab": {
          "base_uri": "https://localhost:8080/"
        }
      },
      "outputs": [
        {
          "output_type": "stream",
          "name": "stdout",
          "text": [
            "865\n",
            "649\n",
            "385\n",
            "562\n",
            "371\n",
            "612\n",
            "498\n",
            "813\n",
            "825\n",
            "526\n"
          ]
        }
      ],
      "source": [
        "# 10 primeras límeas\n",
        "! head /content/numeros.txt"
      ]
    },
    {
      "cell_type": "code",
      "execution_count": null,
      "metadata": {
        "id": "1lK921vge9zr",
        "outputId": "57601aa6-f2fb-45ad-e07e-999676b35b8d",
        "colab": {
          "base_uri": "https://localhost:8080/"
        }
      },
      "outputs": [
        {
          "output_type": "stream",
          "name": "stdout",
          "text": [
            "1\n",
            "[1, 20, 10]bronce\n",
            "caballo\n",
            "plegable\n",
            "turbulencia\n"
          ]
        }
      ],
      "source": [
        "# últimas 10 líneas\n",
        "!tail /content/words1.txt"
      ]
    },
    {
      "cell_type": "code",
      "execution_count": null,
      "metadata": {
        "id": "WwUMh5pQe9zs"
      },
      "outputs": [],
      "source": [
        "file = '/content/words1.txt'\n",
        "with open(file) as f:\n",
        "    data = f.read()"
      ]
    },
    {
      "cell_type": "code",
      "execution_count": null,
      "metadata": {
        "id": "MIagDZuge9zs",
        "outputId": "e62d21c8-9e96-440e-af09-239fe0573dca",
        "colab": {
          "base_uri": "https://localhost:8080/",
          "height": 36
        }
      },
      "outputs": [
        {
          "output_type": "execute_result",
          "data": {
            "text/plain": [
              "'1\\n[1, 20, 10]bronce\\ncaballo\\nplegable\\nturbulencia\\n'"
            ],
            "application/vnd.google.colaboratory.intrinsic+json": {
              "type": "string"
            }
          },
          "metadata": {},
          "execution_count": 51
        }
      ],
      "source": [
        "data"
      ]
    },
    {
      "cell_type": "code",
      "execution_count": null,
      "metadata": {
        "id": "dWSCMmc5e9zs"
      },
      "outputs": [],
      "source": [
        "words = data.split('\\n')"
      ]
    },
    {
      "cell_type": "code",
      "source": [
        "words"
      ],
      "metadata": {
        "colab": {
          "base_uri": "https://localhost:8080/"
        },
        "id": "0GLCzH50IBSR",
        "outputId": "c9a6a6ba-2031-480e-cf4c-e5ee6e043197"
      },
      "execution_count": null,
      "outputs": [
        {
          "output_type": "execute_result",
          "data": {
            "text/plain": [
              "['1', '[1, 20, 10]bronce', 'caballo', 'plegable', 'turbulencia', '']"
            ]
          },
          "metadata": {},
          "execution_count": 53
        }
      ]
    },
    {
      "cell_type": "code",
      "source": [
        "print(f'Hay {len(words)} palabras en el archivo.')"
      ],
      "metadata": {
        "colab": {
          "base_uri": "https://localhost:8080/"
        },
        "id": "bymv3VdpH_Ji",
        "outputId": "389df99a-8bfa-41fd-cf38-7ffaf23ffbfb"
      },
      "execution_count": null,
      "outputs": [
        {
          "output_type": "stream",
          "name": "stdout",
          "text": [
            "Hay 6 palabras en el archivo.\n"
          ]
        }
      ]
    },
    {
      "cell_type": "markdown",
      "source": [
        "#Seleccionar una palabra random de una lista de palabras\n",
        "- import random\n",
        "- random.choice(wordList)"
      ],
      "metadata": {
        "id": "BZlM2yRbspou"
      }
    },
    {
      "cell_type": "markdown",
      "source": [
        "# ejercicios\n",
        "1. Escriba un programa que lea un archivo y escriba un archivo nuevo con las líneas en orden inverso (es decir, la primera línea del archivo antiguo se convierte en la última del archivo nuevo)."
      ],
      "metadata": {
        "id": "-HhZxISEtAvu"
      }
    },
    {
      "cell_type": "code",
      "source": [
        "def invertir_lineas(archvio_nombre_entrada, archivo_nombre_salida):\n",
        "  with open(archvio_nombre_entrada, 'r') as entradas:\n",
        "    data = entradas.readlines()\n",
        "    invertidas = data[::-1]\n",
        "\n",
        "  with open(archivo_nombre_salida, 'w') as salidas:\n",
        "    salidas.writelines(invertidas)\n",
        "\n",
        "archivo_entrada = \"entrada.txt\"\n",
        "archivo_salida = \"salida.txt\"\n",
        "\n",
        "invertir_lineas (archivo_entrada, archivo_salida)"
      ],
      "metadata": {
        "id": "yG0FYVAhtBSp"
      },
      "execution_count": null,
      "outputs": []
    },
    {
      "cell_type": "markdown",
      "source": [
        "#Ejercicios opcionales\n",
        "- Escriba un programa que lea un archivo e imprima solo aquellas líneas que contengan palabras de máximo 5 caracteres."
      ],
      "metadata": {
        "id": "x7Oi1f3YtDDS"
      }
    },
    {
      "cell_type": "code",
      "source": [
        "with open('entrada.txt', 'r') as entradas:\n",
        "  datos = entradas.readlines()\n",
        "\n",
        "  for word in datos:\n",
        "    palabras_cortas1= True\n",
        "    for palabra in word.split():\n",
        "      if len(palabra) >5:\n",
        "        palabras_cortas1 = False\n",
        "        break\n",
        "    if palabras_cortas1:\n",
        "      print(word)\n",
        "\n",
        "\n",
        "\n",
        "\n"
      ],
      "metadata": {
        "id": "V_8Ykb4OtFZY",
        "outputId": "d7223fe1-508f-46d8-d3ae-3fe1ca94c88e",
        "colab": {
          "base_uri": "https://localhost:8080/"
        }
      },
      "execution_count": 31,
      "outputs": [
        {
          "output_type": "stream",
          "name": "stdout",
          "text": [
            "Esta es la línea 2.\n",
            "\n",
            "Y aquí la línea 3.\n"
          ]
        }
      ]
    }
  ],
  "metadata": {
    "kernelspec": {
      "display_name": "Python 3",
      "language": "python",
      "name": "python3"
    },
    "language_info": {
      "codemirror_mode": {
        "name": "ipython",
        "version": 3
      },
      "file_extension": ".py",
      "mimetype": "text/x-python",
      "name": "python",
      "nbconvert_exporter": "python",
      "pygments_lexer": "ipython3",
      "version": "3.7.3"
    },
    "colab": {
      "provenance": [],
      "include_colab_link": true
    }
  },
  "nbformat": 4,
  "nbformat_minor": 0
}