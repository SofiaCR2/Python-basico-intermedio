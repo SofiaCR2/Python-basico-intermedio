{
  "cells": [
    {
      "cell_type": "markdown",
      "metadata": {
        "id": "view-in-github",
        "colab_type": "text"
      },
      "source": [
        "<a href=\"https://colab.research.google.com/github/SofiaCR2/Python-basico-intermedio/blob/main/ch22_Queues_Resumen.ipynb\" target=\"_parent\"><img src=\"https://colab.research.google.com/assets/colab-badge.svg\" alt=\"Open In Colab\"/></a>"
      ]
    },
    {
      "cell_type": "markdown",
      "metadata": {
        "id": "nzYsHI0vT9o5"
      },
      "source": [
        "# Queues\n",
        "\n",
        "- Otro adaptador de contenedor o ADT, que suele ser una estructura de datos de tipo primero en entrar, primero en salir (**FIFO**)\n",
        "- Imita la cola / línea del mundo real de personas que esperan algo\n",
        "- La regla que determina quién va a continuación se llama política de colas\n",
        "- La política de colas más general es la cola prioritaria, en la que a cada artículo/persona se le asigna una prioridad y el elemento con mayor prioridad va primero, independientemente del orden de llegada"
      ]
    },
    {
      "cell_type": "markdown",
      "metadata": {
        "id": "TODWISQcT9o7"
      },
      "source": [
        "## Queue ADT\n",
        "\n",
        "- queque ADT se define mediante las siguientes operaciones:\n",
        "  - **\\_\\_init\\_\\_ :** inicializa\n",
        "  - **insert :** agrega un nuevo item a la fila\n",
        "  - **remove :** remueve y regresa el primer elemento que fue agregado\n",
        "  - **is_empty :** Valida si fila está vacía"
      ]
    },
    {
      "cell_type": "markdown",
      "metadata": {
        "id": "XsLSH-yWT9o7"
      },
      "source": [
        "## Linked Queue"
      ]
    },
    {
      "cell_type": "code",
      "execution_count": 1,
      "metadata": {
        "id": "ttXcgotmT9o8"
      },
      "outputs": [],
      "source": [
        "class Node:\n",
        "  def __init__(self, data):\n",
        "    self.cargo = data\n",
        "    # next es de tipo Node\n",
        "    self.next = None\n",
        "\n",
        "  def __str__(self):\n",
        "    return f\"{self.cargo}\""
      ]
    },
    {
      "cell_type": "code",
      "source": [
        "node = Node(\"Estoy dentro del nodo\")"
      ],
      "metadata": {
        "id": "6AcDtTo9hK2f"
      },
      "execution_count": 2,
      "outputs": []
    },
    {
      "cell_type": "code",
      "source": [
        "print(node)"
      ],
      "metadata": {
        "id": "rX3-0gdIhOjb",
        "colab": {
          "base_uri": "https://localhost:8080/"
        },
        "outputId": "8c3e5572-bfcc-438f-872b-ecd3d6f957a7"
      },
      "execution_count": 3,
      "outputs": [
        {
          "output_type": "stream",
          "name": "stdout",
          "text": [
            "Estoy dentro del nodo\n"
          ]
        }
      ]
    },
    {
      "cell_type": "code",
      "execution_count": 4,
      "metadata": {
        "id": "pjzlweJVT9o9"
      },
      "outputs": [],
      "source": [
        "class Queue:\n",
        "    def __init__(self):\n",
        "        self.length = 0\n",
        "        self.head = None\n",
        "        self.tail = None\n",
        "\n",
        "    def is_empty(self):\n",
        "        return self.length == 0\n",
        "\n",
        "    def insert(self, data):\n",
        "        node = Node(data)\n",
        "        if not self.head: # empty queue\n",
        "            print(\"Creando head y tail\")\n",
        "            self.head = self.tail = node\n",
        "        else:\n",
        "            print(\"Agregando un nuevo nodo\")\n",
        "            # agrega un nuevo nodo, al último nodo\n",
        "            self.tail.next = node\n",
        "            self.tail = node\n",
        "        self.length += 1\n",
        "\n",
        "    def remove(self):\n",
        "        data = self.head.cargo\n",
        "        # make the head point to 2nd element\n",
        "        self.head = self.head.next\n",
        "        self.length -= 1\n",
        "        # update tail if the queue becomes empty after removing the first node\n",
        "        if self.length == 0:\n",
        "            self.tail = None\n",
        "\n",
        "        return data\n",
        "\n",
        "    def __len__(self):\n",
        "        return self.length"
      ]
    },
    {
      "cell_type": "markdown",
      "metadata": {
        "id": "28ltEM2eT9o-"
      },
      "source": [
        "### Ttest of Queue ADT"
      ]
    },
    {
      "cell_type": "markdown",
      "source": [
        "Insertando primer elemento"
      ],
      "metadata": {
        "id": "XJnajpi-kL7y"
      }
    },
    {
      "cell_type": "code",
      "source": [
        "q = Queue()\n",
        "q.insert(1)"
      ],
      "metadata": {
        "id": "9E-snmE_hxpj",
        "colab": {
          "base_uri": "https://localhost:8080/"
        },
        "outputId": "62b12a53-7ce7-4a71-d205-57981870fcb0"
      },
      "execution_count": 5,
      "outputs": [
        {
          "output_type": "stream",
          "name": "stdout",
          "text": [
            "Creando head y tail\n"
          ]
        }
      ]
    },
    {
      "cell_type": "code",
      "source": [
        "type(q.head)"
      ],
      "metadata": {
        "id": "6T51S_THhydA",
        "colab": {
          "base_uri": "https://localhost:8080/"
        },
        "outputId": "e5a64c7a-4836-4862-bce2-a8f4a329491e"
      },
      "execution_count": 6,
      "outputs": [
        {
          "output_type": "execute_result",
          "data": {
            "text/plain": [
              "__main__.Node"
            ]
          },
          "metadata": {},
          "execution_count": 6
        }
      ]
    },
    {
      "cell_type": "code",
      "source": [
        "q.head.cargo"
      ],
      "metadata": {
        "id": "K0wFEt7fh44B",
        "colab": {
          "base_uri": "https://localhost:8080/"
        },
        "outputId": "d52ca7f1-718d-486c-c17c-afbb6a83b17b"
      },
      "execution_count": 7,
      "outputs": [
        {
          "output_type": "execute_result",
          "data": {
            "text/plain": [
              "1"
            ]
          },
          "metadata": {},
          "execution_count": 7
        }
      ]
    },
    {
      "cell_type": "code",
      "source": [
        "q.tail.cargo"
      ],
      "metadata": {
        "id": "VJPXQTMuh-pn",
        "colab": {
          "base_uri": "https://localhost:8080/"
        },
        "outputId": "5b83c360-0f3e-430c-aa22-9fd8894e183d"
      },
      "execution_count": 8,
      "outputs": [
        {
          "output_type": "execute_result",
          "data": {
            "text/plain": [
              "1"
            ]
          },
          "metadata": {},
          "execution_count": 8
        }
      ]
    },
    {
      "cell_type": "code",
      "source": [
        "q.head.next"
      ],
      "metadata": {
        "id": "RtzMq4auj6nv"
      },
      "execution_count": 9,
      "outputs": []
    },
    {
      "cell_type": "code",
      "source": [
        "q.tail.next"
      ],
      "metadata": {
        "id": "QN1v5tO1j-bF"
      },
      "execution_count": 10,
      "outputs": []
    },
    {
      "cell_type": "markdown",
      "source": [
        "Insertando segundo elemento"
      ],
      "metadata": {
        "id": "-JCM6I2_kIbG"
      }
    },
    {
      "cell_type": "code",
      "source": [
        "q.insert(2)"
      ],
      "metadata": {
        "id": "7YZGubi4iLuQ",
        "colab": {
          "base_uri": "https://localhost:8080/"
        },
        "outputId": "eff66f24-3619-4982-c6be-70ab9bd6f2d1"
      },
      "execution_count": 11,
      "outputs": [
        {
          "output_type": "stream",
          "name": "stdout",
          "text": [
            "Agregando un nuevo nodo\n"
          ]
        }
      ]
    },
    {
      "cell_type": "code",
      "source": [
        "q.head.cargo"
      ],
      "metadata": {
        "id": "suT5UA9CiMeJ",
        "colab": {
          "base_uri": "https://localhost:8080/"
        },
        "outputId": "81231fd1-b687-40d5-b62a-4dd9f8b75520"
      },
      "execution_count": 12,
      "outputs": [
        {
          "output_type": "execute_result",
          "data": {
            "text/plain": [
              "1"
            ]
          },
          "metadata": {},
          "execution_count": 12
        }
      ]
    },
    {
      "cell_type": "code",
      "source": [
        "q.head.next"
      ],
      "metadata": {
        "id": "6MAUWDx6k3qz",
        "colab": {
          "base_uri": "https://localhost:8080/"
        },
        "outputId": "648cb77c-31a2-4406-d897-a63655bf2060"
      },
      "execution_count": 13,
      "outputs": [
        {
          "output_type": "execute_result",
          "data": {
            "text/plain": [
              "<__main__.Node at 0x7e7f88dab700>"
            ]
          },
          "metadata": {},
          "execution_count": 13
        }
      ]
    },
    {
      "cell_type": "code",
      "source": [
        "q.head.next.cargo"
      ],
      "metadata": {
        "id": "MdcJlpfAk66c",
        "colab": {
          "base_uri": "https://localhost:8080/"
        },
        "outputId": "f66e9a9d-4cc4-4510-ce9e-eec7b552e3da"
      },
      "execution_count": 14,
      "outputs": [
        {
          "output_type": "execute_result",
          "data": {
            "text/plain": [
              "2"
            ]
          },
          "metadata": {},
          "execution_count": 14
        }
      ]
    },
    {
      "cell_type": "code",
      "source": [
        "q.tail.cargo"
      ],
      "metadata": {
        "id": "3hFUGxSBiN1D",
        "colab": {
          "base_uri": "https://localhost:8080/",
          "height": 36
        },
        "outputId": "932aa618-e9c1-4818-d6d2-8764c797d9ce"
      },
      "execution_count": 19,
      "outputs": [
        {
          "output_type": "execute_result",
          "data": {
            "text/plain": [
              "'a'"
            ],
            "application/vnd.google.colaboratory.intrinsic+json": {
              "type": "string"
            }
          },
          "metadata": {},
          "execution_count": 19
        }
      ]
    },
    {
      "cell_type": "code",
      "source": [
        "q.tail.next"
      ],
      "metadata": {
        "id": "ioUE6cdbjm5w"
      },
      "execution_count": 20,
      "outputs": []
    },
    {
      "cell_type": "markdown",
      "source": [
        "Insertando el tercer elemento"
      ],
      "metadata": {
        "id": "gLGM8TAskvIE"
      }
    },
    {
      "cell_type": "code",
      "source": [
        "q.insert('a')"
      ],
      "metadata": {
        "id": "B5TB9ZLniQNo",
        "colab": {
          "base_uri": "https://localhost:8080/"
        },
        "outputId": "c656a1de-03be-441d-dc7c-d77489619588"
      },
      "execution_count": 17,
      "outputs": [
        {
          "output_type": "stream",
          "name": "stdout",
          "text": [
            "Agregando un nuevo nodo\n"
          ]
        }
      ]
    },
    {
      "cell_type": "code",
      "source": [
        "q.head.cargo"
      ],
      "metadata": {
        "id": "H6AmxGNziRyO",
        "colab": {
          "base_uri": "https://localhost:8080/"
        },
        "outputId": "5403a7a1-6160-4469-ba64-2359fc41454c"
      },
      "execution_count": 21,
      "outputs": [
        {
          "output_type": "execute_result",
          "data": {
            "text/plain": [
              "1"
            ]
          },
          "metadata": {},
          "execution_count": 21
        }
      ]
    },
    {
      "cell_type": "code",
      "source": [
        "q.head.next.next.cargo"
      ],
      "metadata": {
        "id": "ThlyXi8dlGA7",
        "colab": {
          "base_uri": "https://localhost:8080/",
          "height": 36
        },
        "outputId": "c06f3aa3-2336-4498-8cfe-ffc279811b14"
      },
      "execution_count": 22,
      "outputs": [
        {
          "output_type": "execute_result",
          "data": {
            "text/plain": [
              "'a'"
            ],
            "application/vnd.google.colaboratory.intrinsic+json": {
              "type": "string"
            }
          },
          "metadata": {},
          "execution_count": 22
        }
      ]
    },
    {
      "cell_type": "code",
      "source": [
        "len(q)"
      ],
      "metadata": {
        "id": "rMNGPCf8n6E3",
        "colab": {
          "base_uri": "https://localhost:8080/"
        },
        "outputId": "53dac81c-0313-44c7-d773-2b9715eea0d0"
      },
      "execution_count": 23,
      "outputs": [
        {
          "output_type": "execute_result",
          "data": {
            "text/plain": [
              "3"
            ]
          },
          "metadata": {},
          "execution_count": 23
        }
      ]
    },
    {
      "cell_type": "code",
      "source": [
        "q.tail.cargo"
      ],
      "metadata": {
        "id": "vKfxc5fUiSm-",
        "colab": {
          "base_uri": "https://localhost:8080/",
          "height": 36
        },
        "outputId": "509adebe-13ef-4eb6-9551-f6bfcb84df7c"
      },
      "execution_count": 24,
      "outputs": [
        {
          "output_type": "execute_result",
          "data": {
            "text/plain": [
              "'a'"
            ],
            "application/vnd.google.colaboratory.intrinsic+json": {
              "type": "string"
            }
          },
          "metadata": {},
          "execution_count": 24
        }
      ]
    },
    {
      "cell_type": "markdown",
      "source": [
        "Eliminando el head"
      ],
      "metadata": {
        "id": "UYlq72XRlkBI"
      }
    },
    {
      "cell_type": "code",
      "source": [
        "q.remove()"
      ],
      "metadata": {
        "id": "85DTC5Wejelx",
        "colab": {
          "base_uri": "https://localhost:8080/"
        },
        "outputId": "5c5d4059-bcbb-43fb-bd29-1f4a66203a42"
      },
      "execution_count": 25,
      "outputs": [
        {
          "output_type": "execute_result",
          "data": {
            "text/plain": [
              "1"
            ]
          },
          "metadata": {},
          "execution_count": 25
        }
      ]
    },
    {
      "cell_type": "code",
      "source": [
        "q.head.cargo"
      ],
      "metadata": {
        "id": "AVwWtd9wlnMN",
        "colab": {
          "base_uri": "https://localhost:8080/"
        },
        "outputId": "f52e43df-c854-410b-ecca-7205e2e59d25"
      },
      "execution_count": 26,
      "outputs": [
        {
          "output_type": "execute_result",
          "data": {
            "text/plain": [
              "2"
            ]
          },
          "metadata": {},
          "execution_count": 26
        }
      ]
    },
    {
      "cell_type": "markdown",
      "metadata": {
        "id": "4uSp6p0AT9o-"
      },
      "source": [
        "## Priority Queue ADT\n",
        "- Usa los mismos métodos que Queue con la única diferencia en la función de eliminación; donde el elemento eliminado es la prioridad más alta\n",
        "    - el elemento eliminado no es necesariamente el primero que se agregó; más bien un elemento en la cola con la prioridad más alta\n",
        "    - por ejemplo, si los elementos en la cola tienen nombres, podemos elegir el elemento en orden alfabético"
      ]
    },
    {
      "cell_type": "code",
      "execution_count": 27,
      "metadata": {
        "id": "OOr9-kcWT9o-"
      },
      "outputs": [],
      "source": [
        "class PriorityQueue:\n",
        "    def __init__(self):\n",
        "        self.items = []\n",
        "\n",
        "    def is_empty(self):\n",
        "        return self.items == []\n",
        "\n",
        "    def insert(self, data):\n",
        "        self.items.append(data)\n",
        "\n",
        "    def remove(self):\n",
        "        maxi = 0\n",
        "        for i in range(1, len(self.items)):\n",
        "            if self.items[i] > self.items[maxi]:\n",
        "                maxi = i\n",
        "        item = self.items[maxi]\n",
        "        del self.items[maxi]\n",
        "        return item\n",
        "\n",
        "    def __len__(self):\n",
        "        return len(self.items)"
      ]
    },
    {
      "cell_type": "markdown",
      "metadata": {
        "id": "28EjAvwxT9o-"
      },
      "source": [
        "### Test priority queue ADT"
      ]
    },
    {
      "cell_type": "code",
      "execution_count": 28,
      "metadata": {
        "id": "Ypx4OpreT9o_"
      },
      "outputs": [],
      "source": [
        "q = PriorityQueue()\n",
        "for num in [15, 13, 11, 19, 2]:\n",
        "    q.insert(num)"
      ]
    },
    {
      "cell_type": "code",
      "source": [
        "q.items"
      ],
      "metadata": {
        "id": "swCb1hHfs85P",
        "colab": {
          "base_uri": "https://localhost:8080/"
        },
        "outputId": "b9cf4e49-0f71-43ef-886c-23760a176ce1"
      },
      "execution_count": 29,
      "outputs": [
        {
          "output_type": "execute_result",
          "data": {
            "text/plain": [
              "[15, 13, 11, 19, 2]"
            ]
          },
          "metadata": {},
          "execution_count": 29
        }
      ]
    },
    {
      "cell_type": "code",
      "execution_count": 30,
      "metadata": {
        "id": "T5EEOsmKT9o_",
        "colab": {
          "base_uri": "https://localhost:8080/"
        },
        "outputId": "08289175-5c4e-4bb2-9142-132c9d4f191e"
      },
      "outputs": [
        {
          "output_type": "stream",
          "name": "stdout",
          "text": [
            "19\n",
            "15\n",
            "13\n",
            "11\n",
            "2\n"
          ]
        }
      ],
      "source": [
        "while not q.is_empty():\n",
        "    print(q.remove())"
      ]
    },
    {
      "cell_type": "markdown",
      "metadata": {
        "id": "USSJS6wrT9pA"
      },
      "source": [
        "## Clase Driver\n"
      ]
    },
    {
      "cell_type": "code",
      "execution_count": 31,
      "metadata": {
        "id": "1OTMmMAST9pA"
      },
      "outputs": [],
      "source": [
        "class Driver:\n",
        "    def __init__(self, name, score):\n",
        "      self.name = name\n",
        "      self.score = score\n",
        "\n",
        "    def __str__(self):\n",
        "      return f\"El piloto {self.name} tiene un puntaje de {self.score}\"\n",
        "\n",
        "    # Puntaje más bajo tiene la prioridad más alta.\n",
        "    # other es otro objeto de la clase Driver\n",
        "    def __gt__(self, other): #other, es otro objeto de la misma clase\n",
        "      # __gt__ greater than\n",
        "      return self.score < other.score"
      ]
    },
    {
      "cell_type": "code",
      "source": [
        "checo = Driver('Sergio Pérez', 171)"
      ],
      "metadata": {
        "id": "uQeZLnZUtNf9"
      },
      "execution_count": 32,
      "outputs": []
    },
    {
      "cell_type": "code",
      "source": [
        "print(checo)"
      ],
      "metadata": {
        "id": "92NBCCCVrpww",
        "colab": {
          "base_uri": "https://localhost:8080/"
        },
        "outputId": "d39e7dba-3d17-4773-ab9c-fea4e8c125d1"
      },
      "execution_count": 33,
      "outputs": [
        {
          "output_type": "stream",
          "name": "stdout",
          "text": [
            "El piloto Sergio Pérez tiene un puntaje de 171\n"
          ]
        }
      ]
    },
    {
      "cell_type": "code",
      "source": [
        "fer = Driver('Fernando Alonso', 139)\n",
        "max = Driver('Max Verstappen', 281)\n",
        "lewis = Driver('Lewis Hamilton', 133)"
      ],
      "metadata": {
        "id": "yeiG2TsptPYu"
      },
      "execution_count": 34,
      "outputs": []
    },
    {
      "cell_type": "code",
      "source": [
        "checo.score > max.score"
      ],
      "metadata": {
        "id": "171sda6Ur8im",
        "colab": {
          "base_uri": "https://localhost:8080/"
        },
        "outputId": "23a1030a-babc-489c-d3a4-e7c98cfcde82"
      },
      "execution_count": 35,
      "outputs": [
        {
          "output_type": "execute_result",
          "data": {
            "text/plain": [
              "False"
            ]
          },
          "metadata": {},
          "execution_count": 35
        }
      ]
    },
    {
      "cell_type": "code",
      "source": [
        "checo > max"
      ],
      "metadata": {
        "id": "alx6FK2vr1Or",
        "colab": {
          "base_uri": "https://localhost:8080/"
        },
        "outputId": "05ffca55-ace5-4cd2-ae4c-c90dc2fc3942"
      },
      "execution_count": 36,
      "outputs": [
        {
          "output_type": "execute_result",
          "data": {
            "text/plain": [
              "True"
            ]
          },
          "metadata": {},
          "execution_count": 36
        }
      ]
    },
    {
      "cell_type": "code",
      "source": [
        "pq = PriorityQueue()\n",
        "pq.insert(checo)\n",
        "pq.insert(max)\n",
        "pq.insert(fer)\n",
        "pq.insert(lewis)"
      ],
      "metadata": {
        "id": "oyIoKYYwtnNe"
      },
      "execution_count": 46,
      "outputs": []
    },
    {
      "cell_type": "code",
      "source": [
        "for i in pq.items:\n",
        "  print(i)"
      ],
      "metadata": {
        "id": "prNeCruHtoSF",
        "colab": {
          "base_uri": "https://localhost:8080/"
        },
        "outputId": "3ebbad8c-c93d-4a16-e10d-d354110b61dd"
      },
      "execution_count": 47,
      "outputs": [
        {
          "output_type": "stream",
          "name": "stdout",
          "text": [
            "El piloto Sergio Pérez tiene un puntaje de 171\n",
            "El piloto Max Verstappen tiene un puntaje de 281\n",
            "El piloto Fernando Alonso tiene un puntaje de 139\n",
            "El piloto Lewis Hamilton tiene un puntaje de 133\n"
          ]
        }
      ]
    },
    {
      "cell_type": "code",
      "source": [
        "print(pq.remove())"
      ],
      "metadata": {
        "id": "br7ZPJaWtZC6",
        "colab": {
          "base_uri": "https://localhost:8080/"
        },
        "outputId": "5366ba10-457a-427e-fd49-e2647b2c84d6"
      },
      "execution_count": 48,
      "outputs": [
        {
          "output_type": "stream",
          "name": "stdout",
          "text": [
            "El piloto Lewis Hamilton tiene un puntaje de 133\n"
          ]
        }
      ]
    },
    {
      "cell_type": "code",
      "execution_count": 39,
      "metadata": {
        "id": "iIYPmWxzT9pA",
        "colab": {
          "base_uri": "https://localhost:8080/"
        },
        "outputId": "05365dee-5ec8-47d7-bf61-96897afdecb8"
      },
      "outputs": [
        {
          "output_type": "stream",
          "name": "stdout",
          "text": [
            "El piloto Lewis Hamilton tiene un puntaje de 133\n",
            "El piloto Fernando Alonso tiene un puntaje de 139\n",
            "El piloto Sergio Pérez tiene un puntaje de 171\n",
            "El piloto Max Verstappen tiene un puntaje de 281\n"
          ]
        }
      ],
      "source": [
        "while not pq.is_empty():\n",
        "    print(pq.remove())"
      ]
    }
  ],
  "metadata": {
    "kernelspec": {
      "display_name": "Python 3",
      "language": "python",
      "name": "python3"
    },
    "language_info": {
      "codemirror_mode": {
        "name": "ipython",
        "version": 3
      },
      "file_extension": ".py",
      "mimetype": "text/x-python",
      "name": "python",
      "nbconvert_exporter": "python",
      "pygments_lexer": "ipython3",
      "version": "3.7.2"
    },
    "colab": {
      "provenance": [],
      "include_colab_link": true
    }
  },
  "nbformat": 4,
  "nbformat_minor": 0
}