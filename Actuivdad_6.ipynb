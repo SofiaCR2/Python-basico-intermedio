{
  "nbformat": 4,
  "nbformat_minor": 0,
  "metadata": {
    "colab": {
      "provenance": [],
      "authorship_tag": "ABX9TyMLOuhEmb1jpGlhUgoMHzD8",
      "include_colab_link": true
    },
    "kernelspec": {
      "name": "python3",
      "display_name": "Python 3"
    },
    "language_info": {
      "name": "python"
    }
  },
  "cells": [
    {
      "cell_type": "markdown",
      "metadata": {
        "id": "view-in-github",
        "colab_type": "text"
      },
      "source": [
        "<a href=\"https://colab.research.google.com/github/SofiaCR2/Python-basico-intermedio/blob/main/Actuivdad_6.ipynb\" target=\"_parent\"><img src=\"https://colab.research.google.com/assets/colab-badge.svg\" alt=\"Open In Colab\"/></a>"
      ]
    },
    {
      "cell_type": "markdown",
      "source": [
        "#Lab\n",
        "\n",
        "Crear una funcion similar a Calculate_square_PRopieties´ para un rectangulo o circulo, regrese 3 valores:\n",
        "1. area\n",
        "2. perimetro\n",
        "3. color\n",
        "\n",
        "**Nota: Tu funcion debe aceptar 3 argumentos**\n",
        "\n",
        "El tipo de dato esperado es una tupla"
      ],
      "metadata": {
        "id": "rS0qNLJtOFOB"
      }
    },
    {
      "cell_type": "code",
      "execution_count": 1,
      "metadata": {
        "id": "Znco46ZTN1LH"
      },
      "outputs": [],
      "source": [
        "from math import pi\n",
        "from math import pow"
      ]
    },
    {
      "cell_type": "code",
      "source": [
        "def area_perimetro_circulo(r, color):\n",
        "  area = pi * pow(r, 2)\n",
        "  perimetro = 2 * pi * r\n",
        "  color = 'Blue'\n",
        "\n",
        "  return (area, perimetro, color)"
      ],
      "metadata": {
        "id": "3hvBZMggOLA2"
      },
      "execution_count": 2,
      "outputs": []
    },
    {
      "cell_type": "code",
      "source": [
        "r = int(input('Cual es el radio: '))\n",
        "color = input('Color: ')\n",
        "area_perimetro_circulo(r, color)"
      ],
      "metadata": {
        "colab": {
          "base_uri": "https://localhost:8080/"
        },
        "id": "d8FsAHE8OOOz",
        "outputId": "c0f87de3-b5fd-4b65-bac0-a2613ddf048a"
      },
      "execution_count": 3,
      "outputs": [
        {
          "name": "stdout",
          "output_type": "stream",
          "text": [
            "Cual es el radio: 5\n",
            "Color: rojo\n"
          ]
        },
        {
          "output_type": "execute_result",
          "data": {
            "text/plain": [
              "(78.53981633974483, 31.41592653589793, 'Blue')"
            ]
          },
          "metadata": {},
          "execution_count": 3
        }
      ]
    },
    {
      "cell_type": "code",
      "source": [
        "type(area_perimetro_circulo(r,color))"
      ],
      "metadata": {
        "colab": {
          "base_uri": "https://localhost:8080/"
        },
        "id": "-QvXbqw8OSqc",
        "outputId": "503fde00-9099-4a7d-ec22-972f7022793f"
      },
      "execution_count": 4,
      "outputs": [
        {
          "output_type": "execute_result",
          "data": {
            "text/plain": [
              "tuple"
            ]
          },
          "metadata": {},
          "execution_count": 4
        }
      ]
    }
  ]
}