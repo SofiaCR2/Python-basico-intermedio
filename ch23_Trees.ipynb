{
  "cells": [
    {
      "cell_type": "markdown",
      "metadata": {
        "id": "view-in-github",
        "colab_type": "text"
      },
      "source": [
        "<a href=\"https://colab.research.google.com/github/SofiaCR2/Python-basico-intermedio/blob/main/ch23_Trees.ipynb\" target=\"_parent\"><img src=\"https://colab.research.google.com/assets/colab-badge.svg\" alt=\"Open In Colab\"/></a>"
      ]
    },
    {
      "cell_type": "markdown",
      "metadata": {
        "id": "p0S2x9KqL-aW"
      },
      "source": [
        "# Árboles\n",
        "http://openbookproject.net/thinkcs/python/english3e/trees.html\n",
        "- al igual que las listas enlazadas, los árboles se componen de nodos\n",
        "\n",
        "## Árbol binario\n",
        " - es un árbol de uso común en el que cada nodo contiene una referencia a otros dos nodos como máximo (posiblemente Ninguno)\n",
        "- estas referencias se denominan subárboles izquierdo y derecho\n",
        "- como el nodo de la lista enlazada, cada nodo también contiene datos/carga\n",
        "- al igual que las listas enlazadas, los árboles son estructuras de datos recursivas que se definen recursivamente:\n",
        "    1. el árbol vacío, representado por Ninguno, o\n",
        "    2. un nodo que contiene datos y dos referencias de árbol (subárbol izquierdo y derecho)"
      ]
    },
    {
      "cell_type": "markdown",
      "metadata": {
        "id": "bl-mWcr-L-aY"
      },
      "source": [
        "## Construyendo árboles\n",
        "- similar a la construcción de una lista enlazada"
      ]
    },
    {
      "cell_type": "code",
      "execution_count": 1,
      "metadata": {
        "id": "OyUo9uM-L-aZ"
      },
      "outputs": [],
      "source": [
        "class Tree:\n",
        "    def __init__(self, data, left=None, right=None):\n",
        "        self.cargo = data\n",
        "        self.left = left\n",
        "        self.right = right\n",
        "\n",
        "    def __str__(self):\n",
        "        return \"{}\".format(self.cargo)\n"
      ]
    },
    {
      "cell_type": "markdown",
      "metadata": {
        "id": "VTeM_U8UL-aa"
      },
      "source": [
        "### forma ascendente de construir árboles\n",
        "- primero cree niños y vincúlelos al padre"
      ]
    },
    {
      "cell_type": "code",
      "execution_count": 2,
      "metadata": {
        "id": "qD0mf_-aL-ab"
      },
      "outputs": [],
      "source": [
        "left = Tree(2)\n",
        "right = Tree(3)\n",
        "tree = Tree(1, left, right)"
      ]
    },
    {
      "cell_type": "code",
      "execution_count": 3,
      "metadata": {
        "id": "W0jtWu36L-ab"
      },
      "outputs": [],
      "source": [
        "tree1 = Tree(10, Tree(20), Tree(30))"
      ]
    },
    {
      "cell_type": "code",
      "execution_count": 4,
      "metadata": {
        "id": "7339NPtlL-ac",
        "outputId": "3e96a686-2f40-411b-a170-8b27700f558c",
        "colab": {
          "base_uri": "https://localhost:8080/"
        }
      },
      "outputs": [
        {
          "output_type": "stream",
          "name": "stdout",
          "text": [
            "1\n"
          ]
        }
      ],
      "source": [
        "print(tree)"
      ]
    },
    {
      "cell_type": "code",
      "execution_count": 5,
      "metadata": {
        "id": "HESTEjNuL-ad",
        "outputId": "2756b550-c6ca-4f2e-e6eb-2e175d47d7ca",
        "colab": {
          "base_uri": "https://localhost:8080/"
        }
      },
      "outputs": [
        {
          "output_type": "stream",
          "name": "stdout",
          "text": [
            "10\n"
          ]
        }
      ],
      "source": [
        "print(tree1)"
      ]
    },
    {
      "cell_type": "markdown",
      "metadata": {
        "id": "QjDOGnPpL-ad"
      },
      "source": [
        "## árbol transversal\n",
        "- ¡La forma natural de atravesar un árbol es recursivamente!"
      ]
    },
    {
      "cell_type": "code",
      "execution_count": 6,
      "metadata": {
        "id": "EwnY9-2yL-ae"
      },
      "outputs": [],
      "source": [
        "def findSum(tree):\n",
        "    if not tree:\n",
        "        return 0\n",
        "    return tree.cargo + findSum(tree.left) + findSum(tree.right)\n"
      ]
    },
    {
      "cell_type": "code",
      "execution_count": 7,
      "metadata": {
        "id": "zhdEaeF5L-ae",
        "outputId": "9a350dad-bde0-4e4a-c277-ad474e01de35",
        "colab": {
          "base_uri": "https://localhost:8080/"
        }
      },
      "outputs": [
        {
          "output_type": "execute_result",
          "data": {
            "text/plain": [
              "6"
            ]
          },
          "metadata": {},
          "execution_count": 7
        }
      ],
      "source": [
        "findSum(tree)"
      ]
    },
    {
      "cell_type": "code",
      "execution_count": 8,
      "metadata": {
        "id": "ibPT1KdhL-ae",
        "outputId": "8d716866-49a8-45e9-a7eb-01c23c956588",
        "colab": {
          "base_uri": "https://localhost:8080/"
        }
      },
      "outputs": [
        {
          "output_type": "execute_result",
          "data": {
            "text/plain": [
              "60"
            ]
          },
          "metadata": {},
          "execution_count": 8
        }
      ],
      "source": [
        "findSum(tree1)"
      ]
    },
    {
      "cell_type": "markdown",
      "metadata": {
        "id": "8DzgDQtkL-af"
      },
      "source": [
        "## Árboles de expresión\n",
        "- Los árboles son una forma natural de representar la estructura de una expresión sin ambigüedades.\n",
        "- la expresión infija 1 + 2 * 3 es ambigua a menos que sepamos el orden de operación que * ocurre antes de +\n",
        "- podemos usar árbol para representar la misma expresión\n",
        "     - los operandos son nodos hoja\n",
        "     - los nodos operadores contienen referencias a sus operandos; los operadores son binarios (dos operandos)\n",
        "    \n",
        "<img src=\"./resources/tree2.png\" />\n",
        "\n",
        "- aplicaciones:\n",
        "     - traducir expresiones a sufijo, prefijo e infijo\n",
        "     - los compiladores usan árboles de expresión para analizar, optimizar y traducir programas\n",
        "    \n",
        "- tres formas de atravesar árboles: pre-orden, en orden y post-orden"
      ]
    },
    {
      "cell_type": "code",
      "execution_count": 9,
      "metadata": {
        "id": "-QLKeXJdL-af"
      },
      "outputs": [],
      "source": [
        "expression = Tree('+', Tree(1), Tree('*', Tree(2), Tree(3)))"
      ]
    },
    {
      "cell_type": "markdown",
      "metadata": {
        "id": "w1iu5-FhL-af"
      },
      "source": [
        "### recorrido de árbol de pre-pedido\n",
        "- los contenidos de la raíz aparecen antes que los contenidos de los hijos\n",
        "- algoritmo recursivo:\n",
        "    - visita el nodo\n",
        "    - visita el subárbol izquierdo\n",
        "    - visita el subárbol derecho"
      ]
    },
    {
      "cell_type": "code",
      "execution_count": 10,
      "metadata": {
        "id": "95LsocBaL-af"
      },
      "outputs": [],
      "source": [
        "def preorder(tree):\n",
        "    if not tree:\n",
        "        return\n",
        "    print(tree.cargo, end=' ')\n",
        "    preorder(tree.left)\n",
        "    preorder(tree.right)\n"
      ]
    },
    {
      "cell_type": "code",
      "execution_count": 11,
      "metadata": {
        "id": "mPLIW9CgL-af",
        "outputId": "ea5ece74-2344-41ec-c5f5-a8e0a41c01c1",
        "colab": {
          "base_uri": "https://localhost:8080/"
        }
      },
      "outputs": [
        {
          "output_type": "stream",
          "name": "stdout",
          "text": [
            "+ 1 * 2 3 "
          ]
        }
      ],
      "source": [
        "preorder(expression)"
      ]
    },
    {
      "cell_type": "markdown",
      "metadata": {
        "id": "wgjHqEdLL-ag"
      },
      "source": [
        "### recorrido del árbol en orden\n",
        "- el contenido del árbol aparece en orden\n",
        "- algoritmo recursivo:\n",
        "    - visita el subárbol izquierdo\n",
        "    - visitar el nodo\n",
        "    - visita el subárbol derecho"
      ]
    },
    {
      "cell_type": "code",
      "execution_count": 12,
      "metadata": {
        "id": "BieB6jLtL-ag"
      },
      "outputs": [],
      "source": [
        "def inorder(tree):\n",
        "    if not tree:\n",
        "        return\n",
        "    inorder(tree.left)\n",
        "    print(tree.cargo, end=' ')\n",
        "    inorder(tree.right)"
      ]
    },
    {
      "cell_type": "code",
      "execution_count": 13,
      "metadata": {
        "id": "lkNZmbvML-ag",
        "outputId": "31edd8f6-4dfe-40ad-f5d2-f4e0960e7795",
        "colab": {
          "base_uri": "https://localhost:8080/"
        }
      },
      "outputs": [
        {
          "output_type": "stream",
          "name": "stdout",
          "text": [
            "1 + 2 * 3 "
          ]
        }
      ],
      "source": [
        "inorder(expression)"
      ]
    },
    {
      "cell_type": "code",
      "execution_count": 14,
      "metadata": {
        "id": "ay8qPyVZL-ag"
      },
      "outputs": [],
      "source": [
        "def inorderIndented(tree, level=0):\n",
        "    if not tree:\n",
        "        return\n",
        "    inorderIndented(tree.right, level+1)\n",
        "    print('   '*level + str(tree.cargo))\n",
        "    inorderIndented(tree.left, level+1)"
      ]
    },
    {
      "cell_type": "code",
      "execution_count": 15,
      "metadata": {
        "id": "Lw3RG4ScL-ag",
        "outputId": "cb3d1710-c0fc-492f-eec6-79a0f8ed5a73",
        "colab": {
          "base_uri": "https://localhost:8080/"
        }
      },
      "outputs": [
        {
          "output_type": "stream",
          "name": "stdout",
          "text": [
            "      3\n",
            "   *\n",
            "      2\n",
            "+\n",
            "   1\n"
          ]
        }
      ],
      "source": [
        "inorderIndented(expression)"
      ]
    },
    {
      "cell_type": "markdown",
      "metadata": {
        "id": "V9cQpJ0ML-ag"
      },
      "source": [
        "### recorrido posterior al pedido\n",
        "- algoritmo recursivo:\n",
        "    1. visita el subárbol izquierdo\n",
        "    2. visita el subárbol derecho\n",
        "    3. visitar el nodo"
      ]
    },
    {
      "cell_type": "code",
      "execution_count": 16,
      "metadata": {
        "id": "UoRuYpVtL-ah"
      },
      "outputs": [],
      "source": [
        "def postorder(tree):\n",
        "    if not tree:\n",
        "        return\n",
        "    postorder(tree.left)\n",
        "    postorder(tree.right)\n",
        "    print(tree.cargo, end=' ')"
      ]
    },
    {
      "cell_type": "code",
      "execution_count": 17,
      "metadata": {
        "id": "o82m_A89L-ah",
        "outputId": "cdc6eba2-867c-4ba9-ef04-2a96643708b7",
        "colab": {
          "base_uri": "https://localhost:8080/"
        }
      },
      "outputs": [
        {
          "output_type": "stream",
          "name": "stdout",
          "text": [
            "1 2 3 * + "
          ]
        }
      ],
      "source": [
        "postorder(expression)"
      ]
    },
    {
      "cell_type": "markdown",
      "metadata": {
        "id": "2kNQG-KAL-ah"
      },
      "source": [
        "## construyendo un árbol de expresión\n",
        "- analizar una expresión infija y construir el árbol de expresión correspondiente\n",
        "- por ejemplo, (3 + 7) * 9 produce un árbol:"
      ]
    },
    {
      "cell_type": "markdown",
      "metadata": {
        "id": "PD8hpJKWL-ah"
      },
      "source": [
        "1. tokenizar la expresión en la lista de python? Cómo (queda como ejercicio)\n",
        " - (3 + 7) * 9 = [\"(\", 3, \"+\", 7, \")\", \"*\", 9, \"end\"]\n",
        "2. El token \"final\" es útil para evitar que el analizador lea más allá del final de la lista."
      ]
    },
    {
      "cell_type": "code",
      "execution_count": 18,
      "metadata": {
        "id": "5hWW9gIXL-ai"
      },
      "outputs": [],
      "source": [
        "def get_token(token_list, expected):\n",
        "    if token_list[0] == expected:\n",
        "        del token_list[0]\n",
        "        return True\n",
        "    return False"
      ]
    },
    {
      "cell_type": "code",
      "execution_count": 19,
      "metadata": {
        "id": "jZytQS-YL-ai"
      },
      "outputs": [],
      "source": [
        "# handles operands\n",
        "def get_number(token_list):\n",
        "    x = token_list[0]\n",
        "    if not isinstance(x, int):\n",
        "        return None\n",
        "    del token_list[0]\n",
        "    return Tree(x, None, None) # leaf node"
      ]
    },
    {
      "cell_type": "code",
      "execution_count": 20,
      "metadata": {
        "id": "9CKpYV7nL-ai",
        "outputId": "c9d36f4c-4216-480e-f296-b890f5a93bee",
        "colab": {
          "base_uri": "https://localhost:8080/"
        }
      },
      "outputs": [
        {
          "output_type": "stream",
          "name": "stdout",
          "text": [
            "9 "
          ]
        }
      ],
      "source": [
        "token_list = [9, 11, 'end']\n",
        "x = get_number(token_list)\n",
        "postorder(x)"
      ]
    },
    {
      "cell_type": "code",
      "execution_count": 21,
      "metadata": {
        "id": "WXbIDR35L-aj",
        "outputId": "652fa6a0-3718-4607-d3be-964a11d5263d",
        "colab": {
          "base_uri": "https://localhost:8080/"
        }
      },
      "outputs": [
        {
          "output_type": "stream",
          "name": "stdout",
          "text": [
            "[11, 'end']\n"
          ]
        }
      ],
      "source": [
        "print(token_list)"
      ]
    },
    {
      "cell_type": "code",
      "execution_count": 22,
      "metadata": {
        "id": "hrU6OAE5L-aj"
      },
      "outputs": [],
      "source": [
        "def get_product(token_list):\n",
        "    a = get_number(token_list)\n",
        "    if get_token(token_list, '*'):\n",
        "        b = get_number(token_list)\n",
        "        return Tree('*', a, b)\n",
        "    return a"
      ]
    },
    {
      "cell_type": "code",
      "execution_count": 23,
      "metadata": {
        "id": "_wVXmzQDL-aj"
      },
      "outputs": [],
      "source": [
        "token_list = [9, '*', 11, 'end']\n",
        "tree = get_product(token_list)"
      ]
    },
    {
      "cell_type": "code",
      "execution_count": 24,
      "metadata": {
        "id": "7TPMpye-L-aj",
        "outputId": "06ef6563-5ffc-401e-a76a-1b3e51266540",
        "colab": {
          "base_uri": "https://localhost:8080/"
        }
      },
      "outputs": [
        {
          "output_type": "stream",
          "name": "stdout",
          "text": [
            "9 11 * "
          ]
        }
      ],
      "source": [
        "postorder(tree)"
      ]
    },
    {
      "cell_type": "code",
      "execution_count": 25,
      "metadata": {
        "id": "-vEz17_-L-aj",
        "outputId": "3ef6a055-528b-4de3-9d1e-84a463937d3c",
        "colab": {
          "base_uri": "https://localhost:8080/"
        }
      },
      "outputs": [
        {
          "output_type": "stream",
          "name": "stdout",
          "text": [
            "9 "
          ]
        }
      ],
      "source": [
        "token_list = [9, '+', 11, 'end']\n",
        "tree = get_product(token_list)\n",
        "postorder(tree)"
      ]
    },
    {
      "cell_type": "code",
      "execution_count": 26,
      "metadata": {
        "id": "7SZ9LPMuL-ak"
      },
      "outputs": [],
      "source": [
        "# adapt the function for compound product such as 3 * (5 * (7 * 9))\n",
        "def get_product(token_list):\n",
        "    a = get_number(token_list)\n",
        "    if get_token(token_list, '*'):\n",
        "        b = get_product(token_list)\n",
        "        return Tree('*', a, b)\n",
        "    return a"
      ]
    },
    {
      "cell_type": "code",
      "execution_count": 27,
      "metadata": {
        "id": "xjPpG5gXL-ak",
        "outputId": "6f7828a0-bc4c-43e1-c2dd-a9462599604e",
        "colab": {
          "base_uri": "https://localhost:8080/"
        }
      },
      "outputs": [
        {
          "output_type": "stream",
          "name": "stdout",
          "text": [
            "2 3 5 7 * * * "
          ]
        }
      ],
      "source": [
        "token_list = [2, \"*\", 3, \"*\", 5 , \"*\", 7, \"end\"]\n",
        "tree = get_product(token_list)\n",
        "postorder(tree)"
      ]
    },
    {
      "cell_type": "code",
      "execution_count": 28,
      "metadata": {
        "id": "TGcZzftcL-ak"
      },
      "outputs": [],
      "source": [
        "#  a sum can be a tree with + at the root, a product on the left, and a sum on the right.\n",
        "# Or, a sum can be just a product.\n",
        "def get_sum(token_list):\n",
        "    a = get_product(token_list)\n",
        "    if get_token(token_list, \"+\"):\n",
        "        b = get_sum(token_list)\n",
        "        return Tree(\"+\", a, b)\n",
        "    return a"
      ]
    },
    {
      "cell_type": "code",
      "execution_count": null,
      "metadata": {
        "id": "Lz_tRK7SL-ak"
      },
      "outputs": [],
      "source": [
        "token_list = [9, \"*\", 11, \"+\", 5, \"*\", 7, \"end\"]\n",
        "tree = get_sum(token_list)"
      ]
    },
    {
      "cell_type": "code",
      "execution_count": 29,
      "metadata": {
        "id": "oIaQ5wk7L-ap",
        "outputId": "ab38b8a3-a1d5-4387-b155-9288e5044ef5",
        "colab": {
          "base_uri": "https://localhost:8080/"
        }
      },
      "outputs": [
        {
          "output_type": "stream",
          "name": "stdout",
          "text": [
            "2 3 5 7 * * * "
          ]
        }
      ],
      "source": [
        "postorder(tree)"
      ]
    },
    {
      "cell_type": "code",
      "execution_count": 30,
      "metadata": {
        "id": "VgBq5cuPL-ap"
      },
      "outputs": [],
      "source": [
        "# handle parenthesis\n",
        "def get_number(token_list):\n",
        "    if get_token(token_list, \"(\"):\n",
        "        x = get_sum(token_list)         # Get the subexpression\n",
        "        get_token(token_list, \")\")      # Remove the closing parenthesis\n",
        "        return x\n",
        "    else:\n",
        "        x = token_list[0]\n",
        "        if not isinstance(x, int):\n",
        "            return None\n",
        "        del token_list[0]\n",
        "        return Tree(x, None, None)"
      ]
    },
    {
      "cell_type": "code",
      "execution_count": 31,
      "metadata": {
        "id": "YEphgYfHL-ap",
        "outputId": "37417b31-8b8d-413c-b180-1de0d499ecb7",
        "colab": {
          "base_uri": "https://localhost:8080/"
        }
      },
      "outputs": [
        {
          "output_type": "stream",
          "name": "stdout",
          "text": [
            "9 11 5 + 7 * * "
          ]
        }
      ],
      "source": [
        "# 9 * (11 + 5) * 7\n",
        "token_list = [9, \"*\", \"(\", 11, \"+\", 5, \")\", \"*\", 7, \"end\"]\n",
        "tree = get_sum(token_list)\n",
        "postorder(tree)"
      ]
    },
    {
      "cell_type": "markdown",
      "metadata": {
        "id": "HD5G7WxmL-aq"
      },
      "source": [
        "## manejo de errores en expresiones malformadas"
      ]
    },
    {
      "cell_type": "code",
      "execution_count": 32,
      "metadata": {
        "id": "_UxfvPFxL-aq"
      },
      "outputs": [],
      "source": [
        "# handle parenthesis\n",
        "def get_number(token_list):\n",
        "    if get_token(token_list, \"(\"):\n",
        "        x = get_sum(token_list)         # Get the subexpression\n",
        "        if not get_token(token_list, \")\"): # Remove the closing parenthesis\n",
        "            raise ValueError('Missing close parenthesis!')\n",
        "        return x\n",
        "    else:\n",
        "        x = token_list[0]\n",
        "        if not isinstance(x, int):\n",
        "            return None\n",
        "        del token_list[0]\n",
        "        return Tree(x, None, None)"
      ]
    },
    {
      "cell_type": "code",
      "execution_count": 33,
      "metadata": {
        "id": "IYA7i6viL-aq",
        "outputId": "16f133ab-7b53-46a0-d1fb-594f8ab3a5ca",
        "colab": {
          "base_uri": "https://localhost:8080/"
        }
      },
      "outputs": [
        {
          "output_type": "stream",
          "name": "stdout",
          "text": [
            "9 11 5 + 7 * * "
          ]
        }
      ],
      "source": [
        "token_list = [9, \"*\", \"(\", 11, \"+\", 5, \")\", \"*\", 7, \"end\"]\n",
        "tree = get_sum(token_list)\n",
        "postorder(tree)"
      ]
    },
    {
      "cell_type": "markdown",
      "metadata": {
        "id": "mYcQjFHdL-aq"
      },
      "source": [
        "## Ejercicios propuestos:"
      ]
    },
    {
      "cell_type": "markdown",
      "metadata": {
        "id": "yaMwYVB1L-aq"
      },
      "source": [
        "1. Modifique la función inorder para que ponga paréntesis alrededor de cada operador y par de operandos. ¿La salida es correcta y sin ambigüedades? ¿Son siempre necesarios los paréntesis?"
      ]
    },
    {
      "cell_type": "markdown",
      "metadata": {
        "id": "OC51BDSQL-aq"
      },
      "source": [
        "\n",
        "\n",
        "2. Escriba una función que tome una cadena de expresión y devuelva una lista de tokens."
      ]
    },
    {
      "cell_type": "markdown",
      "metadata": {
        "id": "cr0sQLtyL-ar"
      },
      "source": [
        "3. Encuentre otros lugares en las funciones del árbol de expresión donde pueden ocurrir errores y agregue declaraciones de elevación apropiadas. Pruebe su código con expresiones mal formadas."
      ]
    },
    {
      "cell_type": "code",
      "execution_count": null,
      "metadata": {
        "id": "rr-vn9q3L-ar"
      },
      "outputs": [],
      "source": []
    }
  ],
  "metadata": {
    "kernelspec": {
      "display_name": "Python 3",
      "language": "python",
      "name": "python3"
    },
    "language_info": {
      "codemirror_mode": {
        "name": "ipython",
        "version": 3
      },
      "file_extension": ".py",
      "mimetype": "text/x-python",
      "name": "python",
      "nbconvert_exporter": "python",
      "pygments_lexer": "ipython3",
      "version": "3.7.3"
    },
    "colab": {
      "provenance": [],
      "include_colab_link": true
    }
  },
  "nbformat": 4,
  "nbformat_minor": 0
}