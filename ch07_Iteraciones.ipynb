{
  "cells": [
    {
      "cell_type": "markdown",
      "metadata": {
        "id": "view-in-github",
        "colab_type": "text"
      },
      "source": [
        "<a href=\"https://colab.research.google.com/github/SofiaCR2/Python-basico-intermedio/blob/main/ch07_Iteraciones.ipynb\" target=\"_parent\"><img src=\"https://colab.research.google.com/assets/colab-badge.svg\" alt=\"Open In Colab\"/></a>"
      ]
    },
    {
      "cell_type": "markdown",
      "metadata": {
        "id": "DsDwNO4qv_37"
      },
      "source": [
        "# 5 Iteraciones\n",
        "- http://openbookproject.net/thinkcs/python/english3e/iteration.html\n",
        "\n",
        "## Temas\n",
        "- ¿Qué es iteración/bucle y por qué lo necesitamos?\n",
        "- tipos de bucles y sus sintaxis\n",
        "- varias palabras clave utilizadas con bucles\n",
        "- aplicaciones rápidas\n",
        "\n",
        "## 5.1 Iteraciones / Bucles\n",
        "- las iteraciones también se llaman bucles\n",
        "- la vida está llena de bucles; rutinas diarias como ir a la universidad, cocinar, cortar verduras, etc.\n",
        "- los bucles hacen que la computadora ejecute repetidamente algún bloque de código\n",
        "- trabajar con bucle tiene trabajo de preparación para iniciarlo y alguna condición para finalizarlo\n",
        "- dos tipos de bucles: **for** y **while**\n",
        "     - algunas palabras clave que pueden aparecer en bucles:\n",
        "      **for, while, break, continue, in, for... else, while... else**\n",
        "  \n",
        "### Rebana una zanahoria\n",
        "1. Consigue una tabla de cortar\n",
        "2. Consigue un cuchillo\n",
        "3. Consigue una zanahoria\n",
        "4. Coloque la zanahoria en la tabla de cortar\n",
        "5. Levante el cuchillo\n",
        "6. Corta la zanahoria\n",
        "7. Genera una rodaja de zanahoria\n",
        "8. Si solo ve su dedo, salga\n",
        "9. De lo contrario, vaya al paso 4\n",
        "    \n",
        "    \n",
        "- ¡Los pasos 4-8 forman un bucle!\n",
        "- pasos 1-3 preparación\n",
        "- el paso 8 verifica la condición para finalizar el ciclo\n",
        "- los pasos 4-7 son tareas que necesitan ser iteradas\n"
      ]
    },
    {
      "cell_type": "markdown",
      "metadata": {
        "id": "Cn2_GVWvv_38"
      },
      "source": [
        "## 5.2 for loop\n",
        "- Usa un rango de valores\n",
        "- Sintaxis\n",
        "```python\n",
        "for val in rangeofValues:\n",
        "    # loop body\n",
        "```\n",
        "- Útil cuando sabe exactamente cuántas veces se debe ejecutar el ciclo\n",
        "- Se usa comúnmente con la función de  **range( )**\n",
        "- Normalmente las variables **i**, **j**, etc. se utilizan como contadores de bucle"
      ]
    },
    {
      "cell_type": "code",
      "execution_count": null,
      "metadata": {
        "colab": {
          "base_uri": "https://localhost:8080/"
        },
        "id": "Hwv8KhoGv_39",
        "outputId": "45f5ff5f-0c7a-4999-dfc6-5770cf22d1de"
      },
      "outputs": [
        {
          "output_type": "stream",
          "name": "stdout",
          "text": [
            "Help on class range in module builtins:\n",
            "\n",
            "class range(object)\n",
            " |  range(stop) -> range object\n",
            " |  range(start, stop[, step]) -> range object\n",
            " |  \n",
            " |  Return an object that produces a sequence of integers from start (inclusive)\n",
            " |  to stop (exclusive) by step.  range(i, j) produces i, i+1, i+2, ..., j-1.\n",
            " |  start defaults to 0, and stop is omitted!  range(4) produces 0, 1, 2, 3.\n",
            " |  These are exactly the valid indices for a list of 4 elements.\n",
            " |  When step is given, it specifies the increment (or decrement).\n",
            " |  \n",
            " |  Methods defined here:\n",
            " |  \n",
            " |  __bool__(self, /)\n",
            " |      True if self else False\n",
            " |  \n",
            " |  __contains__(self, key, /)\n",
            " |      Return key in self.\n",
            " |  \n",
            " |  __eq__(self, value, /)\n",
            " |      Return self==value.\n",
            " |  \n",
            " |  __ge__(self, value, /)\n",
            " |      Return self>=value.\n",
            " |  \n",
            " |  __getattribute__(self, name, /)\n",
            " |      Return getattr(self, name).\n",
            " |  \n",
            " |  __getitem__(self, key, /)\n",
            " |      Return self[key].\n",
            " |  \n",
            " |  __gt__(self, value, /)\n",
            " |      Return self>value.\n",
            " |  \n",
            " |  __hash__(self, /)\n",
            " |      Return hash(self).\n",
            " |  \n",
            " |  __iter__(self, /)\n",
            " |      Implement iter(self).\n",
            " |  \n",
            " |  __le__(self, value, /)\n",
            " |      Return self<=value.\n",
            " |  \n",
            " |  __len__(self, /)\n",
            " |      Return len(self).\n",
            " |  \n",
            " |  __lt__(self, value, /)\n",
            " |      Return self<value.\n",
            " |  \n",
            " |  __ne__(self, value, /)\n",
            " |      Return self!=value.\n",
            " |  \n",
            " |  __reduce__(...)\n",
            " |      Helper for pickle.\n",
            " |  \n",
            " |  __repr__(self, /)\n",
            " |      Return repr(self).\n",
            " |  \n",
            " |  __reversed__(...)\n",
            " |      Return a reverse iterator.\n",
            " |  \n",
            " |  count(...)\n",
            " |      rangeobject.count(value) -> integer -- return number of occurrences of value\n",
            " |  \n",
            " |  index(...)\n",
            " |      rangeobject.index(value) -> integer -- return index of value.\n",
            " |      Raise ValueError if the value is not present.\n",
            " |  \n",
            " |  ----------------------------------------------------------------------\n",
            " |  Static methods defined here:\n",
            " |  \n",
            " |  __new__(*args, **kwargs) from builtins.type\n",
            " |      Create and return a new object.  See help(type) for accurate signature.\n",
            " |  \n",
            " |  ----------------------------------------------------------------------\n",
            " |  Data descriptors defined here:\n",
            " |  \n",
            " |  start\n",
            " |  \n",
            " |  step\n",
            " |  \n",
            " |  stop\n",
            "\n"
          ]
        }
      ],
      "source": [
        "# aprendiendo acerca de range()\n",
        "help(range)"
      ]
    },
    {
      "cell_type": "code",
      "execution_count": null,
      "metadata": {
        "colab": {
          "base_uri": "https://localhost:8080/"
        },
        "id": "Ra7ICpAKv_39",
        "outputId": "da54f0e3-49bf-4b3c-952e-5d8a99b69fd9"
      },
      "outputs": [
        {
          "output_type": "execute_result",
          "data": {
            "text/plain": [
              "[0, 1, 2, 3, 4, 5, 6, 7, 8, 9]"
            ]
          },
          "metadata": {},
          "execution_count": 5
        }
      ],
      "source": [
        "# convierte en un rango, una lista de valores\n",
        "# se aprenderá sobre las listas en la clase siguiente\n",
        "list(range(10))"
      ]
    },
    {
      "cell_type": "code",
      "execution_count": null,
      "metadata": {
        "colab": {
          "base_uri": "https://localhost:8080/"
        },
        "id": "kUiIqTfuv_3-",
        "outputId": "e1990099-8361-4591-f195-d1fc6de22f8b"
      },
      "outputs": [
        {
          "output_type": "execute_result",
          "data": {
            "text/plain": [
              "[1, 2, 3, 4, 5, 6, 7, 8, 9, 10]"
            ]
          },
          "metadata": {},
          "execution_count": 6
        }
      ],
      "source": [
        "list(range(1, 11))"
      ]
    },
    {
      "cell_type": "code",
      "execution_count": null,
      "metadata": {
        "colab": {
          "base_uri": "https://localhost:8080/"
        },
        "id": "6GDyDAXYv_3-",
        "outputId": "7db937c6-81b9-4d2d-ea94-8f8264416461"
      },
      "outputs": [
        {
          "output_type": "execute_result",
          "data": {
            "text/plain": [
              "[1, 3, 5, 7, 9]"
            ]
          },
          "metadata": {},
          "execution_count": 7
        }
      ],
      "source": [
        "# Generar el avance de 2 en 2 a partir del elemento 1\n",
        "list(range(1, 11, 2))"
      ]
    },
    {
      "cell_type": "code",
      "execution_count": null,
      "metadata": {
        "id": "iqdwKYbAv_3-",
        "outputId": "f3267c63-4136-4874-e624-c892e35b29ca",
        "colab": {
          "base_uri": "https://localhost:8080/"
        }
      },
      "outputs": [
        {
          "output_type": "stream",
          "name": "stdout",
          "text": [
            "1 hello world\n",
            "3 hello world\n",
            "5 hello world\n",
            "7 hello world\n",
            "9 hello world\n"
          ]
        }
      ],
      "source": [
        "# Imprimir hello world n cantidad de veces!\n",
        "for i in range(1, 11, 2):\n",
        "    print(i, 'hello world')"
      ]
    },
    {
      "cell_type": "markdown",
      "metadata": {
        "id": "bpxXuEGzv_3-"
      },
      "source": [
        "### [Visualize with PythonTutor.com](http://pythontutor.com/visualize.html#code=for%20i%20in%20range%281,%205%29%3A%0A%20%20%20%20print%28i,%20'hello%20world'%29&cumulative=false&curInstr=0&heapPrimitives=false&mode=display&origin=opt-frontend.js&py=3&rawInputLstJSON=%5B%5D&textReferences=false)"
      ]
    },
    {
      "cell_type": "code",
      "execution_count": null,
      "metadata": {
        "colab": {
          "base_uri": "https://localhost:8080/"
        },
        "id": "oF_W3qn0v_3-",
        "outputId": "cf41e86e-6fcb-48da-c87b-56a5317624bd"
      },
      "outputs": [
        {
          "output_type": "stream",
          "name": "stdout",
          "text": [
            "0\n",
            "1\n",
            "2\n",
            "3\n",
            "4\n",
            "5\n",
            "6\n",
            "7\n",
            "8\n",
            "9\n",
            "10\n",
            "11\n",
            "12\n",
            "13\n",
            "14\n",
            "15\n",
            "16\n",
            "17\n",
            "18\n",
            "19\n",
            "done\n"
          ]
        }
      ],
      "source": [
        "for num in range(20):\n",
        "    print(num)\n",
        "\n",
        "\n",
        "print('done')"
      ]
    },
    {
      "cell_type": "markdown",
      "metadata": {
        "id": "0rUpAipGv_3-"
      },
      "source": [
        "### continue loop\n",
        "- La instrucción **continue**  salta el resto del ciclo actual cuando se ejecuta continuar"
      ]
    },
    {
      "cell_type": "code",
      "execution_count": null,
      "metadata": {
        "id": "fuYMOld5v_3-",
        "colab": {
          "base_uri": "https://localhost:8080/"
        },
        "outputId": "a91abe29-63f8-40c0-a2d1-bb886b217ab5"
      },
      "outputs": [
        {
          "output_type": "stream",
          "name": "stdout",
          "text": [
            "1\n",
            "3\n",
            "5\n",
            "7\n",
            "9\n"
          ]
        }
      ],
      "source": [
        "# for loop example - continue\n",
        "for i in range(1, 11): # range ... 1...10\n",
        "    if i%2 == 0:\n",
        "        continue\n",
        "    print(i)"
      ]
    },
    {
      "cell_type": "markdown",
      "metadata": {
        "id": "FhAxeAVGv_3_"
      },
      "source": [
        "### [Visualize with PythonTutor.com](http://pythontutor.com/visualize.html#code=%23%20for%20loop%20example%20-%20continue%0Afor%20i%20in%20range%281,%2011%29%3A%20%23%20range%20...%201...10%0A%20%20%20%20if%20i%252%20%3D%3D%200%3A%0A%20%20%20%20%20%20%20%20continue%0A%20%20%20%20print%28i%29&cumulative=false&curInstr=0&heapPrimitives=false&mode=display&origin=opt-frontend.js&py=3&rawInputLstJSON=%5B%5D&textReferences=false)\n",
        "\n",
        "### break loop\n",
        "- La instrucción **break** se usa para romper un bucle.\n",
        "- rompe o sale del bucle inmediatamente\n",
        "- ¡El resto del bucle actual y otros bucles no se ejecutarán!"
      ]
    },
    {
      "cell_type": "code",
      "execution_count": null,
      "metadata": {
        "colab": {
          "base_uri": "https://localhost:8080/"
        },
        "id": "0I6SGk5Iv_3_",
        "outputId": "baca8506-0b82-4676-f93f-8d6155e36a9d"
      },
      "outputs": [
        {
          "output_type": "stream",
          "name": "stdout",
          "text": [
            "0\n",
            "1\n",
            "2\n",
            "3\n",
            "4\n",
            "done\n"
          ]
        }
      ],
      "source": [
        "# Ejemplo de for loop  - break\n",
        "for i in range(10):\n",
        "    if i == 5:\n",
        "        break\n",
        "    print(i)\n",
        "\n",
        "print('done')"
      ]
    },
    {
      "cell_type": "markdown",
      "metadata": {
        "id": "-iiTSjsIv_3_"
      },
      "source": [
        "## 5.4 for ... else\n",
        "- puede escribir una declaración else opcional con bucle for\n",
        "- la cláusula else se ejecuta cuando el ciclo se completa normalmente\n",
        "     - esto significa que el ciclo no encontró ninguna instrucción **break**"
      ]
    },
    {
      "cell_type": "code",
      "execution_count": null,
      "metadata": {
        "colab": {
          "base_uri": "https://localhost:8080/"
        },
        "id": "CyIGdHkTv_3_",
        "outputId": "c1876476-9678-4dcc-8418-cfb7ca5145e5"
      },
      "outputs": [
        {
          "output_type": "stream",
          "name": "stdout",
          "text": [
            "0\n",
            "1\n",
            "3\n",
            "4\n",
            "end!\n"
          ]
        }
      ],
      "source": [
        "for i in range(5):\n",
        "    if i == 2:\n",
        "        continue\n",
        "    print(i)\n",
        "else:\n",
        "    print('end!')"
      ]
    },
    {
      "cell_type": "code",
      "execution_count": null,
      "metadata": {
        "colab": {
          "base_uri": "https://localhost:8080/"
        },
        "id": "lrFk7kwGv_3_",
        "outputId": "fd4d2b12-928c-403f-ebb6-11afd588a2a1"
      },
      "outputs": [
        {
          "output_type": "stream",
          "name": "stdout",
          "text": [
            "0\n",
            "1\n"
          ]
        }
      ],
      "source": [
        "for i in range(5):\n",
        "    if i == 2:\n",
        "        break\n",
        "    print(i)\n",
        "else:\n",
        "    print('end!')"
      ]
    },
    {
      "cell_type": "code",
      "execution_count": null,
      "metadata": {
        "colab": {
          "base_uri": "https://localhost:8080/"
        },
        "id": "IwVAgWdjv_3_",
        "outputId": "4608cb4c-ec77-4a91-8872-d96f07e86a14"
      },
      "outputs": [
        {
          "output_type": "stream",
          "name": "stdout",
          "text": [
            "97 is prime\n"
          ]
        }
      ],
      "source": [
        "# Ejemplo de for... else\n",
        "# Escribir un programa para probar si un número dado es primo\n",
        "n = 97\n",
        "#isPrime = True\n",
        "for i in range(2, n//2+1):\n",
        "    if n%i == 0:\n",
        "        #isPrime = False\n",
        "        print(n, ' is not prime')\n",
        "        break\n",
        "else:\n",
        "    print(n, 'is prime')"
      ]
    },
    {
      "cell_type": "markdown",
      "metadata": {
        "id": "tjMYKKJiv_3_"
      },
      "source": [
        "## 5.5 Bucle -->while loop\n",
        "- while loop se usa cuando no está seguro de cuántas veces se debe ejecutar el bucle\n",
        "- puede ejecutar 0 o muchas veces!\n",
        "- for loop y while loop se pueden usar indistintamente\n",
        "- sintaxis:\n",
        "``` python\n",
        "while condition:\n",
        "    # loop body\n",
        "```"
      ]
    },
    {
      "cell_type": "code",
      "execution_count": null,
      "metadata": {
        "colab": {
          "base_uri": "https://localhost:8080/"
        },
        "id": "gbGTmS3cv_3_",
        "outputId": "1199fa03-92c8-4e8d-bf2a-f1436981cb09"
      },
      "outputs": [
        {
          "output_type": "stream",
          "name": "stdout",
          "text": [
            "hello\n",
            "hello\n",
            "hello\n",
            "hello\n",
            "hello\n",
            "hello\n",
            "hello\n",
            "hello\n",
            "hello\n",
            "hello\n",
            "hello\n",
            "hello\n",
            "hello\n",
            "hello\n",
            "hello\n",
            "hello\n",
            "hello\n",
            "hello\n",
            "hello\n",
            "hello\n"
          ]
        }
      ],
      "source": [
        "# infinite loop - will never stop\n",
        "while True:\n",
        "    print('hello')\n",
        "    i+=1\n",
        "    if i == 20:\n",
        "      break"
      ]
    },
    {
      "cell_type": "code",
      "execution_count": null,
      "metadata": {
        "id": "KQlJz_Dwv_4A",
        "colab": {
          "base_uri": "https://localhost:8080/"
        },
        "outputId": "d9db5787-edbf-40ad-be88-1117bf5feffb"
      },
      "outputs": [
        {
          "output_type": "stream",
          "name": "stdout",
          "text": [
            "1 Hello World\n",
            "2 Hello World\n",
            "3 Hello World\n",
            "4 Hello World\n",
            "5 Hello World\n"
          ]
        }
      ],
      "source": [
        "i = 1\n",
        "while i <= 5:\n",
        "    print(i, 'Hello World')\n",
        "    i += 1"
      ]
    },
    {
      "cell_type": "markdown",
      "metadata": {
        "id": "AOmYkcfWv_4A"
      },
      "source": [
        "### [Visualize with PythonTutor.com](http://pythontutor.com/visualize.html#code=i%20%3D%201%0Awhile%20i%20%3C%3D%205%3A%0A%20%20%20%20print%28i,%20'Hello%20World'%29%0A%20%20%20%20i%20%2B%3D%201&cumulative=false&curInstr=0&heapPrimitives=false&mode=display&origin=opt-frontend.js&py=3&rawInputLstJSON=%5B%5D&textReferences=false)"
      ]
    },
    {
      "cell_type": "markdown",
      "metadata": {
        "id": "rw9uci8jv_4A"
      },
      "source": [
        "### 5.6 While loop applications\n",
        "- los bucles tienen muchas aplicaciones en la codificación\n",
        "\n",
        "### validación de entrada\n",
        "- los tipos de datos y los valores deben validarse a menudo para obtener resultados correctos\n",
        "- while loop se puede usar para la validación de entrada"
      ]
    },
    {
      "cell_type": "code",
      "execution_count": null,
      "metadata": {
        "id": "pg0gwY7Cv_4A",
        "colab": {
          "base_uri": "https://localhost:8080/"
        },
        "outputId": "203ec2ce-6fba-44c8-d1fd-5b3e8e7f9921"
      },
      "outputs": [
        {
          "name": "stdout",
          "output_type": "stream",
          "text": [
            "Introduce tu número: 3.5\n",
            "Número no válido!\n",
            "Introduce tu número: 3.0\n",
            "Número no válido!\n",
            "Introduce tu número: 3\n"
          ]
        }
      ],
      "source": [
        "# si no estoy seguro de cuándo el usuario lo pueda usar correctamente...\n",
        "# al menos 1 intento; podría ser más!!!\n",
        "while True:\n",
        "    number = input('Introduce tu número: ')\n",
        "    if not number.isdigit():\n",
        "        print('Número no válido!')\n",
        "        continue\n",
        "    number = int(number)\n",
        "    break"
      ]
    },
    {
      "cell_type": "code",
      "execution_count": null,
      "metadata": {
        "id": "rgIMU0nCv_4A",
        "colab": {
          "base_uri": "https://localhost:8080/"
        },
        "outputId": "662bf9e1-efea-4a86-877a-3f5bd1fb0c61"
      },
      "outputs": [
        {
          "output_type": "stream",
          "name": "stdout",
          "text": [
            "You entered 3\n"
          ]
        }
      ],
      "source": [
        "print(f'You entered {number}')"
      ]
    },
    {
      "cell_type": "markdown",
      "metadata": {
        "id": "6oYlCqCBv_4A"
      },
      "source": [
        "### countdown\n",
        "- ejecutar la cuenta regresiva como un script\n",
        "- time.sleep(secs)\n",
        "- os.system('clear'); os.name ==  'posix', 'nt', 'mac', 'os2', 'ce', 'java', 'riscos'"
      ]
    },
    {
      "cell_type": "code",
      "execution_count": null,
      "metadata": {
        "id": "pw4SAzBKv_4A",
        "colab": {
          "base_uri": "https://localhost:8080/"
        },
        "outputId": "0d59bcc2-903f-4241-dd9d-6ebfd76eebf2"
      },
      "outputs": [
        {
          "output_type": "stream",
          "name": "stdout",
          "text": [
            "10\n",
            "9\n",
            "8\n",
            "7\n",
            "6\n",
            "5\n",
            "4\n",
            "3\n",
            "2\n",
            "1\n",
            "Feliz año nuevo!\n"
          ]
        }
      ],
      "source": [
        "# while loop - countdown\n",
        "import time\n",
        "import os\n",
        "\n",
        "def clearScreen():\n",
        "    if os.name == 'nt':\n",
        "        os.system('cls')\n",
        "    else:\n",
        "        os.system('clear')\n",
        "\n",
        "i = 10\n",
        "while i >= 1:\n",
        "    print(i)\n",
        "    time.sleep(1) # sleep por 1 segundo\n",
        "    clearScreen()\n",
        "    i -= 1\n",
        "\n",
        "#time.sleep(1)\n",
        "print('Feliz año nuevo!')"
      ]
    },
    {
      "cell_type": "markdown",
      "metadata": {
        "id": "66gLyyn0v_4A"
      },
      "source": [
        "## 5.7 while... else\n",
        "- La cláusula opcional **else** se ejecuta cuando el bucle se ejecuta normalmente.\n",
        "     - esto significa que el ciclo no encontró ninguna instrucción **break**"
      ]
    },
    {
      "cell_type": "code",
      "execution_count": null,
      "metadata": {
        "id": "1M0QW8sQv_4A",
        "colab": {
          "base_uri": "https://localhost:8080/"
        },
        "outputId": "40020fc0-78b5-4bb6-fe31-92e894e75311"
      },
      "outputs": [
        {
          "output_type": "stream",
          "name": "stdout",
          "text": [
            "Hello\n"
          ]
        }
      ],
      "source": [
        "while True:\n",
        "    print('Hello')\n",
        "    break\n",
        "else:\n",
        "    print(\"Look didn't encounter break\")"
      ]
    },
    {
      "cell_type": "code",
      "execution_count": null,
      "metadata": {
        "id": "ZswshKQ8v_4A",
        "colab": {
          "base_uri": "https://localhost:8080/"
        },
        "outputId": "0f9599c3-d0f7-4590-93fc-4d161b1274e0"
      },
      "outputs": [
        {
          "output_type": "stream",
          "name": "stdout",
          "text": [
            "1\n",
            "2\n",
            "3\n",
            "4\n",
            "Look didn't encounter break\n"
          ]
        }
      ],
      "source": [
        "count = 1\n",
        "while count < 5:\n",
        "    print(count)\n",
        "    count += 1\n",
        "else:\n",
        "    print(\"Look didn't encounter break\")"
      ]
    },
    {
      "cell_type": "markdown",
      "metadata": {
        "id": "pQmWIfc2v_4A"
      },
      "source": [
        "## 5.8 Ejercicios\n"
      ]
    },
    {
      "cell_type": "markdown",
      "source": [
        "Ejemplo 1. Imprime cada fruta en una lista de frutas:"
      ],
      "metadata": {
        "id": "NgIOc2nOLWPX"
      }
    },
    {
      "cell_type": "code",
      "source": [
        "fruits = [\"manzana\", \"platano\", \"cereza\"]\n",
        "contador = 0\n",
        "\n",
        "for i in fruits:\n",
        "  contador += 1\n",
        "  print(f'La fruta {contador} es: {i}')\n"
      ],
      "metadata": {
        "colab": {
          "base_uri": "https://localhost:8080/"
        },
        "id": "VR5EiTBVLVwv",
        "outputId": "b6aba1fa-0853-44d6-f582-9eb4a78240e3"
      },
      "execution_count": null,
      "outputs": [
        {
          "output_type": "stream",
          "name": "stdout",
          "text": [
            "La fruta 1 es: manzana\n",
            "La fruta 2 es: platano\n",
            "La fruta 3 es: cereza\n"
          ]
        }
      ]
    },
    {
      "cell_type": "markdown",
      "source": [
        "Ejercicio: Ajustar el código para que pinte"
      ],
      "metadata": {
        "id": "lqmUY_zuMc-b"
      }
    },
    {
      "cell_type": "code",
      "source": [
        "adj = [\"roja\", \"grande\", \"dulce\"]\n",
        "fruits = [\"manzana\", \"platano\", \"cereza\"]\n",
        "\n",
        "for j in adj:\n",
        "  for k in fruits:\n",
        "    print(j,k)\n"
      ],
      "metadata": {
        "colab": {
          "base_uri": "https://localhost:8080/"
        },
        "id": "AGmvEWCVMRZY",
        "outputId": "feabb2a8-1a6a-41b1-a33e-1a21f450821c"
      },
      "execution_count": null,
      "outputs": [
        {
          "output_type": "stream",
          "name": "stdout",
          "text": [
            "roja manzana\n",
            "roja platano\n",
            "roja cereza\n",
            "grande manzana\n",
            "grande platano\n",
            "grande cereza\n",
            "dulce manzana\n",
            "dulce platano\n",
            "dulce cereza\n"
          ]
        }
      ]
    },
    {
      "cell_type": "code",
      "source": [
        "adj = [\"roja\", \"grande\", \"dulce\"]\n",
        "fruits = [\"manzana\", \"platano\", \"cereza\"]\n",
        "i = 0\n",
        "j = 0\n",
        "contador_i = 1\n",
        "contador_j = 0\n",
        "\n",
        "for j in adj:\n",
        "  contador_j += 1\n",
        "  for i in fruits:\n",
        "    print(f'Fruta ({contador_j},{contador_i}): {j}, {i}')\n",
        "    contador_i += 1"
      ],
      "metadata": {
        "colab": {
          "base_uri": "https://localhost:8080/"
        },
        "id": "JkziziTcL0e7",
        "outputId": "c08e92c2-8d26-471f-e973-baf5df30e2cc"
      },
      "execution_count": null,
      "outputs": [
        {
          "output_type": "stream",
          "name": "stdout",
          "text": [
            "Fruta (1,1): roja, manzana\n",
            "Fruta (1,2): roja, platano\n",
            "Fruta (1,3): roja, cereza\n",
            "Fruta (2,4): grande, manzana\n",
            "Fruta (2,5): grande, platano\n",
            "Fruta (2,6): grande, cereza\n",
            "Fruta (3,7): dulce, manzana\n",
            "Fruta (3,8): dulce, platano\n",
            "Fruta (3,9): dulce, cereza\n"
          ]
        }
      ]
    },
    {
      "cell_type": "markdown",
      "source": [
        "Ejercicio A.Escribir un programa que pregunte al usuario su edad y muestre por pantalla todos los años que ha cumplido (desde 1 hasta su edad).\n",
        "\n",
        "¿Cuántos años tienes?  5\n",
        "\n",
        "Has cumplido 1 años\n",
        "\n",
        "Has cumplido 2 años\n",
        "\n",
        "Has cumplido 3 años\n",
        "\n",
        "Has cumplido 4 años\n",
        "\n",
        "Has cumplido 5 años\n"
      ],
      "metadata": {
        "id": "qDN7-8ztSE41"
      }
    },
    {
      "cell_type": "code",
      "source": [
        "edad = int(input(\"¿Cuántos años tienes? \"))\n",
        "for i in range(1,edad+1):\n",
        "  print(f'Has cumplido {i} años')"
      ],
      "metadata": {
        "id": "39l6sSMUST36",
        "outputId": "00de58d2-d340-4227-ba7a-85e48de3acdd",
        "colab": {
          "base_uri": "https://localhost:8080/"
        }
      },
      "execution_count": null,
      "outputs": [
        {
          "output_type": "stream",
          "name": "stdout",
          "text": [
            "¿Cuántos años tienes? 5\n",
            "Has cumplido 1 años\n",
            "Has cumplido 2 años\n",
            "Has cumplido 3 años\n",
            "Has cumplido 4 años\n",
            "Has cumplido 5 años\n"
          ]
        }
      ]
    },
    {
      "cell_type": "code",
      "source": [
        "edad1 = int(input(\"¿Cuántos años tienes? \"))\n",
        "for i in range(1,edad1+1):\n",
        "  print(f'Ha cumplido {i} años')"
      ],
      "metadata": {
        "colab": {
          "base_uri": "https://localhost:8080/"
        },
        "id": "kuA5ixYNIKqp",
        "outputId": "9d8f6e03-2688-4498-bf54-8a2536a24153"
      },
      "execution_count": null,
      "outputs": [
        {
          "output_type": "stream",
          "name": "stdout",
          "text": [
            "¿Cuántos años tienes? 8\n",
            "Ha cumplido 1 años\n",
            "Ha cumplido 2 años\n",
            "Ha cumplido 3 años\n",
            "Ha cumplido 4 años\n",
            "Ha cumplido 5 años\n",
            "Ha cumplido 6 años\n",
            "Ha cumplido 7 años\n",
            "Ha cumplido 8 años\n"
          ]
        }
      ]
    },
    {
      "cell_type": "markdown",
      "source": [
        "Ejercicio A2. Realiza un programa que solicita al usuario ingresar números hasta que ingrese 0, luego muestra la suma de los números ingresados.\n"
      ],
      "metadata": {
        "id": "IK28e2x_Iid9"
      }
    },
    {
      "cell_type": "code",
      "source": [
        "suma = 0\n",
        "\n",
        "while True:\n",
        "  numeros = int(input('Ingrese un numero: '))\n",
        "  if numeros == 0:\n",
        "    print(suma)\n",
        "    break\n",
        "  else:\n",
        "    suma = suma + numeros\n",
        "print(f'La suma es: {suma}')"
      ],
      "metadata": {
        "colab": {
          "base_uri": "https://localhost:8080/"
        },
        "id": "yZc7rxJmIhzd",
        "outputId": "23bf02f7-e0da-4848-e95e-e2867d82ff07"
      },
      "execution_count": null,
      "outputs": [
        {
          "output_type": "stream",
          "name": "stdout",
          "text": [
            "Ingrese un numero: 5\n",
            "Ingrese un numero: 9\n",
            "Ingrese un numero: 7\n",
            "Ingrese un numero: 0\n",
            "21\n",
            "La suma es: 21\n"
          ]
        }
      ]
    },
    {
      "cell_type": "code",
      "source": [
        "suma = 0\n",
        "numero = None\n",
        "\n",
        "while numero !=0:\n",
        "  numero = int(input('Ingrese un numero: '))\n",
        "  suma +=numero\n",
        "print(f'La suma es: {suma}')"
      ],
      "metadata": {
        "id": "vF4QMLRGl0PO",
        "outputId": "96aa7aed-dd12-4a40-9189-493117930e1a",
        "colab": {
          "base_uri": "https://localhost:8080/"
        }
      },
      "execution_count": null,
      "outputs": [
        {
          "output_type": "stream",
          "name": "stdout",
          "text": [
            "Ingrese un numero: 5\n",
            "Ingrese un numero: 0\n",
            "La suma es: 5\n"
          ]
        }
      ]
    },
    {
      "cell_type": "markdown",
      "source": [
        "\n",
        "Ejercicio B.\n",
        "Árbol de navidad en Python. Imprime un árbol de navidad formado con * haciendo uso del while y de la multiplicación de un entero por una cadena, cuyo resultado en Python es replicar la cadena."
      ],
      "metadata": {
        "id": "NcVixJ3WSISO"
      }
    },
    {
      "cell_type": "code",
      "source": [
        "z = 7\n",
        "x = 1\n",
        "while z > 0:\n",
        "    print(' ' * z + '*' * x + ' ' * z)\n",
        "    x+=2\n",
        "    z-=1"
      ],
      "metadata": {
        "id": "UjZc9-MCT_jd",
        "outputId": "6c1f54d8-37e7-40dd-e31d-5dcdb20a31c7",
        "colab": {
          "base_uri": "https://localhost:8080/"
        }
      },
      "execution_count": null,
      "outputs": [
        {
          "output_type": "stream",
          "name": "stdout",
          "text": [
            "       *       \n",
            "      ***      \n",
            "     *****     \n",
            "    *******    \n",
            "   *********   \n",
            "  ***********  \n",
            " ************* \n"
          ]
        }
      ]
    },
    {
      "cell_type": "markdown",
      "metadata": {
        "id": "ls4hM0SQv_4B"
      },
      "source": [
        "Ejercicio 2. Escribir un programa para contar el número de dígitos 0 o 5 en un entero positivo."
      ]
    },
    {
      "cell_type": "code",
      "execution_count": null,
      "metadata": {
        "id": "7XLkGJkQv_4B",
        "colab": {
          "base_uri": "https://localhost:8080/"
        },
        "outputId": "000b8071-bdec-45dc-c175-cbdf4f6ff57d"
      },
      "outputs": [
        {
          "output_type": "stream",
          "name": "stdout",
          "text": [
            "There are 1 zero(s) and 3 five(s) digits in 12345505.\n"
          ]
        }
      ],
      "source": [
        "# solución 1\n",
        "# convertir un entero positivo en una cadena y analizar un carácter a la vez\n",
        "n = 12345505\n",
        "n = str(n)\n",
        "count0 = 0\n",
        "count5 = 0\n",
        "for c in n:\n",
        "    if c == '0':\n",
        "        count0 += 1\n",
        "    elif c == '5':\n",
        "        count5 += 1\n",
        "print('There are {} zero(s) and {} five(s) digits in {}.'.format(count0, count5, n))"
      ]
    },
    {
      "cell_type": "markdown",
      "metadata": {
        "id": "g9qjigL1v_4B"
      },
      "source": [
        "Ejercicio 2.1. Convierta el ejercicio 2 en una función y escriba al menos 2 casos de prueba"
      ]
    },
    {
      "cell_type": "code",
      "source": [
        "def entero_cadena(n):\n",
        "  n_str = str(n)\n",
        "  count0 = 0\n",
        "  count5 = 0\n",
        "  for c in n_str:\n",
        "    if c == '0':\n",
        "        count0 += 1\n",
        "    elif c == '5':\n",
        "        count5 += 1\n",
        "  return (count0, count5)"
      ],
      "metadata": {
        "id": "JT1ZH6bJ_89P"
      },
      "execution_count": null,
      "outputs": []
    },
    {
      "cell_type": "code",
      "source": [
        "entero_cadena(12345505)"
      ],
      "metadata": {
        "colab": {
          "base_uri": "https://localhost:8080/"
        },
        "id": "vVYFeJQnATA4",
        "outputId": "af638cc8-9882-4df7-8193-c9c7160cf4a9"
      },
      "execution_count": null,
      "outputs": [
        {
          "output_type": "execute_result",
          "data": {
            "text/plain": [
              "(1, 3)"
            ]
          },
          "metadata": {},
          "execution_count": 5
        }
      ]
    },
    {
      "cell_type": "markdown",
      "metadata": {
        "id": "L1dEygl6v_4B"
      },
      "source": [
        "Ejercicio 3. Programa FizzBuzz - Escribe un programa que imprima números entre 1 y 100 con los siguientes requisitos.\n",
        "\n",
        "- Si el número es divisible por 3, imprime 'Fizz'.\n",
        "\n",
        "- Si el número es divisible por 5, imprime 'Buzz'.\n",
        "- Si el número es divisible por 3 y 5, imprime 'FizzBuzz'."
      ]
    },
    {
      "cell_type": "code",
      "source": [
        "for i in range(1,101):\n",
        "  if i%3 == 0:\n",
        "    print(f'{i}: Fizz')\n",
        "  elif i%5 == 0:\n",
        "    print(f'{i}: Buzz')\n",
        "  elif i%3 == 0 and i%5 == 0:\n",
        "    print(f'{i}: FizzBuzz')\n",
        "  else:\n",
        "    print(i)"
      ],
      "metadata": {
        "id": "1qmRdsMMDrDR"
      },
      "execution_count": null,
      "outputs": []
    },
    {
      "cell_type": "markdown",
      "metadata": {
        "id": "E1FaOkGbv_4B"
      },
      "source": [
        "Ejercicio 3.1. Convierta el ejercicio 3 en una función y escriba al menos 2 tres casos de prueba"
      ]
    },
    {
      "cell_type": "code",
      "source": [
        "def numeros_3_5():\n",
        "  for i in range(1,101):\n",
        "   if i%3 == 0:\n",
        "     print(f'{i}: Fizz')\n",
        "   elif i%5 == 0:\n",
        "    print(f'{i}: Buzz')\n",
        "   elif i%3 == 0 and i%5 == 0:\n",
        "     print(f'{i}: FizzBuzz')\n",
        "   else:\n",
        "     print(i)"
      ],
      "metadata": {
        "id": "MeqxsgeqE8zs"
      },
      "execution_count": null,
      "outputs": []
    },
    {
      "cell_type": "code",
      "source": [
        "numeros_3_5()"
      ],
      "metadata": {
        "id": "G8x08o8qFIud"
      },
      "execution_count": null,
      "outputs": []
    },
    {
      "cell_type": "markdown",
      "metadata": {
        "id": "4jpOb3bZv_4B"
      },
      "source": [
        "Ejercicio 4. ¿Cuáles son los resultados de los siguientes fragmentos de código?"
      ]
    },
    {
      "cell_type": "code",
      "execution_count": null,
      "metadata": {
        "id": "MAPfSruSv_4B",
        "colab": {
          "base_uri": "https://localhost:8080/"
        },
        "outputId": "17fc23b7-dbd4-42cb-9726-4be8a3eca311"
      },
      "outputs": [
        {
          "output_type": "stream",
          "name": "stdout",
          "text": [
            "1\n",
            "2\n",
            "3\n",
            "4\n",
            "5\n",
            "6\n",
            "7\n",
            "8\n",
            "9\n",
            "Done\n"
          ]
        }
      ],
      "source": [
        "a = 1\n",
        "while a < 10:\n",
        "    print(a)\n",
        "    a += 1\n",
        "    #break\n",
        "else:\n",
        "    print('Done')"
      ]
    },
    {
      "cell_type": "code",
      "execution_count": null,
      "metadata": {
        "id": "k0dbEI64v_4C",
        "colab": {
          "base_uri": "https://localhost:8080/"
        },
        "outputId": "621f6154-3c2f-4235-89f9-3d5dfe96399e"
      },
      "outputs": [
        {
          "output_type": "stream",
          "name": "stdout",
          "text": [
            "1\n",
            "2\n",
            "3\n",
            "4\n"
          ]
        }
      ],
      "source": [
        "for i in range(1, 10):\n",
        "    if i == 5:\n",
        "        break\n",
        "    print(i)\n",
        "else:\n",
        "    print('done')"
      ]
    },
    {
      "cell_type": "code",
      "execution_count": null,
      "metadata": {
        "id": "FjxQL2z1v_4C",
        "colab": {
          "base_uri": "https://localhost:8080/"
        },
        "outputId": "67541949-eae3-4178-b3eb-a98142050b15"
      },
      "outputs": [
        {
          "output_type": "stream",
          "name": "stdout",
          "text": [
            "h e l l o "
          ]
        }
      ],
      "source": [
        "for c in 'hello':\n",
        "    print(c, end=' ')"
      ]
    },
    {
      "cell_type": "markdown",
      "metadata": {
        "id": "61e_gnWiv_4C"
      },
      "source": [
        "# En general...\n",
        "- ¡casi todos los problemas involucran algún tipo de bucle!"
      ]
    }
  ],
  "metadata": {
    "kernelspec": {
      "display_name": "Python 3",
      "language": "python",
      "name": "python3"
    },
    "language_info": {
      "codemirror_mode": {
        "name": "ipython",
        "version": 3
      },
      "file_extension": ".py",
      "mimetype": "text/x-python",
      "name": "python",
      "nbconvert_exporter": "python",
      "pygments_lexer": "ipython3",
      "version": "3.7.3"
    },
    "colab": {
      "provenance": [],
      "include_colab_link": true
    }
  },
  "nbformat": 4,
  "nbformat_minor": 0
}