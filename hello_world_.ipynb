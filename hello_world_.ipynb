{
  "nbformat": 4,
  "nbformat_minor": 0,
  "metadata": {
    "colab": {
      "provenance": [],
      "authorship_tag": "ABX9TyPQG3L0khR+WW/Jfm7RzuCX",
      "include_colab_link": true
    },
    "kernelspec": {
      "name": "python3",
      "display_name": "Python 3"
    },
    "language_info": {
      "name": "python"
    }
  },
  "cells": [
    {
      "cell_type": "markdown",
      "metadata": {
        "id": "view-in-github",
        "colab_type": "text"
      },
      "source": [
        "<a href=\"https://colab.research.google.com/github/SofiaCR2/Python-basico-intermedio/blob/main/hello_world_.ipynb\" target=\"_parent\"><img src=\"https://colab.research.google.com/assets/colab-badge.svg\" alt=\"Open In Colab\"/></a>"
      ]
    },
    {
      "cell_type": "markdown",
      "source": [
        "#Primer Clase de Python"
      ],
      "metadata": {
        "id": "m50v8KS5AkYR"
      }
    },
    {
      "cell_type": "code",
      "source": [
        "#En python podemos usar comillas dobles\n",
        "# para crear un string (cadena de caracteres o texto)\n",
        "print(\"Hello, world\")"
      ],
      "metadata": {
        "colab": {
          "base_uri": "https://localhost:8080/"
        },
        "id": "zoMgrtycArsq",
        "outputId": "86d65fef-de94-4544-a39d-91ad0fc8f8ec"
      },
      "execution_count": null,
      "outputs": [
        {
          "output_type": "stream",
          "name": "stdout",
          "text": [
            "hello, world\n"
          ]
        }
      ]
    },
    {
      "cell_type": "code",
      "source": [
        "# PEro tambien podemos usar comillas sencillas\n",
        "print('Hello world')"
      ],
      "metadata": {
        "colab": {
          "base_uri": "https://localhost:8080/"
        },
        "id": "IRY5A77dA9tU",
        "outputId": "094a3420-48b4-4d75-a796-25e31911bf81"
      },
      "execution_count": 1,
      "outputs": [
        {
          "output_type": "stream",
          "name": "stdout",
          "text": [
            "Hello world\n"
          ]
        }
      ]
    },
    {
      "cell_type": "code",
      "source": [
        "#Aunque no es necesario usar el print en colab\n",
        "# para mostrar el resoltado\n",
        "\"Hello, world\"\n",
        "#Útil cuando desarrollamos o queremos ver un resultado rapido\n",
        "# Pero, como buena practicas hay que usar siempre la funcion print\n",
        "#para mostrar un resultado"
      ],
      "metadata": {
        "colab": {
          "base_uri": "https://localhost:8080/",
          "height": 36
        },
        "id": "OKD5lnRGuwPl",
        "outputId": "a8259dba-5e6d-4fc4-8ef6-ad2d6588b6f9"
      },
      "execution_count": 2,
      "outputs": [
        {
          "output_type": "execute_result",
          "data": {
            "text/plain": [
              "'Hello, world'"
            ],
            "application/vnd.google.colaboratory.intrinsic+json": {
              "type": "string"
            }
          },
          "metadata": {},
          "execution_count": 2
        }
      ]
    }
  ]
}