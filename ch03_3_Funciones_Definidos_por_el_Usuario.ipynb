{
  "nbformat": 4,
  "nbformat_minor": 0,
  "metadata": {
    "colab": {
      "provenance": [],
      "authorship_tag": "ABX9TyMsBGu1WMRHjSltIVYptDOv",
      "include_colab_link": true
    },
    "kernelspec": {
      "name": "python3",
      "display_name": "Python 3"
    },
    "language_info": {
      "name": "python"
    }
  },
  "cells": [
    {
      "cell_type": "markdown",
      "metadata": {
        "id": "view-in-github",
        "colab_type": "text"
      },
      "source": [
        "<a href=\"https://colab.research.google.com/github/SofiaCR2/Python-basico-intermedio/blob/main/ch03_3_Funciones_Definidos_por_el_Usuario.ipynb\" target=\"_parent\"><img src=\"https://colab.research.google.com/assets/colab-badge.svg\" alt=\"Open In Colab\"/></a>"
      ]
    },
    {
      "cell_type": "markdown",
      "source": [
        "# 3.3 Funciones definidas por el usuario\n",
        "\n",
        "- http://openbookproject.net/thinkcs/python/english3e/functions.html\n",
        "\n",
        "## Temas\n",
        "- cómo definir y utilizar sus propias funciones\n",
        "- ámbitos de las variables\n",
        "- cómo pasar datos a funciones (por valor y referencia)\n",
        "- cómo devolver datos de funciones\n",
        "- pruebas unitarias o funcionales con aserción\n",
        "\n",
        "## 3.3.1 Funciones\n",
        "- secuencia nombrada de declaraciones que se ejecutan juntas para resolver alguna tarea\n",
        "- el propósito principal es ayudarnos a dividir el problema en subproblemas o tareas más pequeños\n",
        "- dos tipos: funciones fructíferas y nulas/infructuosas\n",
        "- debe definirse antes de que pueda usarse o llamarse (proceso de dos pasos)\n",
        "\n",
        "- el concepto de función se extrae de Álgebra\n",
        "- p.ej.\n",
        "\n",
        "    Let's say: $y = f(x) = x^2+x+1$\n",
        "    \n",
        "    $y = f(1) = 1+1+1 = 3$\n",
        "    \n",
        "    $y = f(-2) = 4-2+1 = 3$\n",
        "### Proceso de dos pasos\n",
        "1. Definir una función\n",
        "2. Función de llamada o uso\n",
        "\n",
        "### sintaxis para definir la función\n",
        "```python\n",
        "def functionName( PARAMETER1, PARAMETER2, ... ):\n",
        "    # STATEMENTS\n",
        "    return VALUE\n",
        "```\n",
        "- Los PARAMETERS y declaraciones de return son OPCIONALES\n",
        "- la función NOMBRE sigue las mismas reglas que un nombre de variable/identificador\n",
        "- recuerde que algunas funciones integradas y métodos de objetos se han utilizado en capítulos anteriores...\n",
        "\n",
        "\n",
        "### sintaxis para llamar a la función\n",
        "- llamar a la función por su nombre\n",
        "- usar valores de retorno si los hay\n",
        "\n",
        "\n",
        "```python\n",
        "VARIABLE = functionName( ARGUMENT1, ARGUMENT2, ...)\n",
        "```\n"
      ],
      "metadata": {
        "id": "6YhrdbKpPq1k"
      }
    },
    {
      "cell_type": "markdown",
      "source": [
        "## 3.3.2 ¿Por qué funciones?\n",
        "**dividir un programa en funciones o subprogramas tiene varias ventajas:**\n",
        "- darle la oportunidad de nombrar un grupo de declaraciones, lo que hace que su programa sea más fácil de leer y depurar\n",
        "- puede hacer un programa más pequeño al eliminar el código repetitivo. Posteriormente, si haces un cambio, solo tienes que hacerlo en un lugar\n",
        "- le permite depurar las partes una a la vez (en un equipo) y luego ensamblarlas en un todo funcional\n",
        "- escribir una vez, probar, compartir y reutilizar muchas veces (bibliotecas, por ejemplo)"
      ],
      "metadata": {
        "id": "1dDIdJE9RHU7"
      }
    },
    {
      "cell_type": "markdown",
      "source": [
        "## 3.3.3 Tipos de funciones\n",
        "- Dos tipos: funciones fructíferas e infructuosas"
      ],
      "metadata": {
        "id": "_aWjYHoARKnb"
      }
    },
    {
      "cell_type": "markdown",
      "source": [
        "## Funciones infructuosas\n",
        "- también llamadas funciones nulas\n",
        "- no devuelven un valor"
      ],
      "metadata": {
        "id": "rrxl7NvPRLZ2"
      }
    },
    {
      "cell_type": "code",
      "execution_count": 1,
      "metadata": {
        "id": "2Eb89LmkJaWd"
      },
      "outputs": [],
      "source": [
        "# Definición de función\n",
        "# función imprime el resultado pero no devuelve nada explícitamente\n",
        "def greet():\n",
        "    print('Hello World!')"
      ]
    },
    {
      "cell_type": "code",
      "source": [
        "# Llamada a la funcion\n",
        "greet()\n",
        "greet()"
      ],
      "metadata": {
        "colab": {
          "base_uri": "https://localhost:8080/"
        },
        "id": "iDIYRav7RfWS",
        "outputId": "b29df73a-be9a-46cb-a45c-61bb550093ca"
      },
      "execution_count": 2,
      "outputs": [
        {
          "output_type": "stream",
          "name": "stdout",
          "text": [
            "Hello World!\n",
            "Hello World!\n"
          ]
        }
      ]
    },
    {
      "cell_type": "code",
      "source": [
        "# función nula/sin frutos; devuelve None por defecto\n",
        "a = greet() # valor devuelto por greet() asignado a un\n",
        "print('a =', a)"
      ],
      "metadata": {
        "colab": {
          "base_uri": "https://localhost:8080/"
        },
        "id": "6yeD2i2PRk5s",
        "outputId": "928f052f-8501-448a-cd3a-dc1a82e9a583"
      },
      "execution_count": 5,
      "outputs": [
        {
          "output_type": "stream",
          "name": "stdout",
          "text": [
            "Hello World!\n",
            "a = None\n"
          ]
        }
      ]
    },
    {
      "cell_type": "code",
      "source": [
        "type(greet)"
      ],
      "metadata": {
        "colab": {
          "base_uri": "https://localhost:8080/"
        },
        "id": "NExK5pnBSHGC",
        "outputId": "36099bbe-a407-4059-e93f-d1d92b28c19f"
      },
      "execution_count": 6,
      "outputs": [
        {
          "output_type": "execute_result",
          "data": {
            "text/plain": [
              "function"
            ]
          },
          "metadata": {},
          "execution_count": 6
        }
      ]
    },
    {
      "cell_type": "code",
      "source": [
        "# la función se puede asignar a otro identificador\n",
        "myfunc = greet\n",
        "type(myfunc)"
      ],
      "metadata": {
        "colab": {
          "base_uri": "https://localhost:8080/"
        },
        "id": "z3FegF9FSH56",
        "outputId": "1ad8e718-f4bb-4440-b441-dd6ee866f9ae"
      },
      "execution_count": 7,
      "outputs": [
        {
          "output_type": "execute_result",
          "data": {
            "text/plain": [
              "function"
            ]
          },
          "metadata": {},
          "execution_count": 7
        }
      ]
    },
    {
      "cell_type": "code",
      "source": [
        "myfunc()"
      ],
      "metadata": {
        "colab": {
          "base_uri": "https://localhost:8080/"
        },
        "id": "Bdu1BHbSSOdi",
        "outputId": "612d0964-b729-4d5c-9c16-9d49a0c241d9"
      },
      "execution_count": 8,
      "outputs": [
        {
          "output_type": "stream",
          "name": "stdout",
          "text": [
            "Hello World!\n"
          ]
        }
      ]
    },
    {
      "cell_type": "markdown",
      "source": [
        "## Funciones fructíferas\n",
        "- funciones que devuelven explícitamente algunos valores usando la instrucción **return**\n",
        "- funciones más útiles\n",
        "- la respuesta devuelta se puede usar como **valores intermedios** para resolver problemas más grandes\n",
        "- se puede usar y **probar de forma independiente**\n",
        "- las funciones fructíferas generalmente toman algunos **argumentos** y devuelven valores como respuesta\n",
        "- la mayoría de las funciones integradas y de biblioteca son fructíferas\n",
        "- **típicamente return** es la última declaración a ejecutar; pero no necesariamente\n",
        "- la función vuelve a la persona que llama inmediatamente después de que se ejecuta la declaración de return\n",
        "    - omitirá el código si existe alguno después de la declaración de return"
      ],
      "metadata": {
        "id": "OKdf2373S_lv"
      }
    },
    {
      "cell_type": "code",
      "source": [
        "# fuitful function\n",
        "def getName():\n",
        "    name = input(\"Hi there, enter your full name: \")\n",
        "    return name\n",
        "    print(f'Hi {name}, nice meeting you!') #f formatea la cadena de texto que esta adelante"
      ],
      "metadata": {
        "id": "3KG0_sXJTHGy"
      },
      "execution_count": 9,
      "outputs": []
    },
    {
      "cell_type": "code",
      "source": [
        "userName = getName()"
      ],
      "metadata": {
        "colab": {
          "base_uri": "https://localhost:8080/"
        },
        "id": "NnIVsIaTTH-4",
        "outputId": "a08c891e-33cb-4841-fdb6-90362365312f"
      },
      "execution_count": 10,
      "outputs": [
        {
          "name": "stdout",
          "output_type": "stream",
          "text": [
            "Hi there, enter your full name: sofia casro\n"
          ]
        }
      ]
    },
    {
      "cell_type": "code",
      "source": [
        "userName #solo manda a llamar lo que ingreso el usuario"
      ],
      "metadata": {
        "colab": {
          "base_uri": "https://localhost:8080/",
          "height": 36
        },
        "id": "lsy2XHM6TLqU",
        "outputId": "ae1a460e-f3b3-44fa-84ff-1dbfc5c0dd52"
      },
      "execution_count": 14,
      "outputs": [
        {
          "output_type": "execute_result",
          "data": {
            "text/plain": [
              "'sofia casro'"
            ],
            "application/vnd.google.colaboratory.intrinsic+json": {
              "type": "string"
            }
          },
          "metadata": {},
          "execution_count": 14
        }
      ]
    },
    {
      "cell_type": "markdown",
      "source": [
        "## 3.3.4 Pasar datos como argumentos a funciones\n",
        "- las funciones son subprogramas que pueden necesitar datos externos para trabajar con ellos\n",
        "- puede pasar datos a funciones a través de parámetros/argumentos\n",
        "- puede proporcionar 1 o más parámetros para pasar 1 o más datos\n",
        "- puede proporcionar valores predeterminados a los parámetros\n",
        "    - hace que el parámetro sea opcional cuando se llama a la función\n",
        "- si una función tiene un parámetro requerido, ¡se deben proporcionar datos para cada parámetro requerido!\n",
        "    - de lo contrario, ¡obtendrás un error!\n",
        "\n",
        "### [Visualize with PythonTutor.com](http://pythontutor.com/visualize.html#code=def%20greet%28name%29%3A%0A%20%20%20%20print%28'Hello%20%7B%7D'.format%28name%29%29%0A%20%20%20%20%0Aprint%28'start'%29%0Agreet%28'John'%29%0Aprint%28'end'%29%0A&cumulative=false&curInstr=0&heapPrimitives=false&mode=display&origin=opt-frontend.js&py=3&rawInputLstJSON=%5B%5D&textReferences=false)"
      ],
      "metadata": {
        "id": "p9nmEHs9UPuC"
      }
    },
    {
      "cell_type": "code",
      "source": [
        "# funcion que toma un argumento\n",
        "def greet(name):\n",
        "    print(f'Hello {name}')"
      ],
      "metadata": {
        "id": "cKNPv_y0UoB2"
      },
      "execution_count": 16,
      "outputs": []
    },
    {
      "cell_type": "code",
      "source": [
        "# pasar el valor literal de 'John Smith' como argumento para el parámetro de nombre\n",
        "greet('John Smith')"
      ],
      "metadata": {
        "colab": {
          "base_uri": "https://localhost:8080/"
        },
        "id": "CkBXeSgGU2PX",
        "outputId": "15540954-7c51-4713-a985-e53f8ecc5723"
      },
      "execution_count": 17,
      "outputs": [
        {
          "output_type": "stream",
          "name": "stdout",
          "text": [
            "Hello John Smith\n"
          ]
        }
      ]
    },
    {
      "cell_type": "code",
      "source": [
        "greet('Jane')"
      ],
      "metadata": {
        "colab": {
          "base_uri": "https://localhost:8080/"
        },
        "id": "EyURCWG9VXNg",
        "outputId": "39082707-e474-42c1-d68c-7b49ce0eff7a"
      },
      "execution_count": 18,
      "outputs": [
        {
          "output_type": "stream",
          "name": "stdout",
          "text": [
            "Hello Jane\n"
          ]
        }
      ]
    },
    {
      "cell_type": "code",
      "source": [
        "# el argumento también puede ser variable\n",
        "n = 'Michael Smith'\n",
        "greet(n)"
      ],
      "metadata": {
        "colab": {
          "base_uri": "https://localhost:8080/"
        },
        "id": "fO1y5qBQValI",
        "outputId": "2a78da70-77b5-4673-c89e-aee883f1bccc"
      },
      "execution_count": 19,
      "outputs": [
        {
          "output_type": "stream",
          "name": "stdout",
          "text": [
            "Hello Michael Smith\n"
          ]
        }
      ]
    },
    {
      "cell_type": "code",
      "source": [
        "n1 = input('Enter your name: ')\n",
        "greet(n1)"
      ],
      "metadata": {
        "colab": {
          "base_uri": "https://localhost:8080/"
        },
        "id": "7E3Fcnlgffdu",
        "outputId": "489e60ed-a82f-47a0-b661-ea86485b1fd7"
      },
      "execution_count": 20,
      "outputs": [
        {
          "output_type": "stream",
          "name": "stdout",
          "text": [
            "Enter your name: sofia\n",
            "Hello sofia\n"
          ]
        }
      ]
    },
    {
      "cell_type": "code",
      "source": [
        "greet('asdfdasf')\n",
        "# ¿Como arreglar? proporcione un valor predeterminado o llámelo correctamente"
      ],
      "metadata": {
        "colab": {
          "base_uri": "https://localhost:8080/"
        },
        "id": "FygkLWLEfkaN",
        "outputId": "695bd426-8cd6-4210-b8f2-d30494a43a19"
      },
      "execution_count": 21,
      "outputs": [
        {
          "output_type": "stream",
          "name": "stdout",
          "text": [
            "Hello asdfdasf\n"
          ]
        }
      ]
    },
    {
      "cell_type": "code",
      "source": [
        "# la función toma un argumento opcional\n",
        "def greet(name=\"Anonymous\"):\n",
        "    print(f'Hello, {name}')\n"
      ],
      "metadata": {
        "id": "dc4MKPnEfwqI"
      },
      "execution_count": 22,
      "outputs": []
    },
    {
      "cell_type": "code",
      "source": [
        "# llamar saludar sin argumentos\n",
        "# ¡Se usará el valor predeterminado para el nombre!\n",
        "greet()"
      ],
      "metadata": {
        "colab": {
          "base_uri": "https://localhost:8080/"
        },
        "id": "EjV5uHpJf1O1",
        "outputId": "191b4280-0cf0-439b-a3d7-fc249011ecd1"
      },
      "execution_count": 23,
      "outputs": [
        {
          "output_type": "stream",
          "name": "stdout",
          "text": [
            "Hello, Anonymous\n"
          ]
        }
      ]
    },
    {
      "cell_type": "code",
      "source": [
        "greet('adfasd')"
      ],
      "metadata": {
        "colab": {
          "base_uri": "https://localhost:8080/"
        },
        "id": "QisRbskrf_AG",
        "outputId": "bd2fb9c9-b3e6-4c42-9177-eb41673bf3de"
      },
      "execution_count": 24,
      "outputs": [
        {
          "output_type": "stream",
          "name": "stdout",
          "text": [
            "Hello, adfasd\n"
          ]
        }
      ]
    },
    {
      "cell_type": "code",
      "source": [
        "user = input('Enter your name: ')\n",
        "greet(user) # llama a greet con argumento"
      ],
      "metadata": {
        "colab": {
          "base_uri": "https://localhost:8080/"
        },
        "id": "3LCX70SfgDFW",
        "outputId": "2feaf5b5-a3a7-466e-bb21-9aa7516913b7"
      },
      "execution_count": 25,
      "outputs": [
        {
          "output_type": "stream",
          "name": "stdout",
          "text": [
            "Enter your name: sofia\n",
            "Hello, sofia\n"
          ]
        }
      ]
    },
    {
      "cell_type": "markdown",
      "source": [
        "## 3.3.5 Alcance de las variables\n",
        "- el alcance de la variable le dice a Python dónde las variables son visibles y se pueden usar\n",
        "- no todas las variables se pueden usar en todas partes después de declararlas\n",
        "- Python proporciona dos tipos de variables o ámbitos: ámbitos globales y locales\n",
        "\n",
        "### alcance global\n",
        "- variables globales\n",
        "- cualquier variable/identificador definido fuera de las funciones\n",
        "- se puede acceder/utilizar fácilmente desde dentro de las funciones\n",
        "- debe usar la palabra clave **global** para actualizar las variables globales\n",
        "\n",
        "### alcance local\n",
        "- variables locales\n",
        "- las variables definidas en una función tienen alcance local\n",
        "- solo se puede usar/acceder desde dentro de una función después de que se haya declarado\n",
        "- el parámetro también es una variable local para la función"
      ],
      "metadata": {
        "id": "ekyFBPiLgKpb"
      }
    },
    {
      "cell_type": "markdown",
      "source": [
        "## global and local scopes demo\n",
        "#### Visualize it with [PythonTutor.com](http://pythontutor.com/visualize.html#code=%23%20Global%20and%20local%20scope%20demo%0Aname%20%3D%20%22Alice%22%0Adef%20someFunc%28a,%20b%29%3A%0A%20%20%20%20print%28'name%20%3D%20',%20name%29%0A%20%20%20%20name1%20%3D%20%22John%22%0A%20%20%20%20print%28'a%20%3D%20%7B%7D%20and%20b%20%3D%20%7B%7D'.format%28a,%20b%29%29%0A%20%20%20%20print%28'Hello%20%7B%7D'.format%28name1%29%29%0A%0AsomeFunc%281,%20'Apple'%29%0Aprint%28name%29%0Aprint%28name1%29&cumulative=false&curInstr=0&heapPrimitives=false&mode=display&origin=opt-frontend.js&py=3&rawInputLstJSON=%5B%5D&textReferences=false)"
      ],
      "metadata": {
        "id": "sD7cP1g2g_i-"
      }
    },
    {
      "cell_type": "code",
      "source": [
        "# Global and local scope demo\n",
        "name = \"Alice\" # global variable\n",
        "def someFunc(a, b):\n",
        "    print('name = ', name) # access global variable, name\n",
        "    name1 = \"John\" # declare local variable\n",
        "    print('a = {} and b = {}'.format(a, b)) # a and b are local variables\n",
        "    print('Hello {}'.format(name1)) # access local variable, name1\n",
        "\n",
        "someFunc(1, 'Apple')\n",
        "print(name) # access global variable name\n",
        "print(name1) # Can you access name1 which is local to someFunc function"
      ],
      "metadata": {
        "colab": {
          "base_uri": "https://localhost:8080/",
          "height": 269
        },
        "id": "__xHq1I1gJaC",
        "outputId": "d8c5217a-b258-4825-9e4b-03125ffee934"
      },
      "execution_count": 26,
      "outputs": [
        {
          "output_type": "stream",
          "name": "stdout",
          "text": [
            "name =  Alice\n",
            "a = 1 and b = Apple\n",
            "Hello John\n",
            "Alice\n"
          ]
        },
        {
          "output_type": "error",
          "ename": "NameError",
          "evalue": "ignored",
          "traceback": [
            "\u001b[0;31m---------------------------------------------------------------------------\u001b[0m",
            "\u001b[0;31mNameError\u001b[0m                                 Traceback (most recent call last)",
            "\u001b[0;32m<ipython-input-26-2046a00ee4da>\u001b[0m in \u001b[0;36m<cell line: 11>\u001b[0;34m()\u001b[0m\n\u001b[1;32m      9\u001b[0m \u001b[0msomeFunc\u001b[0m\u001b[0;34m(\u001b[0m\u001b[0;36m1\u001b[0m\u001b[0;34m,\u001b[0m \u001b[0;34m'Apple'\u001b[0m\u001b[0;34m)\u001b[0m\u001b[0;34m\u001b[0m\u001b[0;34m\u001b[0m\u001b[0m\n\u001b[1;32m     10\u001b[0m \u001b[0mprint\u001b[0m\u001b[0;34m(\u001b[0m\u001b[0mname\u001b[0m\u001b[0;34m)\u001b[0m \u001b[0;31m# access global variable name\u001b[0m\u001b[0;34m\u001b[0m\u001b[0;34m\u001b[0m\u001b[0m\n\u001b[0;32m---> 11\u001b[0;31m \u001b[0mprint\u001b[0m\u001b[0;34m(\u001b[0m\u001b[0mname1\u001b[0m\u001b[0;34m)\u001b[0m \u001b[0;31m# Can you access name1 which is local to someFunc function\u001b[0m\u001b[0;34m\u001b[0m\u001b[0;34m\u001b[0m\u001b[0m\n\u001b[0m",
            "\u001b[0;31mNameError\u001b[0m: name 'name1' is not defined"
          ]
        }
      ]
    },
    {
      "cell_type": "markdown",
      "source": [
        "### Modificar variables globales de dentro de una función"
      ],
      "metadata": {
        "id": "5Wo4lNLxhWTG"
      }
    },
    {
      "cell_type": "code",
      "source": [
        "# como modifcar una variable global dentro de una funcion\n",
        "var1 = \"Alice\" #global\n",
        "def myFunc(arg1, arg2):\n",
        "    global var1 # tell myFunc that var1 is global\n",
        "    var1 = \"Bob\" # global or local? How can we access global var1?\n",
        "    var2 = \"John\"\n",
        "    print('var1 = {}'.format(var1))\n",
        "    print('var2 = ', var2)\n",
        "    print('arg1 = ', arg1)\n",
        "    print('arg2 = ', arg2)\n",
        "\n",
        "myFunc(1, 'Apple')\n",
        "print(var1)"
      ],
      "metadata": {
        "colab": {
          "base_uri": "https://localhost:8080/"
        },
        "id": "1JcL49HFhVMs",
        "outputId": "16b1de94-0919-4b88-be09-ace167ab574a"
      },
      "execution_count": 27,
      "outputs": [
        {
          "output_type": "stream",
          "name": "stdout",
          "text": [
            "var1 = Bob\n",
            "var2 =  John\n",
            "arg1 =  1\n",
            "arg2 =  Apple\n",
            "Bob\n"
          ]
        }
      ]
    },
    {
      "cell_type": "markdown",
      "source": [
        "### [Visualize in PythonTutor.com](http://pythontutor.com/visualize.html#code=%23%20global%20and%20local%20scope%20demos%0A%23%20how%20to%20modify%20global%20variable%20inside%20function%0Avar1%20%3D%20%22Alice%22%20%23global%0Adef%20myFunc%28arg1,%20arg2%29%3A%0A%20%20%20%20%23global%20var1%0A%20%20%20%20var1%20%3D%20%22Bob%22%20%23%20global%20or%20local%3F%20How%20can%20we%20access%20global%20var1%3F%0A%20%20%20%20var2%20%3D%20%22John%22%0A%20%20%20%20print%28'var1%20%3D%20%7B%7D'.format%28var1%29%29%0A%20%20%20%20print%28'var2%20%3D%20',%20var2%29%0A%20%20%20%20print%28'arg1%20%3D%20',%20arg1%29%0A%20%20%20%20print%28'arg2%20%3D%20',%20arg2%29%0A%0AmyFunc%281,%20'Apple'%29%0Aprint%28var1%29&cumulative=false&curInstr=0&heapPrimitives=false&mode=display&origin=opt-frontend.js&py=3&rawInputLstJSON=%5B%5D&textReferences=false)"
      ],
      "metadata": {
        "id": "nqZZH-j2iPWf"
      }
    },
    {
      "cell_type": "markdown",
      "source": [
        "### Ejercicio\n",
        "- Definir una función que tome dos números como argumentos y devuelva la suma de los dos números como respuesta"
      ],
      "metadata": {
        "id": "75sWldDQiR_-"
      }
    },
    {
      "cell_type": "code",
      "source": [
        "def suma (a,b):\n",
        "  '''Toma dos numeros y los suma'''\n",
        "  total = a + b\n",
        "  return total"
      ],
      "metadata": {
        "id": "Sk7ajUJ3h5Fr"
      },
      "execution_count": 28,
      "outputs": []
    },
    {
      "cell_type": "code",
      "source": [
        "# muestra el prototipo de función y la cadena de documentación debajo de él\n",
        "help(suma)"
      ],
      "metadata": {
        "colab": {
          "base_uri": "https://localhost:8080/"
        },
        "id": "4xoj7C1jjAUj",
        "outputId": "6a3ce65e-3288-4d87-f15a-7614aceec135"
      },
      "execution_count": 29,
      "outputs": [
        {
          "output_type": "stream",
          "name": "stdout",
          "text": [
            "Help on function suma in module __main__:\n",
            "\n",
            "suma(a, b)\n",
            "    Toma dos numeros y los suma\n",
            "\n"
          ]
        }
      ]
    },
    {
      "cell_type": "code",
      "source": [
        "import math\n",
        "help(math.sin)"
      ],
      "metadata": {
        "colab": {
          "base_uri": "https://localhost:8080/"
        },
        "id": "rKV0nys7jLAe",
        "outputId": "e0e973c4-5ea3-4409-aa7f-0534084515c3"
      },
      "execution_count": 30,
      "outputs": [
        {
          "output_type": "stream",
          "name": "stdout",
          "text": [
            "Help on built-in function sin in module math:\n",
            "\n",
            "sin(x, /)\n",
            "    Return the sine of x (measured in radians).\n",
            "\n"
          ]
        }
      ]
    },
    {
      "cell_type": "code",
      "source": [
        "#llamada al test de la funcion suma\n",
        "print(suma(159, 69))"
      ],
      "metadata": {
        "colab": {
          "base_uri": "https://localhost:8080/"
        },
        "id": "qj0pm5H1jTUb",
        "outputId": "d6334139-2da8-48fc-fe7d-6be61d107e4c"
      },
      "execution_count": 31,
      "outputs": [
        {
          "output_type": "stream",
          "name": "stdout",
          "text": [
            "228\n"
          ]
        }
      ]
    },
    {
      "cell_type": "code",
      "source": [
        "t = suma(100.98, -10)\n",
        "print('Suma = ', t)"
      ],
      "metadata": {
        "colab": {
          "base_uri": "https://localhost:8080/"
        },
        "id": "34uTewh9jhDi",
        "outputId": "47d02122-30a4-4250-f406-96c1ec261993"
      },
      "execution_count": 32,
      "outputs": [
        {
          "output_type": "stream",
          "name": "stdout",
          "text": [
            "Suma =  90.98\n"
          ]
        }
      ]
    },
    {
      "cell_type": "code",
      "source": [
        "num1 = 15\n",
        "num2 = 10.5\n",
        "total = suma(num1, num2)\n",
        "print('{} + {} = {}'.format(num1, num2, total))"
      ],
      "metadata": {
        "colab": {
          "base_uri": "https://localhost:8080/"
        },
        "id": "OgEwaA59jxY_",
        "outputId": "17e5206d-52d6-4cbd-cc0f-69a7348b8c9e"
      },
      "execution_count": 34,
      "outputs": [
        {
          "output_type": "stream",
          "name": "stdout",
          "text": [
            "15 + 10.5 = 25.5\n"
          ]
        }
      ]
    },
    {
      "cell_type": "markdown",
      "source": [
        "### Ejercicio\n",
        "- Definir una función que tome dos números y devuelva el producto de los dos números."
      ],
      "metadata": {
        "id": "df4tz7zqkFgT"
      }
    },
    {
      "cell_type": "code",
      "source": [
        "def multiply( x, y):\n",
        "  ''' Funcion que multiplica x por y '''\n",
        "  total = x * y\n",
        "  return total"
      ],
      "metadata": {
        "id": "f6MwnIzskGB8"
      },
      "execution_count": 35,
      "outputs": []
    },
    {
      "cell_type": "code",
      "source": [
        "# La ayuda también se puede ejecutar para funciones definidas por el usuario.\n",
        "help(multiply)"
      ],
      "metadata": {
        "colab": {
          "base_uri": "https://localhost:8080/"
        },
        "id": "5s_Sz27ekyqX",
        "outputId": "003a1b59-c098-4b47-de57-36d46f9c5885"
      },
      "execution_count": 36,
      "outputs": [
        {
          "output_type": "stream",
          "name": "stdout",
          "text": [
            "Help on function multiply in module __main__:\n",
            "\n",
            "multiply(x, y)\n",
            "    Funcion que multiplica x por y\n",
            "\n"
          ]
        }
      ]
    },
    {
      "cell_type": "code",
      "source": [
        "num1 = int(input(\"Escriba un numero: \"))\n",
        "num2 = int(input(\"Escriba otro numero: \"))\n",
        "total = multiply(num1, num2)\n",
        "print('{} * {} = {}'.format(num1, num2, total))"
      ],
      "metadata": {
        "colab": {
          "base_uri": "https://localhost:8080/"
        },
        "id": "fVYQImHQk6qN",
        "outputId": "53beb35e-dcdd-4819-cefe-ad624b691ee5"
      },
      "execution_count": 39,
      "outputs": [
        {
          "output_type": "stream",
          "name": "stdout",
          "text": [
            "Escriba un numero: 3\n",
            "Escriba otro numero: 4\n",
            "3 * 4 = 12\n"
          ]
        }
      ]
    },
    {
      "cell_type": "markdown",
      "source": [
        "## 3.3.6 Pruebas automáticas de funciones / pruebas unitarias\n",
        "- las funciones se pueden probar tanto automáticamente como manualmente\n",
        "- la declaración de afirmación se puede usar para probar automáticamente funciones fructíferas\n",
        "- cada afirmación debe ser Verdadera o debe pasar para continuar con la siguiente\n",
        "- si la aserción falla, lanza la excepción AssertionError y el programa se detiene"
      ],
      "metadata": {
        "id": "6N_Rrwb4vxxB"
      }
    },
    {
      "cell_type": "code",
      "source": [
        "# ejemplos de afirmaciones afirmativas\n",
        "# == operador de comparación que le permite comparar dos valores\n",
        "# más sobre operadores de comparación en un capítulo posterior\n",
        "assert True == True"
      ],
      "metadata": {
        "id": "S-9ugSX8v1Y5"
      },
      "execution_count": 40,
      "outputs": []
    },
    {
      "cell_type": "code",
      "source": [
        "assert 10 != '10'"
      ],
      "metadata": {
        "id": "QB5GOnvewASo"
      },
      "execution_count": 41,
      "outputs": []
    },
    {
      "cell_type": "code",
      "source": [
        "assert True == False\n",
        "print('this will not be printed')"
      ],
      "metadata": {
        "colab": {
          "base_uri": "https://localhost:8080/",
          "height": 182
        },
        "id": "8we09R61wHBQ",
        "outputId": "f3c24e11-3fad-4a65-ebe6-9e18a2cc4050"
      },
      "execution_count": 42,
      "outputs": [
        {
          "output_type": "error",
          "ename": "AssertionError",
          "evalue": "ignored",
          "traceback": [
            "\u001b[0;31m---------------------------------------------------------------------------\u001b[0m",
            "\u001b[0;31mAssertionError\u001b[0m                            Traceback (most recent call last)",
            "\u001b[0;32m<ipython-input-42-7ad819d42cdb>\u001b[0m in \u001b[0;36m<cell line: 1>\u001b[0;34m()\u001b[0m\n\u001b[0;32m----> 1\u001b[0;31m \u001b[0;32massert\u001b[0m \u001b[0;32mTrue\u001b[0m \u001b[0;34m==\u001b[0m \u001b[0;32mFalse\u001b[0m\u001b[0;34m\u001b[0m\u001b[0;34m\u001b[0m\u001b[0m\n\u001b[0m\u001b[1;32m      2\u001b[0m \u001b[0mprint\u001b[0m\u001b[0;34m(\u001b[0m\u001b[0;34m'this will not be printed'\u001b[0m\u001b[0;34m)\u001b[0m\u001b[0;34m\u001b[0m\u001b[0;34m\u001b[0m\u001b[0m\n",
            "\u001b[0;31mAssertionError\u001b[0m: "
          ]
        }
      ]
    },
    {
      "cell_type": "code",
      "source": [
        "assert 'a' == 'A'"
      ],
      "metadata": {
        "colab": {
          "base_uri": "https://localhost:8080/",
          "height": 165
        },
        "id": "ZMJiet1MwQD7",
        "outputId": "78cc20a3-ca84-492e-e24a-f7f808711281"
      },
      "execution_count": 43,
      "outputs": [
        {
          "output_type": "error",
          "ename": "AssertionError",
          "evalue": "ignored",
          "traceback": [
            "\u001b[0;31m---------------------------------------------------------------------------\u001b[0m",
            "\u001b[0;31mAssertionError\u001b[0m                            Traceback (most recent call last)",
            "\u001b[0;32m<ipython-input-43-ede1acf3c16e>\u001b[0m in \u001b[0;36m<cell line: 1>\u001b[0;34m()\u001b[0m\n\u001b[0;32m----> 1\u001b[0;31m \u001b[0;32massert\u001b[0m \u001b[0;34m'a'\u001b[0m \u001b[0;34m==\u001b[0m \u001b[0;34m'A'\u001b[0m\u001b[0;34m\u001b[0m\u001b[0;34m\u001b[0m\u001b[0m\n\u001b[0m",
            "\u001b[0;31mAssertionError\u001b[0m: "
          ]
        }
      ]
    },
    {
      "cell_type": "code",
      "source": [
        "# auto testing add function\n",
        "assert suma(2, 3) == 5\n",
        "assert suma(10, -5) == 5\n",
        "# assert add(100, 2000.99) == ?"
      ],
      "metadata": {
        "id": "Dj2mZqYSwTq_"
      },
      "execution_count": 45,
      "outputs": []
    },
    {
      "cell_type": "code",
      "source": [
        "assert multiply(2,3) == 6\n",
        "print('Correcto')"
      ],
      "metadata": {
        "colab": {
          "base_uri": "https://localhost:8080/"
        },
        "id": "6mRKEtvzwimc",
        "outputId": "efbf4fea-f584-439b-bdb4-b68b0e6510c8"
      },
      "execution_count": 49,
      "outputs": [
        {
          "output_type": "stream",
          "name": "stdout",
          "text": [
            "Correcto\n"
          ]
        }
      ]
    },
    {
      "cell_type": "markdown",
      "source": [
        "## 3.3.7 Formas de pasar datos a funciones\n",
        "- los datos/valores se pasan a las funciones de dos maneras\n",
        "\n",
        "### pasar por valor\n",
        "- los tipos y valores fundamentales (string, int, float) se pasan por valor copiando los valores en los parámetros correspondientes\n",
        "\n",
        "### pasar por referencia\n",
        "- los tipos de contenedores avanzados (tupla, lista, dict, etc.) se pasan por referencia\n",
        "- este tema se discutirá en el capítulo correspondiente que cubre esos tipos de contenedores"
      ],
      "metadata": {
        "id": "3xW1zxLxxNfx"
      }
    },
    {
      "cell_type": "code",
      "source": [
        "# pass by value demo\n",
        "var1 = 'John' # global variable\n",
        "def greetSomeone(para1):\n",
        "    print('hello', para1)\n",
        "    var1 = 'Jake' # local variable\n",
        "    print('hello again', para1)\n",
        "\n",
        "greetSomeone(var1)\n",
        "print('var1 = ', var1)"
      ],
      "metadata": {
        "colab": {
          "base_uri": "https://localhost:8080/"
        },
        "id": "Sx9Q5wCUxdq_",
        "outputId": "5c2f5883-a824-4f3c-9fe0-b19a7decbd7b"
      },
      "execution_count": 50,
      "outputs": [
        {
          "output_type": "stream",
          "name": "stdout",
          "text": [
            "hello John\n",
            "hello again John\n",
            "var1 =  John\n"
          ]
        }
      ]
    },
    {
      "cell_type": "markdown",
      "source": [
        "### [visualize pass by value with PythonTutor.com](http://pythontutor.com/visualize.html#code=var1%20%3D%20'John'%20%23%20global%20variable%0Adef%20greetSomeone%28para1%29%3A%0A%20%20%20%20print%28'hello',%20para1%29%0A%20%20%20%20var1%20%3D%20'Jake'%20%23%20local%20variable%0A%20%20%20%20print%28'hello%20again',%20para1%29%0A%20%20%20%20%0AgreetSomeone%28var1%29%0Aprint%28'var1%20%3D%20',%20var1%29&cumulative=false&curInstr=0&heapPrimitives=false&mode=display&origin=opt-frontend.js&py=3&rawInputLstJSON=%5B%5D&textReferences=false)"
      ],
      "metadata": {
        "id": "FEk3OH7Ex52-"
      }
    },
    {
      "cell_type": "markdown",
      "source": [
        "## 3.3.8 Funciones fructíferas que devuelven múltiples valores\n",
        "- las funciones pueden devolver más de 1 valor\n",
        "- se pueden devolver múltiples valores separados por comas\n",
        "- los valores se devuelven como tipo Tuple (más sobre esto más adelante)"
      ],
      "metadata": {
        "id": "_7f87ocuyJNo"
      }
    },
    {
      "cell_type": "code",
      "source": [
        "def findAreaAndPerimeter(length, width):\n",
        "    \"\"\"\n",
        "    Function takes length and width of a rectangle.\n",
        "    Finds and returns area and perimeter of the rectangle.\n",
        "    \"\"\"\n",
        "    area = length*width\n",
        "    perimeter = 2*(length+width)\n",
        "    return area, perimeter"
      ],
      "metadata": {
        "id": "SoR1A5R5xsg2"
      },
      "execution_count": 51,
      "outputs": []
    },
    {
      "cell_type": "code",
      "source": [
        "print(findAreaAndPerimeter(10, 5))"
      ],
      "metadata": {
        "colab": {
          "base_uri": "https://localhost:8080/"
        },
        "id": "ffXUoUryySdg",
        "outputId": "b42c77e4-ab4b-40d1-9696-7e3b2edd7296"
      },
      "execution_count": 52,
      "outputs": [
        {
          "output_type": "stream",
          "name": "stdout",
          "text": [
            "(50, 30)\n"
          ]
        }
      ]
    },
    {
      "cell_type": "code",
      "source": [
        "a, p = findAreaAndPerimeter(20, 10)\n",
        "print(f'area = {a} and perimeter = {p}')"
      ],
      "metadata": {
        "colab": {
          "base_uri": "https://localhost:8080/"
        },
        "id": "2SOwc0sPyWAv",
        "outputId": "ec10774d-4b95-4d7a-ac62-93cb5939806a"
      },
      "execution_count": 53,
      "outputs": [
        {
          "output_type": "stream",
          "name": "stdout",
          "text": [
            "area = 200 and perimeter = 60\n"
          ]
        }
      ]
    },
    {
      "cell_type": "code",
      "source": [
        "# test getAreaAndParameter() function\n",
        "assert findAreaAndPerimeter(4, 2) == (8, 12)\n",
        "print(\"Correcto\")"
      ],
      "metadata": {
        "colab": {
          "base_uri": "https://localhost:8080/"
        },
        "id": "hQCe2xC0ybsB",
        "outputId": "f38db886-a15c-48de-cfdd-e746bd246578"
      },
      "execution_count": 55,
      "outputs": [
        {
          "output_type": "stream",
          "name": "stdout",
          "text": [
            "Correcto\n"
          ]
        }
      ]
    },
    {
      "cell_type": "markdown",
      "source": [
        "## 3.3.9 Función llamando a una función\n",
        "- una función se puede llamar desde dentro de otra función\n",
        "- una función puede llamarse a sí misma -- llamada recursividad (vea el Capítulo 13)"
      ],
      "metadata": {
        "id": "gvNKmjsyyJGd"
      }
    },
    {
      "cell_type": "code",
      "source": [
        "def average(num1, num2):\n",
        "    '''Promedio de dos numero'''\n",
        "    sum_of_nums = suma(num1, num2)\n",
        "    return sum_of_nums/2"
      ],
      "metadata": {
        "id": "FsgNcR8vyuH1"
      },
      "execution_count": 58,
      "outputs": []
    },
    {
      "cell_type": "code",
      "source": [
        "avg = average(10, 20)\n",
        "print(f'avg of 10 and 20 = {avg}')"
      ],
      "metadata": {
        "colab": {
          "base_uri": "https://localhost:8080/"
        },
        "id": "GKnLLZAXywHH",
        "outputId": "f748f589-79f0-45f8-8b50-6f9caadc61dd"
      },
      "execution_count": 59,
      "outputs": [
        {
          "output_type": "stream",
          "name": "stdout",
          "text": [
            "avg of 10 and 20 = 15.0\n"
          ]
        }
      ]
    },
    {
      "cell_type": "markdown",
      "source": [
        "## 3.3.10 Exercises"
      ],
      "metadata": {
        "id": "_Sl0JUCSzG3F"
      }
    },
    {
      "cell_type": "markdown",
      "source": [
        "### ejercicio 1\n",
        "Escribe una función que tome dos números; resta el segundo del primero y devuelve la diferencia.\n",
        "Escriba dos casos de prueba."
      ],
      "metadata": {
        "id": "VNooyisAzIaJ"
      }
    },
    {
      "cell_type": "code",
      "source": [
        "def sub(num1, num2):\n",
        "  return num1-num2"
      ],
      "metadata": {
        "id": "VagUgbC_zGQZ"
      },
      "execution_count": 60,
      "outputs": []
    },
    {
      "cell_type": "code",
      "source": [
        "def test_sub():\n",
        "  assert sub(100, 50) == 50\n",
        "  assert sub(5021, 21) == 5000\n",
        "  print('¡Todos los casos de prueba pasaron para sub()!')"
      ],
      "metadata": {
        "id": "UIvy9655znbv"
      },
      "execution_count": 68,
      "outputs": []
    },
    {
      "cell_type": "code",
      "source": [
        "test_sub()"
      ],
      "metadata": {
        "colab": {
          "base_uri": "https://localhost:8080/"
        },
        "id": "9EInHBI80ALM",
        "outputId": "25312843-7d94-4411-c3fa-386f81f495bf"
      },
      "execution_count": 69,
      "outputs": [
        {
          "output_type": "stream",
          "name": "stdout",
          "text": [
            "¡Todos los casos de prueba pasaron para sub()!\n"
          ]
        }
      ]
    },
    {
      "cell_type": "markdown",
      "source": [
        "### exercise 2\n",
        "Write a function that converts seconds to hours, minutes and seconds. Function then returns the values in HH:MM:SS format (e.g., 01:09:10)\n"
      ],
      "metadata": {
        "id": "6QixJ9hk0wBs"
      }
    },
    {
      "cell_type": "code",
      "source": [
        "def get_time(seconds):\n",
        "  hora = seconds//3600\n",
        "  minutos = (seconds % 3600)//60\n",
        "  segundos = (seconds % 60)\n",
        "\n",
        "  time_str = f\"{hora}:{minutos}:{segundos}\"\n",
        "  return time_str\n",
        "\n",
        "  #// Es una división entera devuelve el cociente entero de una división,\n",
        "  # descartando cualquier parte fraccionaria del resultado"
      ],
      "metadata": {
        "id": "vGJZkN-H0x9h"
      },
      "execution_count": 138,
      "outputs": []
    },
    {
      "cell_type": "code",
      "source": [
        "def test_get_time():\n",
        "    assert get_time(3600) == '1:0:0'\n",
        "    assert get_time(3661) == '1:1:1'\n",
        "    assert get_time(3666) == '1:1:6'\n",
        "    assert get_time(36610) == '10:10:10'\n",
        "    print('all test cases passed for get_time()')"
      ],
      "metadata": {
        "id": "ZgjUrbaj2v6f"
      },
      "execution_count": 105,
      "outputs": []
    },
    {
      "cell_type": "code",
      "source": [
        "test_get_time()"
      ],
      "metadata": {
        "colab": {
          "base_uri": "https://localhost:8080/"
        },
        "id": "EC9Xab2a2ydu",
        "outputId": "3879a26f-7353-413e-ac0b-37cd1b331794"
      },
      "execution_count": 139,
      "outputs": [
        {
          "output_type": "stream",
          "name": "stdout",
          "text": [
            "all test cases passed for get_time()\n"
          ]
        }
      ]
    },
    {
      "cell_type": "markdown",
      "source": [
        "### ejercicio 3\n",
        "Escribe una función llamada hipotenusa que devuelva la longitud de la hipotenusa de un triángulo rectángulo dadas las longitudes de los dos catetos como parámetros."
      ],
      "metadata": {
        "id": "0zh-X7hs5Uq9"
      }
    },
    {
      "cell_type": "code",
      "source": [
        "import math\n",
        "from math import sqrt"
      ],
      "metadata": {
        "id": "0IsYKSTQ5qIC"
      },
      "execution_count": 123,
      "outputs": []
    },
    {
      "cell_type": "code",
      "source": [
        "def hypotenuse(leg1, leg2):\n",
        "  hipo = sqrt(pow(leg1, 2) + pow(leg2, 2))\n",
        "  return float(hipo)"
      ],
      "metadata": {
        "id": "EeEzjZ6u5iV_"
      },
      "execution_count": 128,
      "outputs": []
    },
    {
      "cell_type": "code",
      "source": [
        "def test_hypotenuse():\n",
        "    assert hypotenuse(3, 4) == 5.0\n",
        "    assert hypotenuse(12, 5) == 13.0\n",
        "    assert hypotenuse(24, 7) == 25.0\n",
        "    assert hypotenuse(9, 12) == 15.0\n",
        "    print('all test cases passed hypotenuse()')"
      ],
      "metadata": {
        "id": "mO2Mmxfb6APT"
      },
      "execution_count": 112,
      "outputs": []
    },
    {
      "cell_type": "code",
      "source": [
        "test_hypotenuse()"
      ],
      "metadata": {
        "colab": {
          "base_uri": "https://localhost:8080/"
        },
        "id": "Co-E7cgw6BpL",
        "outputId": "197c1851-71a9-4b1f-f27f-d39915b26eeb"
      },
      "execution_count": 130,
      "outputs": [
        {
          "output_type": "stream",
          "name": "stdout",
          "text": [
            "all test cases passed hypotenuse()\n"
          ]
        }
      ]
    },
    {
      "cell_type": "markdown",
      "source": [
        "### ejercicio 4\n",
        "Escribe una función pendiente (x1, y1, x2, y2) que devuelva la pendiente de la recta que pasa por los puntos (x1, y1) y (x2, y2). Asegúrese de que su implementación de pendiente pueda pasar los casos de prueba provistos en test_slope().\n",
        "\n",
        "Luego use una llamada para inclinar una nueva función llamada intercepción (x1, y1, x2, y2) que devuelve la intersección y de la línea a través de los puntos (x1, y1) y (x2, y2)"
      ],
      "metadata": {
        "id": "kHgjIJ8BLHFR"
      }
    },
    {
      "cell_type": "code",
      "source": [
        "def slope(x1, y1, x2, y2):\n",
        "  m = (y2-y1)/(x2-x1)\n",
        "  return m"
      ],
      "metadata": {
        "id": "SRNfaxNxLjTz"
      },
      "execution_count": 140,
      "outputs": []
    },
    {
      "cell_type": "code",
      "source": [
        "def test_slope():\n",
        "    assert slope(5, 3, 4, 2) == 1.0\n",
        "    assert slope(1, 2, 3, 2) == 0.0\n",
        "    assert slope(1, 2, 3, 3) == 0.5\n",
        "    assert slope(2, 4, 1, 2) == 2.0\n",
        "    print('all test cases passed for slope()')"
      ],
      "metadata": {
        "id": "j6OaDwSAMab_"
      },
      "execution_count": 141,
      "outputs": []
    },
    {
      "cell_type": "code",
      "source": [
        "test_slope()"
      ],
      "metadata": {
        "colab": {
          "base_uri": "https://localhost:8080/"
        },
        "id": "J793Wnv-MbOr",
        "outputId": "e0cffc24-ff79-43fa-ddb0-2636068231d7"
      },
      "execution_count": 142,
      "outputs": [
        {
          "output_type": "stream",
          "name": "stdout",
          "text": [
            "all test cases passed for slope()\n"
          ]
        }
      ]
    },
    {
      "cell_type": "code",
      "source": [
        "def intercept(x1, y1, x2, y2):\n",
        "  m = slope(x1, y1, x2, y2)\n",
        "  b = y2 - (m * x2)\n",
        "  b1 = y1 - (m * x1)\n",
        "\n",
        "  if b == b1:\n",
        "    return b\n",
        ""
      ],
      "metadata": {
        "id": "VB8amEviMeFp"
      },
      "execution_count": 152,
      "outputs": []
    },
    {
      "cell_type": "code",
      "source": [
        "def test_intercept():\n",
        "    assert intercept(1, 6, 3, 12) == 3.0\n",
        "    assert intercept(6, 1, 1, 6) == 7.0\n",
        "    assert intercept(4, 6, 12, 8) == 5.0\n",
        "    print('all test cases passed for intercept()')"
      ],
      "metadata": {
        "id": "NPdsErwPQaKl"
      },
      "execution_count": 144,
      "outputs": []
    },
    {
      "cell_type": "code",
      "source": [
        "test_intercept()"
      ],
      "metadata": {
        "colab": {
          "base_uri": "https://localhost:8080/"
        },
        "id": "3CP730C_Qcup",
        "outputId": "1f875f1d-b196-4e44-ae68-4a208767c4b9"
      },
      "execution_count": 153,
      "outputs": [
        {
          "output_type": "stream",
          "name": "stdout",
          "text": [
            "all test cases passed for intercept()\n"
          ]
        }
      ]
    },
    {
      "cell_type": "markdown",
      "source": [
        "## Problemas de Kattis que requieren funciones\n",
        "- No se requieren funciones para resolver problemas.\n",
        "- puedes usar la función para resolver todos y cada uno de los problemas\n",
        "- se requiere la función si debe escribir pruebas unitarias automatizadas"
      ],
      "metadata": {
        "id": "v46e6UAVie6j"
      }
    }
  ]
}