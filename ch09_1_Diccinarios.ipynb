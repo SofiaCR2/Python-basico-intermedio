{
  "nbformat": 4,
  "nbformat_minor": 0,
  "metadata": {
    "colab": {
      "provenance": [],
      "authorship_tag": "ABX9TyP05UzkfHFEGj85hN0mzg4v",
      "include_colab_link": true
    },
    "kernelspec": {
      "name": "python3",
      "display_name": "Python 3"
    },
    "language_info": {
      "name": "python"
    }
  },
  "cells": [
    {
      "cell_type": "markdown",
      "metadata": {
        "id": "view-in-github",
        "colab_type": "text"
      },
      "source": [
        "<a href=\"https://colab.research.google.com/github/SofiaCR2/Python-basico-intermedio/blob/main/ch09_1_Diccinarios.ipynb\" target=\"_parent\"><img src=\"https://colab.research.google.com/assets/colab-badge.svg\" alt=\"Open In Colab\"/></a>"
      ]
    },
    {
      "cell_type": "markdown",
      "source": [
        "#Diccionarios\n",
        "- Orto tipo de dato/contenedor compuesto, similar a las listas y tuplas.\n",
        "- Contenedor de datos muy utiles, compuesto por elementos:**key**(llaves) y **value**(valor almacenado)"
      ],
      "metadata": {
        "id": "zCfJYdkCskxr"
      }
    },
    {
      "cell_type": "code",
      "execution_count": null,
      "metadata": {
        "id": "iaNIy0o8sfA5"
      },
      "outputs": [],
      "source": [
        "mi_primer_diccionario = {}"
      ]
    },
    {
      "cell_type": "code",
      "source": [
        "type(mi_primer_diccionario)"
      ],
      "metadata": {
        "colab": {
          "base_uri": "https://localhost:8080/"
        },
        "id": "r1cdzbf7tA40",
        "outputId": "918854e7-562f-44a2-824e-9c1a56c04ff6"
      },
      "execution_count": null,
      "outputs": [
        {
          "output_type": "execute_result",
          "data": {
            "text/plain": [
              "dict"
            ]
          },
          "metadata": {},
          "execution_count": 4
        }
      ]
    },
    {
      "cell_type": "markdown",
      "source": [
        "#Creando diccionarios"
      ],
      "metadata": {
        "id": "BUfV3XQ3xnNl"
      }
    },
    {
      "cell_type": "code",
      "source": [
        "#ingles, esañol\n",
        "ing_esp_dict = {}"
      ],
      "metadata": {
        "id": "tywbSljwtD2u"
      },
      "execution_count": null,
      "outputs": []
    },
    {
      "cell_type": "code",
      "source": [
        "print(ing_esp_dict)"
      ],
      "metadata": {
        "colab": {
          "base_uri": "https://localhost:8080/"
        },
        "id": "ola4PKCztLa6",
        "outputId": "02cb4692-6c57-4ac2-b1c9-a6cc884a5e8b"
      },
      "execution_count": null,
      "outputs": [
        {
          "output_type": "stream",
          "name": "stdout",
          "text": [
            "{}\n"
          ]
        }
      ]
    },
    {
      "cell_type": "code",
      "source": [
        "ing_esp_dict[\"one\"] = \"uno\""
      ],
      "metadata": {
        "id": "mhIjgHe0tRSQ"
      },
      "execution_count": null,
      "outputs": []
    },
    {
      "cell_type": "code",
      "source": [
        "#Diccionarios son objetos mutables\n",
        "\n",
        "ing_esp_dict[\"two\"] = \"dos\"\n",
        "ing_esp_dict[\"three\"] = \"tres\"\n",
        "ing_esp_dict[4] = \"cuatro\"\n",
        "ing_esp_dict[\"five\"] = 5"
      ],
      "metadata": {
        "id": "rkWvVs7Kt4Z_"
      },
      "execution_count": null,
      "outputs": []
    },
    {
      "cell_type": "markdown",
      "source": [
        "#Accediendo a los valores"
      ],
      "metadata": {
        "id": "j1Yyqp8UuNtI"
      }
    },
    {
      "cell_type": "code",
      "source": [
        "ing_esp_dict[\"five\"]"
      ],
      "metadata": {
        "colab": {
          "base_uri": "https://localhost:8080/"
        },
        "id": "TXnrHTFWuQDj",
        "outputId": "6d3d2ccf-6c90-4073-b177-c11f624fe219"
      },
      "execution_count": null,
      "outputs": [
        {
          "output_type": "execute_result",
          "data": {
            "text/plain": [
              "5"
            ]
          },
          "metadata": {},
          "execution_count": 11
        }
      ]
    },
    {
      "cell_type": "markdown",
      "source": [
        "#Métodos"
      ],
      "metadata": {
        "id": "8D8vLADiuvLF"
      }
    },
    {
      "cell_type": "code",
      "source": [
        "#help(dict)"
      ],
      "metadata": {
        "id": "Ftq5QE3zutzi"
      },
      "execution_count": null,
      "outputs": []
    },
    {
      "cell_type": "code",
      "source": [
        "ing_esp_dict.keys()"
      ],
      "metadata": {
        "colab": {
          "base_uri": "https://localhost:8080/"
        },
        "id": "-_2N3L5au0gE",
        "outputId": "ba0cce1b-453b-4ca0-9d34-50206bb1c44a"
      },
      "execution_count": null,
      "outputs": [
        {
          "output_type": "execute_result",
          "data": {
            "text/plain": [
              "dict_keys(['one', 'two', 'three', 4, 'five'])"
            ]
          },
          "metadata": {},
          "execution_count": 13
        }
      ]
    },
    {
      "cell_type": "code",
      "source": [
        "type(ing_esp_dict.keys())"
      ],
      "metadata": {
        "colab": {
          "base_uri": "https://localhost:8080/"
        },
        "id": "0lleYB37u76t",
        "outputId": "251d27d5-fc37-46b2-d689-dcf5dc9975f1"
      },
      "execution_count": null,
      "outputs": [
        {
          "output_type": "execute_result",
          "data": {
            "text/plain": [
              "dict_keys"
            ]
          },
          "metadata": {},
          "execution_count": 14
        }
      ]
    },
    {
      "cell_type": "code",
      "source": [
        "for key in ing_esp_dict.keys():\n",
        "  print(f\"Key = {key}, Value = {ing_esp_dict[key]}\")"
      ],
      "metadata": {
        "id": "X7AHQYrHv7e0",
        "colab": {
          "base_uri": "https://localhost:8080/"
        },
        "outputId": "d794005b-5a75-4a11-db9f-8380b8d4f037"
      },
      "execution_count": 25,
      "outputs": [
        {
          "output_type": "stream",
          "name": "stdout",
          "text": [
            "Key = one, Value = uno\n",
            "Key = two, Value = dos\n",
            "Key = three, Value = tres\n",
            "Key = 4, Value = cuatro\n",
            "Key = five, Value = 5\n"
          ]
        }
      ]
    },
    {
      "cell_type": "code",
      "source": [
        "ing_esp_dict.values()"
      ],
      "metadata": {
        "colab": {
          "base_uri": "https://localhost:8080/"
        },
        "id": "rzJlys0xwGFU",
        "outputId": "7da84e44-5f34-4f20-cd67-e6d3ddf5d7a4"
      },
      "execution_count": 17,
      "outputs": [
        {
          "output_type": "execute_result",
          "data": {
            "text/plain": [
              "dict_values(['uno', 'dos', 'tres', 'cuatro', 5])"
            ]
          },
          "metadata": {},
          "execution_count": 17
        }
      ]
    },
    {
      "cell_type": "code",
      "source": [
        "for values in ing_esp_dict.values():\n",
        "  print(f\"values = {values}\")"
      ],
      "metadata": {
        "colab": {
          "base_uri": "https://localhost:8080/"
        },
        "id": "bEPKuCk8wKHV",
        "outputId": "1b75c838-1d47-4abb-ca24-76e87b3be346"
      },
      "execution_count": 18,
      "outputs": [
        {
          "output_type": "stream",
          "name": "stdout",
          "text": [
            "values = uno\n",
            "values = dos\n",
            "values = tres\n",
            "values = cuatro\n",
            "values = 5\n"
          ]
        }
      ]
    },
    {
      "cell_type": "code",
      "source": [
        "ing_esp_dict.items()"
      ],
      "metadata": {
        "colab": {
          "base_uri": "https://localhost:8080/"
        },
        "id": "DK9oOAwDwTpH",
        "outputId": "a8c89a98-d8bb-4e20-8588-0bcf8a6b6348"
      },
      "execution_count": 20,
      "outputs": [
        {
          "output_type": "execute_result",
          "data": {
            "text/plain": [
              "dict_items([('one', 'uno'), ('two', 'dos'), ('three', 'tres'), (4, 'cuatro'), ('five', 5)])"
            ]
          },
          "metadata": {},
          "execution_count": 20
        }
      ]
    },
    {
      "cell_type": "code",
      "source": [
        "for k, v in ing_esp_dict.items():\n",
        "  print(f\"key = {k}, value = {v}\")"
      ],
      "metadata": {
        "colab": {
          "base_uri": "https://localhost:8080/"
        },
        "id": "aqEN2EUJweRO",
        "outputId": "9e3c46f1-aa53-409e-ba7a-f5c865e41dd7"
      },
      "execution_count": 22,
      "outputs": [
        {
          "output_type": "stream",
          "name": "stdout",
          "text": [
            "key = one, value = uno\n",
            "key = two, value = dos\n",
            "key = three, value = tres\n",
            "key = 4, value = cuatro\n",
            "key = five, value = 5\n"
          ]
        }
      ]
    },
    {
      "cell_type": "markdown",
      "source": [
        "#Revisando llaves con operadores"
      ],
      "metadata": {
        "id": "30IbCT5dwtq1"
      }
    },
    {
      "cell_type": "code",
      "source": [
        "\"one\" in ing_esp_dict"
      ],
      "metadata": {
        "colab": {
          "base_uri": "https://localhost:8080/"
        },
        "id": "wkolsFrMwqZM",
        "outputId": "7cc7ff6f-df71-4c1b-b5d8-4aebc29ce886"
      },
      "execution_count": 23,
      "outputs": [
        {
          "output_type": "execute_result",
          "data": {
            "text/plain": [
              "True"
            ]
          },
          "metadata": {},
          "execution_count": 23
        }
      ]
    },
    {
      "cell_type": "code",
      "source": [
        "\"four\" in ing_esp_dict"
      ],
      "metadata": {
        "colab": {
          "base_uri": "https://localhost:8080/"
        },
        "id": "vZHFlZYBwxiL",
        "outputId": "a78196b6-5df5-402a-95d3-9ba50ad77ea8"
      },
      "execution_count": 24,
      "outputs": [
        {
          "output_type": "execute_result",
          "data": {
            "text/plain": [
              "False"
            ]
          },
          "metadata": {},
          "execution_count": 24
        }
      ]
    }
  ]
}