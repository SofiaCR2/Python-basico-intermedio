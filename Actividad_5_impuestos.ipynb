{
  "nbformat": 4,
  "nbformat_minor": 0,
  "metadata": {
    "colab": {
      "provenance": [],
      "authorship_tag": "ABX9TyOP2q8NojgMI5+IfEfh7ak4",
      "include_colab_link": true
    },
    "kernelspec": {
      "name": "python3",
      "display_name": "Python 3"
    },
    "language_info": {
      "name": "python"
    }
  },
  "cells": [
    {
      "cell_type": "markdown",
      "metadata": {
        "id": "view-in-github",
        "colab_type": "text"
      },
      "source": [
        "<a href=\"https://colab.research.google.com/github/SofiaCR2/Python-basico-intermedio/blob/main/Actividad_5_impuestos.ipynb\" target=\"_parent\"><img src=\"https://colab.research.google.com/assets/colab-badge.svg\" alt=\"Open In Colab\"/></a>"
      ]
    },
    {
      "cell_type": "code",
      "execution_count": 7,
      "metadata": {
        "colab": {
          "base_uri": "https://localhost:8080/"
        },
        "id": "UONm1BbmI3tb",
        "outputId": "0e9d0f70-34e8-46a7-d3de-0100c98443f1"
      },
      "outputs": [
        {
          "output_type": "stream",
          "name": "stdout",
          "text": [
            "Ingresa los impuestos: 3.5\n",
            "Los impuestos a pagar son:  0.17500000000000002\n"
          ]
        }
      ],
      "source": [
        "ingresos = float(input(\"Ingresa los impuestos: \"))\n",
        "\n",
        "if ingresos > 0 and ingresos <= 1000:\n",
        "  total1= ingresos * .05\n",
        "  print(\"Los impuestos a pagar son: \", total1)\n",
        "elif ingresos > 1000 and ingresos <= 2000:\n",
        "  total1= ingresos * .15\n",
        "  print(\"Los impuestos a pagar son: \", total1)\n",
        "elif ingresos > 2000 and ingresos <= 3000:\n",
        "  total1= ingresos * .20\n",
        "  print(\"Los impuestos a pagar son: \", total1)\n",
        "elif ingresos > 3000:\n",
        "  total1 = ingresos * .30\n",
        "  print(\"Los impuestos a pagar son: \", total1)\n",
        "elif ingresos < 0:\n",
        "  print(\"El monto del ingreso debe de ser positivo\")\n",
        "else:\n",
        "  print(\"No ingresoun monto\")"
      ]
    }
  ]
}