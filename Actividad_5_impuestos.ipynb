{
  "nbformat": 4,
  "nbformat_minor": 0,
  "metadata": {
    "colab": {
      "provenance": [],
      "authorship_tag": "ABX9TyNd7a94UXAJSTC76JtwOHFD",
      "include_colab_link": true
    },
    "kernelspec": {
      "name": "python3",
      "display_name": "Python 3"
    },
    "language_info": {
      "name": "python"
    }
  },
  "cells": [
    {
      "cell_type": "markdown",
      "metadata": {
        "id": "view-in-github",
        "colab_type": "text"
      },
      "source": [
        "<a href=\"https://colab.research.google.com/github/SofiaCR2/Python-basico-intermedio/blob/main/Actividad_5_impuestos.ipynb\" target=\"_parent\"><img src=\"https://colab.research.google.com/assets/colab-badge.svg\" alt=\"Open In Colab\"/></a>"
      ]
    },
    {
      "cell_type": "code",
      "execution_count": 4,
      "metadata": {
        "colab": {
          "base_uri": "https://localhost:8080/"
        },
        "id": "UONm1BbmI3tb",
        "outputId": "76107406-bb38-4366-f067-038db40736a4"
      },
      "outputs": [
        {
          "output_type": "stream",
          "name": "stdout",
          "text": [
            "Ingresa los impuestos: 3100\n",
            "Los impuestos a pagar son:  930.0\n"
          ]
        }
      ],
      "source": [
        "ingresos = int(input(\"Ingresa los impuestos: \"))\n",
        "\n",
        "if ingresos <= 1000:\n",
        "  total1= ingresos * .05\n",
        "  print(\"Los impuestos a pagar son: \", total1)\n",
        "elif ingresos > 1000 and ingresos <= 2000:\n",
        "  total1= ingresos * .15\n",
        "  print(\"Los impuestos a pagar son: \", total1)\n",
        "elif ingresos > 2000 and ingresos <= 3000:\n",
        "  total1= ingresos * .20\n",
        "  print(\"Los impuestos a pagar son: \", total1)\n",
        "elif ingresos > 3000:\n",
        "  total1 = ingresos * .30\n",
        "  print(\"Los impuestos a pagar son: \", total1)"
      ]
    }
  ]
}