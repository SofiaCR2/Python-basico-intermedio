{
  "cells": [
    {
      "cell_type": "markdown",
      "metadata": {
        "id": "view-in-github",
        "colab_type": "text"
      },
      "source": [
        "<a href=\"https://colab.research.google.com/github/SofiaCR2/Python-basico-intermedio/blob/main/ch26_SlqiteDB.ipynb\" target=\"_parent\"><img src=\"https://colab.research.google.com/assets/colab-badge.svg\" alt=\"Open In Colab\"/></a>"
      ]
    },
    {
      "cell_type": "markdown",
      "metadata": {
        "id": "4Sq3Tdh1_pQT"
      },
      "source": [
        "# Base de datos SQLite\n",
        "- https://www.sqlite.org/\n",
        "- Basado en C, una de las bases de datos integradas más utilizadas (configuración cero)\n",
        "\n",
        "## Conceptos básicos de SQL\n",
        "- Lenguaje de consulta estructurado\n",
        "- lenguaje insensible a mayúsculas y minúsculas; generalmente escrito en mayúsculas\n",
        "- Permita que usted o el programa utilicen bases de datos basadas en SQL como SQLite, MySQL, MSSQL, PostgreSQL, etc.\n",
        "- declaraciones básicas más importantes para aprender: CRUD\n",
        "- C: crear (base de datos, tabla, crear e insertar registros)\n",
        "- R: recuperar/leer datos\n",
        "-U: actualizar datos\n",
        "- D: eliminar datos\n",
        "- http://www.w3schools.com/sql/default.asp\n",
        "\n",
        "## navegador sqlite\n",
        "- Explorador de sqlite db basado en GUI\n",
        "- facilita la visualización de datos y el aprendizaje de SQL\n",
        "- http://sqlitebrowser.org/"
      ]
    },
    {
      "cell_type": "markdown",
      "metadata": {
        "id": "REy5Kk_d_pQW"
      },
      "source": [
        "## módulo sqlite3\n",
        "- python3 proporciona la biblioteca sqlite3 para trabajar con la base de datos sqlite\n",
        "- https://docs.python.org/3/library/sqlite3.html\n",
        "- SQLite admite de forma nativa los siguientes tipos: NULL, INTEGER, REAL, TEXT, BLOB\n",
        "\n",
        "|SQLite type|Python type|\n",
        "| ---|---|\n",
        "| NULL | None |\n",
        "| INTEGER | int |\n",
        "| REAL | float |\n",
        "| TEXT | str |\n",
        "| BLOB | bytes |\n",
        "\n",
        "## en el ejemplo de base de datos de memoria"
      ]
    },
    {
      "cell_type": "code",
      "execution_count": 1,
      "metadata": {
        "colab": {
          "base_uri": "https://localhost:8080/"
        },
        "id": "uINrPWZp_pQW",
        "outputId": "1ad0587d-7051-461a-a62e-f16e1772970d"
      },
      "outputs": [
        {
          "output_type": "execute_result",
          "data": {
            "text/plain": [
              "<sqlite3.Cursor at 0x7a29d2293bc0>"
            ]
          },
          "metadata": {},
          "execution_count": 1
        }
      ],
      "source": [
        "import sqlite3\n",
        "# connect to the memory database\n",
        "con = sqlite3.connect(\":memory:\")\n",
        "\n",
        "# create a table\n",
        "con.execute(\"create table person(fname, lname)\")"
      ]
    },
    {
      "cell_type": "code",
      "execution_count": 6,
      "metadata": {
        "colab": {
          "base_uri": "https://localhost:8080/"
        },
        "id": "Ct6liXY-_pQX",
        "outputId": "b0003adc-591f-42ee-d6a9-364e7309bc7b"
      },
      "outputs": [
        {
          "output_type": "execute_result",
          "data": {
            "text/plain": [
              "<sqlite3.Cursor at 0x7a29d21b0a40>"
            ]
          },
          "metadata": {},
          "execution_count": 6
        }
      ],
      "source": [
        "# fill the table with data\n",
        "persons = [('Hugo', 'Boss'), ('Calvin', 'Klien')]\n",
        "con.executemany(\"insert into person(fname, lname) values (?, ?)\",\n",
        "                persons)"
      ]
    },
    {
      "cell_type": "code",
      "execution_count": 7,
      "metadata": {
        "colab": {
          "base_uri": "https://localhost:8080/"
        },
        "id": "Cm6Q6cqc_pQX",
        "outputId": "2f8f51d6-9135-4594-8b2c-15febc7264b6"
      },
      "outputs": [
        {
          "output_type": "stream",
          "name": "stdout",
          "text": [
            "(2, 'Calvin', 'Klien')\n",
            "(3, 'Hugo', 'Boss')\n",
            "(4, 'Calvin', 'Klien')\n"
          ]
        }
      ],
      "source": [
        "# print the table contents\n",
        "for row in con.execute(\"select rowid, fname, lname from person\"):\n",
        "    print(row)"
      ]
    },
    {
      "cell_type": "code",
      "execution_count": 8,
      "metadata": {
        "colab": {
          "base_uri": "https://localhost:8080/"
        },
        "id": "vHT5PiLu_pQY",
        "outputId": "468455d0-afe6-4350-e42e-f74f3f8cb0ac"
      },
      "outputs": [
        {
          "output_type": "stream",
          "name": "stdout",
          "text": [
            "I just deleted 0 rows\n"
          ]
        }
      ],
      "source": [
        "print(\"I just deleted\", con.execute(\"delete from person where rowid=1\").rowcount,\n",
        "      \"rows\")"
      ]
    },
    {
      "cell_type": "markdown",
      "metadata": {
        "id": "gw0Pdf47_pQY"
      },
      "source": [
        "## ejemplo de archivo db\n",
        "### crear base de datos, crear tabla e insertar datos en la tabla"
      ]
    },
    {
      "cell_type": "code",
      "execution_count": 9,
      "metadata": {
        "colab": {
          "base_uri": "https://localhost:8080/"
        },
        "id": "QlkhA68l_pQY",
        "outputId": "8d5cfbec-351a-45ab-8527-dc8ac4324b9e"
      },
      "outputs": [
        {
          "output_type": "execute_result",
          "data": {
            "text/plain": [
              "<sqlite3.Cursor at 0x7a29d21b0e40>"
            ]
          },
          "metadata": {},
          "execution_count": 9
        }
      ],
      "source": [
        "import sqlite3\n",
        "# create connection\n",
        "conn = sqlite3.connect('example.db')\n",
        "# create cursor object\n",
        "cur = conn.cursor()\n",
        "\n",
        "cur.execute(\"\"\"CREATE TABLE IF NOT EXISTS students (\n",
        "                firstName text,\n",
        "                lastName text,\n",
        "                test1 real,\n",
        "                test2 real,\n",
        "                average real,\n",
        "                grade text\n",
        "                )\n",
        "            \"\"\")"
      ]
    },
    {
      "cell_type": "code",
      "execution_count": 10,
      "metadata": {
        "colab": {
          "base_uri": "https://localhost:8080/"
        },
        "id": "yqRIBg7g_pQY",
        "outputId": "5a0bb363-9439-4458-c769-8c59462969d0"
      },
      "outputs": [
        {
          "output_type": "execute_result",
          "data": {
            "text/plain": [
              "<sqlite3.Cursor at 0x7a29d21b0e40>"
            ]
          },
          "metadata": {},
          "execution_count": 10
        }
      ],
      "source": [
        "query = \"\"\" INSERT INTO students (firstName, lastName,\n",
        "            test1, test2) values (?, ?, ?, ?)\n",
        "        \"\"\"\n",
        "cur.execute(query, ('John', 'Smith', 99, 95.5))"
      ]
    },
    {
      "cell_type": "code",
      "execution_count": 11,
      "metadata": {
        "colab": {
          "base_uri": "https://localhost:8080/"
        },
        "id": "Pl217SXZ_pQY",
        "outputId": "d8169b26-980b-4c2d-f52f-b50626c310d2"
      },
      "outputs": [
        {
          "output_type": "execute_result",
          "data": {
            "text/plain": [
              "<sqlite3.Cursor at 0x7a29d21b0e40>"
            ]
          },
          "metadata": {},
          "execution_count": 11
        }
      ],
      "source": [
        "cur.execute(query, ('Michael', 'Jordan', 50, 65))"
      ]
    },
    {
      "cell_type": "code",
      "execution_count": 12,
      "metadata": {
        "id": "-PZY9V_H_pQZ"
      },
      "outputs": [],
      "source": [
        "# save/commit the changes to the db\n",
        "conn.commit()\n",
        "# close the database if done\n",
        "conn.close()"
      ]
    },
    {
      "cell_type": "markdown",
      "metadata": {
        "id": "xkcdighj_pQZ"
      },
      "source": [
        "### abrir base de datos, leer y actualizar tabla"
      ]
    },
    {
      "cell_type": "code",
      "execution_count": 13,
      "metadata": {
        "id": "6ksJhdKe_pQZ"
      },
      "outputs": [],
      "source": [
        "import sqlite3\n",
        "conn = sqlite3.connect('example.db')\n",
        "cur = conn.cursor()"
      ]
    },
    {
      "cell_type": "code",
      "execution_count": 14,
      "metadata": {
        "colab": {
          "base_uri": "https://localhost:8080/"
        },
        "id": "U7LBfdnl_pQZ",
        "outputId": "9fa82e29-94e2-4304-e2b0-61acba38e0e0"
      },
      "outputs": [
        {
          "output_type": "stream",
          "name": "stdout",
          "text": [
            "('John', 'Smith', 99.0, 95.5, None, None)\n"
          ]
        }
      ],
      "source": [
        "cur.execute('SELECT * FROM students where rowid = 1')\n",
        "row = cur.fetchone() # returns one row as tuple if rowid with value 1 exists\n",
        "print(row)"
      ]
    },
    {
      "cell_type": "code",
      "execution_count": 15,
      "metadata": {
        "colab": {
          "base_uri": "https://localhost:8080/"
        },
        "id": "gsxuPjmF_pQZ",
        "outputId": "c5d58c2b-c3fc-4d38-87a7-7a88a290ec8b"
      },
      "outputs": [
        {
          "output_type": "stream",
          "name": "stdout",
          "text": [
            "John\n",
            "Smith\n",
            "99.0\n",
            "95.5\n",
            "None\n",
            "None\n"
          ]
        }
      ],
      "source": [
        "for col in row:\n",
        "    print(col)"
      ]
    },
    {
      "cell_type": "code",
      "execution_count": 17,
      "metadata": {
        "colab": {
          "base_uri": "https://localhost:8080/"
        },
        "id": "5U-gBmxy_pQZ",
        "outputId": "c49bd29c-095e-4940-ff89-19e24768d4d3"
      },
      "outputs": [
        {
          "output_type": "stream",
          "name": "stdout",
          "text": [
            "[(1, 'John', 'Smith', 99.0, 95.5, None, None), (2, 'Michael', 'Jordan', 50.0, 65.0, None, None)]\n"
          ]
        }
      ],
      "source": [
        "cur.execute('SELECT rowid, * FROM students')\n",
        "rows = cur.fetchall()\n",
        "print(rows)"
      ]
    },
    {
      "cell_type": "code",
      "execution_count": 18,
      "metadata": {
        "colab": {
          "base_uri": "https://localhost:8080/"
        },
        "id": "L08h6sVv_pQa",
        "outputId": "8d96283a-fa34-4c7d-cb69-15848e6c7cbe"
      },
      "outputs": [
        {
          "output_type": "stream",
          "name": "stdout",
          "text": [
            "(1, 'John', 'Smith', 99.0, 95.5, None, None)\n",
            "(2, 'Michael', 'Jordan', 50.0, 65.0, None, None)\n"
          ]
        }
      ],
      "source": [
        "for row in rows:\n",
        "    print(row)"
      ]
    },
    {
      "cell_type": "markdown",
      "metadata": {
        "id": "qR2GpSYC_pQa"
      },
      "source": [
        "<strong>update tabla</strong>"
      ]
    },
    {
      "cell_type": "code",
      "execution_count": 19,
      "metadata": {
        "id": "wuABg2g8_pQa"
      },
      "outputs": [],
      "source": [
        "for row in rows:\n",
        "    avg = (row[3] + row[4])/2\n",
        "    # grade = ?\n",
        "    cur.execute('update students set average=? where rowid=?', (avg, row[0]))"
      ]
    },
    {
      "cell_type": "code",
      "execution_count": 20,
      "metadata": {
        "colab": {
          "base_uri": "https://localhost:8080/"
        },
        "id": "XNvVqS6n_pQa",
        "outputId": "8d38bfe2-3ad8-4ddc-a7e6-e9c4a4facb3a"
      },
      "outputs": [
        {
          "output_type": "stream",
          "name": "stdout",
          "text": [
            "[('John', 'Smith', 99.0, 95.5, 97.25, None), ('Michael', 'Jordan', 50.0, 65.0, 57.5, None)]\n"
          ]
        }
      ],
      "source": [
        "cur.execute('select * from students')\n",
        "print(cur.fetchall())"
      ]
    },
    {
      "cell_type": "code",
      "execution_count": 21,
      "metadata": {
        "id": "RtfiF-98_pQa"
      },
      "outputs": [],
      "source": [
        "# commit changes and close connection\n",
        "conn.commit()\n",
        "conn.close()"
      ]
    },
    {
      "cell_type": "markdown",
      "metadata": {
        "id": "6giXI0Cq_pQa"
      },
      "source": [
        "## Vulnerabilidad de inyección SQL\n",
        "- cómo no escribir consultas sql en programas"
      ]
    },
    {
      "cell_type": "code",
      "execution_count": 22,
      "metadata": {
        "colab": {
          "base_uri": "https://localhost:8080/"
        },
        "id": "QpMvZzvb_pQa",
        "outputId": "1cc65de6-a49e-4e8a-faab-b47d6771413a"
      },
      "outputs": [
        {
          "output_type": "execute_result",
          "data": {
            "text/plain": [
              "<sqlite3.Cursor at 0x7a29d21b12c0>"
            ]
          },
          "metadata": {},
          "execution_count": 22
        }
      ],
      "source": [
        "import sqlite3\n",
        "conn = sqlite3.connect('example.db')\n",
        "cur = conn.cursor()\n",
        "\n",
        "cur.execute(\"\"\"CREATE TABLE IF NOT EXISTS users (\n",
        "                username text unique,\n",
        "                password text\n",
        "                )\n",
        "            \"\"\")"
      ]
    },
    {
      "cell_type": "code",
      "execution_count": 23,
      "metadata": {
        "colab": {
          "base_uri": "https://localhost:8080/"
        },
        "id": "S9UIP2cn_pQa",
        "outputId": "e9852685-2783-4939-dd51-dd98e0233b00"
      },
      "outputs": [
        {
          "name": "stdout",
          "output_type": "stream",
          "text": [
            "Enter your username: sofia\n",
            "Pick a password: 1234\n"
          ]
        }
      ],
      "source": [
        "# Prompt user to create account\n",
        "username = input('Enter your username: ')\n",
        "password = input('Pick a password: ')"
      ]
    },
    {
      "cell_type": "code",
      "execution_count": 24,
      "metadata": {
        "colab": {
          "base_uri": "https://localhost:8080/"
        },
        "id": "uy4SKVXU_pQa",
        "outputId": "203da768-91b8-4013-e03e-a47ed4578ec2"
      },
      "outputs": [
        {
          "output_type": "stream",
          "name": "stdout",
          "text": [
            "insert into users (username, password) values ('sofia', '1234')\n"
          ]
        },
        {
          "output_type": "execute_result",
          "data": {
            "text/plain": [
              "<sqlite3.Cursor at 0x7a29d21b12c0>"
            ]
          },
          "metadata": {},
          "execution_count": 24
        }
      ],
      "source": [
        "# bad passwords\n",
        "# insecure way to create sql statements\n",
        "sqlinsert = \"insert into users (username, password) values ('{0}', '{1}')\".format(username, password)\n",
        "print(sqlinsert)\n",
        "cur.execute(sqlinsert)\n"
      ]
    },
    {
      "cell_type": "code",
      "execution_count": 25,
      "metadata": {
        "colab": {
          "base_uri": "https://localhost:8080/"
        },
        "id": "k4Qvr7Of_pQb",
        "outputId": "b0c2552e-0fdc-4fcb-83f0-0b440c1fd44b"
      },
      "outputs": [
        {
          "output_type": "stream",
          "name": "stdout",
          "text": [
            "('sofia', '1234')\n"
          ]
        }
      ],
      "source": [
        "# check database\n",
        "conn.commit()\n",
        "for row in cur.execute('select * from users'):\n",
        "    print(row)"
      ]
    },
    {
      "cell_type": "markdown",
      "metadata": {
        "id": "VaLcvNBC_pQb"
      },
      "source": [
        "### ¿Qué hay de malo en los códigos anteriores?"
      ]
    },
    {
      "cell_type": "markdown",
      "metadata": {
        "id": "RJpi5xD__pQb"
      },
      "source": [
        "### autenticación de usuarios y ataque de inyección SQL"
      ]
    },
    {
      "cell_type": "code",
      "execution_count": 26,
      "metadata": {
        "id": "Tpf8JtkR_pQb"
      },
      "outputs": [],
      "source": [
        "# Prompt user to create account\n",
        "def insecureAuthentication():\n",
        "    username = input('Enter your username: ')\n",
        "    password = input('Pick a password: ')\n",
        "    sqlSelect = \"select * from users where username = '{0}' \\\n",
        "                    and password = '{1}'\".format(username, password)\n",
        "    cur.execute(sqlSelect)\n",
        "    row = cur.fetchone()\n",
        "    if row:\n",
        "        print('Welcome {}, this is your kingdom!'.format(row[0]))\n",
        "    else:\n",
        "        print('Wrong credentials. Try Again!')\n"
      ]
    },
    {
      "cell_type": "code",
      "execution_count": 28,
      "metadata": {
        "colab": {
          "base_uri": "https://localhost:8080/"
        },
        "id": "tISJZoBl_pQb",
        "outputId": "0c774d64-958e-45da-8802-764ea8a91bf3"
      },
      "outputs": [
        {
          "output_type": "stream",
          "name": "stdout",
          "text": [
            "Enter your username: sofia\n",
            "Pick a password: 1234\n",
            "Welcome sofia, this is your kingdom!\n"
          ]
        }
      ],
      "source": [
        "insecureAuthentication()"
      ]
    },
    {
      "cell_type": "code",
      "execution_count": 30,
      "metadata": {
        "colab": {
          "base_uri": "https://localhost:8080/"
        },
        "id": "W-GhuemM_pQb",
        "outputId": "6357a679-3dd8-4a3d-8a72-b8ec7af2a12f"
      },
      "outputs": [
        {
          "output_type": "stream",
          "name": "stdout",
          "text": [
            "Enter your username: sofia\n",
            "Pick a password: 1234\n",
            "Welcome sofia, this is your kingdom!\n"
          ]
        }
      ],
      "source": [
        "# sql injection; authenticate without using password\n",
        "insecureAuthentication()"
      ]
    },
    {
      "cell_type": "markdown",
      "metadata": {
        "id": "qeJa_XdL_pQb"
      },
      "source": [
        "## forma segura de almacenar la contraseña\n",
        "- https://docs.python.org/3/library/hashlib.html\n"
      ]
    },
    {
      "cell_type": "code",
      "execution_count": 31,
      "metadata": {
        "id": "Qdp-QEPa_pQb"
      },
      "outputs": [],
      "source": [
        "import uuid\n",
        "import hashlib, binascii\n",
        "\n",
        "def createSecurePassword(password, salt=None, round=100000):\n",
        "    if not salt:\n",
        "        salt = uuid.uuid4().hex\n",
        "\n",
        "    \"\"\"\n",
        "    for i in range(round):\n",
        "        password = password+salt\n",
        "        password = hashlib.sha256(password.encode('utf-8')).hexdigest()\n",
        "    \"\"\"\n",
        "    # hashlib.pbkdf2_hmac(hash_name, password, salt, iterations, dklen=None)\n",
        "    dk = hashlib.pbkdf2_hmac('sha256', password.encode('utf-8'),\n",
        "                        salt.encode('utf-8'), round)\n",
        "    password = binascii.hexlify(dk)\n",
        "    return \"%s:%s\"%(password, salt)"
      ]
    },
    {
      "cell_type": "code",
      "execution_count": 32,
      "metadata": {
        "id": "DMA0xo3r_pQc"
      },
      "outputs": [],
      "source": [
        "def secureRegistration():\n",
        "    # Prompt user to create account\n",
        "    username = input('Enter your username: ')\n",
        "    password = input('Enter your password: ')\n",
        "    secPass = createSecurePassword(password)\n",
        "    insert = 'insert into users (username, password) values (?, ?)'\n",
        "    cur.execute(insert, (username, secPass))\n"
      ]
    },
    {
      "cell_type": "code",
      "execution_count": 35,
      "metadata": {
        "colab": {
          "base_uri": "https://localhost:8080/"
        },
        "id": "txlryivO_pQc",
        "outputId": "bcea77a8-ae0e-40e6-ffba-8acca959bd7a"
      },
      "outputs": [
        {
          "name": "stdout",
          "output_type": "stream",
          "text": [
            "Enter your username: lola\n",
            "Enter your password: joya\n"
          ]
        }
      ],
      "source": [
        "# register a user\n",
        "secureRegistration()"
      ]
    },
    {
      "cell_type": "code",
      "execution_count": 36,
      "metadata": {
        "colab": {
          "base_uri": "https://localhost:8080/"
        },
        "id": "F0wwaXKL_pQc",
        "outputId": "80d3037c-1aae-404a-98c5-4c4c088573f3"
      },
      "outputs": [
        {
          "output_type": "stream",
          "name": "stdout",
          "text": [
            "('sofia', '1234')\n",
            "('lola', \"b'cd32bad31c64e611c50c6232d2e54c66ecc55c86d60dc2653e21eadf15727234':ccb0541124604dae994733ea2402482a\")\n"
          ]
        }
      ],
      "source": [
        "# check data\n",
        "for row in cur.execute('select * from users'):\n",
        "    print(row)"
      ]
    },
    {
      "cell_type": "code",
      "execution_count": 37,
      "metadata": {
        "id": "6YpiUZhQ_pQc"
      },
      "outputs": [],
      "source": [
        "conn.commit()"
      ]
    },
    {
      "cell_type": "code",
      "execution_count": 38,
      "metadata": {
        "id": "YeDve9Pp_pQc"
      },
      "outputs": [],
      "source": [
        "def secureAuthentication():\n",
        "    username = input('Enter your username: ')\n",
        "    password = input('Enter your password: ')\n",
        "    # use parameterized query\n",
        "    sqlSelect = 'select password from users where username = ?'\n",
        "    cur.execute(sqlSelect, (username,))\n",
        "    row = cur.fetchone()\n",
        "    if row:\n",
        "        # username exists\n",
        "        # check password hashes\n",
        "        hashpass = row[0]\n",
        "        hashedPass = hashpass[:hashpass.find(':')]\n",
        "        salt = hashpass[hashpass.find(':')+1:]\n",
        "        secPass = createSecurePassword(password, salt)\n",
        "        if hashpass == secPass:\n",
        "            print('Welcome to your kingdom, {}'.format(username))\n",
        "        else:\n",
        "            print('Wrong credentials. Try Again!')\n",
        "    else:\n",
        "        print('Wrong credentials. Try Again!')"
      ]
    },
    {
      "cell_type": "code",
      "execution_count": 41,
      "metadata": {
        "colab": {
          "base_uri": "https://localhost:8080/"
        },
        "id": "fU0fsx9q_pQc",
        "outputId": "88939802-e623-4229-f2eb-c6636f14cc3d"
      },
      "outputs": [
        {
          "output_type": "stream",
          "name": "stdout",
          "text": [
            "Enter your username: sofia\n",
            "Enter your password: 1234\n",
            "Wrong credentials. Try Again!\n"
          ]
        }
      ],
      "source": [
        "secureAuthentication()"
      ]
    },
    {
      "cell_type": "code",
      "execution_count": 42,
      "metadata": {
        "colab": {
          "base_uri": "https://localhost:8080/"
        },
        "id": "UwzE8Lc0_pQg",
        "outputId": "b186818b-4168-4e27-a016-b83dbd3754fa"
      },
      "outputs": [
        {
          "output_type": "stream",
          "name": "stdout",
          "text": [
            "Enter your username: lola\n",
            "Enter your password: joya\n",
            "Welcome to your kingdom, lola\n"
          ]
        }
      ],
      "source": [
        "# try the same SQL injection\n",
        "secureAuthentication()"
      ]
    },
    {
      "cell_type": "code",
      "execution_count": 43,
      "metadata": {
        "id": "p7CMqoT1_pQg"
      },
      "outputs": [],
      "source": [
        "conn.commit()\n",
        "conn.close()"
      ]
    }
  ],
  "metadata": {
    "kernelspec": {
      "display_name": "Python 3",
      "language": "python",
      "name": "python3"
    },
    "language_info": {
      "codemirror_mode": {
        "name": "ipython",
        "version": 3
      },
      "file_extension": ".py",
      "mimetype": "text/x-python",
      "name": "python",
      "nbconvert_exporter": "python",
      "pygments_lexer": "ipython3",
      "version": "3.7.3"
    },
    "colab": {
      "provenance": [],
      "include_colab_link": true
    }
  },
  "nbformat": 4,
  "nbformat_minor": 0
}