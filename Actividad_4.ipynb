{
  "nbformat": 4,
  "nbformat_minor": 0,
  "metadata": {
    "colab": {
      "provenance": [],
      "authorship_tag": "ABX9TyN6wkT3F3tVZI7EoKmY9DnG",
      "include_colab_link": true
    },
    "kernelspec": {
      "name": "python3",
      "display_name": "Python 3"
    },
    "language_info": {
      "name": "python"
    }
  },
  "cells": [
    {
      "cell_type": "markdown",
      "metadata": {
        "id": "view-in-github",
        "colab_type": "text"
      },
      "source": [
        "<a href=\"https://colab.research.google.com/github/SofiaCR2/Python-basico-intermedio/blob/main/Actividad_4.ipynb\" target=\"_parent\"><img src=\"https://colab.research.google.com/assets/colab-badge.svg\" alt=\"Open In Colab\"/></a>"
      ]
    },
    {
      "cell_type": "markdown",
      "source": [
        "#No voy a trabajar"
      ],
      "metadata": {
        "id": "ByOIvmub4zNg"
      }
    },
    {
      "cell_type": "code",
      "source": [
        "dia = input('Que dia es?')\n",
        "\n",
        "if dia.capitalize() == 'Lunes':\n",
        "  print('Principio de semana.\\nNo voy a trabjar')\n",
        "elif dia.capitalize() == 'Martes':\n",
        "  print('Ni te cases ni te embarques.\\nPa´ que voy a arriesgarme')\n",
        "elif dia.capitalize() == 'Miercoles':\n",
        "  print('Se casa la patrona.\\nAy que pachangona!')\n",
        "elif dia.capitalize() == 'Jueves':\n",
        "  print('Estoy muy desvelado.\\nMe siento hasta mareado')\n",
        "elif dia.capitalize() == 'Viernes':\n",
        "  print('Que muere jesucristo!.\\nDonde se ha visto?')\n",
        "elif dia.capitalize() == 'Sabado':\n",
        "  print('Trabajo medio día.\\nPor medio día')\n",
        "elif dia.capitalize() == 'Domingo':\n",
        "  print('Día de descanso.\\nBien merecido')\n",
        "else:\n",
        "  print('Error. No es un dia de la semana')"
      ],
      "metadata": {
        "colab": {
          "base_uri": "https://localhost:8080/"
        },
        "id": "SBs3d8v34yWx",
        "outputId": "50a264f9-08d2-4e17-98f9-d764e5bd5db6"
      },
      "execution_count": 2,
      "outputs": [
        {
          "output_type": "stream",
          "name": "stdout",
          "text": [
            "Que dia es?LUNES\n",
            "Principio de semana.\n",
            "No voy a trabjar\n"
          ]
        }
      ]
    },
    {
      "cell_type": "markdown",
      "source": [
        "#Ejercicio 1"
      ],
      "metadata": {
        "id": "aJtl4H3nRPAN"
      }
    },
    {
      "cell_type": "code",
      "execution_count": null,
      "metadata": {
        "colab": {
          "base_uri": "https://localhost:8080/"
        },
        "id": "oaS2V-vMQC6y",
        "outputId": "866b3842-cb1d-4195-9796-a02a7fc0f5a6"
      },
      "outputs": [
        {
          "output_type": "stream",
          "name": "stdout",
          "text": [
            "False\n"
          ]
        }
      ],
      "source": [
        "diez = 10\n",
        "veinte = 20\n",
        "\n",
        "print(diez >= veinte)"
      ]
    }
  ]
}