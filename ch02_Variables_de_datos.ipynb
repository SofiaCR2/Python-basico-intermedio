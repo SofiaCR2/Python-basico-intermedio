{
  "nbformat": 4,
  "nbformat_minor": 0,
  "metadata": {
    "colab": {
      "provenance": [],
      "authorship_tag": "ABX9TyMqHweSxJRSIT8cPfp2ju3L",
      "include_colab_link": true
    },
    "kernelspec": {
      "name": "python3",
      "display_name": "Python 3"
    },
    "language_info": {
      "name": "python"
    }
  },
  "cells": [
    {
      "cell_type": "markdown",
      "metadata": {
        "id": "view-in-github",
        "colab_type": "text"
      },
      "source": [
        "<a href=\"https://colab.research.google.com/github/SofiaCR2/Python-basico-intermedio/blob/main/ch02_Variables_de_datos.ipynb\" target=\"_parent\"><img src=\"https://colab.research.google.com/assets/colab-badge.svg\" alt=\"Open In Colab\"/></a>"
      ]
    },
    {
      "cell_type": "markdown",
      "source": [
        "Autor: sofia Castro\n",
        "\n",
        "Curso: Python de básico a intermedio\n",
        "\n",
        "11/07/2023"
      ],
      "metadata": {
        "id": "9kd6Lf7L1lyG"
      }
    },
    {
      "cell_type": "markdown",
      "source": [
        "# 2.1 Tipos de Datos"
      ],
      "metadata": {
        "id": "c5hALetb1wWx"
      }
    },
    {
      "cell_type": "code",
      "execution_count": 1,
      "metadata": {
        "colab": {
          "base_uri": "https://localhost:8080/"
        },
        "id": "NFuDO7j-1IPR",
        "outputId": "83617ff4-be0b-4047-c9bd-379fe400077a"
      },
      "outputs": [
        {
          "output_type": "execute_result",
          "data": {
            "text/plain": [
              "int"
            ]
          },
          "metadata": {},
          "execution_count": 1
        }
      ],
      "source": [
        "type (100)\n"
      ]
    },
    {
      "cell_type": "code",
      "source": [
        "type(-9)"
      ],
      "metadata": {
        "colab": {
          "base_uri": "https://localhost:8080/"
        },
        "id": "OkdYwF8o19hH",
        "outputId": "4e0da461-17bb-437a-ff72-4678da87faf9"
      },
      "execution_count": 2,
      "outputs": [
        {
          "output_type": "execute_result",
          "data": {
            "text/plain": [
              "int"
            ]
          },
          "metadata": {},
          "execution_count": 2
        }
      ]
    },
    {
      "cell_type": "code",
      "source": [
        "type(1000.9874)"
      ],
      "metadata": {
        "colab": {
          "base_uri": "https://localhost:8080/"
        },
        "id": "JR4L87Zy1-YQ",
        "outputId": "8550ebfb-b2db-4a21-92ec-bf36d500577c"
      },
      "execution_count": 3,
      "outputs": [
        {
          "output_type": "execute_result",
          "data": {
            "text/plain": [
              "float"
            ]
          },
          "metadata": {},
          "execution_count": 3
        }
      ]
    },
    {
      "cell_type": "code",
      "source": [
        "type(\"A\")"
      ],
      "metadata": {
        "colab": {
          "base_uri": "https://localhost:8080/"
        },
        "id": "X1RZ7DAm2CB9",
        "outputId": "f4442d1e-19e2-4c9d-e39b-a2bac52ddff3"
      },
      "execution_count": 4,
      "outputs": [
        {
          "output_type": "execute_result",
          "data": {
            "text/plain": [
              "str"
            ]
          },
          "metadata": {},
          "execution_count": 4
        }
      ]
    },
    {
      "cell_type": "code",
      "source": [
        "type('A')"
      ],
      "metadata": {
        "colab": {
          "base_uri": "https://localhost:8080/"
        },
        "id": "QdJAmx0F2FYp",
        "outputId": "7937e489-a394-4e3e-e130-131f0f88d064"
      },
      "execution_count": 5,
      "outputs": [
        {
          "output_type": "execute_result",
          "data": {
            "text/plain": [
              "str"
            ]
          },
          "metadata": {},
          "execution_count": 5
        }
      ]
    },
    {
      "cell_type": "code",
      "source": [
        "print(\"hello\")"
      ],
      "metadata": {
        "colab": {
          "base_uri": "https://localhost:8080/"
        },
        "id": "KiffiHLE2I1R",
        "outputId": "04e87c6c-e128-4297-c242-ccc96f011fc4"
      },
      "execution_count": 6,
      "outputs": [
        {
          "output_type": "stream",
          "name": "stdout",
          "text": [
            "hello\n"
          ]
        }
      ]
    },
    {
      "cell_type": "code",
      "source": [
        "print(type(\"hello\"))"
      ],
      "metadata": {
        "colab": {
          "base_uri": "https://localhost:8080/"
        },
        "id": "T6IhrOoz2PnU",
        "outputId": "9d43ffb4-f038-4ea5-b7cf-69c0d3342167"
      },
      "execution_count": 8,
      "outputs": [
        {
          "output_type": "stream",
          "name": "stdout",
          "text": [
            "<class 'str'>\n"
          ]
        }
      ]
    },
    {
      "cell_type": "code",
      "source": [
        "type(\"17\")"
      ],
      "metadata": {
        "colab": {
          "base_uri": "https://localhost:8080/"
        },
        "id": "7zjFdCit2aYq",
        "outputId": "87c60a25-96ff-4589-c153-80aa264b969c"
      },
      "execution_count": 9,
      "outputs": [
        {
          "output_type": "execute_result",
          "data": {
            "text/plain": [
              "str"
            ]
          },
          "metadata": {},
          "execution_count": 9
        }
      ]
    },
    {
      "cell_type": "code",
      "source": [
        "type(\"\"\"Triple double quote data\"\"\")"
      ],
      "metadata": {
        "colab": {
          "base_uri": "https://localhost:8080/"
        },
        "id": "bu0Sl8jp2o-J",
        "outputId": "47027dea-602b-4f34-b7c4-1504051a10ff"
      },
      "execution_count": 10,
      "outputs": [
        {
          "output_type": "execute_result",
          "data": {
            "text/plain": [
              "str"
            ]
          },
          "metadata": {},
          "execution_count": 10
        }
      ]
    },
    {
      "cell_type": "code",
      "source": [
        "print(\"\"\"Triple double quote data\"\"\")"
      ],
      "metadata": {
        "colab": {
          "base_uri": "https://localhost:8080/"
        },
        "id": "00LuwpaM2zQ4",
        "outputId": "4924b7c1-cf8b-4379-ca97-6e0af90b9283"
      },
      "execution_count": 11,
      "outputs": [
        {
          "output_type": "stream",
          "name": "stdout",
          "text": [
            "Triple double quote data\n"
          ]
        }
      ]
    },
    {
      "cell_type": "code",
      "source": [
        "a = \"hello\""
      ],
      "metadata": {
        "id": "i4NFJxNS21wL"
      },
      "execution_count": 12,
      "outputs": []
    },
    {
      "cell_type": "code",
      "source": [
        "a"
      ],
      "metadata": {
        "colab": {
          "base_uri": "https://localhost:8080/",
          "height": 36
        },
        "id": "bDBe6Lz826Mx",
        "outputId": "c2a8ff07-f98d-4de9-af0e-c3b80e28f39d"
      },
      "execution_count": 13,
      "outputs": [
        {
          "output_type": "execute_result",
          "data": {
            "text/plain": [
              "'hello'"
            ],
            "application/vnd.google.colaboratory.intrinsic+json": {
              "type": "string"
            }
          },
          "metadata": {},
          "execution_count": 13
        }
      ]
    },
    {
      "cell_type": "markdown",
      "source": [
        "##2.2 Conversion de tipos"
      ],
      "metadata": {
        "id": "M6FvgFKf3CmI"
      }
    },
    {
      "cell_type": "code",
      "source": [
        "data = \"hello\" # no se puede convertir una cadena en flotante o en entero"
      ],
      "metadata": {
        "id": "nBYqRSMC3F0t"
      },
      "execution_count": 14,
      "outputs": []
    },
    {
      "cell_type": "code",
      "source": [
        "type(data)"
      ],
      "metadata": {
        "colab": {
          "base_uri": "https://localhost:8080/"
        },
        "id": "zA9EE06X3a7Q",
        "outputId": "9e7f7a89-62b4-4afe-d39a-801c3ec416dd"
      },
      "execution_count": 15,
      "outputs": [
        {
          "output_type": "execute_result",
          "data": {
            "text/plain": [
              "str"
            ]
          },
          "metadata": {},
          "execution_count": 15
        }
      ]
    },
    {
      "cell_type": "code",
      "source": [
        "data = '100'\n",
        "type(data)"
      ],
      "metadata": {
        "colab": {
          "base_uri": "https://localhost:8080/"
        },
        "id": "V2LuHas_3ekl",
        "outputId": "84204174-5d8c-4f7f-cdc5-649248fed474"
      },
      "execution_count": 17,
      "outputs": [
        {
          "output_type": "execute_result",
          "data": {
            "text/plain": [
              "str"
            ]
          },
          "metadata": {},
          "execution_count": 17
        }
      ]
    },
    {
      "cell_type": "code",
      "source": [
        "num = int(data)\n",
        "type(num)"
      ],
      "metadata": {
        "colab": {
          "base_uri": "https://localhost:8080/"
        },
        "id": "nENHzciJ3hUm",
        "outputId": "bcadfe68-ed8f-48ad-d6e9-be79b3e106e2"
      },
      "execution_count": 18,
      "outputs": [
        {
          "output_type": "execute_result",
          "data": {
            "text/plain": [
              "int"
            ]
          },
          "metadata": {},
          "execution_count": 18
        }
      ]
    },
    {
      "cell_type": "code",
      "source": [
        "num"
      ],
      "metadata": {
        "colab": {
          "base_uri": "https://localhost:8080/"
        },
        "id": "hIN476z63wAe",
        "outputId": "13d29292-e64f-4bf5-db62-e90e13ed339e"
      },
      "execution_count": 19,
      "outputs": [
        {
          "output_type": "execute_result",
          "data": {
            "text/plain": [
              "100"
            ]
          },
          "metadata": {},
          "execution_count": 19
        }
      ]
    },
    {
      "cell_type": "code",
      "source": [
        "price = float('500.99')\n",
        "type(price)"
      ],
      "metadata": {
        "colab": {
          "base_uri": "https://localhost:8080/"
        },
        "id": "4Cnylf_D48tt",
        "outputId": "bebcecaf-22ed-4f7b-cea4-4460bee0bf5b"
      },
      "execution_count": 20,
      "outputs": [
        {
          "output_type": "execute_result",
          "data": {
            "text/plain": [
              "float"
            ]
          },
          "metadata": {},
          "execution_count": 20
        }
      ]
    },
    {
      "cell_type": "code",
      "source": [
        "float('h1')"
      ],
      "metadata": {
        "colab": {
          "base_uri": "https://localhost:8080/",
          "height": 165
        },
        "id": "eSs742ww55Fi",
        "outputId": "38b647c9-a96d-4ef7-b54c-50156048af54"
      },
      "execution_count": 22,
      "outputs": [
        {
          "output_type": "error",
          "ename": "ValueError",
          "evalue": "ignored",
          "traceback": [
            "\u001b[0;31m---------------------------------------------------------------------------\u001b[0m",
            "\u001b[0;31mValueError\u001b[0m                                Traceback (most recent call last)",
            "\u001b[0;32m<ipython-input-22-dcdc405220e8>\u001b[0m in \u001b[0;36m<cell line: 1>\u001b[0;34m()\u001b[0m\n\u001b[0;32m----> 1\u001b[0;31m \u001b[0mfloat\u001b[0m\u001b[0;34m(\u001b[0m\u001b[0;34m'h1'\u001b[0m\u001b[0;34m)\u001b[0m\u001b[0;34m\u001b[0m\u001b[0;34m\u001b[0m\u001b[0m\n\u001b[0m",
            "\u001b[0;31mValueError\u001b[0m: could not convert string to float: 'h1'"
          ]
        }
      ]
    },
    {
      "cell_type": "code",
      "source": [
        "num = 99.99\n",
        "striNum = str(num)\n",
        "print(striNum)\n",
        "type(striNum)"
      ],
      "metadata": {
        "colab": {
          "base_uri": "https://localhost:8080/"
        },
        "id": "UqPdQk746FoS",
        "outputId": "b4b8ad74-3c00-4d85-fefc-140d300ddf4a"
      },
      "execution_count": 24,
      "outputs": [
        {
          "output_type": "stream",
          "name": "stdout",
          "text": [
            "99.99\n"
          ]
        },
        {
          "output_type": "execute_result",
          "data": {
            "text/plain": [
              "str"
            ]
          },
          "metadata": {},
          "execution_count": 24
        }
      ]
    },
    {
      "cell_type": "code",
      "source": [
        "type(True)"
      ],
      "metadata": {
        "colab": {
          "base_uri": "https://localhost:8080/"
        },
        "id": "E6G7skBq6TQT",
        "outputId": "aff0f887-118d-4c44-bb78-d6caa0197f88"
      },
      "execution_count": 25,
      "outputs": [
        {
          "output_type": "execute_result",
          "data": {
            "text/plain": [
              "bool"
            ]
          },
          "metadata": {},
          "execution_count": 25
        }
      ]
    },
    {
      "cell_type": "code",
      "source": [
        "type(False)"
      ],
      "metadata": {
        "colab": {
          "base_uri": "https://localhost:8080/"
        },
        "id": "wFwk6G146XO6",
        "outputId": "9723ecae-6da3-47bb-ab7a-e09a7df34392"
      },
      "execution_count": 26,
      "outputs": [
        {
          "output_type": "execute_result",
          "data": {
            "text/plain": [
              "bool"
            ]
          },
          "metadata": {},
          "execution_count": 26
        }
      ]
    },
    {
      "cell_type": "markdown",
      "source": [
        " ## 2.3 Declaraciones\n",
        " - una declaracion es una instruccion que el intérprete de python puede ejecutar\n",
        "\n",
        " - Hemos visto sentencias de asignacion hasta ahora\n",
        "\n",
        " - Luego exploraremos for, if, import, while y otras declaraciones"
      ],
      "metadata": {
        "id": "bq8Lnv0S6afr"
      }
    },
    {
      "cell_type": "code",
      "source": [
        " 1+2"
      ],
      "metadata": {
        "colab": {
          "base_uri": "https://localhost:8080/"
        },
        "id": "VZjLuNBa6xX6",
        "outputId": "7af4559d-94c9-4744-8213-49dd145acaa5"
      },
      "execution_count": 27,
      "outputs": [
        {
          "output_type": "execute_result",
          "data": {
            "text/plain": [
              "3"
            ]
          },
          "metadata": {},
          "execution_count": 27
        }
      ]
    },
    {
      "cell_type": "code",
      "source": [
        "len('hello')"
      ],
      "metadata": {
        "colab": {
          "base_uri": "https://localhost:8080/"
        },
        "id": "9vEVOPAT7EGP",
        "outputId": "deca68b8-f1f9-4138-e28b-49f2d339a2bc"
      },
      "execution_count": 28,
      "outputs": [
        {
          "output_type": "execute_result",
          "data": {
            "text/plain": [
              "5"
            ]
          },
          "metadata": {},
          "execution_count": 28
        }
      ]
    },
    {
      "cell_type": "code",
      "source": [
        "print(2+3*4)"
      ],
      "metadata": {
        "colab": {
          "base_uri": "https://localhost:8080/"
        },
        "id": "sU0lA_IT7LyD",
        "outputId": "0b98592b-d504-4fef-bb63-b97a03423ba5"
      },
      "execution_count": 30,
      "outputs": [
        {
          "output_type": "stream",
          "name": "stdout",
          "text": [
            "14\n"
          ]
        }
      ]
    },
    {
      "cell_type": "code",
      "source": [
        "print(''' \"oh no\", ella exclama, \"La ventana de Ben esta rota\"''')"
      ],
      "metadata": {
        "colab": {
          "base_uri": "https://localhost:8080/"
        },
        "id": "c2t5q0-g7SmJ",
        "outputId": "3856a882-6c98-4dc3-a235-b62b10a8f1a3"
      },
      "execution_count": 31,
      "outputs": [
        {
          "output_type": "stream",
          "name": "stdout",
          "text": [
            " \"oh no\", ella exclama, \"La ventana de Ben esta rota\"\n"
          ]
        }
      ]
    },
    {
      "cell_type": "markdown",
      "source": [
        "## 2.4 Secuencia de escape\n",
        "- algunas letras o secuencias de letras tienen un significado especial para Python\n",
        "\n",
        "- Las comillas simples, dobles y triples simples o dobles represnetan  datos de cadena\n",
        "\n",
        "- utilice la barra invertida \\ para representar estas secuencias de escape, por ejemplo,\n",
        "\n",
        " - \\\\n - nueva línea\n",
        " - \\\\\\\\ - barra invertida\n",
        " - \\\\t - tabulador\n",
        " - \\\\r - retorno de carro\n",
        " - \\\\' - una frase\n",
        " - \\\\\" - comillas dobles"
      ],
      "metadata": {
        "id": "U2Jlh3FV7g_g"
      }
    },
    {
      "cell_type": "code",
      "source": [
        "print('what\\'s up \\n shaq o\\'Neal?')"
      ],
      "metadata": {
        "colab": {
          "base_uri": "https://localhost:8080/"
        },
        "id": "93IAIua38h3Y",
        "outputId": "8048ffea-511e-4e61-b483-e82bce321e47"
      },
      "execution_count": 32,
      "outputs": [
        {
          "output_type": "stream",
          "name": "stdout",
          "text": [
            "what's up \n",
            " shaq o'Neal?\n"
          ]
        }
      ]
    },
    {
      "cell_type": "code",
      "source": [
        "print('Hello \\t here... \\n how are you? \\\\\\\\')"
      ],
      "metadata": {
        "colab": {
          "base_uri": "https://localhost:8080/"
        },
        "id": "GmuxydND8u_j",
        "outputId": "a09251af-52f8-4e3b-c39a-edf2dcf54c8a"
      },
      "execution_count": 33,
      "outputs": [
        {
          "output_type": "stream",
          "name": "stdout",
          "text": [
            "Hello \t here... \n",
            " how are you? \\\\\n"
          ]
        }
      ]
    },
    {
      "cell_type": "code",
      "source": [
        "print (r'Hello here... how are you? \\\\')"
      ],
      "metadata": {
        "colab": {
          "base_uri": "https://localhost:8080/"
        },
        "id": "XvB077hU85cK",
        "outputId": "0017ebed-bf80-46a9-e208-310ab6f8aa8a"
      },
      "execution_count": 34,
      "outputs": [
        {
          "output_type": "stream",
          "name": "stdout",
          "text": [
            "Hello here... how are you? \\\\\n"
          ]
        }
      ]
    },
    {
      "cell_type": "markdown",
      "source": [
        "2.5 Varibles"
      ],
      "metadata": {
        "id": "OSaP3Xg59mEO"
      }
    },
    {
      "cell_type": "code",
      "source": [
        "2.5"
      ],
      "metadata": {
        "id": "PLKXCjdI9o_X"
      },
      "execution_count": null,
      "outputs": []
    }
  ]
}