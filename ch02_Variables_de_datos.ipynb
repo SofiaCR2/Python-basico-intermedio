{
  "nbformat": 4,
  "nbformat_minor": 0,
  "metadata": {
    "colab": {
      "provenance": [],
      "authorship_tag": "ABX9TyPbthcZ9EfA8q6k9l6xpwKA",
      "include_colab_link": true
    },
    "kernelspec": {
      "name": "python3",
      "display_name": "Python 3"
    },
    "language_info": {
      "name": "python"
    }
  },
  "cells": [
    {
      "cell_type": "markdown",
      "metadata": {
        "id": "view-in-github",
        "colab_type": "text"
      },
      "source": [
        "<a href=\"https://colab.research.google.com/github/SofiaCR2/Python-basico-intermedio/blob/main/ch02_Variables_de_datos.ipynb\" target=\"_parent\"><img src=\"https://colab.research.google.com/assets/colab-badge.svg\" alt=\"Open In Colab\"/></a>"
      ]
    },
    {
      "cell_type": "markdown",
      "source": [
        "Autor: sofia Castro\n",
        "\n",
        "Curso: Python de básico a intermedio\n",
        "\n",
        "11/07/2023"
      ],
      "metadata": {
        "id": "9kd6Lf7L1lyG"
      }
    },
    {
      "cell_type": "markdown",
      "source": [
        "# 2.1 Tipos de Datos"
      ],
      "metadata": {
        "id": "c5hALetb1wWx"
      }
    },
    {
      "cell_type": "code",
      "execution_count": null,
      "metadata": {
        "colab": {
          "base_uri": "https://localhost:8080/"
        },
        "id": "NFuDO7j-1IPR",
        "outputId": "83617ff4-be0b-4047-c9bd-379fe400077a"
      },
      "outputs": [
        {
          "output_type": "execute_result",
          "data": {
            "text/plain": [
              "int"
            ]
          },
          "metadata": {},
          "execution_count": 1
        }
      ],
      "source": [
        "type (100)\n"
      ]
    },
    {
      "cell_type": "code",
      "source": [
        "type(-9)"
      ],
      "metadata": {
        "colab": {
          "base_uri": "https://localhost:8080/"
        },
        "id": "OkdYwF8o19hH",
        "outputId": "4e0da461-17bb-437a-ff72-4678da87faf9"
      },
      "execution_count": null,
      "outputs": [
        {
          "output_type": "execute_result",
          "data": {
            "text/plain": [
              "int"
            ]
          },
          "metadata": {},
          "execution_count": 2
        }
      ]
    },
    {
      "cell_type": "code",
      "source": [
        "type(1000.9874)"
      ],
      "metadata": {
        "colab": {
          "base_uri": "https://localhost:8080/"
        },
        "id": "JR4L87Zy1-YQ",
        "outputId": "8550ebfb-b2db-4a21-92ec-bf36d500577c"
      },
      "execution_count": null,
      "outputs": [
        {
          "output_type": "execute_result",
          "data": {
            "text/plain": [
              "float"
            ]
          },
          "metadata": {},
          "execution_count": 3
        }
      ]
    },
    {
      "cell_type": "code",
      "source": [
        "type(\"A\")"
      ],
      "metadata": {
        "colab": {
          "base_uri": "https://localhost:8080/"
        },
        "id": "X1RZ7DAm2CB9",
        "outputId": "f4442d1e-19e2-4c9d-e39b-a2bac52ddff3"
      },
      "execution_count": null,
      "outputs": [
        {
          "output_type": "execute_result",
          "data": {
            "text/plain": [
              "str"
            ]
          },
          "metadata": {},
          "execution_count": 4
        }
      ]
    },
    {
      "cell_type": "code",
      "source": [
        "type('A')"
      ],
      "metadata": {
        "colab": {
          "base_uri": "https://localhost:8080/"
        },
        "id": "QdJAmx0F2FYp",
        "outputId": "7937e489-a394-4e3e-e130-131f0f88d064"
      },
      "execution_count": null,
      "outputs": [
        {
          "output_type": "execute_result",
          "data": {
            "text/plain": [
              "str"
            ]
          },
          "metadata": {},
          "execution_count": 5
        }
      ]
    },
    {
      "cell_type": "code",
      "source": [
        "print(\"hello\")"
      ],
      "metadata": {
        "colab": {
          "base_uri": "https://localhost:8080/"
        },
        "id": "KiffiHLE2I1R",
        "outputId": "04e87c6c-e128-4297-c242-ccc96f011fc4"
      },
      "execution_count": null,
      "outputs": [
        {
          "output_type": "stream",
          "name": "stdout",
          "text": [
            "hello\n"
          ]
        }
      ]
    },
    {
      "cell_type": "code",
      "source": [
        "print(type(\"hello\"))"
      ],
      "metadata": {
        "colab": {
          "base_uri": "https://localhost:8080/"
        },
        "id": "T6IhrOoz2PnU",
        "outputId": "9d43ffb4-f038-4ea5-b7cf-69c0d3342167"
      },
      "execution_count": null,
      "outputs": [
        {
          "output_type": "stream",
          "name": "stdout",
          "text": [
            "<class 'str'>\n"
          ]
        }
      ]
    },
    {
      "cell_type": "code",
      "source": [
        "type(\"17\")"
      ],
      "metadata": {
        "colab": {
          "base_uri": "https://localhost:8080/"
        },
        "id": "7zjFdCit2aYq",
        "outputId": "87c60a25-96ff-4589-c153-80aa264b969c"
      },
      "execution_count": null,
      "outputs": [
        {
          "output_type": "execute_result",
          "data": {
            "text/plain": [
              "str"
            ]
          },
          "metadata": {},
          "execution_count": 9
        }
      ]
    },
    {
      "cell_type": "code",
      "source": [
        "type(\"\"\"Triple double quote data\"\"\")"
      ],
      "metadata": {
        "colab": {
          "base_uri": "https://localhost:8080/"
        },
        "id": "bu0Sl8jp2o-J",
        "outputId": "47027dea-602b-4f34-b7c4-1504051a10ff"
      },
      "execution_count": null,
      "outputs": [
        {
          "output_type": "execute_result",
          "data": {
            "text/plain": [
              "str"
            ]
          },
          "metadata": {},
          "execution_count": 10
        }
      ]
    },
    {
      "cell_type": "code",
      "source": [
        "print(\"\"\"Triple double quote data\"\"\")"
      ],
      "metadata": {
        "colab": {
          "base_uri": "https://localhost:8080/"
        },
        "id": "00LuwpaM2zQ4",
        "outputId": "4924b7c1-cf8b-4379-ca97-6e0af90b9283"
      },
      "execution_count": null,
      "outputs": [
        {
          "output_type": "stream",
          "name": "stdout",
          "text": [
            "Triple double quote data\n"
          ]
        }
      ]
    },
    {
      "cell_type": "code",
      "source": [
        "a = \"hello\""
      ],
      "metadata": {
        "id": "i4NFJxNS21wL"
      },
      "execution_count": null,
      "outputs": []
    },
    {
      "cell_type": "code",
      "source": [
        "a"
      ],
      "metadata": {
        "colab": {
          "base_uri": "https://localhost:8080/",
          "height": 36
        },
        "id": "bDBe6Lz826Mx",
        "outputId": "c2a8ff07-f98d-4de9-af0e-c3b80e28f39d"
      },
      "execution_count": null,
      "outputs": [
        {
          "output_type": "execute_result",
          "data": {
            "text/plain": [
              "'hello'"
            ],
            "application/vnd.google.colaboratory.intrinsic+json": {
              "type": "string"
            }
          },
          "metadata": {},
          "execution_count": 13
        }
      ]
    },
    {
      "cell_type": "markdown",
      "source": [
        "##2.2 Conversion de tipos"
      ],
      "metadata": {
        "id": "M6FvgFKf3CmI"
      }
    },
    {
      "cell_type": "code",
      "source": [
        "data = \"hello\" # no se puede convertir una cadena en flotante o en entero"
      ],
      "metadata": {
        "id": "nBYqRSMC3F0t"
      },
      "execution_count": null,
      "outputs": []
    },
    {
      "cell_type": "code",
      "source": [
        "type(data)"
      ],
      "metadata": {
        "colab": {
          "base_uri": "https://localhost:8080/"
        },
        "id": "zA9EE06X3a7Q",
        "outputId": "9e7f7a89-62b4-4afe-d39a-801c3ec416dd"
      },
      "execution_count": null,
      "outputs": [
        {
          "output_type": "execute_result",
          "data": {
            "text/plain": [
              "str"
            ]
          },
          "metadata": {},
          "execution_count": 15
        }
      ]
    },
    {
      "cell_type": "code",
      "source": [
        "data = '100'\n",
        "type(data)"
      ],
      "metadata": {
        "colab": {
          "base_uri": "https://localhost:8080/"
        },
        "id": "V2LuHas_3ekl",
        "outputId": "84204174-5d8c-4f7f-cdc5-649248fed474"
      },
      "execution_count": null,
      "outputs": [
        {
          "output_type": "execute_result",
          "data": {
            "text/plain": [
              "str"
            ]
          },
          "metadata": {},
          "execution_count": 17
        }
      ]
    },
    {
      "cell_type": "code",
      "source": [
        "num = int(data)\n",
        "type(num)"
      ],
      "metadata": {
        "colab": {
          "base_uri": "https://localhost:8080/"
        },
        "id": "nENHzciJ3hUm",
        "outputId": "bcadfe68-ed8f-48ad-d6e9-be79b3e106e2"
      },
      "execution_count": null,
      "outputs": [
        {
          "output_type": "execute_result",
          "data": {
            "text/plain": [
              "int"
            ]
          },
          "metadata": {},
          "execution_count": 18
        }
      ]
    },
    {
      "cell_type": "code",
      "source": [
        "num"
      ],
      "metadata": {
        "colab": {
          "base_uri": "https://localhost:8080/"
        },
        "id": "hIN476z63wAe",
        "outputId": "13d29292-e64f-4bf5-db62-e90e13ed339e"
      },
      "execution_count": null,
      "outputs": [
        {
          "output_type": "execute_result",
          "data": {
            "text/plain": [
              "100"
            ]
          },
          "metadata": {},
          "execution_count": 19
        }
      ]
    },
    {
      "cell_type": "code",
      "source": [
        "price = float('500.99')\n",
        "type(price)"
      ],
      "metadata": {
        "colab": {
          "base_uri": "https://localhost:8080/"
        },
        "id": "4Cnylf_D48tt",
        "outputId": "bebcecaf-22ed-4f7b-cea4-4460bee0bf5b"
      },
      "execution_count": null,
      "outputs": [
        {
          "output_type": "execute_result",
          "data": {
            "text/plain": [
              "float"
            ]
          },
          "metadata": {},
          "execution_count": 20
        }
      ]
    },
    {
      "cell_type": "code",
      "source": [
        "float('h1')"
      ],
      "metadata": {
        "colab": {
          "base_uri": "https://localhost:8080/",
          "height": 165
        },
        "id": "eSs742ww55Fi",
        "outputId": "38b647c9-a96d-4ef7-b54c-50156048af54"
      },
      "execution_count": null,
      "outputs": [
        {
          "output_type": "error",
          "ename": "ValueError",
          "evalue": "ignored",
          "traceback": [
            "\u001b[0;31m---------------------------------------------------------------------------\u001b[0m",
            "\u001b[0;31mValueError\u001b[0m                                Traceback (most recent call last)",
            "\u001b[0;32m<ipython-input-22-dcdc405220e8>\u001b[0m in \u001b[0;36m<cell line: 1>\u001b[0;34m()\u001b[0m\n\u001b[0;32m----> 1\u001b[0;31m \u001b[0mfloat\u001b[0m\u001b[0;34m(\u001b[0m\u001b[0;34m'h1'\u001b[0m\u001b[0;34m)\u001b[0m\u001b[0;34m\u001b[0m\u001b[0;34m\u001b[0m\u001b[0m\n\u001b[0m",
            "\u001b[0;31mValueError\u001b[0m: could not convert string to float: 'h1'"
          ]
        }
      ]
    },
    {
      "cell_type": "code",
      "source": [
        "num = 99.99\n",
        "striNum = str(num)\n",
        "print(striNum)\n",
        "type(striNum)"
      ],
      "metadata": {
        "colab": {
          "base_uri": "https://localhost:8080/"
        },
        "id": "UqPdQk746FoS",
        "outputId": "b4b8ad74-3c00-4d85-fefc-140d300ddf4a"
      },
      "execution_count": null,
      "outputs": [
        {
          "output_type": "stream",
          "name": "stdout",
          "text": [
            "99.99\n"
          ]
        },
        {
          "output_type": "execute_result",
          "data": {
            "text/plain": [
              "str"
            ]
          },
          "metadata": {},
          "execution_count": 24
        }
      ]
    },
    {
      "cell_type": "code",
      "source": [
        "type(True)"
      ],
      "metadata": {
        "colab": {
          "base_uri": "https://localhost:8080/"
        },
        "id": "E6G7skBq6TQT",
        "outputId": "aff0f887-118d-4c44-bb78-d6caa0197f88"
      },
      "execution_count": null,
      "outputs": [
        {
          "output_type": "execute_result",
          "data": {
            "text/plain": [
              "bool"
            ]
          },
          "metadata": {},
          "execution_count": 25
        }
      ]
    },
    {
      "cell_type": "code",
      "source": [
        "type(False)"
      ],
      "metadata": {
        "colab": {
          "base_uri": "https://localhost:8080/"
        },
        "id": "wFwk6G146XO6",
        "outputId": "9723ecae-6da3-47bb-ab7a-e09a7df34392"
      },
      "execution_count": null,
      "outputs": [
        {
          "output_type": "execute_result",
          "data": {
            "text/plain": [
              "bool"
            ]
          },
          "metadata": {},
          "execution_count": 26
        }
      ]
    },
    {
      "cell_type": "markdown",
      "source": [
        " ## 2.3 Declaraciones\n",
        " - una declaracion es una instruccion que el intérprete de python puede ejecutar\n",
        "\n",
        " - Hemos visto sentencias de asignacion hasta ahora\n",
        "\n",
        " - Luego exploraremos for, if, import, while y otras declaraciones"
      ],
      "metadata": {
        "id": "bq8Lnv0S6afr"
      }
    },
    {
      "cell_type": "code",
      "source": [
        " 1+2"
      ],
      "metadata": {
        "colab": {
          "base_uri": "https://localhost:8080/"
        },
        "id": "VZjLuNBa6xX6",
        "outputId": "7af4559d-94c9-4744-8213-49dd145acaa5"
      },
      "execution_count": null,
      "outputs": [
        {
          "output_type": "execute_result",
          "data": {
            "text/plain": [
              "3"
            ]
          },
          "metadata": {},
          "execution_count": 27
        }
      ]
    },
    {
      "cell_type": "code",
      "source": [
        "len('hello')"
      ],
      "metadata": {
        "colab": {
          "base_uri": "https://localhost:8080/"
        },
        "id": "9vEVOPAT7EGP",
        "outputId": "deca68b8-f1f9-4138-e28b-49f2d339a2bc"
      },
      "execution_count": null,
      "outputs": [
        {
          "output_type": "execute_result",
          "data": {
            "text/plain": [
              "5"
            ]
          },
          "metadata": {},
          "execution_count": 28
        }
      ]
    },
    {
      "cell_type": "code",
      "source": [
        "print(2+3*4)"
      ],
      "metadata": {
        "colab": {
          "base_uri": "https://localhost:8080/"
        },
        "id": "sU0lA_IT7LyD",
        "outputId": "0b98592b-d504-4fef-bb63-b97a03423ba5"
      },
      "execution_count": null,
      "outputs": [
        {
          "output_type": "stream",
          "name": "stdout",
          "text": [
            "14\n"
          ]
        }
      ]
    },
    {
      "cell_type": "code",
      "source": [
        "print(''' \"oh no\", ella exclama, \"La ventana de Ben esta rota\"''')"
      ],
      "metadata": {
        "colab": {
          "base_uri": "https://localhost:8080/"
        },
        "id": "c2t5q0-g7SmJ",
        "outputId": "3856a882-6c98-4dc3-a235-b62b10a8f1a3"
      },
      "execution_count": null,
      "outputs": [
        {
          "output_type": "stream",
          "name": "stdout",
          "text": [
            " \"oh no\", ella exclama, \"La ventana de Ben esta rota\"\n"
          ]
        }
      ]
    },
    {
      "cell_type": "markdown",
      "source": [
        "## 2.4 Secuencia de escape\n",
        "- algunas letras o secuencias de letras tienen un significado especial para Python\n",
        "\n",
        "- Las comillas simples, dobles y triples simples o dobles represnetan  datos de cadena\n",
        "\n",
        "- utilice la barra invertida \\ para representar estas secuencias de escape, por ejemplo,\n",
        "\n",
        " - \\\\n - nueva línea\n",
        " - \\\\\\\\ - barra invertida\n",
        " - \\\\t - tabulador\n",
        " - \\\\r - retorno de carro\n",
        " - \\\\' - una frase\n",
        " - \\\\\" - comillas dobles"
      ],
      "metadata": {
        "id": "U2Jlh3FV7g_g"
      }
    },
    {
      "cell_type": "code",
      "source": [
        "print('what\\'s up \\n shaq o\\'Neal?')"
      ],
      "metadata": {
        "colab": {
          "base_uri": "https://localhost:8080/"
        },
        "id": "93IAIua38h3Y",
        "outputId": "8048ffea-511e-4e61-b483-e82bce321e47"
      },
      "execution_count": null,
      "outputs": [
        {
          "output_type": "stream",
          "name": "stdout",
          "text": [
            "what's up \n",
            " shaq o'Neal?\n"
          ]
        }
      ]
    },
    {
      "cell_type": "code",
      "source": [
        "print('Hello \\t here... \\n how are you? \\\\\\\\')"
      ],
      "metadata": {
        "colab": {
          "base_uri": "https://localhost:8080/"
        },
        "id": "GmuxydND8u_j",
        "outputId": "a09251af-52f8-4e3b-c39a-edf2dcf54c8a"
      },
      "execution_count": null,
      "outputs": [
        {
          "output_type": "stream",
          "name": "stdout",
          "text": [
            "Hello \t here... \n",
            " how are you? \\\\\n"
          ]
        }
      ]
    },
    {
      "cell_type": "code",
      "source": [
        "print (r'Hello here... how are you? \\\\')"
      ],
      "metadata": {
        "colab": {
          "base_uri": "https://localhost:8080/"
        },
        "id": "XvB077hU85cK",
        "outputId": "0017ebed-bf80-46a9-e208-310ab6f8aa8a"
      },
      "execution_count": null,
      "outputs": [
        {
          "output_type": "stream",
          "name": "stdout",
          "text": [
            "Hello here... how are you? \\\\\n"
          ]
        }
      ]
    },
    {
      "cell_type": "markdown",
      "source": [
        "#2.5 Varibles\n",
        "- las variables son identificadores que se utilizan para almacenar valores que luego pueden manipularse fácilmente\n",
        "- las variables dan nombres a los datos para que los datos puedan ser fácilmente referenciados por sus nombres una y otra vez\n",
        "- reglas y mejores prácticas para crear identificadores y nombres de variables:\n",
        "    - no puede ser una palabra clave - ¿cuáles son las palabras clave integradas?\n",
        "    - puede comenzar solo con letras del alfabeto o guión bajo (_)\n",
        "    - no puede tener símbolos como $, %, &, espacio en blanco, etc.\n",
        "    - no puede comenzar con un dígito, pero los dígitos se pueden usar en cualquier otra parte del nombre\n",
        "    - use nombres camelCase o use _ for_multi_word_names\n",
        "    - use nombres concisos pero significativos y sin ambigüedades para escribir menos y evitar errores tipográficos"
      ],
      "metadata": {
        "id": "OSaP3Xg59mEO"
      }
    },
    {
      "cell_type": "code",
      "source": [
        "help ('keywords')"
      ],
      "metadata": {
        "id": "PLKXCjdI9o_X"
      },
      "execution_count": null,
      "outputs": []
    },
    {
      "cell_type": "code",
      "source": [
        "# Las variables deben estar definidas inicilamente o antes de ser usadas\n",
        "print(x)"
      ],
      "metadata": {
        "colab": {
          "base_uri": "https://localhost:8080/"
        },
        "id": "meh6qQCzBZeG",
        "outputId": "ce8a42b5-557d-4872-e00e-26b254924054"
      },
      "execution_count": 37,
      "outputs": [
        {
          "output_type": "stream",
          "name": "stdout",
          "text": [
            "algun valor\n"
          ]
        }
      ]
    },
    {
      "cell_type": "code",
      "source": [
        "x = 'algun valor'\n",
        "print(x)"
      ],
      "metadata": {
        "colab": {
          "base_uri": "https://localhost:8080/"
        },
        "id": "5WigEDpUBijK",
        "outputId": "061d7ff6-e4c4-4a8e-d625-3ac5b7fa339a"
      },
      "execution_count": 36,
      "outputs": [
        {
          "output_type": "stream",
          "name": "stdout",
          "text": [
            "algun valor\n"
          ]
        }
      ]
    },
    {
      "cell_type": "code",
      "source": [
        "var1 = -100\n",
        "num = -99.99\n",
        "name = 'John'\n",
        "lName = 'Smith'\n",
        "MI = 'A'\n",
        "grade = 10.5\n",
        "Name = 'Jake'\n",
        "grade = 19.9\n",
        "gradosCelsius ='32'\n",
        "grados_celsius = 32"
      ],
      "metadata": {
        "id": "04leXd5TBqEc"
      },
      "execution_count": 39,
      "outputs": []
    },
    {
      "cell_type": "code",
      "source": [
        "type (gradosCelsius)"
      ],
      "metadata": {
        "colab": {
          "base_uri": "https://localhost:8080/"
        },
        "id": "85tO6-JYBsFn",
        "outputId": "030868c5-63bd-4699-f88e-5f5a1e2b9b10"
      },
      "execution_count": 40,
      "outputs": [
        {
          "output_type": "execute_result",
          "data": {
            "text/plain": [
              "str"
            ]
          },
          "metadata": {},
          "execution_count": 40
        }
      ]
    },
    {
      "cell_type": "code",
      "source": [
        "type(grados_celsius)"
      ],
      "metadata": {
        "colab": {
          "base_uri": "https://localhost:8080/"
        },
        "id": "z3rAfbOeB5ZH",
        "outputId": "632a7a7f-b587-4379-f31c-99dd47524fa0"
      },
      "execution_count": 41,
      "outputs": [
        {
          "output_type": "execute_result",
          "data": {
            "text/plain": [
              "int"
            ]
          },
          "metadata": {},
          "execution_count": 41
        }
      ]
    },
    {
      "cell_type": "code",
      "source": [
        "#Estructura dinámica\n",
        "var = 100"
      ],
      "metadata": {
        "id": "qr0MYGlrB7Qp"
      },
      "execution_count": 42,
      "outputs": []
    },
    {
      "cell_type": "code",
      "source": [
        "var ='hello'"
      ],
      "metadata": {
        "id": "0OoV21IeCAMd"
      },
      "execution_count": 43,
      "outputs": []
    },
    {
      "cell_type": "code",
      "source": [
        "var = 99.89"
      ],
      "metadata": {
        "id": "i8h_eE2KCA0L"
      },
      "execution_count": 44,
      "outputs": []
    },
    {
      "cell_type": "code",
      "source": [
        "var"
      ],
      "metadata": {
        "colab": {
          "base_uri": "https://localhost:8080/"
        },
        "id": "u_vL4YU0CDp3",
        "outputId": "41a0ca64-b82c-4036-aed5-609230edb179"
      },
      "execution_count": 45,
      "outputs": [
        {
          "output_type": "execute_result",
          "data": {
            "text/plain": [
              "99.89"
            ]
          },
          "metadata": {},
          "execution_count": 45
        }
      ]
    },
    {
      "cell_type": "markdown",
      "source": [
        "# 2.6 Computación: operadores y operandos\n",
        "- **operadores** son fichas/símbolos especiales que representan cálculos como suma, multiplicación y división\n",
        "- los valores que usa un operador se llaman **operandos**\n",
        "- algunos operadores binarios que toman dos operandos\n",
        "    - suma: 10 + 20\n",
        "    - resta: 20 - 10\n",
        "    - división verdadera: 10 / 3\n",
        "    - multiplicación: 7 * 9\n",
        "    - división entera: 10 // 3\n",
        "    - operador resto o módulo: 10 % 2\n",
        "    - potencia: 2 ** 3"
      ],
      "metadata": {
        "id": "WphLr_91CGQe"
      }
    },
    {
      "cell_type": "code",
      "source": [
        "print(2 * 3 ** 2)"
      ],
      "metadata": {
        "colab": {
          "base_uri": "https://localhost:8080/"
        },
        "id": "t7ad7rTpCKbm",
        "outputId": "1d490d38-f195-49b6-b6be-928c72a6adec"
      },
      "execution_count": 46,
      "outputs": [
        {
          "output_type": "stream",
          "name": "stdout",
          "text": [
            "18\n"
          ]
        }
      ]
    },
    {
      "cell_type": "code",
      "source": [
        "x = 1\n",
        "y = 2\n",
        "z = 3\n",
        "ans = x+y-z*y**y\n",
        "print(ans)"
      ],
      "metadata": {
        "id": "P1yBZwzMCOzn",
        "outputId": "58738a4c-1824-44e9-e2ba-b65b93661f35",
        "colab": {
          "base_uri": "https://localhost:8080/"
        }
      },
      "execution_count": 47,
      "outputs": [
        {
          "output_type": "stream",
          "name": "stdout",
          "text": [
            "-9\n"
          ]
        }
      ]
    },
    {
      "cell_type": "markdown",
      "source": [
        "# 2.7 Operations on strings\n",
        "+  and  ∗  operators also work on strings\n",
        "Chapter 08 covers more on string data type and operations"
      ],
      "metadata": {
        "id": "w_Blc12rCd49"
      }
    },
    {
      "cell_type": "code",
      "source": [
        "fname = \"John\"\n",
        "lname = \"Smith\"\n",
        "fullName = fname +\" \"+ lname\n",
        "print(fullName)"
      ],
      "metadata": {
        "colab": {
          "base_uri": "https://localhost:8080/"
        },
        "id": "dK40J52iCdRW",
        "outputId": "f54bbd9d-3e28-4423-da22-5a644af6c59d"
      },
      "execution_count": 49,
      "outputs": [
        {
          "output_type": "stream",
          "name": "stdout",
          "text": [
            "John Smith\n"
          ]
        }
      ]
    },
    {
      "cell_type": "code",
      "source": [
        "gane = \"AGT\"*10\n",
        "print(gane)"
      ],
      "metadata": {
        "colab": {
          "base_uri": "https://localhost:8080/"
        },
        "id": "PIkbB71pCxxH",
        "outputId": "b650b543-1b3a-4a96-b66c-5364ee3cfdef"
      },
      "execution_count": 51,
      "outputs": [
        {
          "output_type": "stream",
          "name": "stdout",
          "text": [
            "AGTAGTAGTAGTAGTAGTAGTAGTAGTAGT\n"
          ]
        }
      ]
    },
    {
      "cell_type": "code",
      "source": [
        "name = input('What is your name? ')"
      ],
      "metadata": {
        "colab": {
          "base_uri": "https://localhost:8080/"
        },
        "id": "dPVb7SEuDJuf",
        "outputId": "5189d56b-dfe3-4a9d-9cbb-cc2de11dd0ab"
      },
      "execution_count": 52,
      "outputs": [
        {
          "name": "stdout",
          "output_type": "stream",
          "text": [
            "What is your name? sofia\n"
          ]
        }
      ]
    },
    {
      "cell_type": "code",
      "source": [
        "print('hello, ', name)"
      ],
      "metadata": {
        "colab": {
          "base_uri": "https://localhost:8080/"
        },
        "id": "Q4F9SDKEDL2E",
        "outputId": "e55bf2a3-793f-49c8-f1f1-79dae046b7c4"
      },
      "execution_count": 53,
      "outputs": [
        {
          "output_type": "stream",
          "name": "stdout",
          "text": [
            "hello,  sofia\n"
          ]
        }
      ]
    },
    {
      "cell_type": "code",
      "source": [
        "num = input('Introduce un número => ')\n",
        "print('Tu número es: ', num)\n",
        "print('El tipo del', num, '=', type(num))"
      ],
      "metadata": {
        "colab": {
          "base_uri": "https://localhost:8080/"
        },
        "id": "Nwark2EfDO_f",
        "outputId": "570ea29d-9a56-4d20-b25a-2b709d2eecb4"
      },
      "execution_count": 54,
      "outputs": [
        {
          "output_type": "stream",
          "name": "stdout",
          "text": [
            "Introduce un número =>56\n",
            "Tu número es:  56\n",
            "El tipo del 56 = <class 'str'>\n"
          ]
        }
      ]
    },
    {
      "cell_type": "code",
      "source": [
        "# str must be casted into int or float depending on the value required\n",
        "num2 = float(num)\n",
        "print('type of', num, '=', type(num2))"
      ],
      "metadata": {
        "colab": {
          "base_uri": "https://localhost:8080/"
        },
        "id": "OR53miesDakE",
        "outputId": "c9bfd8d0-fecc-4ad1-b583-596f913604fe"
      },
      "execution_count": 55,
      "outputs": [
        {
          "output_type": "stream",
          "name": "stdout",
          "text": [
            "type of 56 = <class 'float'>\n"
          ]
        }
      ]
    },
    {
      "cell_type": "markdown",
      "source": [
        "#Ejercicio 1"
      ],
      "metadata": {
        "id": "Q8u1GzPsDmRl"
      }
    },
    {
      "cell_type": "markdown",
      "source": [
        "# Area y perímetro de un rectángulo\n",
        "\n",
        "Escriba un script de python que calcule el área y el perímetro de un rectángulo"
      ],
      "metadata": {
        "id": "vqgNtzIlDpuX"
      }
    },
    {
      "cell_type": "code",
      "source": [
        "# Demuestra la composición paso a paso\n",
        "# Pasos del algoritmo\n",
        "# 1. Obtenga la longitud y el ancho de un rectángulo\n",
        "#     a. valores codificados O\n",
        "#     b. solicitar al usuario que introduzca los valores de largo y ancho\n",
        "#        i. convertir la longitud y el ancho en tipos de datos correctos\n",
        "# 2. Encuentra el área = largo x ancho\n",
        "# 3. Encuentra el perímetro = 2 (largo + ancho)\n",
        "# 4. Mostrar resultados calculados"
      ],
      "metadata": {
        "id": "cmWDjlnZDtBs"
      },
      "execution_count": null,
      "outputs": []
    },
    {
      "cell_type": "code",
      "source": [
        "x = input('Introduce un número => ')\n",
        "x2 = float(x)"
      ],
      "metadata": {
        "colab": {
          "base_uri": "https://localhost:8080/"
        },
        "id": "bU3B4PirDypi",
        "outputId": "59dca461-2ca7-4629-be93-d7df7db9dc0f"
      },
      "execution_count": 58,
      "outputs": [
        {
          "name": "stdout",
          "output_type": "stream",
          "text": [
            "Introduce un número => 5\n"
          ]
        }
      ]
    },
    {
      "cell_type": "code",
      "source": [
        "y = input('Introduce un número => ')\n",
        "y2 = float(y)"
      ],
      "metadata": {
        "colab": {
          "base_uri": "https://localhost:8080/"
        },
        "id": "YtL2dznOD2gq",
        "outputId": "a383f611-00a5-4de8-f734-024ea4f6ae6a"
      },
      "execution_count": 59,
      "outputs": [
        {
          "name": "stdout",
          "output_type": "stream",
          "text": [
            "Introduce un número => 8\n"
          ]
        }
      ]
    },
    {
      "cell_type": "code",
      "source": [
        "Area = x2 * y2\n",
        "\n",
        "print(\"El area es: \", Area)"
      ],
      "metadata": {
        "colab": {
          "base_uri": "https://localhost:8080/"
        },
        "id": "_r4t3P0XD7pq",
        "outputId": "f36e48d6-0ff7-443c-e796-98a9c3e60d4e"
      },
      "execution_count": 61,
      "outputs": [
        {
          "output_type": "stream",
          "name": "stdout",
          "text": [
            "El area es:  40.0\n"
          ]
        }
      ]
    },
    {
      "cell_type": "code",
      "source": [
        "Perimetro = (2*x2) + (2*y2)\n",
        "\n",
        "print(\"El perimetro es:\",Perimetro)"
      ],
      "metadata": {
        "colab": {
          "base_uri": "https://localhost:8080/"
        },
        "id": "qJ-tmITHEoAp",
        "outputId": "af385913-06b4-4a62-ebe2-190e75af2633"
      },
      "execution_count": 62,
      "outputs": [
        {
          "output_type": "stream",
          "name": "stdout",
          "text": [
            "El perimetro es: 26.0\n"
          ]
        }
      ]
    },
    {
      "cell_type": "code",
      "source": [
        "Perimetro = 2*(x2 +y2)\n",
        "\n",
        "print(\"El perimetro es:\",Perimetro)"
      ],
      "metadata": {
        "colab": {
          "base_uri": "https://localhost:8080/"
        },
        "id": "bsr6YNKaEvuW",
        "outputId": "683d3fc1-7abf-4d02-9588-434f20ec3a60"
      },
      "execution_count": 63,
      "outputs": [
        {
          "output_type": "stream",
          "name": "stdout",
          "text": [
            "El perimetro es: 26.0\n"
          ]
        }
      ]
    },
    {
      "cell_type": "markdown",
      "source": [
        "2. área y circunferencia de un círculo\n",
        "- escribir un script de python que calcule el área y la circunferencia de un círculo\n",
        "- el área de un círculo se calcula usando la ecuación: $\\pi r^{2}$\n",
        "- el perímetro de un círculo se calcula usando la ecuación: $2 \\pi r$\n",
        "- puedes usar $\\pi=3.14159$"
      ],
      "metadata": {
        "id": "JLD_j7pyEzL7"
      }
    },
    {
      "cell_type": "code",
      "source": [
        "r = float(input(\"Cual es el radio: \"))"
      ],
      "metadata": {
        "colab": {
          "base_uri": "https://localhost:8080/"
        },
        "id": "-r1wMm2VE3of",
        "outputId": "19205e27-26ec-4908-e3b7-6bc43843af08"
      },
      "execution_count": 66,
      "outputs": [
        {
          "name": "stdout",
          "output_type": "stream",
          "text": [
            "Cual es el radio: 2\n"
          ]
        }
      ]
    },
    {
      "cell_type": "code",
      "source": [
        "pi = 3.14159"
      ],
      "metadata": {
        "id": "B6-QGvi5FFmj"
      },
      "execution_count": 65,
      "outputs": []
    },
    {
      "cell_type": "code",
      "source": [
        "area = pi * (r **2)\n",
        "\n",
        "print (\"El area del circulo es: \", area)"
      ],
      "metadata": {
        "colab": {
          "base_uri": "https://localhost:8080/"
        },
        "id": "IOUUAopjFChN",
        "outputId": "54f63de3-3a44-4586-c9ed-4b56d79efaed"
      },
      "execution_count": 69,
      "outputs": [
        {
          "output_type": "stream",
          "name": "stdout",
          "text": [
            "El area del circulo es:  12.56636\n"
          ]
        }
      ]
    },
    {
      "cell_type": "code",
      "source": [
        "perimetro = 2 * pi *r\n",
        "\n",
        "print(\"El perimetro es: \", perimetro)"
      ],
      "metadata": {
        "colab": {
          "base_uri": "https://localhost:8080/"
        },
        "id": "Vq5XTG0mFa4S",
        "outputId": "615ec622-86c0-4cf1-d569-1838eefbb33c"
      },
      "execution_count": 70,
      "outputs": [
        {
          "output_type": "stream",
          "name": "stdout",
          "text": [
            "El perimetro es:  12.56636\n"
          ]
        }
      ]
    }
  ]
}