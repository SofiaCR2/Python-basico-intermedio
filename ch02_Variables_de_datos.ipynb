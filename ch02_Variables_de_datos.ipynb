{
  "nbformat": 4,
  "nbformat_minor": 0,
  "metadata": {
    "colab": {
      "provenance": [],
      "authorship_tag": "ABX9TyP1JYcw1+R/GFtu1Vx15Ejy",
      "include_colab_link": true
    },
    "kernelspec": {
      "name": "python3",
      "display_name": "Python 3"
    },
    "language_info": {
      "name": "python"
    }
  },
  "cells": [
    {
      "cell_type": "markdown",
      "metadata": {
        "id": "view-in-github",
        "colab_type": "text"
      },
      "source": [
        "<a href=\"https://colab.research.google.com/github/SofiaCR2/Python-basico-intermedio/blob/main/ch02_Variables_de_datos.ipynb\" target=\"_parent\"><img src=\"https://colab.research.google.com/assets/colab-badge.svg\" alt=\"Open In Colab\"/></a>"
      ]
    },
    {
      "cell_type": "markdown",
      "source": [
        "Autor: sofia Castro\n",
        "\n",
        "Curso: Python de básico a intermedio\n",
        "\n",
        "11/07/2023"
      ],
      "metadata": {
        "id": "ci4mrY5PHY0M"
      }
    },
    {
      "cell_type": "markdown",
      "source": [
        "# 2.1 Tipos de Datos"
      ],
      "metadata": {
        "id": "oH59PbYJHm9a"
      }
    },
    {
      "cell_type": "code",
      "execution_count": 1,
      "metadata": {
        "colab": {
          "base_uri": "https://localhost:8080/"
        },
        "id": "QZCtK5HDHU6i",
        "outputId": "f1c4a7be-55fb-4d11-b85f-d3c0943d876b"
      },
      "outputs": [
        {
          "output_type": "execute_result",
          "data": {
            "text/plain": [
              "int"
            ]
          },
          "metadata": {},
          "execution_count": 1
        }
      ],
      "source": [
        "type (100)"
      ]
    },
    {
      "cell_type": "code",
      "source": [
        "type(-9)"
      ],
      "metadata": {
        "colab": {
          "base_uri": "https://localhost:8080/"
        },
        "id": "i2tZI_6BHpxq",
        "outputId": "e309ebd9-6e8d-4b13-91b3-d5d14e7352fe"
      },
      "execution_count": 2,
      "outputs": [
        {
          "output_type": "execute_result",
          "data": {
            "text/plain": [
              "int"
            ]
          },
          "metadata": {},
          "execution_count": 2
        }
      ]
    },
    {
      "cell_type": "code",
      "source": [
        "type(1000.9874)"
      ],
      "metadata": {
        "colab": {
          "base_uri": "https://localhost:8080/"
        },
        "id": "T0cTPe8GHrte",
        "outputId": "46d3d7bb-08f0-454f-dd5f-293ce8e6ffac"
      },
      "execution_count": 3,
      "outputs": [
        {
          "output_type": "execute_result",
          "data": {
            "text/plain": [
              "float"
            ]
          },
          "metadata": {},
          "execution_count": 3
        }
      ]
    },
    {
      "cell_type": "code",
      "source": [
        "type(\"A\")"
      ],
      "metadata": {
        "colab": {
          "base_uri": "https://localhost:8080/"
        },
        "id": "HIOwTMq1Htf1",
        "outputId": "0d866dd6-1ecd-409c-fc6f-e9c027fef4c3"
      },
      "execution_count": 4,
      "outputs": [
        {
          "output_type": "execute_result",
          "data": {
            "text/plain": [
              "str"
            ]
          },
          "metadata": {},
          "execution_count": 4
        }
      ]
    },
    {
      "cell_type": "code",
      "source": [
        "type('A')"
      ],
      "metadata": {
        "colab": {
          "base_uri": "https://localhost:8080/"
        },
        "id": "dOVHvAKYHv_N",
        "outputId": "825d8cfb-253c-41b6-a25d-54ea4c051a05"
      },
      "execution_count": 5,
      "outputs": [
        {
          "output_type": "execute_result",
          "data": {
            "text/plain": [
              "str"
            ]
          },
          "metadata": {},
          "execution_count": 5
        }
      ]
    },
    {
      "cell_type": "code",
      "source": [
        "print(\"hello\")"
      ],
      "metadata": {
        "colab": {
          "base_uri": "https://localhost:8080/"
        },
        "id": "dhoomFEwIBTM",
        "outputId": "c6e0696c-b311-4d0d-9404-b0bc7879fad8"
      },
      "execution_count": 6,
      "outputs": [
        {
          "output_type": "stream",
          "name": "stdout",
          "text": [
            "hello\n"
          ]
        }
      ]
    },
    {
      "cell_type": "code",
      "source": [
        "print(type(\"hello\"))"
      ],
      "metadata": {
        "colab": {
          "base_uri": "https://localhost:8080/"
        },
        "id": "3ZXBFbXnIEDS",
        "outputId": "e254126c-be62-4aab-c192-5cc3b19297a2"
      },
      "execution_count": 7,
      "outputs": [
        {
          "output_type": "stream",
          "name": "stdout",
          "text": [
            "<class 'str'>\n"
          ]
        }
      ]
    },
    {
      "cell_type": "code",
      "source": [
        "type(\"17\")"
      ],
      "metadata": {
        "colab": {
          "base_uri": "https://localhost:8080/"
        },
        "id": "14rVIyVUIFLZ",
        "outputId": "4497ad45-1b70-43fa-a550-b1043f12eafe"
      },
      "execution_count": 8,
      "outputs": [
        {
          "output_type": "execute_result",
          "data": {
            "text/plain": [
              "str"
            ]
          },
          "metadata": {},
          "execution_count": 8
        }
      ]
    },
    {
      "cell_type": "code",
      "source": [
        "type(\"\"\"Triple double quote data\"\"\")"
      ],
      "metadata": {
        "colab": {
          "base_uri": "https://localhost:8080/"
        },
        "id": "mFVvQWnzIJYV",
        "outputId": "8ebe5905-a8a1-49f1-9ecf-f34068a60657"
      },
      "execution_count": 10,
      "outputs": [
        {
          "output_type": "execute_result",
          "data": {
            "text/plain": [
              "str"
            ]
          },
          "metadata": {},
          "execution_count": 10
        }
      ]
    },
    {
      "cell_type": "code",
      "source": [
        "print(\"\"\"Triple double quote data\"\"\")"
      ],
      "metadata": {
        "colab": {
          "base_uri": "https://localhost:8080/"
        },
        "id": "LdGDOdlbIKfU",
        "outputId": "7a50e0bb-713c-486b-80b1-c77fba9e2216"
      },
      "execution_count": 9,
      "outputs": [
        {
          "output_type": "stream",
          "name": "stdout",
          "text": [
            "Triple double quote data\n"
          ]
        }
      ]
    },
    {
      "cell_type": "code",
      "source": [
        "a = \"hello\""
      ],
      "metadata": {
        "id": "6gmptTmqILsA"
      },
      "execution_count": 11,
      "outputs": []
    },
    {
      "cell_type": "code",
      "source": [
        "a"
      ],
      "metadata": {
        "colab": {
          "base_uri": "https://localhost:8080/",
          "height": 36
        },
        "id": "fjoVo34yIMcy",
        "outputId": "5cb865d9-67f4-4304-bcdc-eb85e44e2a63"
      },
      "execution_count": 12,
      "outputs": [
        {
          "output_type": "execute_result",
          "data": {
            "text/plain": [
              "'hello'"
            ],
            "application/vnd.google.colaboratory.intrinsic+json": {
              "type": "string"
            }
          },
          "metadata": {},
          "execution_count": 12
        }
      ]
    },
    {
      "cell_type": "markdown",
      "source": [
        "##2.2 Conversion de tipos"
      ],
      "metadata": {
        "id": "fGExcdtWIQaI"
      }
    },
    {
      "cell_type": "code",
      "source": [
        "data = \"hello\" # no se puede convertir una cadena en flotante o en entero"
      ],
      "metadata": {
        "id": "YKRVdkZQISTI"
      },
      "execution_count": 19,
      "outputs": []
    },
    {
      "cell_type": "code",
      "source": [
        "type(data)"
      ],
      "metadata": {
        "colab": {
          "base_uri": "https://localhost:8080/"
        },
        "id": "0Q-6H2rlIUSa",
        "outputId": "c22cda11-5b06-4d6e-bd29-c9dac25e9149"
      },
      "execution_count": 20,
      "outputs": [
        {
          "output_type": "execute_result",
          "data": {
            "text/plain": [
              "str"
            ]
          },
          "metadata": {},
          "execution_count": 20
        }
      ]
    },
    {
      "cell_type": "code",
      "source": [
        "data = '100'\n",
        "type(data)"
      ],
      "metadata": {
        "colab": {
          "base_uri": "https://localhost:8080/"
        },
        "id": "kBxST70cIV8k",
        "outputId": "475731c7-bf28-4893-b9ae-2d90941869c1"
      },
      "execution_count": 21,
      "outputs": [
        {
          "output_type": "execute_result",
          "data": {
            "text/plain": [
              "str"
            ]
          },
          "metadata": {},
          "execution_count": 21
        }
      ]
    },
    {
      "cell_type": "code",
      "source": [
        "num = int(data)\n",
        "type(num)"
      ],
      "metadata": {
        "colab": {
          "base_uri": "https://localhost:8080/"
        },
        "id": "ZTqnQoJnIXJo",
        "outputId": "7a43be62-ed4f-43ee-cfbc-01e66e3c7585"
      },
      "execution_count": 22,
      "outputs": [
        {
          "output_type": "execute_result",
          "data": {
            "text/plain": [
              "int"
            ]
          },
          "metadata": {},
          "execution_count": 22
        }
      ]
    },
    {
      "cell_type": "code",
      "source": [
        "num"
      ],
      "metadata": {
        "colab": {
          "base_uri": "https://localhost:8080/"
        },
        "id": "RItqI7xBIYPr",
        "outputId": "8280a75e-0c79-439f-a1c3-c0fc2178f68f"
      },
      "execution_count": 23,
      "outputs": [
        {
          "output_type": "execute_result",
          "data": {
            "text/plain": [
              "100"
            ]
          },
          "metadata": {},
          "execution_count": 23
        }
      ]
    },
    {
      "cell_type": "code",
      "source": [
        "price = float('500.99')\n",
        "type(price)"
      ],
      "metadata": {
        "colab": {
          "base_uri": "https://localhost:8080/"
        },
        "id": "8VI2ZqOOIdkE",
        "outputId": "f9ba5d3a-e2da-4278-a843-64f1bda167e7"
      },
      "execution_count": 24,
      "outputs": [
        {
          "output_type": "execute_result",
          "data": {
            "text/plain": [
              "float"
            ]
          },
          "metadata": {},
          "execution_count": 24
        }
      ]
    },
    {
      "cell_type": "code",
      "source": [
        "float('h1')"
      ],
      "metadata": {
        "colab": {
          "base_uri": "https://localhost:8080/",
          "height": 165
        },
        "id": "vH66nRaVIfEk",
        "outputId": "73ebae62-7f18-43e9-b89c-0b824425d9d1"
      },
      "execution_count": 25,
      "outputs": [
        {
          "output_type": "error",
          "ename": "ValueError",
          "evalue": "ignored",
          "traceback": [
            "\u001b[0;31m---------------------------------------------------------------------------\u001b[0m",
            "\u001b[0;31mValueError\u001b[0m                                Traceback (most recent call last)",
            "\u001b[0;32m<ipython-input-25-dcdc405220e8>\u001b[0m in \u001b[0;36m<cell line: 1>\u001b[0;34m()\u001b[0m\n\u001b[0;32m----> 1\u001b[0;31m \u001b[0mfloat\u001b[0m\u001b[0;34m(\u001b[0m\u001b[0;34m'h1'\u001b[0m\u001b[0;34m)\u001b[0m\u001b[0;34m\u001b[0m\u001b[0;34m\u001b[0m\u001b[0m\n\u001b[0m",
            "\u001b[0;31mValueError\u001b[0m: could not convert string to float: 'h1'"
          ]
        }
      ]
    },
    {
      "cell_type": "code",
      "source": [
        "num = 99.99\n",
        "striNum = str(num)\n",
        "print(striNum)\n",
        "type(striNum)"
      ],
      "metadata": {
        "colab": {
          "base_uri": "https://localhost:8080/"
        },
        "id": "ZzWo975yIlOA",
        "outputId": "c1e3cf0d-62aa-4f99-a5b2-786ac3061fc2"
      },
      "execution_count": 26,
      "outputs": [
        {
          "output_type": "stream",
          "name": "stdout",
          "text": [
            "99.99\n"
          ]
        },
        {
          "output_type": "execute_result",
          "data": {
            "text/plain": [
              "str"
            ]
          },
          "metadata": {},
          "execution_count": 26
        }
      ]
    },
    {
      "cell_type": "code",
      "source": [
        "type(True)"
      ],
      "metadata": {
        "colab": {
          "base_uri": "https://localhost:8080/"
        },
        "id": "fhsE3HbgImqg",
        "outputId": "2c7c86c2-5feb-4fb2-d7f4-ac583dd368e1"
      },
      "execution_count": 27,
      "outputs": [
        {
          "output_type": "execute_result",
          "data": {
            "text/plain": [
              "bool"
            ]
          },
          "metadata": {},
          "execution_count": 27
        }
      ]
    },
    {
      "cell_type": "code",
      "source": [
        "type(False)"
      ],
      "metadata": {
        "colab": {
          "base_uri": "https://localhost:8080/"
        },
        "id": "lBxR2TOfInym",
        "outputId": "b3572b20-fb0f-439e-ea03-de8cf79d9244"
      },
      "execution_count": 28,
      "outputs": [
        {
          "output_type": "execute_result",
          "data": {
            "text/plain": [
              "bool"
            ]
          },
          "metadata": {},
          "execution_count": 28
        }
      ]
    },
    {
      "cell_type": "markdown",
      "source": [
        " ## 2.3 Declaraciones\n",
        " - una declaracion es una instruccion que el intérprete de python puede ejecutar\n",
        "\n",
        " - Hemos visto sentencias de asignacion hasta ahora\n",
        "\n",
        " - Luego exploraremos for, if, import, while y otras declaraciones"
      ],
      "metadata": {
        "id": "ZCPMYf1QIr6e"
      }
    },
    {
      "cell_type": "code",
      "source": [
        " 1 + 2"
      ],
      "metadata": {
        "colab": {
          "base_uri": "https://localhost:8080/"
        },
        "id": "LPGYbxDbIqcq",
        "outputId": "e3ae1c81-8826-447d-bc17-231d05d46271"
      },
      "execution_count": 29,
      "outputs": [
        {
          "output_type": "execute_result",
          "data": {
            "text/plain": [
              "3"
            ]
          },
          "metadata": {},
          "execution_count": 29
        }
      ]
    },
    {
      "cell_type": "code",
      "source": [
        "len('hello')"
      ],
      "metadata": {
        "colab": {
          "base_uri": "https://localhost:8080/"
        },
        "id": "NFu6oTr_I6qk",
        "outputId": "fee8adab-bb04-4a4d-c564-25c8c78ba5e7"
      },
      "execution_count": 30,
      "outputs": [
        {
          "output_type": "execute_result",
          "data": {
            "text/plain": [
              "5"
            ]
          },
          "metadata": {},
          "execution_count": 30
        }
      ]
    },
    {
      "cell_type": "code",
      "source": [
        "print(2+3*4)"
      ],
      "metadata": {
        "colab": {
          "base_uri": "https://localhost:8080/"
        },
        "id": "dh7YldfaI8S6",
        "outputId": "4ffd982b-d166-4f9b-da65-97639cf80e10"
      },
      "execution_count": 31,
      "outputs": [
        {
          "output_type": "stream",
          "name": "stdout",
          "text": [
            "14\n"
          ]
        }
      ]
    },
    {
      "cell_type": "code",
      "source": [
        "print(''' \"oh no\", ella exclama, \"La ventana de Ben esta rota\"''')"
      ],
      "metadata": {
        "colab": {
          "base_uri": "https://localhost:8080/"
        },
        "id": "Da6RYFduI-DO",
        "outputId": "2a213a6d-b316-4b71-a70c-b01d7b04c992"
      },
      "execution_count": 32,
      "outputs": [
        {
          "output_type": "stream",
          "name": "stdout",
          "text": [
            " \"oh no\", ella exclama, \"La ventana de Ben esta rota\"\n"
          ]
        }
      ]
    },
    {
      "cell_type": "markdown",
      "source": [
        "## 2.4 Secuencia de escape\n",
        "- algunas letras o secuencias de letras tienen un significado especial para Python\n",
        "\n",
        "- Las comillas simples, dobles y triples simples o dobles represnetan  datos de cadena\n",
        "\n",
        "- utilice la barra invertida \\ para representar estas secuencias de escape, por ejemplo,\n",
        "\n",
        " - \\\\n - nueva línea\n",
        " - \\\\\\\\ - barra invertida\n",
        " - \\\\t - tabulador\n",
        " - \\\\r - retorno de carro\n",
        " - \\\\' - una frase\n",
        " - \\\\\" - comillas dobles"
      ],
      "metadata": {
        "id": "in1a-Rt3JBQ_"
      }
    },
    {
      "cell_type": "code",
      "source": [
        "print('what\\'s up \\n shaq o\\'Neal?')"
      ],
      "metadata": {
        "colab": {
          "base_uri": "https://localhost:8080/"
        },
        "id": "ykrct-pzJAJZ",
        "outputId": "5b6e5dcf-2787-4d31-fd22-1ad0d3802e00"
      },
      "execution_count": 33,
      "outputs": [
        {
          "output_type": "stream",
          "name": "stdout",
          "text": [
            "what's up \n",
            " shaq o'Neal?\n"
          ]
        }
      ]
    },
    {
      "cell_type": "code",
      "source": [
        "print('Hello \\t here... \\n how are you? \\\\\\\\')"
      ],
      "metadata": {
        "colab": {
          "base_uri": "https://localhost:8080/"
        },
        "id": "Kfh2WUvaJGq8",
        "outputId": "2fb44829-3833-435f-f523-3a588928f68b"
      },
      "execution_count": 34,
      "outputs": [
        {
          "output_type": "stream",
          "name": "stdout",
          "text": [
            "Hello \t here... \n",
            " how are you? \\\\\n"
          ]
        }
      ]
    },
    {
      "cell_type": "code",
      "source": [
        "print (r'Hello here... how are you? \\\\')"
      ],
      "metadata": {
        "colab": {
          "base_uri": "https://localhost:8080/"
        },
        "id": "Mao6e5wrJJ4d",
        "outputId": "06e485d2-07c8-4022-9504-0c0d00d7cdcb"
      },
      "execution_count": 35,
      "outputs": [
        {
          "output_type": "stream",
          "name": "stdout",
          "text": [
            "Hello here... how are you? \\\\\n"
          ]
        }
      ]
    },
    {
      "cell_type": "markdown",
      "source": [
        "#2.5 Varibles\n",
        "- las variables son identificadores que se utilizan para almacenar valores que luego pueden manipularse fácilmente\n",
        "- las variables dan nombres a los datos para que los datos puedan ser fácilmente referenciados por sus nombres una y otra vez\n",
        "- reglas y mejores prácticas para crear identificadores y nombres de variables:\n",
        "    - no puede ser una palabra clave - ¿cuáles son las palabras clave integradas?\n",
        "    - puede comenzar solo con letras del alfabeto o guión bajo (_)\n",
        "    - no puede tener símbolos como $, %, &, espacio en blanco, etc.\n",
        "    - no puede comenzar con un dígito, pero los dígitos se pueden usar en cualquier otra parte del nombre\n",
        "    - use nombres camelCase o use _ for_multi_word_names\n",
        "    - use nombres concisos pero significativos y sin ambigüedades para escribir menos y evitar errores tipográficos"
      ],
      "metadata": {
        "id": "CkByqxc6JMWp"
      }
    },
    {
      "cell_type": "code",
      "source": [
        "help ('keywords')"
      ],
      "metadata": {
        "colab": {
          "base_uri": "https://localhost:8080/"
        },
        "id": "iAiro1beJS5j",
        "outputId": "20ddd0f1-7ef9-43f5-bb9d-dc3d95a53520"
      },
      "execution_count": 38,
      "outputs": [
        {
          "output_type": "stream",
          "name": "stdout",
          "text": [
            "\n",
            "Here is a list of the Python keywords.  Enter any keyword to get more help.\n",
            "\n",
            "False               class               from                or\n",
            "None                continue            global              pass\n",
            "True                def                 if                  raise\n",
            "and                 del                 import              return\n",
            "as                  elif                in                  try\n",
            "assert              else                is                  while\n",
            "async               except              lambda              with\n",
            "await               finally             nonlocal            yield\n",
            "break               for                 not                 \n",
            "\n"
          ]
        }
      ]
    },
    {
      "cell_type": "code",
      "source": [
        "# Las variables deben estar definidas inicilamente o antes de ser usadas\n",
        "print(x)"
      ],
      "metadata": {
        "colab": {
          "base_uri": "https://localhost:8080/"
        },
        "id": "bQtdPLWbJUrs",
        "outputId": "b7ae3be1-1447-42ff-9095-94cb609354b5"
      },
      "execution_count": 37,
      "outputs": [
        {
          "output_type": "stream",
          "name": "stdout",
          "text": [
            "algun valor\n"
          ]
        }
      ]
    },
    {
      "cell_type": "code",
      "source": [
        "x = 'algun valor'\n",
        "print(x)"
      ],
      "metadata": {
        "colab": {
          "base_uri": "https://localhost:8080/"
        },
        "id": "jYqV2zUuJWbl",
        "outputId": "c5dcaa60-23f7-4cc3-9ecd-61a88e0a69e8"
      },
      "execution_count": 36,
      "outputs": [
        {
          "output_type": "stream",
          "name": "stdout",
          "text": [
            "algun valor\n"
          ]
        }
      ]
    },
    {
      "cell_type": "code",
      "source": [
        "var1 = -100\n",
        "num = -99.99\n",
        "name = 'John'\n",
        "lName = 'Smith'\n",
        "MI = 'A'\n",
        "grade = 10.5\n",
        "Name = 'Jake'\n",
        "grade = 19.9\n",
        "gradosCelsius ='32'\n",
        "grados_celsius = 32"
      ],
      "metadata": {
        "id": "oMUE5uQlJaYq"
      },
      "execution_count": 39,
      "outputs": []
    },
    {
      "cell_type": "code",
      "source": [
        "type (gradosCelsius)"
      ],
      "metadata": {
        "colab": {
          "base_uri": "https://localhost:8080/"
        },
        "id": "Ei3fTDbzJdDX",
        "outputId": "ceca6737-3d82-433c-ecfe-5d3971d20436"
      },
      "execution_count": 40,
      "outputs": [
        {
          "output_type": "execute_result",
          "data": {
            "text/plain": [
              "str"
            ]
          },
          "metadata": {},
          "execution_count": 40
        }
      ]
    },
    {
      "cell_type": "code",
      "source": [
        "type(grados_celsius)"
      ],
      "metadata": {
        "colab": {
          "base_uri": "https://localhost:8080/"
        },
        "id": "-SvABvRHJfai",
        "outputId": "237eb17f-9c23-421c-c846-d48e10be7eeb"
      },
      "execution_count": 41,
      "outputs": [
        {
          "output_type": "execute_result",
          "data": {
            "text/plain": [
              "int"
            ]
          },
          "metadata": {},
          "execution_count": 41
        }
      ]
    },
    {
      "cell_type": "code",
      "source": [
        "#Estructura dinámica\n",
        "var = 100"
      ],
      "metadata": {
        "id": "Dk9ImE4HJh_F"
      },
      "execution_count": 42,
      "outputs": []
    },
    {
      "cell_type": "code",
      "source": [
        "var ='hello'"
      ],
      "metadata": {
        "id": "Ru9TSOXXJkfj"
      },
      "execution_count": 43,
      "outputs": []
    },
    {
      "cell_type": "code",
      "source": [
        "var = 99.89"
      ],
      "metadata": {
        "id": "SICOkyapJmAK"
      },
      "execution_count": 44,
      "outputs": []
    },
    {
      "cell_type": "code",
      "source": [
        "var"
      ],
      "metadata": {
        "colab": {
          "base_uri": "https://localhost:8080/"
        },
        "id": "31GEkpKGJnpF",
        "outputId": "a11689aa-57e4-4e75-98b1-c79974647e3d"
      },
      "execution_count": 45,
      "outputs": [
        {
          "output_type": "execute_result",
          "data": {
            "text/plain": [
              "99.89"
            ]
          },
          "metadata": {},
          "execution_count": 45
        }
      ]
    },
    {
      "cell_type": "markdown",
      "source": [
        "# 2.6 Computación: operadores y operandos\n",
        "- **operadores** son fichas/símbolos especiales que representan cálculos como suma, multiplicación y división\n",
        "- los valores que usa un operador se llaman **operandos**\n",
        "- algunos operadores binarios que toman dos operandos\n",
        "    - suma: 10 + 20\n",
        "    - resta: 20 - 10\n",
        "    - división verdadera: 10 / 3\n",
        "    - multiplicación: 7 * 9\n",
        "    - división entera: 10 // 3\n",
        "    - operador resto o módulo: 10 % 2\n",
        "    - potencia: 2 ** 3"
      ],
      "metadata": {
        "id": "z9vHYH-DJr44"
      }
    },
    {
      "cell_type": "code",
      "source": [
        "print(2 * 3 ** 2)"
      ],
      "metadata": {
        "colab": {
          "base_uri": "https://localhost:8080/"
        },
        "id": "FEQUUxSOJsup",
        "outputId": "5b616c11-d206-45eb-f3c8-d15b55085a04"
      },
      "execution_count": 46,
      "outputs": [
        {
          "output_type": "stream",
          "name": "stdout",
          "text": [
            "18\n"
          ]
        }
      ]
    },
    {
      "cell_type": "code",
      "source": [
        "x = 1\n",
        "y = 2\n",
        "z = 3\n",
        "ans = x+y-z*y**y\n",
        "print(ans)"
      ],
      "metadata": {
        "colab": {
          "base_uri": "https://localhost:8080/"
        },
        "id": "UY3sjWgNJvHL",
        "outputId": "f02a7e7a-458b-401e-8674-bc97d28ce1ba"
      },
      "execution_count": 47,
      "outputs": [
        {
          "output_type": "stream",
          "name": "stdout",
          "text": [
            "-9\n"
          ]
        }
      ]
    },
    {
      "cell_type": "markdown",
      "source": [
        "# 2.7 Operations on strings\n",
        "+  and  ∗  operators also work on strings\n",
        "Chapter 08 covers more on string data type and operations"
      ],
      "metadata": {
        "id": "_iW_qz-hJyJP"
      }
    },
    {
      "cell_type": "code",
      "source": [
        "fname = \"John\"\n",
        "lname = \"Smith\"\n",
        "fullName = fname +\" \"+ lname\n",
        "print(fullName)"
      ],
      "metadata": {
        "colab": {
          "base_uri": "https://localhost:8080/"
        },
        "id": "2ZSlTnSLJ0gk",
        "outputId": "efe37686-64fc-4546-8016-d7b4dbfdea93"
      },
      "execution_count": 56,
      "outputs": [
        {
          "output_type": "stream",
          "name": "stdout",
          "text": [
            "John Smith\n"
          ]
        }
      ]
    },
    {
      "cell_type": "code",
      "source": [
        "gane = \"AGT\"*10\n",
        "print(gane)"
      ],
      "metadata": {
        "colab": {
          "base_uri": "https://localhost:8080/"
        },
        "id": "rRBHre7CJ38_",
        "outputId": "bad31f64-77c7-4d0a-e9af-eac6f954ed81"
      },
      "execution_count": 49,
      "outputs": [
        {
          "output_type": "stream",
          "name": "stdout",
          "text": [
            "AGTAGTAGTAGTAGTAGTAGTAGTAGTAGT\n"
          ]
        }
      ]
    },
    {
      "cell_type": "code",
      "source": [
        "name = input('What is your name? ')"
      ],
      "metadata": {
        "colab": {
          "base_uri": "https://localhost:8080/"
        },
        "id": "oyOLng92J9Q5",
        "outputId": "8e8846d9-5b95-4d05-8ca0-3928e92428e7"
      },
      "execution_count": 50,
      "outputs": [
        {
          "name": "stdout",
          "output_type": "stream",
          "text": [
            "What is your name? sofia\n"
          ]
        }
      ]
    },
    {
      "cell_type": "code",
      "source": [
        "print('hello, ', name)"
      ],
      "metadata": {
        "colab": {
          "base_uri": "https://localhost:8080/"
        },
        "id": "TFHMH_c1J_HS",
        "outputId": "992f5160-c45f-4677-ba18-afb851020ef1"
      },
      "execution_count": 51,
      "outputs": [
        {
          "output_type": "stream",
          "name": "stdout",
          "text": [
            "hello,  sofia\n"
          ]
        }
      ]
    },
    {
      "cell_type": "code",
      "source": [
        "num = input('Introduce un número => ')\n",
        "print('Tu número es: ', num)\n",
        "print('El tipo del', num, '=', type(num))"
      ],
      "metadata": {
        "colab": {
          "base_uri": "https://localhost:8080/"
        },
        "id": "wu16nsGLKB2g",
        "outputId": "5644ab50-0746-426b-9ff1-6abab7d24d84"
      },
      "execution_count": 52,
      "outputs": [
        {
          "output_type": "stream",
          "name": "stdout",
          "text": [
            "Introduce un número => 98\n",
            "Tu número es:  98\n",
            "El tipo del 98 = <class 'str'>\n"
          ]
        }
      ]
    },
    {
      "cell_type": "code",
      "source": [
        "# str must be casted into int or float depending on the value required\n",
        "num2 = float(num)\n",
        "print('type of', num, '=', type(num2))"
      ],
      "metadata": {
        "colab": {
          "base_uri": "https://localhost:8080/"
        },
        "id": "Rey5O5-7KGZ1",
        "outputId": "ac626788-c5c6-4b25-81d8-cff83f06da59"
      },
      "execution_count": 53,
      "outputs": [
        {
          "output_type": "stream",
          "name": "stdout",
          "text": [
            "type of 98 = <class 'float'>\n"
          ]
        }
      ]
    },
    {
      "cell_type": "markdown",
      "source": [
        "#Ejercicio 1"
      ],
      "metadata": {
        "id": "MxUcr93AKH1I"
      }
    },
    {
      "cell_type": "markdown",
      "source": [
        "# Area y perímetro de un rectángulo\n",
        "\n",
        "Escriba un script de python que calcule el área y el perímetro de un rectángulo"
      ],
      "metadata": {
        "id": "kF3sihC7KJiD"
      }
    },
    {
      "cell_type": "code",
      "source": [
        "# Demuestra la composición paso a paso\n",
        "# Pasos del algoritmo\n",
        "# 1. Obtenga la longitud y el ancho de un rectángulo\n",
        "#     a. valores codificados O\n",
        "#     b. solicitar al usuario que introduzca los valores de largo y ancho\n",
        "#        i. convertir la longitud y el ancho en tipos de datos correctos\n",
        "# 2. Encuentra el área = largo x ancho\n",
        "# 3. Encuentra el perímetro = 2 (largo + ancho)\n",
        "# 4. Mostrar resultados calculados"
      ],
      "metadata": {
        "id": "Bnib3GdiKLoe"
      },
      "execution_count": null,
      "outputs": []
    },
    {
      "cell_type": "code",
      "source": [
        "x = input('Introduce un número => ')\n",
        "x2 = float(x)"
      ],
      "metadata": {
        "colab": {
          "base_uri": "https://localhost:8080/"
        },
        "id": "beMoBrZFKPHi",
        "outputId": "1f477547-1039-4018-c105-52eba482f6bc"
      },
      "execution_count": 54,
      "outputs": [
        {
          "name": "stdout",
          "output_type": "stream",
          "text": [
            "Introduce un número => 5\n"
          ]
        }
      ]
    },
    {
      "cell_type": "code",
      "source": [
        "y = input('Introduce un número => ')\n",
        "y2 = float(y)"
      ],
      "metadata": {
        "colab": {
          "base_uri": "https://localhost:8080/"
        },
        "id": "0NEmxaC_KSD8",
        "outputId": "83fd5962-8a77-41d3-9c25-409035893946"
      },
      "execution_count": 55,
      "outputs": [
        {
          "name": "stdout",
          "output_type": "stream",
          "text": [
            "Introduce un número => 65\n"
          ]
        }
      ]
    },
    {
      "cell_type": "code",
      "source": [
        "Area = x2 * y2\n",
        "\n",
        "print(\"El area es: \", Area)"
      ],
      "metadata": {
        "colab": {
          "base_uri": "https://localhost:8080/"
        },
        "id": "Q__WoBd6KrO2",
        "outputId": "510e5327-e9b4-41d9-b1a9-588d9400ab1c"
      },
      "execution_count": 57,
      "outputs": [
        {
          "output_type": "stream",
          "name": "stdout",
          "text": [
            "El area es:  325.0\n"
          ]
        }
      ]
    },
    {
      "cell_type": "code",
      "source": [
        "Perimetro = (2*x2) + (2*y2)\n",
        "\n",
        "print(\"El perimetro es:\",Perimetro)"
      ],
      "metadata": {
        "colab": {
          "base_uri": "https://localhost:8080/"
        },
        "id": "VhmHx8CjKuwd",
        "outputId": "8b33adc9-d00c-4945-ca0d-8fc5f92151d9"
      },
      "execution_count": 58,
      "outputs": [
        {
          "output_type": "stream",
          "name": "stdout",
          "text": [
            "El perimetro es: 140.0\n"
          ]
        }
      ]
    },
    {
      "cell_type": "code",
      "source": [
        "Perimetro = 2*(x2 +y2)\n",
        "\n",
        "print(\"El perimetro es:\",Perimetro)"
      ],
      "metadata": {
        "colab": {
          "base_uri": "https://localhost:8080/"
        },
        "id": "SIdMpHimKxWL",
        "outputId": "12f82b9c-bfa7-4fba-a453-8135fbb74b33"
      },
      "execution_count": 59,
      "outputs": [
        {
          "output_type": "stream",
          "name": "stdout",
          "text": [
            "El perimetro es: 140.0\n"
          ]
        }
      ]
    },
    {
      "cell_type": "markdown",
      "source": [
        "# 2. Área y circunferencia de un círculo\n",
        "- escribir un script de python que calcule el área y la circunferencia de un círculo\n",
        "- el área de un círculo se calcula usando la ecuación: $\\pi r^{2}$\n",
        "- el perímetro de un círculo se calcula usando la ecuación: $2 \\pi r$\n",
        "- puedes usar $\\pi=3.14159$"
      ],
      "metadata": {
        "id": "JUuoW077Qwj8"
      }
    },
    {
      "cell_type": "code",
      "source": [
        "# Demostración de paso a paso\n",
        "# Pasos del algoritmo\n",
        "# 1. Solicitar el radio del circulo\n",
        "# 2. Convertir la variable en float\n",
        "# 3. Declarar la constante de Pi\n",
        "# 4. Aplicar la formula de área y mostrar resultado\n",
        "# 5. Aplicar la formula de perimetro y mostrar resultado"
      ],
      "metadata": {
        "id": "b7mKtU4FQy8-"
      },
      "execution_count": null,
      "outputs": []
    },
    {
      "cell_type": "code",
      "source": [
        "r = float(input(\"introduce el radio: \"))"
      ],
      "metadata": {
        "colab": {
          "base_uri": "https://localhost:8080/"
        },
        "id": "QEuHjNB2Q14f",
        "outputId": "971002a5-3e23-430a-d1df-67be64a786f8"
      },
      "execution_count": 60,
      "outputs": [
        {
          "name": "stdout",
          "output_type": "stream",
          "text": [
            "introduce el radio: 56\n"
          ]
        }
      ]
    },
    {
      "cell_type": "code",
      "source": [
        "pi = 3.14159"
      ],
      "metadata": {
        "id": "-vq8ut8-Q4CZ"
      },
      "execution_count": 61,
      "outputs": []
    },
    {
      "cell_type": "code",
      "source": [
        "area = pi * r * r\n",
        "print(\"el área es : \", area)\n",
        "\n",
        "perimetro = pi * r * 2\n",
        "print(\"el perimetro es : \", perimetro)"
      ],
      "metadata": {
        "colab": {
          "base_uri": "https://localhost:8080/"
        },
        "id": "XtMW1gfAQ65W",
        "outputId": "8c9e4dcd-ffcd-41b4-e155-ce43fde1876f"
      },
      "execution_count": 62,
      "outputs": [
        {
          "output_type": "stream",
          "name": "stdout",
          "text": [
            "el área es :  9852.02624\n",
            "el perimetro es :  351.85808\n"
          ]
        }
      ]
    }
  ]
}