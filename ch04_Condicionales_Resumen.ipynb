{
  "nbformat": 4,
  "nbformat_minor": 0,
  "metadata": {
    "colab": {
      "provenance": [],
      "include_colab_link": true
    },
    "kernelspec": {
      "name": "python3",
      "display_name": "Python 3"
    },
    "language_info": {
      "name": "python"
    }
  },
  "cells": [
    {
      "cell_type": "markdown",
      "metadata": {
        "id": "view-in-github",
        "colab_type": "text"
      },
      "source": [
        "<a href=\"https://colab.research.google.com/github/SofiaCR2/Python-basico-intermedio/blob/main/ch04_Condicionales_Resumen.ipynb\" target=\"_parent\"><img src=\"https://colab.research.google.com/assets/colab-badge.svg\" alt=\"Open In Colab\"/></a>"
      ]
    },
    {
      "cell_type": "markdown",
      "source": [
        "# Operadores de comparación"
      ],
      "metadata": {
        "id": "IKAAu93Q24sh"
      }
    },
    {
      "cell_type": "code",
      "source": [
        "#@title Tabla operadores de comparación { run: \"auto\", vertical-output: true }\n",
        "import pandas as pd\n",
        "pd.DataFrame(columns=['Operador', 'Nombre', 'Ejemplo'],\n",
        "             index=[1, 2, 3, 4, 5, 6],\n",
        "             data=[['==', 'Igual que', 'x == y'],\n",
        "                   ['!=', 'No es igual que', 'x != y'],\n",
        "                   ['>', 'Mayor que', 'x > y'],\n",
        "                   ['>=', 'Mayor o igual que', 'x >= y'],\n",
        "                   ['<', 'Menor que', 'x < y'],\n",
        "                   ['<=', 'Menor o igual que', 'x <= y']])"
      ],
      "metadata": {
        "colab": {
          "base_uri": "https://localhost:8080/",
          "height": 281
        },
        "id": "hM5K4WEG3G6T",
        "outputId": "45021f33-8665-4cbe-922f-838b5deed4aa"
      },
      "execution_count": 3,
      "outputs": [
        {
          "output_type": "execute_result",
          "data": {
            "text/plain": [
              "  Operador             Nombre Ejemplo\n",
              "1       ==          Igual que  x == y\n",
              "2       !=    No es igual que  x != y\n",
              "3        >          Mayor que   x > y\n",
              "4       >=  Mayor o igual que  x >= y\n",
              "5        <          Menor que   x < y\n",
              "6       <=  Menor o igual que  x <= y"
            ],
            "text/html": [
              "\n",
              "\n",
              "  <div id=\"df-85bc898c-a230-49b6-a914-b6d9d43127f8\">\n",
              "    <div class=\"colab-df-container\">\n",
              "      <div>\n",
              "<style scoped>\n",
              "    .dataframe tbody tr th:only-of-type {\n",
              "        vertical-align: middle;\n",
              "    }\n",
              "\n",
              "    .dataframe tbody tr th {\n",
              "        vertical-align: top;\n",
              "    }\n",
              "\n",
              "    .dataframe thead th {\n",
              "        text-align: right;\n",
              "    }\n",
              "</style>\n",
              "<table border=\"1\" class=\"dataframe\">\n",
              "  <thead>\n",
              "    <tr style=\"text-align: right;\">\n",
              "      <th></th>\n",
              "      <th>Operador</th>\n",
              "      <th>Nombre</th>\n",
              "      <th>Ejemplo</th>\n",
              "    </tr>\n",
              "  </thead>\n",
              "  <tbody>\n",
              "    <tr>\n",
              "      <th>1</th>\n",
              "      <td>==</td>\n",
              "      <td>Igual que</td>\n",
              "      <td>x == y</td>\n",
              "    </tr>\n",
              "    <tr>\n",
              "      <th>2</th>\n",
              "      <td>!=</td>\n",
              "      <td>No es igual que</td>\n",
              "      <td>x != y</td>\n",
              "    </tr>\n",
              "    <tr>\n",
              "      <th>3</th>\n",
              "      <td>&gt;</td>\n",
              "      <td>Mayor que</td>\n",
              "      <td>x &gt; y</td>\n",
              "    </tr>\n",
              "    <tr>\n",
              "      <th>4</th>\n",
              "      <td>&gt;=</td>\n",
              "      <td>Mayor o igual que</td>\n",
              "      <td>x &gt;= y</td>\n",
              "    </tr>\n",
              "    <tr>\n",
              "      <th>5</th>\n",
              "      <td>&lt;</td>\n",
              "      <td>Menor que</td>\n",
              "      <td>x &lt; y</td>\n",
              "    </tr>\n",
              "    <tr>\n",
              "      <th>6</th>\n",
              "      <td>&lt;=</td>\n",
              "      <td>Menor o igual que</td>\n",
              "      <td>x &lt;= y</td>\n",
              "    </tr>\n",
              "  </tbody>\n",
              "</table>\n",
              "</div>\n",
              "      <button class=\"colab-df-convert\" onclick=\"convertToInteractive('df-85bc898c-a230-49b6-a914-b6d9d43127f8')\"\n",
              "              title=\"Convert this dataframe to an interactive table.\"\n",
              "              style=\"display:none;\">\n",
              "\n",
              "  <svg xmlns=\"http://www.w3.org/2000/svg\" height=\"24px\"viewBox=\"0 0 24 24\"\n",
              "       width=\"24px\">\n",
              "    <path d=\"M0 0h24v24H0V0z\" fill=\"none\"/>\n",
              "    <path d=\"M18.56 5.44l.94 2.06.94-2.06 2.06-.94-2.06-.94-.94-2.06-.94 2.06-2.06.94zm-11 1L8.5 8.5l.94-2.06 2.06-.94-2.06-.94L8.5 2.5l-.94 2.06-2.06.94zm10 10l.94 2.06.94-2.06 2.06-.94-2.06-.94-.94-2.06-.94 2.06-2.06.94z\"/><path d=\"M17.41 7.96l-1.37-1.37c-.4-.4-.92-.59-1.43-.59-.52 0-1.04.2-1.43.59L10.3 9.45l-7.72 7.72c-.78.78-.78 2.05 0 2.83L4 21.41c.39.39.9.59 1.41.59.51 0 1.02-.2 1.41-.59l7.78-7.78 2.81-2.81c.8-.78.8-2.07 0-2.86zM5.41 20L4 18.59l7.72-7.72 1.47 1.35L5.41 20z\"/>\n",
              "  </svg>\n",
              "      </button>\n",
              "\n",
              "\n",
              "\n",
              "    <div id=\"df-79f67017-aec8-49c6-9e7d-bacce0325ec2\">\n",
              "      <button class=\"colab-df-quickchart\" onclick=\"quickchart('df-79f67017-aec8-49c6-9e7d-bacce0325ec2')\"\n",
              "              title=\"Suggest charts.\"\n",
              "              style=\"display:none;\">\n",
              "\n",
              "<svg xmlns=\"http://www.w3.org/2000/svg\" height=\"24px\"viewBox=\"0 0 24 24\"\n",
              "     width=\"24px\">\n",
              "    <g>\n",
              "        <path d=\"M19 3H5c-1.1 0-2 .9-2 2v14c0 1.1.9 2 2 2h14c1.1 0 2-.9 2-2V5c0-1.1-.9-2-2-2zM9 17H7v-7h2v7zm4 0h-2V7h2v10zm4 0h-2v-4h2v4z\"/>\n",
              "    </g>\n",
              "</svg>\n",
              "      </button>\n",
              "    </div>\n",
              "\n",
              "<style>\n",
              "  .colab-df-quickchart {\n",
              "    background-color: #E8F0FE;\n",
              "    border: none;\n",
              "    border-radius: 50%;\n",
              "    cursor: pointer;\n",
              "    display: none;\n",
              "    fill: #1967D2;\n",
              "    height: 32px;\n",
              "    padding: 0 0 0 0;\n",
              "    width: 32px;\n",
              "  }\n",
              "\n",
              "  .colab-df-quickchart:hover {\n",
              "    background-color: #E2EBFA;\n",
              "    box-shadow: 0px 1px 2px rgba(60, 64, 67, 0.3), 0px 1px 3px 1px rgba(60, 64, 67, 0.15);\n",
              "    fill: #174EA6;\n",
              "  }\n",
              "\n",
              "  [theme=dark] .colab-df-quickchart {\n",
              "    background-color: #3B4455;\n",
              "    fill: #D2E3FC;\n",
              "  }\n",
              "\n",
              "  [theme=dark] .colab-df-quickchart:hover {\n",
              "    background-color: #434B5C;\n",
              "    box-shadow: 0px 1px 3px 1px rgba(0, 0, 0, 0.15);\n",
              "    filter: drop-shadow(0px 1px 2px rgba(0, 0, 0, 0.3));\n",
              "    fill: #FFFFFF;\n",
              "  }\n",
              "</style>\n",
              "\n",
              "    <script>\n",
              "      async function quickchart(key) {\n",
              "        const containerElement = document.querySelector('#' + key);\n",
              "        const charts = await google.colab.kernel.invokeFunction(\n",
              "            'suggestCharts', [key], {});\n",
              "      }\n",
              "    </script>\n",
              "\n",
              "      <script>\n",
              "\n",
              "function displayQuickchartButton(domScope) {\n",
              "  let quickchartButtonEl =\n",
              "    domScope.querySelector('#df-79f67017-aec8-49c6-9e7d-bacce0325ec2 button.colab-df-quickchart');\n",
              "  quickchartButtonEl.style.display =\n",
              "    google.colab.kernel.accessAllowed ? 'block' : 'none';\n",
              "}\n",
              "\n",
              "        displayQuickchartButton(document);\n",
              "      </script>\n",
              "      <style>\n",
              "    .colab-df-container {\n",
              "      display:flex;\n",
              "      flex-wrap:wrap;\n",
              "      gap: 12px;\n",
              "    }\n",
              "\n",
              "    .colab-df-convert {\n",
              "      background-color: #E8F0FE;\n",
              "      border: none;\n",
              "      border-radius: 50%;\n",
              "      cursor: pointer;\n",
              "      display: none;\n",
              "      fill: #1967D2;\n",
              "      height: 32px;\n",
              "      padding: 0 0 0 0;\n",
              "      width: 32px;\n",
              "    }\n",
              "\n",
              "    .colab-df-convert:hover {\n",
              "      background-color: #E2EBFA;\n",
              "      box-shadow: 0px 1px 2px rgba(60, 64, 67, 0.3), 0px 1px 3px 1px rgba(60, 64, 67, 0.15);\n",
              "      fill: #174EA6;\n",
              "    }\n",
              "\n",
              "    [theme=dark] .colab-df-convert {\n",
              "      background-color: #3B4455;\n",
              "      fill: #D2E3FC;\n",
              "    }\n",
              "\n",
              "    [theme=dark] .colab-df-convert:hover {\n",
              "      background-color: #434B5C;\n",
              "      box-shadow: 0px 1px 3px 1px rgba(0, 0, 0, 0.15);\n",
              "      filter: drop-shadow(0px 1px 2px rgba(0, 0, 0, 0.3));\n",
              "      fill: #FFFFFF;\n",
              "    }\n",
              "  </style>\n",
              "\n",
              "      <script>\n",
              "        const buttonEl =\n",
              "          document.querySelector('#df-85bc898c-a230-49b6-a914-b6d9d43127f8 button.colab-df-convert');\n",
              "        buttonEl.style.display =\n",
              "          google.colab.kernel.accessAllowed ? 'block' : 'none';\n",
              "\n",
              "        async function convertToInteractive(key) {\n",
              "          const element = document.querySelector('#df-85bc898c-a230-49b6-a914-b6d9d43127f8');\n",
              "          const dataTable =\n",
              "            await google.colab.kernel.invokeFunction('convertToInteractive',\n",
              "                                                     [key], {});\n",
              "          if (!dataTable) return;\n",
              "\n",
              "          const docLinkHtml = 'Like what you see? Visit the ' +\n",
              "            '<a target=\"_blank\" href=https://colab.research.google.com/notebooks/data_table.ipynb>data table notebook</a>'\n",
              "            + ' to learn more about interactive tables.';\n",
              "          element.innerHTML = '';\n",
              "          dataTable['output_type'] = 'display_data';\n",
              "          await google.colab.output.renderOutput(dataTable, element);\n",
              "          const docLink = document.createElement('div');\n",
              "          docLink.innerHTML = docLinkHtml;\n",
              "          element.appendChild(docLink);\n",
              "        }\n",
              "      </script>\n",
              "    </div>\n",
              "  </div>\n"
            ]
          },
          "metadata": {},
          "execution_count": 3
        }
      ]
    },
    {
      "cell_type": "code",
      "source": [
        "# Recuerda que al utilizar operadores de comparación nos devolveran\n",
        "# un valor de tipo boleano\n",
        "print(1 == 1)\n",
        "print(type(1 == 1))"
      ],
      "metadata": {
        "colab": {
          "base_uri": "https://localhost:8080/"
        },
        "id": "uW6R0FGJ3Jpd",
        "outputId": "e692bbfc-8143-4e64-b5ff-1527acb86fad"
      },
      "execution_count": 4,
      "outputs": [
        {
          "output_type": "stream",
          "name": "stdout",
          "text": [
            "True\n",
            "<class 'bool'>\n"
          ]
        }
      ]
    },
    {
      "cell_type": "code",
      "source": [
        "print(1 == 2)\n",
        "print(type(1 == 2))"
      ],
      "metadata": {
        "colab": {
          "base_uri": "https://localhost:8080/"
        },
        "id": "euUmJNun3McR",
        "outputId": "a7d7c541-dfa7-47f3-acb8-07dcce3b17e6"
      },
      "execution_count": 5,
      "outputs": [
        {
          "output_type": "stream",
          "name": "stdout",
          "text": [
            "False\n",
            "<class 'bool'>\n"
          ]
        }
      ]
    },
    {
      "cell_type": "code",
      "source": [
        "if True:\n",
        "  print('Hola, mundo')"
      ],
      "metadata": {
        "colab": {
          "base_uri": "https://localhost:8080/"
        },
        "id": "xLu1pPka2Cci",
        "outputId": "24f02976-cc54-44b9-9d7d-e06e17da6663"
      },
      "execution_count": 6,
      "outputs": [
        {
          "output_type": "stream",
          "name": "stdout",
          "text": [
            "Hola, mundo\n"
          ]
        }
      ]
    },
    {
      "cell_type": "code",
      "source": [
        "#como es falso no ejecutara el bloque de codigo\n",
        "if False:\n",
        "  print('Hola, mundo')"
      ],
      "metadata": {
        "id": "Gjax_Xa22Oej"
      },
      "execution_count": 7,
      "outputs": []
    },
    {
      "cell_type": "code",
      "source": [
        "a = 'fruta'\n",
        "\n",
        "if a == 'fruta':\n",
        "  print('Mi variable es igual a fruta')\n",
        "\n",
        "print('Esta linea se ejecutara aunque la condicion sea Falsa')"
      ],
      "metadata": {
        "colab": {
          "base_uri": "https://localhost:8080/"
        },
        "id": "MyYfhtkR2P9m",
        "outputId": "d83a3993-ab91-443c-cf27-f63749f9ca96"
      },
      "execution_count": 8,
      "outputs": [
        {
          "output_type": "stream",
          "name": "stdout",
          "text": [
            "Mi variable es igual a fruta\n",
            "Esta linea se ejecutara aunque la condicion sea Falsa\n"
          ]
        }
      ]
    },
    {
      "cell_type": "code",
      "source": [
        "valor_1 = 100.5\n",
        "valor_2 = 100.4999\n",
        "\n",
        "if valor_1 > valor_2:\n",
        "  print(\"El valor 1 es mayor\")\n",
        "else:\n",
        "  print(\"El valor 2 es mayor\")"
      ],
      "metadata": {
        "colab": {
          "base_uri": "https://localhost:8080/"
        },
        "id": "GYheFowV2U3p",
        "outputId": "e07a8f44-fcc5-4d79-92de-4665320c371c"
      },
      "execution_count": 9,
      "outputs": [
        {
          "output_type": "stream",
          "name": "stdout",
          "text": [
            "El valor 1 es mayor\n"
          ]
        }
      ]
    },
    {
      "cell_type": "code",
      "source": [
        "numero = int(input('Ingresa un numero entre 1 y 5: '))\n",
        "\n",
        "if numero == 1:\n",
        "  print(\"Ingresaste el num 1\")\n",
        "elif numero == 2:\n",
        "  print(\"Ingresaste el num 2\")\n",
        "elif numero == 3:\n",
        "  print(\"Ingresaste el num 3\")\n",
        "elif numero == 4:\n",
        "  print(\"Ingresaste el num 4\")\n",
        "elif numero == 5:\n",
        "  print(\"Ingresaste el num 5\")\n",
        "else:\n",
        "  print('Error')"
      ],
      "metadata": {
        "colab": {
          "base_uri": "https://localhost:8080/"
        },
        "id": "DF0q1jPs2YHG",
        "outputId": "43f457a0-cb0b-4ddb-b7e5-e60dcdc769c1"
      },
      "execution_count": 10,
      "outputs": [
        {
          "output_type": "stream",
          "name": "stdout",
          "text": [
            "Ingresa un numero entre 1 y 5: 5\n",
            "Ingresaste el num 5\n"
          ]
        }
      ]
    },
    {
      "cell_type": "markdown",
      "source": [
        "## Ejercicios con operadores\n",
        "\n",
        "1. Convierte a código la siquiente expresión: <br>\n",
        "`20` `menor que`  `\"20.0001\"` <br>\n",
        "**Notas:** <br>\n",
        "20 es de tipo int <br>\n",
        "\"20.0001\" es de tipo str <br>\n",
        "Usa el casteo (casting) <br>\n",
        "Resultado esperado: True"
      ],
      "metadata": {
        "id": "LwLqSk-W3bVC"
      }
    },
    {
      "cell_type": "code",
      "source": [
        "x = 20\n",
        "y = float(\"20.0001\")\n",
        "\n",
        "print(x < y)"
      ],
      "metadata": {
        "id": "-JkbLivt3ZVY",
        "colab": {
          "base_uri": "https://localhost:8080/"
        },
        "outputId": "d35eb1b7-1f7c-4a35-aab3-be2838ce4430"
      },
      "execution_count": 12,
      "outputs": [
        {
          "output_type": "stream",
          "name": "stdout",
          "text": [
            "True\n"
          ]
        }
      ]
    },
    {
      "cell_type": "markdown",
      "source": [
        "2. Compara si el texto 1 es **igual que** el texto 2, e imprime el resultado. Resultado esperado: False"
      ],
      "metadata": {
        "id": "mtD8-pKE3iYY"
      }
    },
    {
      "cell_type": "code",
      "source": [
        "texto_1 = 'Marty! Tienes que venir conmigo, de regreso al futuro!'\n",
        "texto_2 = 'Marty! Tienes que venir conmigo, de regreso a1 futuro!'\n",
        "\n",
        "print(texto_1 == texto_2)"
      ],
      "metadata": {
        "id": "Y3V31A3J3lOp",
        "colab": {
          "base_uri": "https://localhost:8080/"
        },
        "outputId": "a40594e2-7dc3-4b61-a8cd-e91ddd6ad437"
      },
      "execution_count": 13,
      "outputs": [
        {
          "output_type": "stream",
          "name": "stdout",
          "text": [
            "False\n"
          ]
        }
      ]
    },
    {
      "cell_type": "code",
      "source": [
        "#@title Tabla operadores de lógicos { run: \"auto\", vertical-output: true }\n",
        "import pandas as pd\n",
        "from IPython.display import display, HTML\n",
        "\n",
        "def pretty_print(df):\n",
        "    return display(HTML(df.to_html().replace(\"\\\\n\",\"<br>\") ) )\n",
        "\n",
        "df = pd.DataFrame(columns=['Operador', 'Descripción', 'Ejemplo'],\n",
        "             index=[1, 2, 3],\n",
        "             data=[['and', 'True si ambas evaluaciones son True', 'True and True == a True \\\\n True and False == False'],\n",
        "                   ['or', 'True si alguna evaluación es True', 'True or True == False \\n True or False == True'],\n",
        "                   ['not', 'False si alguna evaluación es False', 'True or False == False, \\n False or False']])\n",
        "\n",
        "pretty_print(df)"
      ],
      "metadata": {
        "id": "M-WIR8r238nZ",
        "colab": {
          "base_uri": "https://localhost:8080/",
          "height": 386
        },
        "outputId": "69528d81-025e-4635-f8fd-b6199ade6cad"
      },
      "execution_count": 14,
      "outputs": [
        {
          "output_type": "display_data",
          "data": {
            "text/plain": [
              "<IPython.core.display.HTML object>"
            ],
            "text/html": [
              "<table border=\"1\" class=\"dataframe\">\n",
              "  <thead>\n",
              "    <tr style=\"text-align: right;\">\n",
              "      <th></th>\n",
              "      <th>Operador</th>\n",
              "      <th>Descripción</th>\n",
              "      <th>Ejemplo</th>\n",
              "    </tr>\n",
              "  </thead>\n",
              "  <tbody>\n",
              "    <tr>\n",
              "      <th>1</th>\n",
              "      <td>and</td>\n",
              "      <td>True si ambas evaluaciones son True</td>\n",
              "      <td>True and True == a True <br> True and False == False</td>\n",
              "    </tr>\n",
              "    <tr>\n",
              "      <th>2</th>\n",
              "      <td>or</td>\n",
              "      <td>True si alguna evaluación es True</td>\n",
              "      <td>True or True == False <br> True or False == True</td>\n",
              "    </tr>\n",
              "    <tr>\n",
              "      <th>3</th>\n",
              "      <td>not</td>\n",
              "      <td>False si alguna evaluación es False</td>\n",
              "      <td>True or False == False, <br> False or False</td>\n",
              "    </tr>\n",
              "  </tbody>\n",
              "</table>"
            ]
          },
          "metadata": {}
        }
      ]
    },
    {
      "cell_type": "code",
      "source": [
        "# Operador and\n",
        "True and True"
      ],
      "metadata": {
        "id": "UnIkVwti4BS0",
        "outputId": "0b6de8d2-ac79-4a3d-d204-7b8db724f002",
        "colab": {
          "base_uri": "https://localhost:8080/"
        }
      },
      "execution_count": 15,
      "outputs": [
        {
          "output_type": "execute_result",
          "data": {
            "text/plain": [
              "True"
            ]
          },
          "metadata": {},
          "execution_count": 15
        }
      ]
    },
    {
      "cell_type": "code",
      "source": [
        "True and False"
      ],
      "metadata": {
        "id": "KC3yeS3D4D6n",
        "outputId": "a11cdd5e-6248-4db2-c3d4-e05c834f02a0",
        "colab": {
          "base_uri": "https://localhost:8080/"
        }
      },
      "execution_count": 16,
      "outputs": [
        {
          "output_type": "execute_result",
          "data": {
            "text/plain": [
              "False"
            ]
          },
          "metadata": {},
          "execution_count": 16
        }
      ]
    },
    {
      "cell_type": "code",
      "source": [
        "# Operador or\n",
        "True or False"
      ],
      "metadata": {
        "id": "B8dib-ML4Fan",
        "colab": {
          "base_uri": "https://localhost:8080/"
        },
        "outputId": "64a63149-6db8-4056-f734-64fdd6860d61"
      },
      "execution_count": 17,
      "outputs": [
        {
          "output_type": "execute_result",
          "data": {
            "text/plain": [
              "True"
            ]
          },
          "metadata": {},
          "execution_count": 17
        }
      ]
    },
    {
      "cell_type": "markdown",
      "source": [
        "# Condicionales\n",
        "\n",
        "Las sentencias condicionales o simplemente **condicionales**, nos permite controlar o condicionar el flujo de nuestro código. <br>\n",
        "\n",
        "Dicho de otro modo, nos permite tomar decisiones. <br>\n",
        "\n",
        "\n",
        "**Palabras clave:**\n",
        "if, elif, else\n",
        "\n",
        "## Bloque de código\n",
        "\n",
        "Es un grupo de sentencias (líneas de código) que se ejecuta como una unidad. <br>\n",
        "Están relacionadas y se encuentran bien delimitadas. <br>\n",
        "En Python se usa la **identación** (4 espacios o 1 tabulación (tab)) al inicio de la línea de código.\n",
        "\n",
        "\n",
        "\n"
      ],
      "metadata": {
        "id": "0LSgqMWvoQzB"
      }
    },
    {
      "cell_type": "markdown",
      "source": [
        "**Depuración de código** <br>\n",
        "**IndentationError:** expected an indented block\n",
        "Este error sucede cuando no tenemos los 4 espacios o 1 tabulación (tab)"
      ],
      "metadata": {
        "id": "XXsqbjaCx5py"
      }
    },
    {
      "cell_type": "markdown",
      "source": [
        "# Condicional if\n",
        "\n",
        "Si se cumple la condición, se ejecuta el bloque de código.\n",
        "\n",
        "```\n",
        "if condicion:\n",
        "----bloque de código que se ejecuta.\n",
        "\n",
        "if condicion:\n",
        "    bloque de código que se ejecuta.\n",
        "\n",
        "if True:\n",
        "    bloque de código que se ejecuta.\n",
        "    \n",
        "\n",
        "# Nota: los guiones son una ayuda visual para identificar la identación.\n",
        "```"
      ],
      "metadata": {
        "id": "IHG66QT6pkSy"
      }
    },
    {
      "cell_type": "markdown",
      "source": [
        "La condición siempre se evalúa.\n",
        "- Si es True se ejecuta el bloque\n",
        "- Si es False NO se ejecuta el bloque"
      ],
      "metadata": {
        "id": "xsJ-hm0CtTrP"
      }
    },
    {
      "cell_type": "markdown",
      "source": [
        "Es lunes por la mañana, suena el timbre, despierto con flojera y pienso: <br>\n",
        "- ¿Me quedo más tiempo en la cama o me levanto?\n",
        "\n",
        "```\n",
        "accion = 'dormir' ó accion = 'levantarse'\n",
        "\n",
        "if accion == 'dormir':\n",
        "    # Inicia bloque\n",
        "    print('Llegaré tarde a trabajar')\n",
        "    print('Me la juego')\n",
        "    # Termina bloque\n",
        "\n",
        "print('Hoy si me duermo más temprano')\n",
        "\n",
        "```\n",
        "\n"
      ],
      "metadata": {
        "id": "8kyYX82Mophf"
      }
    },
    {
      "cell_type": "code",
      "source": [
        "accion = True\n",
        "if accion:\n",
        "  print('Se ejecuta este código')"
      ],
      "metadata": {
        "id": "Y_Cy5VJ-0RMB",
        "colab": {
          "base_uri": "https://localhost:8080/"
        },
        "outputId": "6ee75394-f2bf-4ec5-9243-b995b757eb91"
      },
      "execution_count": 18,
      "outputs": [
        {
          "output_type": "stream",
          "name": "stdout",
          "text": [
            "Se ejecuta este código\n"
          ]
        }
      ]
    },
    {
      "cell_type": "markdown",
      "source": [
        "# Condicional if, else\n",
        "Si se cumple la condición, se ejecuta el **primer** bloque de código. <br>\n",
        "Si NO se cumple la condición, se ejecuta el **segundo** bloque de código\n",
        "\n",
        "```\n",
        "if condicion:\n",
        "----PRIMER bloque de código.\n",
        "else:\n",
        "----SEGUNDO bloque de código.\n",
        "```\n",
        "\n",
        "**Nota:** El condicional **else** es opcional, pero es una buena práctica siempre escribirlo para finalizar nuestro condicional."
      ],
      "metadata": {
        "id": "a3xD7RQksWNO"
      }
    },
    {
      "cell_type": "code",
      "source": [
        "accion = 'dormir'\n",
        "# accion = 'levantarse'\n",
        "\n",
        "if accion == 'dormir':\n",
        "  print('Llegaré tarde a trabajar')\n",
        "else:\n",
        "  print('LLegaré con sueño al trabajo')"
      ],
      "metadata": {
        "id": "2Bsdc9VrsK9w",
        "colab": {
          "base_uri": "https://localhost:8080/"
        },
        "outputId": "35e16acb-25de-40bc-c34b-a1544d4dabff"
      },
      "execution_count": 19,
      "outputs": [
        {
          "output_type": "stream",
          "name": "stdout",
          "text": [
            "Llegaré tarde a trabajar\n"
          ]
        }
      ]
    },
    {
      "cell_type": "markdown",
      "source": [
        "# Condicional if, else, elif\n",
        "\n",
        "Con el condicional **if** iniciamos la evaluación, y con **else** cerramos la evaluación. <br>\n",
        "\n",
        "El condicional **elif** es la parte intermedia, que nos permite tener más de dos opciones.\n",
        "\n",
        "\n",
        "\n",
        "```\n",
        "if condicion:\n",
        "----PRIMER bloque de código.\n",
        "elif condicion:\n",
        "----SEGUNDO bloque de código.\n",
        "elif condicion:\n",
        "----TERCER bloque de código.\n",
        "else:\n",
        "----CUARTO bloque de código.\n",
        "```"
      ],
      "metadata": {
        "id": "p0CudfWlt4Ih"
      }
    },
    {
      "cell_type": "code",
      "source": [
        "accion = 'dormir'\n",
        "# accion = 'levantarse'\n",
        "\n",
        "if accion == 'dormir':\n",
        "  print('Llegaré tarde a trabajar')\n",
        "elif accion == 'levantarse':\n",
        "  print('LLegaré con sueño al trabajo')\n",
        "else:\n",
        "  print('Error: los valores aceptados son: `dormir` ó `levantarse`')"
      ],
      "metadata": {
        "id": "iKC-y2bYfyRB",
        "colab": {
          "base_uri": "https://localhost:8080/"
        },
        "outputId": "1966b1e1-c382-438a-9b44-8de513228c3d"
      },
      "execution_count": 20,
      "outputs": [
        {
          "output_type": "stream",
          "name": "stdout",
          "text": [
            "Llegaré tarde a trabajar\n"
          ]
        }
      ]
    },
    {
      "cell_type": "code",
      "source": [
        "temperatura = 15\n",
        "\n",
        "if temperatura < 0:\n",
        "  print('Me congelo!!')\n",
        "elif temperatura >= 0 and temperatura <= 10:\n",
        "  print('Que frío!!')\n",
        "else:\n",
        "  print('Hace calorcito')"
      ],
      "metadata": {
        "id": "5xZzWuIWzbTf",
        "colab": {
          "base_uri": "https://localhost:8080/"
        },
        "outputId": "f6d906b6-add4-4308-e881-fd96a7db69b3"
      },
      "execution_count": 21,
      "outputs": [
        {
          "output_type": "stream",
          "name": "stdout",
          "text": [
            "Hace calorcito\n"
          ]
        }
      ]
    },
    {
      "cell_type": "markdown",
      "source": [
        "# Lab: 'No voy a trabajar'\n",
        "\n",
        "Convertir la canción *No voy a trabajar* a una sentencia de tipo if, elif, else, para los días de la semana."
      ],
      "metadata": {
        "id": "twoZJDp_xLLp"
      }
    },
    {
      "cell_type": "code",
      "source": [
        "dia = input('Que dia es?')\n",
        "\n",
        "if dia.capitalize() == 'Lunes':\n",
        "  print('Principio de semana.\\nNo voy a trabajar')\n",
        "elif dia.capitalize() == 'Martes':\n",
        "  print('Ni te cases ni te embarques.\\nPa´ que voy a arriesgarme')\n",
        "elif dia.capitalize() == 'Miercoles':\n",
        "  print('Se casa la patrona.\\nAy que pachangona!')\n",
        "elif dia.capitalize() == 'Jueves':\n",
        "  print('Estoy muy desvelado.\\nMe siento hasta mareado')\n",
        "elif dia.capitalize() == 'Viernes':\n",
        "  print('Que muere jesucristo!.\\nDonde se ha visto?')\n",
        "elif dia.capitalize() == 'Sabado':\n",
        "  print('Trabajo medio día.\\nPor medio día')\n",
        "elif dia.capitalize() == 'Domingo':\n",
        "  print('Día de descanso.\\nBien merecido')\n",
        "else:\n",
        "  print('Error. No es un dia de la semana')"
      ],
      "metadata": {
        "id": "PWxIP67EvaXs",
        "colab": {
          "base_uri": "https://localhost:8080/"
        },
        "outputId": "99b3d460-6301-4573-f306-635173f4d0d0"
      },
      "execution_count": 34,
      "outputs": [
        {
          "output_type": "stream",
          "name": "stdout",
          "text": [
            "Que dia es?martes\n",
            "Ni te cases ni te embarques.\n",
            "Pa´ que voy a arriesgarme\n"
          ]
        }
      ]
    },
    {
      "cell_type": "markdown",
      "source": [
        "# Ejercicio: Números pares e impares\n",
        "Generá un código para determinar si un número es par o impar."
      ],
      "metadata": {
        "id": "1m7ahSQZtGwt"
      }
    },
    {
      "cell_type": "code",
      "source": [
        "num = int(input('Escribe un numero: '))\n",
        "\n",
        "if (num % 2) == 0:\n",
        "  print('El numero es par')\n",
        "else:\n",
        "  print('El numero es impar')"
      ],
      "metadata": {
        "id": "t7jbd4ELt1lZ",
        "colab": {
          "base_uri": "https://localhost:8080/"
        },
        "outputId": "9b4523bf-a762-4fc1-e12f-6e08bfcd9c24"
      },
      "execution_count": 22,
      "outputs": [
        {
          "output_type": "stream",
          "name": "stdout",
          "text": [
            "Escribe un numero: 52\n",
            "El numero es par\n"
          ]
        }
      ]
    },
    {
      "cell_type": "markdown",
      "source": [
        "# Ejercicio: Impuestos\n",
        "Los tramos impositivos para la declaración de ingresos son los siguientes:\n"
      ],
      "metadata": {
        "id": "7mYP8Ikb0qZH"
      }
    },
    {
      "cell_type": "code",
      "source": [
        "import pandas as pd\n",
        "pd.DataFrame(columns=['Ingresos', 'Tasa impositiva'],\n",
        "             index=[1, 2, 3, 4],\n",
        "             data=[['Menos de 1,000', '5 %'],\n",
        "                   ['Entre 1,000 y 2,000', '15 %'],\n",
        "                   ['Entre 2,000 y 3,000', '20 %'],\n",
        "                   ['Más de 3,000', '30 %']])"
      ],
      "metadata": {
        "id": "c-ZfgqQ80p-2",
        "colab": {
          "base_uri": "https://localhost:8080/",
          "height": 175
        },
        "outputId": "4ba9e293-3130-483b-e846-e75dae70205e"
      },
      "execution_count": 23,
      "outputs": [
        {
          "output_type": "execute_result",
          "data": {
            "text/plain": [
              "              Ingresos Tasa impositiva\n",
              "1       Menos de 1,000             5 %\n",
              "2  Entre 1,000 y 2,000            15 %\n",
              "3  Entre 2,000 y 3,000            20 %\n",
              "4         Más de 3,000            30 %"
            ],
            "text/html": [
              "\n",
              "\n",
              "  <div id=\"df-586cdf93-f778-4cb4-b9b5-4efad3e56fe7\">\n",
              "    <div class=\"colab-df-container\">\n",
              "      <div>\n",
              "<style scoped>\n",
              "    .dataframe tbody tr th:only-of-type {\n",
              "        vertical-align: middle;\n",
              "    }\n",
              "\n",
              "    .dataframe tbody tr th {\n",
              "        vertical-align: top;\n",
              "    }\n",
              "\n",
              "    .dataframe thead th {\n",
              "        text-align: right;\n",
              "    }\n",
              "</style>\n",
              "<table border=\"1\" class=\"dataframe\">\n",
              "  <thead>\n",
              "    <tr style=\"text-align: right;\">\n",
              "      <th></th>\n",
              "      <th>Ingresos</th>\n",
              "      <th>Tasa impositiva</th>\n",
              "    </tr>\n",
              "  </thead>\n",
              "  <tbody>\n",
              "    <tr>\n",
              "      <th>1</th>\n",
              "      <td>Menos de 1,000</td>\n",
              "      <td>5 %</td>\n",
              "    </tr>\n",
              "    <tr>\n",
              "      <th>2</th>\n",
              "      <td>Entre 1,000 y 2,000</td>\n",
              "      <td>15 %</td>\n",
              "    </tr>\n",
              "    <tr>\n",
              "      <th>3</th>\n",
              "      <td>Entre 2,000 y 3,000</td>\n",
              "      <td>20 %</td>\n",
              "    </tr>\n",
              "    <tr>\n",
              "      <th>4</th>\n",
              "      <td>Más de 3,000</td>\n",
              "      <td>30 %</td>\n",
              "    </tr>\n",
              "  </tbody>\n",
              "</table>\n",
              "</div>\n",
              "      <button class=\"colab-df-convert\" onclick=\"convertToInteractive('df-586cdf93-f778-4cb4-b9b5-4efad3e56fe7')\"\n",
              "              title=\"Convert this dataframe to an interactive table.\"\n",
              "              style=\"display:none;\">\n",
              "\n",
              "  <svg xmlns=\"http://www.w3.org/2000/svg\" height=\"24px\"viewBox=\"0 0 24 24\"\n",
              "       width=\"24px\">\n",
              "    <path d=\"M0 0h24v24H0V0z\" fill=\"none\"/>\n",
              "    <path d=\"M18.56 5.44l.94 2.06.94-2.06 2.06-.94-2.06-.94-.94-2.06-.94 2.06-2.06.94zm-11 1L8.5 8.5l.94-2.06 2.06-.94-2.06-.94L8.5 2.5l-.94 2.06-2.06.94zm10 10l.94 2.06.94-2.06 2.06-.94-2.06-.94-.94-2.06-.94 2.06-2.06.94z\"/><path d=\"M17.41 7.96l-1.37-1.37c-.4-.4-.92-.59-1.43-.59-.52 0-1.04.2-1.43.59L10.3 9.45l-7.72 7.72c-.78.78-.78 2.05 0 2.83L4 21.41c.39.39.9.59 1.41.59.51 0 1.02-.2 1.41-.59l7.78-7.78 2.81-2.81c.8-.78.8-2.07 0-2.86zM5.41 20L4 18.59l7.72-7.72 1.47 1.35L5.41 20z\"/>\n",
              "  </svg>\n",
              "      </button>\n",
              "\n",
              "\n",
              "\n",
              "    <div id=\"df-e91ba49c-0de8-42fd-97a3-11067c9253da\">\n",
              "      <button class=\"colab-df-quickchart\" onclick=\"quickchart('df-e91ba49c-0de8-42fd-97a3-11067c9253da')\"\n",
              "              title=\"Suggest charts.\"\n",
              "              style=\"display:none;\">\n",
              "\n",
              "<svg xmlns=\"http://www.w3.org/2000/svg\" height=\"24px\"viewBox=\"0 0 24 24\"\n",
              "     width=\"24px\">\n",
              "    <g>\n",
              "        <path d=\"M19 3H5c-1.1 0-2 .9-2 2v14c0 1.1.9 2 2 2h14c1.1 0 2-.9 2-2V5c0-1.1-.9-2-2-2zM9 17H7v-7h2v7zm4 0h-2V7h2v10zm4 0h-2v-4h2v4z\"/>\n",
              "    </g>\n",
              "</svg>\n",
              "      </button>\n",
              "    </div>\n",
              "\n",
              "<style>\n",
              "  .colab-df-quickchart {\n",
              "    background-color: #E8F0FE;\n",
              "    border: none;\n",
              "    border-radius: 50%;\n",
              "    cursor: pointer;\n",
              "    display: none;\n",
              "    fill: #1967D2;\n",
              "    height: 32px;\n",
              "    padding: 0 0 0 0;\n",
              "    width: 32px;\n",
              "  }\n",
              "\n",
              "  .colab-df-quickchart:hover {\n",
              "    background-color: #E2EBFA;\n",
              "    box-shadow: 0px 1px 2px rgba(60, 64, 67, 0.3), 0px 1px 3px 1px rgba(60, 64, 67, 0.15);\n",
              "    fill: #174EA6;\n",
              "  }\n",
              "\n",
              "  [theme=dark] .colab-df-quickchart {\n",
              "    background-color: #3B4455;\n",
              "    fill: #D2E3FC;\n",
              "  }\n",
              "\n",
              "  [theme=dark] .colab-df-quickchart:hover {\n",
              "    background-color: #434B5C;\n",
              "    box-shadow: 0px 1px 3px 1px rgba(0, 0, 0, 0.15);\n",
              "    filter: drop-shadow(0px 1px 2px rgba(0, 0, 0, 0.3));\n",
              "    fill: #FFFFFF;\n",
              "  }\n",
              "</style>\n",
              "\n",
              "    <script>\n",
              "      async function quickchart(key) {\n",
              "        const containerElement = document.querySelector('#' + key);\n",
              "        const charts = await google.colab.kernel.invokeFunction(\n",
              "            'suggestCharts', [key], {});\n",
              "      }\n",
              "    </script>\n",
              "\n",
              "      <script>\n",
              "\n",
              "function displayQuickchartButton(domScope) {\n",
              "  let quickchartButtonEl =\n",
              "    domScope.querySelector('#df-e91ba49c-0de8-42fd-97a3-11067c9253da button.colab-df-quickchart');\n",
              "  quickchartButtonEl.style.display =\n",
              "    google.colab.kernel.accessAllowed ? 'block' : 'none';\n",
              "}\n",
              "\n",
              "        displayQuickchartButton(document);\n",
              "      </script>\n",
              "      <style>\n",
              "    .colab-df-container {\n",
              "      display:flex;\n",
              "      flex-wrap:wrap;\n",
              "      gap: 12px;\n",
              "    }\n",
              "\n",
              "    .colab-df-convert {\n",
              "      background-color: #E8F0FE;\n",
              "      border: none;\n",
              "      border-radius: 50%;\n",
              "      cursor: pointer;\n",
              "      display: none;\n",
              "      fill: #1967D2;\n",
              "      height: 32px;\n",
              "      padding: 0 0 0 0;\n",
              "      width: 32px;\n",
              "    }\n",
              "\n",
              "    .colab-df-convert:hover {\n",
              "      background-color: #E2EBFA;\n",
              "      box-shadow: 0px 1px 2px rgba(60, 64, 67, 0.3), 0px 1px 3px 1px rgba(60, 64, 67, 0.15);\n",
              "      fill: #174EA6;\n",
              "    }\n",
              "\n",
              "    [theme=dark] .colab-df-convert {\n",
              "      background-color: #3B4455;\n",
              "      fill: #D2E3FC;\n",
              "    }\n",
              "\n",
              "    [theme=dark] .colab-df-convert:hover {\n",
              "      background-color: #434B5C;\n",
              "      box-shadow: 0px 1px 3px 1px rgba(0, 0, 0, 0.15);\n",
              "      filter: drop-shadow(0px 1px 2px rgba(0, 0, 0, 0.3));\n",
              "      fill: #FFFFFF;\n",
              "    }\n",
              "  </style>\n",
              "\n",
              "      <script>\n",
              "        const buttonEl =\n",
              "          document.querySelector('#df-586cdf93-f778-4cb4-b9b5-4efad3e56fe7 button.colab-df-convert');\n",
              "        buttonEl.style.display =\n",
              "          google.colab.kernel.accessAllowed ? 'block' : 'none';\n",
              "\n",
              "        async function convertToInteractive(key) {\n",
              "          const element = document.querySelector('#df-586cdf93-f778-4cb4-b9b5-4efad3e56fe7');\n",
              "          const dataTable =\n",
              "            await google.colab.kernel.invokeFunction('convertToInteractive',\n",
              "                                                     [key], {});\n",
              "          if (!dataTable) return;\n",
              "\n",
              "          const docLinkHtml = 'Like what you see? Visit the ' +\n",
              "            '<a target=\"_blank\" href=https://colab.research.google.com/notebooks/data_table.ipynb>data table notebook</a>'\n",
              "            + ' to learn more about interactive tables.';\n",
              "          element.innerHTML = '';\n",
              "          dataTable['output_type'] = 'display_data';\n",
              "          await google.colab.output.renderOutput(dataTable, element);\n",
              "          const docLink = document.createElement('div');\n",
              "          docLink.innerHTML = docLinkHtml;\n",
              "          element.appendChild(docLink);\n",
              "        }\n",
              "      </script>\n",
              "    </div>\n",
              "  </div>\n"
            ]
          },
          "metadata": {},
          "execution_count": 23
        }
      ]
    },
    {
      "cell_type": "markdown",
      "source": [
        "Escribir un programa que pregunte al usuario su renta anual y muestre por pantalla el tipo el total de impuestos a pagar en función de la tasa impositiva.\n",
        "1.   Usa la función **input** para solicitar el ingreso del usuario\n",
        "2.   Usa las sentencias condicionales (if, elif, else) para crear el flujo\n",
        "3.   Realiza la operación para obtener el total de impuestos a pagar\n",
        "4.   Imprime los resultados\n",
        "\n"
      ],
      "metadata": {
        "id": "8DsIEtD800ST"
      }
    },
    {
      "cell_type": "code",
      "source": [
        "ingresos = float(input(\"Ingresa los impuestos: \"))\n",
        "\n",
        "if ingresos > 0 and ingresos <= 1000:\n",
        "  total1= ingresos * .05\n",
        "  print(\"Los impuestos a pagar son: \", total1)\n",
        "elif ingresos > 1000 and ingresos <= 2000:\n",
        "  total1= ingresos * .15\n",
        "  print(\"Los impuestos a pagar son: \", total1)\n",
        "elif ingresos > 2000 and ingresos <= 3000:\n",
        "  total1= ingresos * .20\n",
        "  print(\"Los impuestos a pagar son: \", total1)\n",
        "elif ingresos > 3000:\n",
        "  total1 = ingresos * .30\n",
        "  print(\"Los impuestos a pagar son: \", total1)\n",
        "elif ingresos < 0:\n",
        "  print(\"El monto del ingreso debe de ser positivo\")\n",
        "else:\n",
        "  print(\"No ingresoun monto\")"
      ],
      "metadata": {
        "id": "B-0s6PFj0zTs",
        "colab": {
          "base_uri": "https://localhost:8080/"
        },
        "outputId": "1a6dc00f-4efa-4d98-c286-f98fc9c44af9"
      },
      "execution_count": 32,
      "outputs": [
        {
          "output_type": "stream",
          "name": "stdout",
          "text": [
            "Ingresa los impuestos: 236958\n",
            "Los impuestos a pagar son:  71087.4\n"
          ]
        }
      ]
    },
    {
      "cell_type": "markdown",
      "source": [
        "## Condicionales anidados\n",
        "\n",
        "```\n",
        "if primer_condicion:\n",
        "----bloque 1 de código.\n",
        "----if segunda_condicion:\n",
        "--------bloque 1A de código.\n",
        "----else:\n",
        "--------bloque 1B de código.\n",
        "else:\n",
        "----bloque 2 de código.\n",
        "----if segunda_condicion:\n",
        "--------bloque 2A de código.\n",
        "----else:\n",
        "--------bloque 2B de código.\n",
        "```"
      ],
      "metadata": {
        "id": "uCdJxI0yxxUO"
      }
    },
    {
      "cell_type": "markdown",
      "source": [
        "## Lab: Login\n",
        "Escribir un programa que pida un usuario y contraseña para iniciar sesión.\n",
        "\n",
        "1.   Solicita el nombre de usuario\n",
        "2.   Solicita el password\n",
        "3.   Revisa que el nombre de usuario sea válido\n",
        "4.   Verifica que la contraseña sea correcta"
      ],
      "metadata": {
        "id": "0OfxHB_d09Qi"
      }
    },
    {
      "cell_type": "code",
      "source": [
        "# BASE DE DATOS DB\n",
        "user_db = 'cuau2077'\n",
        "password_db = '1234'"
      ],
      "metadata": {
        "id": "IU5dDjDC3E5-"
      },
      "execution_count": 24,
      "outputs": []
    },
    {
      "cell_type": "code",
      "source": [
        "# Paso 1\n",
        "user = input('Ingrese su usuario: ')"
      ],
      "metadata": {
        "id": "3nkaOP0p30ED",
        "colab": {
          "base_uri": "https://localhost:8080/"
        },
        "outputId": "3fa625a1-5065-4355-b38f-dbe076cb1275"
      },
      "execution_count": 25,
      "outputs": [
        {
          "name": "stdout",
          "output_type": "stream",
          "text": [
            "Ingrese su usuario: cuau2077\n"
          ]
        }
      ]
    },
    {
      "cell_type": "code",
      "source": [
        "print(user)"
      ],
      "metadata": {
        "id": "jja-Awol36gA",
        "colab": {
          "base_uri": "https://localhost:8080/"
        },
        "outputId": "b0c07e76-c18d-4a94-f562-bef15887c102"
      },
      "execution_count": 26,
      "outputs": [
        {
          "output_type": "stream",
          "name": "stdout",
          "text": [
            "cuau2077\n"
          ]
        }
      ]
    },
    {
      "cell_type": "code",
      "source": [
        "# Paso 2\n",
        "password = input('Ingrese su contraseña: ')"
      ],
      "metadata": {
        "id": "yCMPGTQ-38kA",
        "colab": {
          "base_uri": "https://localhost:8080/"
        },
        "outputId": "c2c698af-d33b-4b73-fe15-76c117cde133"
      },
      "execution_count": 27,
      "outputs": [
        {
          "name": "stdout",
          "output_type": "stream",
          "text": [
            "Ingrese su contraseña: 1234\n"
          ]
        }
      ]
    },
    {
      "cell_type": "code",
      "source": [
        "print(password)"
      ],
      "metadata": {
        "id": "kWXftA9k4CEO",
        "colab": {
          "base_uri": "https://localhost:8080/"
        },
        "outputId": "3eff9493-cd9f-4f76-ee85-0425fa941dd7"
      },
      "execution_count": 28,
      "outputs": [
        {
          "output_type": "stream",
          "name": "stdout",
          "text": [
            "1234\n"
          ]
        }
      ]
    },
    {
      "cell_type": "code",
      "source": [
        "print(type(password))"
      ],
      "metadata": {
        "id": "RutKeKas4EMq",
        "colab": {
          "base_uri": "https://localhost:8080/"
        },
        "outputId": "2ac2c290-329c-49ed-ffca-9ae1577dc33d"
      },
      "execution_count": 29,
      "outputs": [
        {
          "output_type": "stream",
          "name": "stdout",
          "text": [
            "<class 'str'>\n"
          ]
        }
      ]
    },
    {
      "cell_type": "code",
      "source": [
        "# Paso 3\n",
        "# Verificamos que el usaurio existe en\n",
        "# la base de datos\n",
        "if user == 'cuau2077':\n",
        "  print('El usuario existe')\n",
        "else:\n",
        "  print('Verifique el nombre de usuario')"
      ],
      "metadata": {
        "id": "0IS_wUjMxwMo",
        "colab": {
          "base_uri": "https://localhost:8080/"
        },
        "outputId": "9af3e47a-5497-4e6e-9c4e-6aaf46109e23"
      },
      "execution_count": 30,
      "outputs": [
        {
          "output_type": "stream",
          "name": "stdout",
          "text": [
            "El usuario existe\n"
          ]
        }
      ]
    },
    {
      "cell_type": "code",
      "source": [
        "# Verificamos que el usaurio existe en\n",
        "# la base de datos\n",
        "if user == 'cuau2077':\n",
        "  print('El usuario existe')\n",
        "  if password == password_db: # Paso 4\n",
        "    print('Iniciaste sesión exitosamente')\n",
        "  else:\n",
        "    print('Contraseña incorrecta')\n",
        "else:\n",
        "  print('Verifique el nombre de usuario')"
      ],
      "metadata": {
        "id": "SX56wO7p3ac2",
        "colab": {
          "base_uri": "https://localhost:8080/"
        },
        "outputId": "802f1894-2347-40f1-ea2a-7c02b4dffc53"
      },
      "execution_count": 31,
      "outputs": [
        {
          "output_type": "stream",
          "name": "stdout",
          "text": [
            "El usuario existe\n",
            "Iniciaste sesión exitosamente\n"
          ]
        }
      ]
    }
  ]
}