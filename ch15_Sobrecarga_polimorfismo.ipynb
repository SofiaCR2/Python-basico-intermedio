{
  "cells": [
    {
      "cell_type": "markdown",
      "metadata": {
        "id": "view-in-github",
        "colab_type": "text"
      },
      "source": [
        "<a href=\"https://colab.research.google.com/github/SofiaCR2/Python-basico-intermedio/blob/main/ch15_Sobrecarga_polimorfismo.ipynb\" target=\"_parent\"><img src=\"https://colab.research.google.com/assets/colab-badge.svg\" alt=\"Open In Colab\"/></a>"
      ]
    },
    {
      "cell_type": "markdown",
      "metadata": {
        "id": "VGJEl7Y-Hk-c"
      },
      "source": [
        "# Más programación orientada a objetos, sobrecarga de operadores y polimorfismo\n",
        "\n",
        "http://openbookproject.net/thinkcs/python/english3e/even_more_oop.html\n",
        "\n",
        "## Mi tiempo\n",
        "- clase que registra la hora del día\n",
        "- proporcione el método __init__ para que cada instancia se cree con los atributos y la inicialización apropiados"
      ]
    },
    {
      "cell_type": "code",
      "execution_count": 1,
      "metadata": {
        "id": "zXX4OnEbHk-e"
      },
      "outputs": [],
      "source": [
        "class MyTime:\n",
        "    \"\"\"MyTime class that keeps track of time of day\"\"\"\n",
        "    def __init__(self, hrs=0, mins=0, secs=0):\n",
        "        \"\"\" Creates a MyTime object initialized to hrs, mins, secs \"\"\"\n",
        "        self.hours = hrs\n",
        "        self.minutes = mins\n",
        "        self.seconds = secs\n",
        "\n",
        "    def __str__(self):\n",
        "        return \"{:02}:{:02}:{:02}\".format(self.hours, self.minutes, self.seconds)"
      ]
    },
    {
      "cell_type": "code",
      "execution_count": 2,
      "metadata": {
        "id": "Nqdi-8DWHk-f"
      },
      "outputs": [],
      "source": [
        "tim1 = MyTime(11, 59, 3)"
      ]
    },
    {
      "cell_type": "code",
      "execution_count": 3,
      "metadata": {
        "colab": {
          "base_uri": "https://localhost:8080/"
        },
        "id": "l5fAwt61Hk-f",
        "outputId": "8eb485e3-121a-4e6c-df16-aaca0837f2aa"
      },
      "outputs": [
        {
          "output_type": "stream",
          "name": "stdout",
          "text": [
            "11:59:03\n"
          ]
        }
      ],
      "source": [
        "print(tim1)"
      ]
    },
    {
      "cell_type": "markdown",
      "metadata": {
        "id": "oKiKPthMHk-f"
      },
      "source": [
        "## Las funciones pueden ser puras y modificadoras\n",
        "- ¿Qué funciones deberían ser parte de la clase de métodos?\n",
        "- por lo general, todas las funciones que operan o usan atributos de clase deben ser parte de la clase llamada métodos"
      ]
    },
    {
      "cell_type": "markdown",
      "metadata": {
        "id": "nhuHDg7GHk-g"
      },
      "source": [
        "## funciones puras\n",
        "- las funciones puras no tienen efectos secundarios, como modificar parámetros y variables globales\n",
        "- similar a las funciones constantes en el mundo de C++\n",
        "- los métodos getter son funciones puras\n",
        "- por ejemplo: ver add_time()"
      ]
    },
    {
      "cell_type": "code",
      "execution_count": 5,
      "metadata": {
        "id": "1RkXF219Hk-g"
      },
      "outputs": [],
      "source": [
        "def add_time(t1, t2):\n",
        "    h = t1.hours + t2.hours\n",
        "    m = t1.minutes + t2.minutes\n",
        "    s = t1.seconds + t2.seconds\n",
        "\n",
        "    while s >= 60:\n",
        "        s -= 60\n",
        "        m += 1\n",
        "\n",
        "    while m >= 60:\n",
        "        m -= 60\n",
        "        h += 1\n",
        "\n",
        "    sum_t = MyTime(h, m, s)\n",
        "    return sum_t"
      ]
    },
    {
      "cell_type": "code",
      "execution_count": 6,
      "metadata": {
        "colab": {
          "base_uri": "https://localhost:8080/"
        },
        "id": "v1P8s9WEHk-g",
        "outputId": "1a5a3cd9-a895-4f95-c65d-965a12dbd066"
      },
      "outputs": [
        {
          "output_type": "stream",
          "name": "stdout",
          "text": [
            "12:26:05\n"
          ]
        }
      ],
      "source": [
        "current_time = MyTime(9, 50, 45)\n",
        "bread_time = MyTime(2, 35, 20)\n",
        "done_time = add_time(current_time, bread_time)\n",
        "print(done_time)"
      ]
    },
    {
      "cell_type": "markdown",
      "metadata": {
        "id": "kOH6YbL3Hk-g"
      },
      "source": [
        "## modificadores\n",
        "- funciones que modifican el(los) objeto(s) que obtiene como parámetro(s)\n",
        "- los métodos setter son modificadores"
      ]
    },
    {
      "cell_type": "code",
      "execution_count": 7,
      "metadata": {
        "id": "27Ru6qglHk-g"
      },
      "outputs": [],
      "source": [
        "# function takes MyTime t and secs to update t\n",
        "def increment(myT, seconds):\n",
        "    myT.seconds += seconds\n",
        "    mins = myT.seconds//60\n",
        "\n",
        "    myT.seconds = myT.seconds%60\n",
        "    myT.minutes += mins\n",
        "\n",
        "    hours = myT.minutes//60\n",
        "    myT.hours += hours\n",
        "    myT.minutes = myT.minutes%60"
      ]
    },
    {
      "cell_type": "code",
      "execution_count": 8,
      "metadata": {
        "colab": {
          "base_uri": "https://localhost:8080/"
        },
        "id": "ZVCFF9fUHk-g",
        "outputId": "abbef0d4-ac2d-4fb8-8c91-4c8155d555b9"
      },
      "outputs": [
        {
          "output_type": "stream",
          "name": "stdout",
          "text": [
            "09:50:45\n"
          ]
        }
      ],
      "source": [
        "current_time = MyTime(9, 50, 45)\n",
        "print(current_time)"
      ]
    },
    {
      "cell_type": "code",
      "execution_count": 9,
      "metadata": {
        "id": "dw4lRKX4Hk-g"
      },
      "outputs": [],
      "source": [
        "increment(current_time, 60*60)"
      ]
    },
    {
      "cell_type": "code",
      "execution_count": 10,
      "metadata": {
        "colab": {
          "base_uri": "https://localhost:8080/"
        },
        "id": "mtG2gVr2Hk-g",
        "outputId": "2ff7dc3e-8890-47a4-a7ee-3779b5eef5b8"
      },
      "outputs": [
        {
          "output_type": "stream",
          "name": "stdout",
          "text": [
            "10:50:45\n"
          ]
        }
      ],
      "source": [
        "print(current_time)"
      ]
    },
    {
      "cell_type": "markdown",
      "metadata": {
        "id": "HXhhdUQjHk-h"
      },
      "source": [
        "## Convirtiendo increment() en un método\n",
        "- OOD prefiere que las funciones que trabajan con objetos sean parte de la clase o métodos\n",
        "- el incremento puede ser un método útil para la clase MyTime"
      ]
    },
    {
      "cell_type": "code",
      "execution_count": 11,
      "metadata": {
        "id": "xwEqexcbHk-h"
      },
      "outputs": [],
      "source": [
        "class MyTime:\n",
        "    def __init__(self, hrs=0, mins=0, secs=0):\n",
        "        \"\"\" Create a new MyTime object initialized to hrs, mins, secs.\n",
        "           The values of mins and secs may be outside the range 0-59,\n",
        "           but the resulting MyTime object will be normalized.\n",
        "        \"\"\"\n",
        "        self.hours = hrs\n",
        "        self.minutes = mins\n",
        "        self.seconds = secs\n",
        "\n",
        "        # Calculate total seconds to represent\n",
        "        self.__normalize()\n",
        "\n",
        "    def __str__(self):\n",
        "        return \"{:02}:{:02}:{:02}\".format(self.hours, self.minutes, self.seconds)\n",
        "\n",
        "    def to_seconds(self):\n",
        "        \"\"\" Return the number of seconds represented\n",
        "            by this instance\n",
        "        \"\"\"\n",
        "        return self.hours * 3600 + self.minutes * 60 + self.seconds\n",
        "\n",
        "    def increment(self, seconds):\n",
        "        self.seconds += seconds\n",
        "        self.__normalize()\n",
        "\n",
        "    # should be treated as private method\n",
        "    def __normalize(self):\n",
        "        totalsecs = self.to_seconds()\n",
        "        self.hours = totalsecs // 3600        # Split in h, m, s\n",
        "        leftoversecs = totalsecs % 3600\n",
        "        self.minutes = leftoversecs // 60\n",
        "        self.seconds = leftoversecs % 60"
      ]
    },
    {
      "cell_type": "code",
      "execution_count": 12,
      "metadata": {
        "id": "ldpkMBxlHk-h"
      },
      "outputs": [],
      "source": [
        "# improved add_time function\n",
        "def add_time(t1, t2):\n",
        "    secs = t1.to_seconds() + t2.to_seconds()\n",
        "    return MyTime(0, 0, secs)"
      ]
    },
    {
      "cell_type": "code",
      "execution_count": 13,
      "metadata": {
        "colab": {
          "base_uri": "https://localhost:8080/"
        },
        "id": "MoFelYRsHk-h",
        "outputId": "e8ff81f6-4fc7-4bb0-e5d6-0a94f611d995"
      },
      "outputs": [
        {
          "output_type": "stream",
          "name": "stdout",
          "text": [
            "12:26:05\n"
          ]
        }
      ],
      "source": [
        "# test add_time function\n",
        "current_time = MyTime(9, 50, 45)\n",
        "bread_time = MyTime(2, 35, 20)\n",
        "done_time = add_time(current_time, bread_time)\n",
        "print(done_time)"
      ]
    },
    {
      "cell_type": "markdown",
      "metadata": {
        "id": "4pBc7NjCHk-h"
      },
      "source": [
        "### De manera similar, add_time se puede mover dentro de la clase MyTime como método"
      ]
    },
    {
      "cell_type": "code",
      "execution_count": 14,
      "metadata": {
        "id": "3mLpVUXsHk-h"
      },
      "outputs": [],
      "source": [
        "class MyTime:\n",
        "    def __init__(self, hrs=0, mins=0, secs=0):\n",
        "        \"\"\" Create a new MyTime object initialized to hrs, mins, secs.\n",
        "           The values of mins and secs may be outside the range 0-59,\n",
        "           but the resulting MyTime object will be normalized.\n",
        "        \"\"\"\n",
        "        self.hours = hrs\n",
        "        self.minutes = mins\n",
        "        self.seconds = secs\n",
        "        # Calculate total seconds to represent\n",
        "        self.__normalize()\n",
        "\n",
        "    def __str__(self):\n",
        "        return \"{:02}:{:02}:{:02}\".format(self.hours, self.minutes, self.seconds)\n",
        "\n",
        "    def to_seconds(self):\n",
        "        \"\"\" Return the number of seconds represented\n",
        "            by this instance\n",
        "        \"\"\"\n",
        "        return self.hours * 3600 + self.minutes * 60 + self.seconds\n",
        "\n",
        "    def increment(self, secs):\n",
        "        self.seconds += secs\n",
        "        self.__normalize()\n",
        "\n",
        "    def __normalize(self):\n",
        "        totalsecs = self.to_seconds()\n",
        "        self.hours = totalsecs // 3600        # Split in h, m, s\n",
        "        leftoversecs = totalsecs % 3600\n",
        "        self.minutes = leftoversecs // 60\n",
        "        self.seconds = leftoversecs % 60\n",
        "\n",
        "    def add_time(self, other):\n",
        "        return MyTime(0, 0, self.to_seconds() + other.to_seconds())\n"
      ]
    },
    {
      "cell_type": "code",
      "execution_count": 15,
      "metadata": {
        "colab": {
          "base_uri": "https://localhost:8080/"
        },
        "id": "29PAgRk8Hk-h",
        "outputId": "4bfa6fb2-706b-40bd-d825-daa114accfdc"
      },
      "outputs": [
        {
          "output_type": "stream",
          "name": "stdout",
          "text": [
            "12:26:05\n"
          ]
        }
      ],
      "source": [
        "current_time = MyTime(9, 50, 45)\n",
        "bread_time = MyTime(2, 35, 20)\n",
        "done_time = current_time.add_time(bread_time)\n",
        "print(done_time)"
      ]
    },
    {
      "cell_type": "markdown",
      "metadata": {
        "id": "w2J0zMiaHk-h"
      },
      "source": [
        "## métodos especiales / sobrecarga de operadores\n",
        "- https://docs.python.org/3/reference/datamodel.html\n",
        "- ¿Qué tal t1 = t2 + t3 al igual que agregar tipos primitivos?\n",
        "- El operador \\+ agrega dos cadenas, pero agrega dos enteros o flotantes\n",
        "- el mismo operador tiene un significado diferente para diferentes tipos llamado sobrecarga de operadores\n",
        "- reemplace add_time con el método especial incorporado __add__ para sobrecargar + operador"
      ]
    },
    {
      "cell_type": "code",
      "execution_count": 16,
      "metadata": {
        "id": "YlHQsmWIHk-h"
      },
      "outputs": [],
      "source": [
        "class MyTime:\n",
        "\n",
        "    def __init__(self, hrs=0, mins=0, secs=0):\n",
        "        \"\"\" Create a new MyTime object initialized to hrs, mins, secs.\n",
        "           The values of mins and secs may be outside the range 0-59,\n",
        "           but the resulting MyTime object will be normalized.\n",
        "        \"\"\"\n",
        "        self.hours = hrs\n",
        "        self.minutes = mins\n",
        "        self.seconds = secs\n",
        "        # Calculate total seconds to represent\n",
        "        self.__normalize()\n",
        "\n",
        "    def __str__(self):\n",
        "        return \"{:02}:{:02}:{:02}\".format(self.hours, self.minutes, self.seconds)\n",
        "\n",
        "    def to_seconds(self):\n",
        "        \"\"\" Return the number of seconds represented\n",
        "            by this instance\n",
        "        \"\"\"\n",
        "        return self.hours * 3600 + self.minutes * 60 + self.seconds\n",
        "\n",
        "    def increment(self, secs):\n",
        "        self.seconds += secs\n",
        "        self.normalize()\n",
        "\n",
        "    def __normalize(self):\n",
        "        totalsecs = self.to_seconds()\n",
        "        self.hours = totalsecs // 3600        # Split in h, m, s\n",
        "        leftoversecs = totalsecs % 3600\n",
        "        self.minutes = leftoversecs // 60\n",
        "        self.seconds = leftoversecs % 60\n",
        "\n",
        "    def __add__(self, other):\n",
        "        return MyTime(0, 0, self.to_seconds() + other.to_seconds())"
      ]
    },
    {
      "cell_type": "code",
      "execution_count": 17,
      "metadata": {
        "colab": {
          "base_uri": "https://localhost:8080/"
        },
        "id": "kcqRRpefHk-h",
        "outputId": "2838d08e-ea21-4b44-bc7a-f38645c93045"
      },
      "outputs": [
        {
          "output_type": "stream",
          "name": "stdout",
          "text": [
            "12:26:05\n"
          ]
        }
      ],
      "source": [
        "current_time = MyTime(9, 50, 45)\n",
        "bread_time = MyTime(2, 35, 20)\n",
        "done_time = current_time + bread_time # equivalent to: done_time = current_time.__add__(bread_time)\n",
        "print(done_time)"
      ]
    },
    {
      "cell_type": "markdown",
      "metadata": {
        "id": "6ryWq5o9Hk-h"
      },
      "source": [
        "## agregar dos puntos\n",
        "- sobrecargar nuestra clase Point para poder sumar dos puntos"
      ]
    },
    {
      "cell_type": "code",
      "execution_count": 18,
      "metadata": {
        "id": "cz-JC-vkHk-i"
      },
      "outputs": [],
      "source": [
        "class Point:\n",
        "    \"\"\"\n",
        "    Point class represents and manipulates x,y coords\n",
        "    \"\"\"\n",
        "    count = 0\n",
        "\n",
        "    def __init__(self, xx=0, yy=0):\n",
        "        \"\"\"Create a new point with given x and y coords\"\"\"\n",
        "        self.x = xx\n",
        "        self.y = yy\n",
        "        Point.count += 1\n",
        "\n",
        "    def dist_from_origin(self):\n",
        "        import math\n",
        "        dist = math.sqrt(self.x**2+self.y**2)\n",
        "        return dist\n",
        "\n",
        "    def __str__(self):\n",
        "        return \"({}, {})\".format(self.x, self.y)\n",
        "\n",
        "    def move(self, xx, yy):\n",
        "        self.x = xx\n",
        "        self.y = yy\n",
        "\n",
        "    def __add__(self, other):\n",
        "        x = self.x + other.x\n",
        "        y = self.y + other.y\n",
        "        return Point(x, y)\n",
        "\n",
        "    def __mul__(self, other):\n",
        "        \"\"\"\n",
        "        computes dot product of two points\n",
        "        \"\"\"\n",
        "        return self.x * other.x + self.y * other.y\n",
        "\n",
        "    def __rmul__(self, other):\n",
        "        \"\"\"\n",
        "        if the left operand is primitive type (int or float)\n",
        "        and the right operand is a Point, Python invokes __rmul__\n",
        "        which performs scalar multiplication\n",
        "        \"\"\"\n",
        "        return Point(other * self.x, other * self.y)\n"
      ]
    },
    {
      "cell_type": "code",
      "execution_count": 19,
      "metadata": {
        "colab": {
          "base_uri": "https://localhost:8080/"
        },
        "id": "i7Ey2FjtHk-i",
        "outputId": "b4d17a26-d1f8-44b4-c2dc-2c0268ced807"
      },
      "outputs": [
        {
          "output_type": "stream",
          "name": "stdout",
          "text": [
            "(12, 12)\n",
            "48\n",
            "(8, 8)\n"
          ]
        }
      ],
      "source": [
        "p1 = Point(2, 2)\n",
        "p2 = Point(10, 10)\n",
        "p3 = p1 + p2\n",
        "print(p3)\n",
        "print(p1 * p3)\n",
        "print(4 * p1)"
      ]
    },
    {
      "cell_type": "markdown",
      "metadata": {
        "id": "8XpEQW4DHk-i"
      },
      "source": [
        "## some special methods\n",
        "<pre>\n",
        "__del__(self)\n",
        "    - destructor - called when instance is about to be destroyed\n",
        "    \n",
        "__str__(self)\n",
        "   - called by str(object) and the built-in functions format() and print() to computer the \"informal\" or nicely printable string representation of an object.\n",
        "   - must return string object\n",
        "\n",
        "__lt__(self, other)\n",
        "    x &lt; y calls x.__lt__(y)\n",
        "\n",
        "__gt__(self, other)\n",
        "    x &gt; y calls x.__gt__(y)\n",
        "   \n",
        "__eq__(self, other)\n",
        "    x == y calls x.__eq__(y)\n",
        "\n",
        "__ne__(self, other)\n",
        "__ge__(self, other)\n",
        "__le__(self, other)\n",
        "\n",
        "Emulating numeric types:\n",
        "__add__(self, other)\n",
        "__sub__(self, other)\n",
        "__mul__(self, other)\n",
        "__mod__(self, other)\n",
        "__truediv__(self, other)\n",
        "__pow__(self, other)\n",
        "__xor__(self, other)\n",
        "__or__(self, other)\n",
        "__and__(self, other)\n",
        "</pre>"
      ]
    },
    {
      "cell_type": "markdown",
      "metadata": {
        "id": "-3s9PgjfHk-i"
      },
      "source": [
        "## Polimorfismo\n",
        "- la mayoría de los métodos funcionan en un nuevo tipo de clase específico que creamos\n",
        "- algunos métodos que queremos aplicar a muchos tipos, como operaciones aritméticas + en el ejemplo anterior\n",
        "- por ejemplo, la operación multadd (común en álgebra lineal) toma 3 argumentos, multiplica los dos primeros y luego suma el tercero\n",
        "- función como esta que puede tomar argumentos con diferentes tipos se llama polimórfica"
      ]
    },
    {
      "cell_type": "code",
      "execution_count": 20,
      "metadata": {
        "id": "HIuZcPb_Hk-i"
      },
      "outputs": [],
      "source": [
        "def multadd(x, y, z):\n",
        "    return x * y + z"
      ]
    },
    {
      "cell_type": "code",
      "execution_count": 21,
      "metadata": {
        "colab": {
          "base_uri": "https://localhost:8080/"
        },
        "id": "wIhL-uIYHk-i",
        "outputId": "5e1e1005-8705-4c30-f594-c7ac504e56ec"
      },
      "outputs": [
        {
          "output_type": "execute_result",
          "data": {
            "text/plain": [
              "7"
            ]
          },
          "metadata": {},
          "execution_count": 21
        }
      ],
      "source": [
        "multadd(3, 2, 1)"
      ]
    },
    {
      "cell_type": "code",
      "execution_count": 22,
      "metadata": {
        "colab": {
          "base_uri": "https://localhost:8080/"
        },
        "id": "e2gBDA64Hk-i",
        "outputId": "6026da47-8e1b-4177-92c2-6c5fc031927f"
      },
      "outputs": [
        {
          "output_type": "stream",
          "name": "stdout",
          "text": [
            "(11, 15)\n"
          ]
        }
      ],
      "source": [
        "p1 = Point(3, 4)\n",
        "p2 = Point(5, 7)\n",
        "print(multadd(2, p1, p2))"
      ]
    },
    {
      "cell_type": "code",
      "execution_count": 23,
      "metadata": {
        "colab": {
          "base_uri": "https://localhost:8080/"
        },
        "id": "8QZWxw0NHk-i",
        "outputId": "e09404e3-5ed8-4ed0-ac6d-8554c583256e"
      },
      "outputs": [
        {
          "output_type": "stream",
          "name": "stdout",
          "text": [
            "44\n"
          ]
        }
      ],
      "source": [
        "print(multadd (p1, p2, 1))"
      ]
    },
    {
      "cell_type": "markdown",
      "metadata": {
        "id": "sc23-fgEHk-i"
      },
      "source": [
        "## regla de escritura pato - enlace dinámico\n",
        "- prueba del pato: \"Si camina como un pato y grazna como un pato, entonces debe ser un pato\"\n",
        "- para determinar si una función se puede aplicar a un nuevo tipo, aplicamos la regla fundamental de polimorfismo de Python, llamada regla de tipeo de pato: <em> si todas las operaciones dentro de la función se pueden aplicar al tipo, la función se puede aplicar al tipo </em>\n",
        "- por ejemplo: https://en.wikipedia.org/wiki/Duck_typing"
      ]
    },
    {
      "cell_type": "code",
      "execution_count": 25,
      "metadata": {
        "colab": {
          "base_uri": "https://localhost:8080/"
        },
        "id": "-n3-ncTnHk-i",
        "outputId": "246eca35-65b4-413e-8907-f2821a4986e2"
      },
      "outputs": [
        {
          "output_type": "stream",
          "name": "stdout",
          "text": [
            "Duck flying\n",
            "Airplane flying\n"
          ]
        }
      ],
      "source": [
        "class Duck:\n",
        "    def fly(self):\n",
        "        print(\"Duck flying\")\n",
        "\n",
        "class Airplane:\n",
        "    def fly(self):\n",
        "        print(\"Airplane flying\")\n",
        "\n",
        "class Whale:\n",
        "    def swim(self):\n",
        "        print(\"Whale swimming\")\n",
        "\n",
        "# polymorphism\n",
        "def lift_off(entity):\n",
        "    entity.fly()\n",
        "    # ¡solo arroja un error si alguna entidad no tiene un atributo de vuelo durante el tiempo de ejecución!\n",
        "    # ¡Los lenguajes escritos estáticamente como C++ dan errores de tiempo de compilación!\n",
        "\n",
        "duck = Duck() # objeto\n",
        "airplane = Airplane()\n",
        "#whale = Whale()\n",
        "\n",
        "lift_off(duck) # prints `Duck flying`\n",
        "lift_off(airplane) # prints `Airplane flying`\n",
        "#lift_off(whale) # Throws the error `'Whale' object has no attribute 'fly'`"
      ]
    },
    {
      "cell_type": "markdown",
      "source": [
        "## Acciones que tienen el mismo nombre pero tiene diferente funcion o actividad (esto es por herencia)"
      ],
      "metadata": {
        "id": "PET68wlJNhnA"
      }
    },
    {
      "cell_type": "code",
      "execution_count": 29,
      "metadata": {
        "id": "K-5Y2w-cHk-i",
        "colab": {
          "base_uri": "https://localhost:8080/"
        },
        "outputId": "725a2498-f07d-4016-8d84-d56fe85f6123"
      },
      "outputs": [
        {
          "output_type": "stream",
          "name": "stdout",
          "text": [
            "animal salvaje\n",
            "animal domestico\n"
          ]
        }
      ],
      "source": [
        "class Animal:\n",
        "  def __init__(self, nombre):\n",
        "    self.nombre = nombre\n",
        "\n",
        "  def tipo_animal(self):\n",
        "    pass\n",
        "\n",
        "class Leon(Animal):\n",
        "  def tipo_animal(self):\n",
        "    print('animal salvaje')\n",
        "\n",
        "class Perro(Animal):\n",
        "  def tipo_animal(self):\n",
        "    print('animal domestico')\n",
        "\n",
        "nuevo_animal = Leon('simba')\n",
        "nuevo_animal.tipo_animal()\n",
        "\n",
        "nuevo_animal2 = Perro('Niik')\n",
        "nuevo_animal2.tipo_animal()"
      ]
    }
  ],
  "metadata": {
    "kernelspec": {
      "display_name": "Python 3",
      "language": "python",
      "name": "python3"
    },
    "language_info": {
      "codemirror_mode": {
        "name": "ipython",
        "version": 3
      },
      "file_extension": ".py",
      "mimetype": "text/x-python",
      "name": "python",
      "nbconvert_exporter": "python",
      "pygments_lexer": "ipython3",
      "version": "3.7.3"
    },
    "colab": {
      "provenance": [],
      "include_colab_link": true
    }
  },
  "nbformat": 4,
  "nbformat_minor": 0
}