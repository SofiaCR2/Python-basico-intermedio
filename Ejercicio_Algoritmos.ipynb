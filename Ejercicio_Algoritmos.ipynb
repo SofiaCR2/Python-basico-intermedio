{
  "nbformat": 4,
  "nbformat_minor": 0,
  "metadata": {
    "colab": {
      "provenance": [],
      "include_colab_link": true
    },
    "kernelspec": {
      "name": "python3",
      "display_name": "Python 3"
    },
    "language_info": {
      "name": "python"
    }
  },
  "cells": [
    {
      "cell_type": "markdown",
      "metadata": {
        "id": "view-in-github",
        "colab_type": "text"
      },
      "source": [
        "<a href=\"https://colab.research.google.com/github/SofiaCR2/Python-basico-intermedio/blob/main/Ejercicio_Algoritmos.ipynb\" target=\"_parent\"><img src=\"https://colab.research.google.com/assets/colab-badge.svg\" alt=\"Open In Colab\"/></a>"
      ]
    },
    {
      "cell_type": "markdown",
      "metadata": {
        "id": "CpkgjubcxEL_"
      },
      "source": [
        "# 1. Desarrollando un algoritmo\n",
        "Escribir un programa que pregunte al usuario el radio de un circulo, calcule y regrese el área.\n",
        "\n",
        "**»»** Pasos <br>\n",
        "1. Solicitar el valor para el radio\n",
        "2. Aplicar la fórmula\n",
        "3. Imprimir el resultado\n",
        "\n",
        "\n",
        "**»»** Fórmula <br>\n",
        "area = 3.1416 * radio * radio\n",
        "\n",
        "Pidiendo el radio, usando la función input()\n",
        "<br>\n",
        "`radio = float(input(\"Ingresa el radio:\"))`\n",
        "<br>\n",
        "<br>\n",
        "Aplicando la fórmula\n",
        "<br>\n",
        "`area = (radio * radio) * 3.1415`\n",
        "<br>\n",
        "<br>\n",
        "Imprimento el resultado\n",
        "<br>\n",
        "`print(\"El área del círculo con radio\", radio, \"es:\", area)`\n",
        "<br>\n",
        "<br>\n",
        "**»»** Ejercicio:\n",
        "1. Redondear el resultado\n",
        "2. Cambiar (radio * radio) por radio al cuadrado\n"
      ]
    },
    {
      "cell_type": "code",
      "source": [
        "radio = float(input(\"Ingresa el radio:\"))"
      ],
      "metadata": {
        "colab": {
          "base_uri": "https://localhost:8080/"
        },
        "id": "ERp98p40hPkm",
        "outputId": "d207565e-5756-4c9a-bde4-8ba2ef87e7eb"
      },
      "execution_count": null,
      "outputs": [
        {
          "name": "stdout",
          "output_type": "stream",
          "text": [
            "Ingresa el radio:5\n"
          ]
        }
      ]
    },
    {
      "cell_type": "code",
      "source": [
        "print(radio)"
      ],
      "metadata": {
        "colab": {
          "base_uri": "https://localhost:8080/"
        },
        "id": "MgxVJIa5hTcu",
        "outputId": "dc54cfb1-e8c2-4dc8-8a56-deabf438bfe6"
      },
      "execution_count": null,
      "outputs": [
        {
          "output_type": "stream",
          "name": "stdout",
          "text": [
            "5.0\n"
          ]
        }
      ]
    },
    {
      "cell_type": "code",
      "metadata": {
        "colab": {
          "base_uri": "https://localhost:8080/"
        },
        "id": "uT-h8K4Ro252",
        "outputId": "25c137e6-e406-4a0f-8b10-f484fe67431d"
      },
      "source": [
        "radio = float(input(\"Ingresa el radio:\"))\n",
        "area = (radio **2) * 3.1415\n",
        "print(\"El área del círculo con radio\", radio, \"es:\", round(area))"
      ],
      "execution_count": null,
      "outputs": [
        {
          "output_type": "stream",
          "name": "stdout",
          "text": [
            "Ingresa el radio:5\n",
            "El área del círculo con radio 5.0 es: 79\n"
          ]
        }
      ]
    },
    {
      "cell_type": "markdown",
      "source": [
        "# Ejercicios:"
      ],
      "metadata": {
        "id": "UbzA_tmH8ycd"
      }
    },
    {
      "cell_type": "markdown",
      "metadata": {
        "id": "8O9HFvr51AD5"
      },
      "source": [
        "# I. Múltiplos de 3 y 5\n",
        "\n",
        "Si enumeramos todos los números naturales **por debajo** de 10 que son **múltiplos de 3 o 5**, obtenemos 3, 5, 6 y 9. La **suma** de estos múltiplos es 23.\n",
        "\n",
        "Encuentra la **suma** de todos los múltiplos de 3 o 5 por debajo de 1000.\n",
        "\n",
        "**»»** Pasos <br>\n",
        "1. Identificar múltiplos de 3 o 5  [función es_multiplo]\n",
        "2. Obtener todos los múltiplos por debajo de 10 usando range(10)\n",
        "3. Usar un condicional para sumar los números que son múltiplos en una variable.\n",
        "\n",
        "\n",
        "**»»** Identificar si es múltiplo de 3 o 5\n",
        "<br>\n",
        "Una forma de saber si es múltiplo de un número es usando módulo, mod o el operador %, ya que el residuo será 0.\n",
        "```\n",
        "# num_test = variable, puede ser cualquier número.\n",
        "# suma = 0\n",
        "Si numero mod 3 es igual 0 ó numero mod 5 es igual a 0:\n",
        "    # sumar num_test en la variable suma\n",
        "De otro modo:\n",
        "    # pasar\n",
        "```\n",
        "\n",
        "```\n",
        ">>> print(suma) # Resultado\n",
        "233168\n",
        "\n",
        "```\n",
        "\n",
        "\n",
        "\n",
        "**»» Retos**:\n",
        "<br>\n",
        "- Escribe el código en menos de 6 líneas de código (intermedio)\n",
        "- Guarda los números que son múltiplos de 3 o 5 en una lista y después sumar los elementos de la lista.\n",
        "- Escribe tu código en 1 línea (avanzado). (Tip usa **List comprehension**)"
      ]
    },
    {
      "cell_type": "code",
      "source": [
        "n=int(input(\"Hasta que numero: \"))\n",
        "suma = 0\n",
        "for i in range(n):\n",
        "  if i%3==0 or i%5==0:\n",
        "    suma += i\n",
        "print(suma)"
      ],
      "metadata": {
        "id": "fPlTiYgW97HZ",
        "colab": {
          "base_uri": "https://localhost:8080/"
        },
        "outputId": "3fe0337e-0c55-4570-bd9b-73e284c49e4d"
      },
      "execution_count": null,
      "outputs": [
        {
          "output_type": "stream",
          "name": "stdout",
          "text": [
            "Hasta que numero: 10\n",
            "23\n"
          ]
        }
      ]
    },
    {
      "cell_type": "code",
      "source": [
        "suma0=sum([ i for i in range(10000) if i%3==0 or i%5==0])"
      ],
      "metadata": {
        "id": "w0vidAyJ9baF"
      },
      "execution_count": null,
      "outputs": []
    },
    {
      "cell_type": "code",
      "source": [
        "suma0"
      ],
      "metadata": {
        "colab": {
          "base_uri": "https://localhost:8080/"
        },
        "id": "8tIPo9Rm-IFx",
        "outputId": "632df632-8ce0-4eed-e400-1326bbcc761b"
      },
      "execution_count": null,
      "outputs": [
        {
          "output_type": "execute_result",
          "data": {
            "text/plain": [
              "23331668"
            ]
          },
          "metadata": {},
          "execution_count": 80
        }
      ]
    },
    {
      "cell_type": "markdown",
      "metadata": {
        "id": "qHp3Rvz7RU8-"
      },
      "source": [
        "# II. Números pares Fibonacci <br>\n",
        "Cada nuevo número de la secuencia de Fibonacci se genera sumando los dos números anteriores. Al comenzar con 0 y 1:\n",
        "\n",
        "0, 1, 1, 2, 3, 5, 8, 13, 21, 34, 55, 89, ...\n",
        "\n",
        "Al considerar los números en la secuencia de Fibonacci cuyo valor no sea mayor o igual a cuatro millones, encuentre la suma de los términos pares.\n",
        "\n",
        "\n",
        "**»»** Pasos <br>\n",
        "1. Crear secuencia Fibonacci\n",
        "2. Identificar números pares\n",
        "3. Si es número par sumar\n",
        "4. Si mi número Fibonacci es mayor o igual a cuatro millones dejar de ejecutar proceso"
      ]
    },
    {
      "cell_type": "markdown",
      "metadata": {
        "id": "jM87HfatcOtM"
      },
      "source": [
        "**Tips**\n",
        "- Usa bucles\n",
        "- Usar 3 variables: suma, temporal, fibonacci\n",
        "- Recuerda las asignaciones múltiples"
      ]
    },
    {
      "cell_type": "markdown",
      "metadata": {
        "id": "QjAaiLXidwpK"
      },
      "source": [
        "#### Paso 2: Encontrar números pares<br>\n",
        "**Tips**\n",
        "- Usar operador mod"
      ]
    },
    {
      "cell_type": "markdown",
      "metadata": {
        "id": "touACPkteCtX"
      },
      "source": [
        "#### Paso 3: Si es par sumar\n",
        "Usa condicional if"
      ]
    },
    {
      "cell_type": "markdown",
      "metadata": {
        "id": "_kP__ZxgeLOY"
      },
      "source": [
        "#### Paso 4: Si el número fibonacci es mayor a 4, 000, 000 finalizar ejecución\n",
        "<br>\n"
      ]
    },
    {
      "cell_type": "markdown",
      "metadata": {
        "id": "Z1ztourWcC_a"
      },
      "source": [
        "Resultado esperado:\n",
        "```\n",
        ">>> print(sum)\n",
        "4613732\n",
        "```"
      ]
    },
    {
      "cell_type": "code",
      "source": [
        "# Agrega los numero feibonacci que sean menores a 4000000\n",
        "result = [0, 1]\n",
        "i = 2\n",
        "sum = 0\n",
        "while (result[i-1] + result[i-2])<4000000:\n",
        "  agregado = result[i-1] + result[i-2]\n",
        "  result.append(agregado)\n",
        "  if agregado %2 == 0:\n",
        "    sum += agregado\n",
        "  i += 1\n",
        "sum"
      ],
      "metadata": {
        "id": "z-PySw67949E",
        "colab": {
          "base_uri": "https://localhost:8080/"
        },
        "outputId": "beddaf32-7656-4b95-d333-c26d1d95d8b4"
      },
      "execution_count": 37,
      "outputs": [
        {
          "output_type": "execute_result",
          "data": {
            "text/plain": [
              "4613732"
            ]
          },
          "metadata": {},
          "execution_count": 37
        }
      ]
    },
    {
      "cell_type": "code",
      "source": [
        "# Agregar los primeros x numeros de la serie fibonacci\n",
        "fibo = []\n",
        "\n",
        "for i in range(0,10):\n",
        "  if i<=1:\n",
        "    fibo.append(i)\n",
        "  else:\n",
        "    fibo.append(fibo[i-1]+fibo[i-2])\n",
        "\n",
        "fibo"
      ],
      "metadata": {
        "colab": {
          "base_uri": "https://localhost:8080/"
        },
        "id": "PJUj9Zs0vaNq",
        "outputId": "befa578f-009b-4683-9643-7e6e5abe162f"
      },
      "execution_count": 38,
      "outputs": [
        {
          "output_type": "execute_result",
          "data": {
            "text/plain": [
              "[0, 1, 1, 2, 3, 5, 8, 13, 21, 34]"
            ]
          },
          "metadata": {},
          "execution_count": 38
        }
      ]
    },
    {
      "cell_type": "markdown",
      "metadata": {
        "id": "s_W1r-_UfbYQ"
      },
      "source": [
        "# III. Producto palíndromo más grande\n",
        "<br>\n",
        "Un número palindrómico (Capicúa) se lee igual en ambos sentidos. El palíndromo más grande hecho del producto de dos números de 2 dígitos es 9009 = 91 × 99.\n",
        "\n",
        "Encuentra el palíndromo más grande formado por el producto de dos números de 3 dígitos.\n",
        "\n",
        "**»»** Pasos <br>\n",
        "1. Identificar si un número es Capicúa\n",
        "2. Realizar combinaciones de dos números de 2 dígitos y guardar el producto con el mayor valor\n",
        "3. Obtener 9009, para validar algoritmo\n",
        "4. Realizar combinaciones para dos números de 3 dígitos"
      ]
    },
    {
      "cell_type": "markdown",
      "metadata": {
        "id": "rJgosH2xg_eJ"
      },
      "source": [
        "#### Paso 1: Identificar si es Capicúa\n",
        "Convierte el número a string y revisa si es palindromo apoyandote del truco de rebanar (**slicing**) de las listas. Recuerda que también se puede aplicar a una cadena de caracteres (dato de tipo string)."
      ]
    },
    {
      "cell_type": "markdown",
      "metadata": {
        "id": "afEdx0kwiFXW"
      },
      "source": [
        "#### Paso 2: Realizar combinaciones\n",
        "<br>\n",
        "Obtén el múltiplo de 2 números de 2 dígitos. Usa ciclo for y la función range. Recuerda usar los ciclos anidados."
      ]
    },
    {
      "cell_type": "markdown",
      "metadata": {
        "id": "Q-Rcoa9Zij9n"
      },
      "source": [
        "#### Paso 3: Prueba tu algoritmo\n",
        "Deberías obtener 9009, como el producto capicúa más grande, al usar dos números de dos digítos"
      ]
    },
    {
      "cell_type": "markdown",
      "metadata": {
        "id": "Moky8Zlkiyp6"
      },
      "source": [
        "#### Paso 4: Modifica tu código para obtener el capicúa más grande al usar dos números de 3 digítos"
      ]
    },
    {
      "cell_type": "markdown",
      "metadata": {
        "id": "E7gYJNRfjg53"
      },
      "source": [
        "```\n",
        "# Resultado para el producto capicúa más grande de dos números de tres digítos\n",
        ">>> print(capicua)\n",
        "906609\n",
        "```"
      ]
    },
    {
      "cell_type": "markdown",
      "metadata": {
        "id": "mRgyprrnjrkQ"
      },
      "source": [
        "**Retos**\n",
        "- Escribe tú código en menos de 10 líneas de código (dificultad media) o <br>\n",
        "en menos de 7 líneas de código (dificultada avanzado). Tip: Usa operador ternario https://ellibrodepython.com/if-python#operador-ternario\n",
        "- Encuentra el capicúa más grande múltiplo de 5, producto de usar dos números de tres digítos\n",
        "\n",
        "```\n",
        "# Resultado para el producto capicúa más grande de dos números de tres digítos y múltiplo de 5\n",
        ">>> print(capicua)\n",
        "595595\n",
        "```\n"
      ]
    },
    {
      "cell_type": "code",
      "source": [
        "cupl=[]\n",
        "nume = 0\n",
        "for i in range(1000):\n",
        "  for j in range(1000):\n",
        "    num = str(i*j)\n",
        "    if num == num[::-1]:\n",
        "      cupl.append(int(num))\n",
        "\n",
        "for k in cupl:\n",
        "  if k > nume:\n",
        "    nume = k\n",
        "  elif k == nume:\n",
        "    nume = k\n",
        "\n",
        "print(f'{nume}')"
      ],
      "metadata": {
        "id": "bQCRh-1U9v_f",
        "colab": {
          "base_uri": "https://localhost:8080/"
        },
        "outputId": "51b20371-a207-474e-eac8-8becc45b954f"
      },
      "execution_count": 131,
      "outputs": [
        {
          "output_type": "stream",
          "name": "stdout",
          "text": [
            "906609\n"
          ]
        }
      ]
    },
    {
      "cell_type": "code",
      "source": [
        "numer =0"
      ],
      "metadata": {
        "id": "0CbjZZ3KEAYU"
      },
      "execution_count": 162,
      "outputs": []
    },
    {
      "cell_type": "code",
      "source": [
        "for i in range(1000):\n",
        "  for j in range(1000):\n",
        "    num = str(i*j)\n",
        "    if num == num[::-1]:\n",
        "      if int(num) > numer or int(num) == numer:\n",
        "        numer = int(num)\n",
        "numer"
      ],
      "metadata": {
        "colab": {
          "base_uri": "https://localhost:8080/"
        },
        "id": "kleZoAk_-mZR",
        "outputId": "2a25c484-ce5b-4084-f2b7-5834fc53907a"
      },
      "execution_count": 137,
      "outputs": [
        {
          "output_type": "execute_result",
          "data": {
            "text/plain": [
              "906609"
            ]
          },
          "metadata": {},
          "execution_count": 137
        }
      ]
    },
    {
      "cell_type": "code",
      "source": [
        "numer =0"
      ],
      "metadata": {
        "id": "oharv9MRFqY-"
      },
      "execution_count": null,
      "outputs": []
    },
    {
      "cell_type": "code",
      "source": [
        "for i in range(1000):\n",
        "  for j in range(1000):\n",
        "    if str(i*j) == str(i*j)[::-1]:\n",
        "      if int(i*j) > numer or int(i*j) == numer:\n",
        "        numer = int(i*j)\n",
        "numer"
      ],
      "metadata": {
        "colab": {
          "base_uri": "https://localhost:8080/"
        },
        "id": "8-MYtvIOB2Cz",
        "outputId": "9f93e00f-df1a-4c68-a0f4-b5d2cdf7ef33"
      },
      "execution_count": 160,
      "outputs": [
        {
          "output_type": "execute_result",
          "data": {
            "text/plain": [
              "906609"
            ]
          },
          "metadata": {},
          "execution_count": 160
        }
      ]
    },
    {
      "cell_type": "code",
      "source": [
        "numer =0"
      ],
      "metadata": {
        "id": "PVWGjh6yFqrF"
      },
      "execution_count": null,
      "outputs": []
    },
    {
      "cell_type": "code",
      "source": [
        "for i in range(1000):\n",
        "  for j in range(1000):\n",
        "    if str(i*j) == str(i*j)[::-1]:\n",
        "      if (int(i*j) > numer or int(i*j) == numer) and (int(i*j)%5 == 0):\n",
        "        numer = int(i*j)\n",
        "numer"
      ],
      "metadata": {
        "colab": {
          "base_uri": "https://localhost:8080/"
        },
        "id": "26Jev9baDWXM",
        "outputId": "d1c43964-3c54-45dd-e1d8-6eb0b75bb50d"
      },
      "execution_count": 163,
      "outputs": [
        {
          "output_type": "execute_result",
          "data": {
            "text/plain": [
              "595595"
            ]
          },
          "metadata": {},
          "execution_count": 163
        }
      ]
    }
  ]
}